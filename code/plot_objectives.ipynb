{
 "cells": [
  {
   "cell_type": "code",
   "execution_count": 1,
   "metadata": {},
   "outputs": [],
   "source": [
    "import torch\n",
    "from torch import distributions as dist\n",
    "\n",
    "import itertools\n",
    "import pickle\n",
    "import importlib\n",
    "import multiprocessing as mp\n",
    "\n",
    "import itertools\n",
    "import random\n",
    "import math\n",
    "import numpy as np\n",
    "import pandas as pd\n",
    "import scipy\n",
    "\n",
    "import matplotlib.pyplot as plt\n",
    "import seaborn as sns\n",
    "%matplotlib inline\n",
    "sns.set_style('white')\n",
    "sns.set_context('paper')\n",
    "# Plot adjustments:\n",
    "plt.rcParams.update({'ytick.labelsize': 15})\n",
    "plt.rcParams.update({'xtick.labelsize': 15})\n",
    "plt.rcParams.update({'axes.labelsize': 35})\n",
    "plt.rcParams.update({'legend.fontsize': 30})\n",
    "plt.rcParams.update({'axes.titlesize': 16})\n",
    "\n",
    "from gptorch import kernels, models\n",
    "import helpers, opt, objectives"
   ]
  },
  {
   "cell_type": "code",
   "execution_count": 2,
   "metadata": {},
   "outputs": [],
   "source": [
    "with open('../inputs/gb1.pkl', 'rb') as f:\n",
    "    t = pickle.load(f)\n",
    "X = t[0]\n",
    "A = t[1]\n",
    "y = t[2]\n",
    "wt = t[3]"
   ]
  },
  {
   "cell_type": "code",
   "execution_count": 3,
   "metadata": {},
   "outputs": [
    {
     "name": "stdout",
     "output_type": "stream",
     "text": [
      "Iteration 3000 of 3000\tNLML: 128.3087\tsn: 0.322554\t"
     ]
    }
   ],
   "source": [
    "helpers = importlib.reload(helpers)\n",
    "np.random.seed(120120)\n",
    "_ = torch.manual_seed(43298)\n",
    "\n",
    "seq_to_x = {}\n",
    "for i, x in enumerate(X):\n",
    "    seq = helpers.decode_X(x)\n",
    "    seq_to_x[seq] = i\n",
    "wt_inds = [seq_to_x[wt]]\n",
    "\n",
    "n = 300\n",
    "train_inds = wt_inds + list(np.random.choice(len(X), n, replace=True))\n",
    "\n",
    "y_train = y[train_inds]\n",
    "y_true = y\n",
    "A_train = A[train_inds]\n",
    "A_test = A\n",
    "\n",
    "inds = sorted(set(itertools.chain(train_inds)))\n",
    "\n",
    "\n",
    "dic, means, mo = helpers.get_predictions(A[inds], y[inds], A_test,\n",
    "                                         one_hots=X, its=3000, lr=1e-2, sn=0.01, return_model=True)"
   ]
  },
  {
   "cell_type": "code",
   "execution_count": 4,
   "metadata": {},
   "outputs": [
    {
     "data": {
      "text/plain": [
       "Parameter containing:\n",
       "tensor([ 19.0573])"
      ]
     },
     "execution_count": 4,
     "metadata": {},
     "output_type": "execute_result"
    }
   ],
   "source": [
    "mo.kernel.ell"
   ]
  },
  {
   "cell_type": "code",
   "execution_count": 5,
   "metadata": {},
   "outputs": [],
   "source": [
    "aas = 'ARNDCQEGHILKMFPSTWYV'\n",
    "ground = [(aa, i) for aa in aas for i in range(4)]"
   ]
  },
  {
   "cell_type": "code",
   "execution_count": 6,
   "metadata": {},
   "outputs": [],
   "source": [
    "seen_seqs = [helpers.decode_X(X[i]) for i in inds]\n",
    "for s in seen_seqs:\n",
    "    dic[s] = 0.0"
   ]
  },
  {
   "cell_type": "code",
   "execution_count": 7,
   "metadata": {},
   "outputs": [
    {
     "data": {
      "text/plain": [
       "[('A', 0), ('G', 1), ('R', 2), ('N', 3)]"
      ]
     },
     "execution_count": 7,
     "metadata": {},
     "output_type": "execute_result"
    }
   ],
   "source": [
    "seed = helpers.get_seed(dic)\n",
    "seed"
   ]
  },
  {
   "cell_type": "code",
   "execution_count": 8,
   "metadata": {},
   "outputs": [],
   "source": [
    "with open('../outputs/20180828_modmod_not_mono.pkl', 'rb') as f:\n",
    "    X_list, obj_list = pickle.load(f)"
   ]
  },
  {
   "cell_type": "code",
   "execution_count": 50,
   "metadata": {},
   "outputs": [],
   "source": [
    "objectives = importlib.reload(objectives)\n",
    "opt = importlib.reload(opt)\n",
    "helpers = importlib.reload(helpers)\n",
    "\n",
    "\n",
    "_, ob, X_list2, obj_list = opt.greedy(ground, seed, objectives.objective, 1, obj_args=(4, dic, 100), return_all=True)"
   ]
  },
  {
   "cell_type": "code",
   "execution_count": 10,
   "metadata": {},
   "outputs": [
    {
     "data": {
      "text/plain": [
       "2.7241459632473894"
      ]
     },
     "execution_count": 10,
     "metadata": {},
     "output_type": "execute_result"
    }
   ],
   "source": [
    "tau = max((y_train - np.mean(y_train)) / np.std(y_train))\n",
    "tau"
   ]
  },
  {
   "cell_type": "code",
   "execution_count": 64,
   "metadata": {
    "scrolled": true
   },
   "outputs": [
    {
     "name": "stdout",
     "output_type": "stream",
     "text": [
      "CPU times: user 7min 24s, sys: 3.61 s, total: 7min 28s\n",
      "Wall time: 7min 33s\n"
     ]
    }
   ],
   "source": [
    "%%time \n",
    "objectives = importlib.reload(objectives)\n",
    "tau = max((y_train - np.mean(y_train)) / np.std(y_train))\n",
    "tau = 2.7246\n",
    "observed = seen_seqs\n",
    "X_all = A\n",
    "n = 100\n",
    "L = 4\n",
    "its = 100000\n",
    "np.random.seed(129)\n",
    "_ = torch.manual_seed(450)\n",
    "\n",
    "appro = []\n",
    "\n",
    "for lib in X_list2:\n",
    "    ob2 = objectives.objective(lib, L, dic, n)\n",
    "    appro.append(ob2.item())\n",
    "    \n",
    "results = [objectives.sample_obj(lib, mo, tau, seq_to_x, X_all, observed=observed, its=its,\n",
    "                                      n=n, return_all=True)\n",
    "           for lib in X_list2]\n",
    "samples = [result[1].detach().numpy() for result in results]"
   ]
  },
  {
   "cell_type": "code",
   "execution_count": 70,
   "metadata": {},
   "outputs": [
    {
     "data": {
      "image/png": "[encoded data removed]",
      "text/plain": [
       "<Figure size 432x288 with 1 Axes>"
      ]
     },
     "metadata": {},
     "output_type": "display_data"
    }
   ],
   "source": [
    "for ap, sa in zip(appro, samples):\n",
    "    SE = sa.std() / np.sqrt(its)\n",
    "    _ = plt.errorbar(-sa.mean(), ap, xerr=2*SE, fmt='o', alpha=0.8, color='grey')\n",
    "_ = plt.plot([-3.9, 0], [-3.9, 0], color='grey')\n",
    "_ = plt.xlabel('mc')\n",
    "_ = plt.ylabel('indpt')"
   ]
  },
  {
   "cell_type": "code",
   "execution_count": 72,
   "metadata": {},
   "outputs": [
    {
     "data": {
      "text/plain": [
       "[1, 2, 4, 8, 12, 24, 36, 48, 72, 90, 120, 90, 108, 126]"
      ]
     },
     "execution_count": 72,
     "metadata": {},
     "output_type": "execute_result"
    }
   ],
   "source": [
    "[helpers.get_N(lib, L) for lib in X_list2]"
   ]
  },
  {
   "cell_type": "code",
   "execution_count": 91,
   "metadata": {
    "scrolled": true
   },
   "outputs": [],
   "source": [
    "np.random.seed(45)\n",
    "X0 = np.random.choice(80, 20, replace=False)\n",
    "X0 = sorted(set(([ground[i] for i in X0] + X_list2[-1])))\n",
    "_, ob, X_list3, obj_list2 = opt.greedy(ground, X0, objectives.objective, 1, \n",
    "                                       obj_args=(4, dic, 100), return_all=True)"
   ]
  },
  {
   "cell_type": "code",
   "execution_count": 93,
   "metadata": {},
   "outputs": [
    {
     "name": "stdout",
     "output_type": "stream",
     "text": [
      "CPU times: user 20min 7s, sys: 10.2 s, total: 20min 17s\n",
      "Wall time: 20min 26s\n"
     ]
    }
   ],
   "source": [
    "%%time \n",
    "np.random.seed(364)\n",
    "results = [objectives.sample_obj(lib, mo, tau, seq_to_x, X_all, observed=observed, its=its,\n",
    "                                      n=n, return_all=True)\n",
    "           for lib in X_list3]\n",
    "samples2 = [result[1].detach().numpy() for result in results]"
   ]
  },
  {
   "cell_type": "code",
   "execution_count": 92,
   "metadata": {},
   "outputs": [
    {
     "name": "stdout",
     "output_type": "stream",
     "text": [
      "2640 -0.5255842208862305\n",
      "2112 -0.6292963027954102\n",
      "1584 -0.7883062362670898\n",
      "1320 -0.9377927780151367\n",
      "1056 -1.1568775177001953\n",
      "792 -1.4846296310424805\n",
      "528 -1.8643159866333008\n",
      "264 -2.1403908729553223\n",
      "231 -2.302520751953125\n",
      "198 -2.483508586883545\n",
      "165 -2.692676305770874\n",
      "132 -2.93994140625\n",
      "99 -3.0940463542938232\n",
      "198 -3.192519187927246\n",
      "180 -3.3062219619750977\n",
      "162 -3.4196243286132812\n",
      "144 -3.515052318572998\n",
      "126 -3.6209189891815186\n"
     ]
    }
   ],
   "source": [
    "ns = [helpers.get_N(lib, L) for lib in X_list3]\n",
    "for nn, ob in zip(ns, obj_list2):\n",
    "    print(nn, ob.item())"
   ]
  },
  {
   "cell_type": "code",
   "execution_count": 94,
   "metadata": {},
   "outputs": [
    {
     "data": {
      "image/png": "[encoded data removed]",
      "text/plain": [
       "<Figure size 432x288 with 1 Axes>"
      ]
     },
     "metadata": {},
     "output_type": "display_data"
    }
   ],
   "source": [
    "for ap, sa in zip(obj_list2, samples2):\n",
    "    SE = sa.std() / np.sqrt(its)\n",
    "    _ = plt.errorbar(-sa.mean(), ap, xerr=2*SE, fmt='o', alpha=0.8, color='grey')\n",
    "_ = plt.plot([-3.9, 0], [-3.9, 0], color='grey')\n",
    "_ = plt.xlabel('mc')\n",
    "_ = plt.ylabel('indpt')"
   ]
  },
  {
   "cell_type": "code",
   "execution_count": 96,
   "metadata": {},
   "outputs": [],
   "source": [
    "vals = np.array([dic[k] for k in dic.keys()])"
   ]
  },
  {
   "cell_type": "code",
   "execution_count": 97,
   "metadata": {},
   "outputs": [
    {
     "data": {
      "image/png": "[encoded data removed]",
      "text/plain": [
       "<Figure size 432x288 with 1 Axes>"
      ]
     },
     "metadata": {},
     "output_type": "display_data"
    }
   ],
   "source": [
    "_ = plt.plot(np.sort(vals), np.linspace(0, 1, len(vals)))"
   ]
  },
  {
   "cell_type": "code",
   "execution_count": 100,
   "metadata": {},
   "outputs": [
    {
     "data": {
      "text/plain": [
       "array([tensor(0.1220), tensor(0.1275), tensor(0.1295), tensor(0.1363),\n",
       "       tensor(0.1385), tensor(0.1458), tensor(0.1536), tensor(0.1565),\n",
       "       tensor(0.1768), tensor(0.2739)], dtype=object)"
      ]
     },
     "execution_count": 100,
     "metadata": {},
     "output_type": "execute_result"
    }
   ],
   "source": [
    "np.sort(vals)[-10:]"
   ]
  },
  {
   "cell_type": "code",
   "execution_count": 101,
   "metadata": {},
   "outputs": [
    {
     "data": {
      "text/plain": [
       "[('A', 0), ('G', 1), ('R', 2), ('N', 3)]"
      ]
     },
     "execution_count": 101,
     "metadata": {},
     "output_type": "execute_result"
    }
   ],
   "source": [
    "seed"
   ]
  },
  {
   "cell_type": "code",
   "execution_count": 108,
   "metadata": {},
   "outputs": [],
   "source": [
    "fY = objectives.objective([g for g in ground if g != ['N', 3]], L, dic, n)"
   ]
  },
  {
   "cell_type": "code",
   "execution_count": 109,
   "metadata": {},
   "outputs": [
    {
     "data": {
      "text/plain": [
       "tensor(0.)"
      ]
     },
     "execution_count": 109,
     "metadata": {},
     "output_type": "execute_result"
    }
   ],
   "source": [
    "objectives.objective(ground, L, dic, n) - fY"
   ]
  },
  {
   "cell_type": "code",
   "execution_count": null,
   "metadata": {},
   "outputs": [],
   "source": []
  }
 ],
 "metadata": {
  "kernelspec": {
   "display_name": "Python [conda env:pyro]",
   "language": "python",
   "name": "conda-env-pyro-py"
  },
  "language_info": {
   "codemirror_mode": {
    "name": "ipython",
    "version": 3
   },
   "file_extension": ".py",
   "mimetype": "text/x-python",
   "name": "python",
   "nbconvert_exporter": "python",
   "pygments_lexer": "ipython3",
   "version": "3.6.5"
  }
 },
 "nbformat": 4,
 "nbformat_minor": 2
}
