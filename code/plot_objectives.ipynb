{
 "cells": [
  {
   "cell_type": "code",
   "execution_count": 1,
   "metadata": {},
   "outputs": [],
   "source": [
    "import torch\n",
    "from torch import distributions as dist\n",
    "\n",
    "import itertools\n",
    "import pickle\n",
    "import importlib\n",
    "\n",
    "import itertools\n",
    "import random\n",
    "import math\n",
    "import numpy as np\n",
    "import pandas as pd\n",
    "import scipy\n",
    "\n",
    "import matplotlib.pyplot as plt\n",
    "import seaborn as sns\n",
    "%matplotlib inline\n",
    "sns.set_style('white')\n",
    "sns.set_context('paper')\n",
    "# Plot adjustments:\n",
    "plt.rcParams.update({'ytick.labelsize': 15})\n",
    "plt.rcParams.update({'xtick.labelsize': 15})\n",
    "plt.rcParams.update({'axes.labelsize': 20})\n",
    "plt.rcParams.update({'legend.fontsize': 15})\n",
    "plt.rcParams.update({'axes.titlesize': 16})\n",
    "\n",
    "from gptorch import kernels, models\n",
    "import helpers, opt, objectives"
   ]
  },
  {
   "cell_type": "code",
   "execution_count": 2,
   "metadata": {},
   "outputs": [],
   "source": [
    "torch.set_default_tensor_type(torch.DoubleTensor)"
   ]
  },
  {
   "cell_type": "code",
   "execution_count": 26,
   "metadata": {},
   "outputs": [],
   "source": [
    "with open('../inputs/phoq.pkl', 'rb') as f:\n",
    "    t = pickle.load(f)\n",
    "X = t[0]\n",
    "A = t[2]\n",
    "y = t[3].values\n",
    "wt = helpers.decode_X(X[150614])  # wt as string\n",
    "aas = 'ARNDCQEGHILKMFPSTWYV'\n",
    "n_aas = 20\n",
    "\n",
    "ground = [(aa, i) for aa in aas for i in range(4)]\n",
    "L = 4\n",
    "\n",
    "seq_to_x = {}\n",
    "for i, x in enumerate(X):\n",
    "    seq = helpers.decode_X(x)\n",
    "    seq_to_x[seq] = i\n",
    "wt_inds = [seq_to_x[wt]]"
   ]
  },
  {
   "cell_type": "code",
   "execution_count": 10,
   "metadata": {},
   "outputs": [
    {
     "name": "stdout",
     "output_type": "stream",
     "text": [
      "177\n",
      "Iteration 3000 of 3000\tNLML: 58.9343\tsn: 0.259592\t\n"
     ]
    }
   ],
   "source": [
    "np.random.seed(120120)\n",
    "_ = torch.manual_seed(43298)\n",
    "\n",
    "\n",
    "\n",
    "n = 100\n",
    "\n",
    "singles = [wt[:i] + aas[j] + wt[i+1:] for i in range(4) for j in range(20)]\n",
    "wt_inds = [seq_to_x[wt]]\n",
    "single_inds = wt_inds + [seq_to_x[seq] for seq in singles]\n",
    "train_inds = wt_inds + single_inds + list(np.random.choice(len(X), n, replace=True))\n",
    "\n",
    "\n",
    "y_true = y\n",
    "A_test = A\n",
    "\n",
    "sampled_inds = [train_inds[:]]\n",
    "libs = []\n",
    "objs = []\n",
    "\n",
    "inds = sorted(set(train_inds))\n",
    "print(len(inds))\n",
    "dic, _, mo = helpers.get_predictions(A[inds], y[inds], A_test,\n",
    "                                 one_hots=X, its=3000, lr=1e-2,\n",
    "                                return_model=True)\n",
    "print()\n",
    "seen_seqs = [helpers.decode_X(X[i]) for i in inds]\n",
    "for s in seen_seqs:\n",
    "    dic[s] = 0.0"
   ]
  },
  {
   "cell_type": "code",
   "execution_count": 11,
   "metadata": {},
   "outputs": [
    {
     "name": "stdout",
     "output_type": "stream",
     "text": [
      "1\n",
      "2\n",
      "4\n",
      "8\n",
      "16\n",
      "24\n",
      "36\n",
      "54\n",
      "72\n",
      "96\n",
      "120\n",
      "144\n",
      "168\n",
      "192\n",
      "96\n",
      "90\n",
      "12\n",
      "288\n",
      "80\n",
      "24\n",
      "80\n",
      "540\n",
      "360\n",
      "12\n",
      "450\n",
      "540\n",
      "480\n",
      "840\n",
      "525\n",
      "576\n",
      "576\n",
      "768\n",
      "540\n",
      "525\n"
     ]
    },
    {
     "data": {
      "text/plain": [
       "[-0.17123523886021352,\n",
       " -0.3308861365275758,\n",
       " -0.6190653958052903,\n",
       " -1.056581439519559,\n",
       " -1.7163896510374819,\n",
       " -2.4658695507553645,\n",
       " -3.365414006318751,\n",
       " -4.189944208233536,\n",
       " -4.860962439587918,\n",
       " -5.303562711767881,\n",
       " -5.595809790727419,\n",
       " -5.708489296885209,\n",
       " -5.778486512129778,\n",
       " -5.808614691346905,\n",
       " -0.3018007394019666,\n",
       " -0.05454708071439159,\n",
       " -0.0011676829836103186,\n",
       " -0.093178164262071,\n",
       " -0.2704720931118698,\n",
       " -0.015413600705468943,\n",
       " -0.17649418821133517,\n",
       " -0.40268676301894557,\n",
       " -0.38644480227646794,\n",
       " -0.0047139986993020916,\n",
       " -3.463222761485041,\n",
       " -3.1541896679810075,\n",
       " -3.387690631160524,\n",
       " -2.274435701083717,\n",
       " -3.424816823442821,\n",
       " -3.946726320576566,\n",
       " -2.9094821660743215,\n",
       " -3.314520517278918,\n",
       " -3.406405842332739,\n",
       " -3.1097626879706626]"
      ]
     },
     "execution_count": 11,
     "metadata": {},
     "output_type": "execute_result"
    }
   ],
   "source": [
    "seed = helpers.get_seed(dic)\n",
    "X_list, objs_list = opt.greedy(ground, seed, objectives.objective, depth=1, obj_args=(L, dic, n))\n",
    "\n",
    "np.random.seed(34876)\n",
    "M = [[int(np.random.random() * 6 + 1) for _ in range(L)] for _ in range(10)]\n",
    "inds = [[np.random.choice(n_aas, m, replace=False) * 4 + i for i, m in enumerate(mm)] for mm in M]\n",
    "inds = [list(itertools.chain.from_iterable(ind)) for ind in inds]\n",
    "X_list += [[ground[i] for i in lib] for lib in inds]\n",
    "\n",
    "\n",
    "X_list += [X_list[9] + lib for lib in libs]\n",
    "\n",
    "np.random.seed(34876)\n",
    "M = [[int(np.random.random() * 2 + 1) for _ in range(L)] for _ in range(10)]\n",
    "inds = [[np.random.choice(n_aas, m, replace=False) * 4 + i for i, m in enumerate(mm)] for mm in M]\n",
    "inds = [list(itertools.chain.from_iterable(ind)) for ind in inds]\n",
    "libs = [[ground[i] for i in lib] for lib in inds]\n",
    "X_list += [X_list[12] + lib for lib in libs]\n",
    "\n",
    "\n",
    "X_list = [sorted(set(x)) for x in X_list]\n",
    "\n",
    "for lib in X_list:\n",
    "    print(helpers.get_N(lib, L))\n",
    "appro = [objectives.objective(lib, L, dic, n).item() for lib in X_list]\n",
    "\n",
    "    \n",
    "appro"
   ]
  },
  {
   "cell_type": "code",
   "execution_count": 15,
   "metadata": {},
   "outputs": [
    {
     "data": {
      "image/png": "[encoded data removed]",
      "text/plain": [
       "<Figure size 432x288 with 1 Axes>"
      ]
     },
     "metadata": {},
     "output_type": "display_data"
    }
   ],
   "source": [
    "_ = plt.plot(np.sort(appro), np.linspace(0, 1, len(appro)))"
   ]
  },
  {
   "cell_type": "code",
   "execution_count": 18,
   "metadata": {
    "scrolled": true
   },
   "outputs": [
    {
     "name": "stdout",
     "output_type": "stream",
     "text": [
      "CPU times: user 4min 6s, sys: 2.92 s, total: 4min 9s\n",
      "Wall time: 4min 40s\n"
     ]
    }
   ],
   "source": [
    "%%time \n",
    "objectives = importlib.reload(objectives)\n",
    "observed = seen_seqs\n",
    "tau = max((y - np.mean(y)) / np.std(y))\n",
    "X_all = A\n",
    "its = 10000\n",
    "np.random.seed(129)\n",
    "_ = torch.manual_seed(450)\n",
    "\n",
    "\n",
    "    \n",
    "results = [objectives.sample_obj(lib, mo, tau, seq_to_x, X_all, observed=observed, its=its,\n",
    "                                      n=n, return_all=True)\n",
    "           for lib in X_list]\n",
    "samples = [result[1].detach().numpy() for result in results]"
   ]
  },
  {
   "cell_type": "code",
   "execution_count": 23,
   "metadata": {},
   "outputs": [
    {
     "data": {
      "image/png": "[encoded data removed]",
      "text/plain": [
       "<Figure size 432x288 with 1 Axes>"
      ]
     },
     "metadata": {},
     "output_type": "display_data"
    }
   ],
   "source": [
    "for ap, sa in zip(appro, samples):\n",
    "    SE = sa.std() / np.sqrt(its)\n",
    "    _ = plt.errorbar(sa.mean(), -ap, xerr=2*SE, fmt='o', alpha=0.8, color='black')\n",
    "_ = plt.xlabel('Monte Carlo')\n",
    "_ = plt.ylabel('independent')\n",
    "_ = plt.tight_layout()\n",
    "_ = plt.savefig('../outputs/objectives_comparison.pdf')"
   ]
  },
  {
   "cell_type": "code",
   "execution_count": 20,
   "metadata": {},
   "outputs": [],
   "source": [
    "results = {\n",
    "    'indpt': appro,\n",
    "    'mc': samples, \n",
    "    'mo': mo, \n",
    "    'X_list': X_list\n",
    "}\n",
    "with open('../outputs/20181003_phoq_objectives.pkl', 'wb') as f:\n",
    "    pickle.dump(results, f)"
   ]
  },
  {
   "cell_type": "code",
   "execution_count": 5,
   "metadata": {},
   "outputs": [
    {
     "data": {
      "image/png": "[encoded data removed]",
      "text/plain": [
       "<Figure size 432x288 with 1 Axes>"
      ]
     },
     "metadata": {},
     "output_type": "display_data"
    }
   ],
   "source": [
    "with open('../outputs/20181003_phoq_objectives.pkl', 'rb') as f:\n",
    "    results = pickle.load(f)\n",
    "    \n",
    "appro = results['indpt']\n",
    "samples = results['mc']\n",
    "its = 10000\n",
    "for ap, sa in zip(appro, samples):\n",
    "    SE = sa.std() / np.sqrt(its)\n",
    "    _ = plt.errorbar(sa.mean(), -ap, xerr=2*SE, fmt='o', alpha=0.8, color='black')\n",
    "_ = plt.ylabel(r'$\\hat{F}$')\n",
    "_ = plt.xlabel(r'$F$ (Monte Carlo)')\n",
    "_ = plt.tight_layout()\n",
    "_ = plt.savefig('../outputs/objectives_comparison.pdf')"
   ]
  },
  {
   "cell_type": "code",
   "execution_count": 7,
   "metadata": {},
   "outputs": [
    {
     "name": "stdout",
     "output_type": "stream",
     "text": [
      "177\n",
      "Iteration 3000 of 3000\tNLML: 79.2391\tsn: 0.396256\t\n"
     ]
    }
   ],
   "source": [
    "with open('../inputs/gb1.pkl', 'rb') as f:\n",
    "    t = pickle.load(f)\n",
    "X = t[0]\n",
    "A = t[1]\n",
    "y = t[2]\n",
    "wt = t[3]\n",
    "\n",
    "aas = 'ARNDCQEGHILKMFPSTWYV'\n",
    "\n",
    "ground = [(aa, i) for aa in aas for i in range(4)]\n",
    "L = 4\n",
    "\n",
    "seq_to_x = {}\n",
    "for i, x in enumerate(X):\n",
    "    seq = helpers.decode_X(x)\n",
    "    seq_to_x[seq] = i\n",
    "wt_inds = [seq_to_x[wt]]\n",
    "\n",
    "np.random.seed(125120)\n",
    "_ = torch.manual_seed(43298)\n",
    "\n",
    "\n",
    "n = 100\n",
    "\n",
    "singles = [wt[:i] + aas[j] + wt[i+1:] for i in range(4) for j in range(20)]\n",
    "wt_inds = [seq_to_x[wt]]\n",
    "single_inds = wt_inds + [seq_to_x[seq] for seq in singles]\n",
    "train_inds = wt_inds + single_inds + list(np.random.choice(len(X), n, replace=True))\n",
    "\n",
    "\n",
    "y_true = y\n",
    "A_test = A\n",
    "\n",
    "sampled_inds = [train_inds[:]]\n",
    "libs = []\n",
    "objs = []\n",
    "\n",
    "inds = sorted(set(train_inds))\n",
    "print(len(inds))\n",
    "dic, _, mo = helpers.get_predictions(A[inds], y[inds], A_test,\n",
    "                                 one_hots=X, its=3000, lr=1e-2,\n",
    "                                return_model=True)\n",
    "print()\n",
    "seen_seqs = [helpers.decode_X(X[i]) for i in inds]\n",
    "for s in seen_seqs:\n",
    "    dic[s] = 0.0"
   ]
  },
  {
   "cell_type": "code",
   "execution_count": 8,
   "metadata": {},
   "outputs": [
    {
     "name": "stdout",
     "output_type": "stream",
     "text": [
      "1\n",
      "2\n",
      "3\n",
      "6\n",
      "12\n",
      "18\n",
      "24\n",
      "48\n",
      "64\n",
      "80\n",
      "100\n",
      "50\n",
      "60\n",
      "70\n",
      "80\n",
      "90\n",
      "96\n",
      "90\n",
      "12\n",
      "288\n",
      "80\n",
      "24\n",
      "80\n",
      "540\n",
      "360\n",
      "12\n",
      "336\n",
      "432\n",
      "324\n",
      "294\n",
      "294\n",
      "180\n",
      "441\n",
      "504\n",
      "504\n",
      "252\n"
     ]
    },
    {
     "data": {
      "text/plain": [
       "[-0.009983847351611508,\n",
       " -0.01917757534828235,\n",
       " -0.02766716469566599,\n",
       " -0.03975195552865445,\n",
       " -0.0524411869612902,\n",
       " -0.06936191611865827,\n",
       " -0.08853932757657655,\n",
       " -0.1060576537756758,\n",
       " -0.11730616938487036,\n",
       " -0.1252879910566958,\n",
       " -0.12877721965303845,\n",
       " -0.13207888362549253,\n",
       " -0.14005768706622657,\n",
       " -0.14609898350257047,\n",
       " -0.14982228786870755,\n",
       " -0.15035275133914447,\n",
       " -0.0020265196853452338,\n",
       " -0.010308500614800006,\n",
       " -0.00018483873348526498,\n",
       " -0.0061208271010297485,\n",
       " -0.007780827343324811,\n",
       " -0.006038134511697642,\n",
       " -0.0008723301502860032,\n",
       " -0.006586355390336358,\n",
       " -0.008260417179494741,\n",
       " -0.001515411635598095,\n",
       " -0.0590133028013327,\n",
       " -0.06116613992404697,\n",
       " -0.06776581915793639,\n",
       " -0.07473138595299003,\n",
       " -0.09141671902657113,\n",
       " -0.092445423111988,\n",
       " -0.04967925349865195,\n",
       " -0.05174046299815473,\n",
       " -0.05886410700888602,\n",
       " -0.08654458268081143]"
      ]
     },
     "execution_count": 8,
     "metadata": {},
     "output_type": "execute_result"
    }
   ],
   "source": [
    "seed = helpers.get_seed(dic)\n",
    "n_aas = len(aas)\n",
    "X_list, objs_list = opt.greedy(ground, seed, objectives.objective, depth=1, obj_args=(L, dic, n))\n",
    "\n",
    "np.random.seed(34876)\n",
    "M = [[int(np.random.random() * 6 + 1) for _ in range(L)] for _ in range(10)]\n",
    "inds = [[np.random.choice(n_aas, m, replace=False) * 4 + i for i, m in enumerate(mm)] for mm in M]\n",
    "inds = [list(itertools.chain.from_iterable(ind)) for ind in inds]\n",
    "X_list += [[ground[i] for i in lib] for lib in inds]\n",
    "\n",
    "\n",
    "X_list += [X_list[9] + lib for lib in libs]\n",
    "\n",
    "np.random.seed(34876)\n",
    "M = [[int(np.random.random() * 2 + 1) for _ in range(L)] for _ in range(10)]\n",
    "inds = [[np.random.choice(n_aas, m, replace=False) * 4 + i for i, m in enumerate(mm)] for mm in M]\n",
    "inds = [list(itertools.chain.from_iterable(ind)) for ind in inds]\n",
    "libs = [[ground[i] for i in lib] for lib in inds]\n",
    "X_list += [X_list[12] + lib for lib in libs]\n",
    "\n",
    "\n",
    "X_list = [sorted(set(x)) for x in X_list]\n",
    "\n",
    "for lib in X_list:\n",
    "    print(helpers.get_N(lib, L))\n",
    "appro = [objectives.objective(lib, L, dic, n).item() for lib in X_list]\n",
    "\n",
    "    \n",
    "appro"
   ]
  },
  {
   "cell_type": "code",
   "execution_count": 9,
   "metadata": {},
   "outputs": [
    {
     "name": "stdout",
     "output_type": "stream",
     "text": [
      "CPU times: user 2min 4s, sys: 1.01 s, total: 2min 5s\n",
      "Wall time: 2min 5s\n"
     ]
    }
   ],
   "source": [
    "%%time \n",
    "objectives = importlib.reload(objectives)\n",
    "observed = seen_seqs\n",
    "tau = max((y - np.mean(y)) / np.std(y))\n",
    "X_all = A\n",
    "its = 10000\n",
    "np.random.seed(129)\n",
    "_ = torch.manual_seed(450)\n",
    "\n",
    "\n",
    "    \n",
    "results = [objectives.sample_obj(lib, mo, tau, seq_to_x, X_all, observed=observed, its=its,\n",
    "                                      n=n, return_all=True)\n",
    "           for lib in X_list]\n",
    "samples = [result[1].detach().numpy() for result in results]"
   ]
  },
  {
   "cell_type": "code",
   "execution_count": 10,
   "metadata": {},
   "outputs": [
    {
     "data": {
      "image/png": "[encoded data removed]",
      "text/plain": [
       "<Figure size 432x288 with 1 Axes>"
      ]
     },
     "metadata": {},
     "output_type": "display_data"
    }
   ],
   "source": [
    "for ap, sa in zip(appro, samples):\n",
    "    SE = sa.std() / np.sqrt(its)\n",
    "    _ = plt.errorbar(sa.mean(), -ap, xerr=2*SE, fmt='o', alpha=0.8, color='black')\n",
    "_ = plt.xlabel('Monte Carlo')\n",
    "_ = plt.ylabel('independent')\n",
    "_ = plt.tight_layout()\n",
    "_ = plt.savefig('../outputs/gb1_objectives_comparison.pdf')"
   ]
  },
  {
   "cell_type": "code",
   "execution_count": 11,
   "metadata": {},
   "outputs": [],
   "source": [
    "results = {\n",
    "    'indpt': appro,\n",
    "    'mc': samples, \n",
    "    'mo': mo, \n",
    "    'X_list': X_list\n",
    "}\n",
    "with open('../outputs/20181018_gb1_objectives.pkl', 'wb') as f:\n",
    "    pickle.dump(results, f)"
   ]
  },
  {
   "cell_type": "code",
   "execution_count": 6,
   "metadata": {},
   "outputs": [
    {
     "data": {
      "image/png": "[encoded data removed]",
      "text/plain": [
       "<Figure size 432x288 with 1 Axes>"
      ]
     },
     "metadata": {},
     "output_type": "display_data"
    }
   ],
   "source": [
    "with open('../outputs/20181018_gb1_objectives.pkl', 'rb') as f:\n",
    "    results = pickle.load(f)\n",
    "    \n",
    "appro = results['indpt']\n",
    "samples = results['mc']\n",
    "its = 10000\n",
    "for ap, sa in zip(appro, samples):\n",
    "    SE = sa.std() / np.sqrt(its)\n",
    "    _ = plt.errorbar(sa.mean(), -ap, xerr=2*SE, fmt='o', alpha=0.8, color='black')\n",
    "_ = plt.ylabel(r'$\\hat{F}$')\n",
    "_ = plt.xlabel(r'$F$ (Monte Carlo)')\n",
    "_ = plt.tight_layout()\n",
    "_ = plt.savefig('../outputs/gb1_objectives_comparison.pdf')"
   ]
  },
  {
   "cell_type": "code",
   "execution_count": null,
   "metadata": {},
   "outputs": [],
   "source": []
  }
 ],
 "metadata": {
  "kernelspec": {
   "display_name": "Python [conda env:pyro]",
   "language": "python",
   "name": "conda-env-pyro-py"
  },
  "language_info": {
   "codemirror_mode": {
    "name": "ipython",
    "version": 3
   },
   "file_extension": ".py",
   "mimetype": "text/x-python",
   "name": "python",
   "nbconvert_exporter": "python",
   "pygments_lexer": "ipython3",
   "version": "3.6.5"
  }
 },
 "nbformat": 4,
 "nbformat_minor": 2
}
