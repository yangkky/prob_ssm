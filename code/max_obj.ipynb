{
 "cells": [
  {
   "cell_type": "markdown",
   "metadata": {},
   "source": [
    "Implements algorithm 3 (ModMod) from Algorithms for \"Approx Min of the Difference Between Submodular Fncs with Applications.\"\n",
    "\n",
    "For prob_ssm"
   ]
  },
  {
   "cell_type": "code",
   "execution_count": 1,
   "metadata": {
    "collapsed": true
   },
   "outputs": [],
   "source": [
    "import torch\n",
    "from torch import distributions as dist\n",
    "\n",
    "import itertools\n",
    "import pickle\n",
    "import operator\n",
    "\n",
    "import random\n",
    "import math\n",
    "import numpy as np\n",
    "import pandas as pd\n",
    "import scipy\n",
    "\n",
    "import matplotlib.pyplot as plt\n",
    "import seaborn as sns\n",
    "%matplotlib inline\n",
    "sns.set_style('white')\n",
    "sns.set_context('paper')\n",
    "# Plot adjustments:\n",
    "plt.rcParams.update({'ytick.labelsize': 15})\n",
    "plt.rcParams.update({'xtick.labelsize': 15})\n",
    "plt.rcParams.update({'axes.labelsize': 35})\n",
    "plt.rcParams.update({'legend.fontsize': 30})\n",
    "plt.rcParams.update({'axes.titlesize': 16})\n",
    "\n",
    "from gptorch import kernels, models\n",
    "\n",
    "import helpers, opt"
   ]
  },
  {
   "cell_type": "code",
   "execution_count": 2,
   "metadata": {
    "collapsed": true
   },
   "outputs": [],
   "source": [
    "with open('../inputs/phoq.pkl', 'rb') as f:\n",
    "    t = pickle.load(f)\n",
    "\n",
    "X = t[0] # one-hot encoding of X\n",
    "T = t[1] # tokenized encoding of X\n",
    "y = t[2].values"
   ]
  },
  {
   "cell_type": "code",
   "execution_count": null,
   "metadata": {},
   "outputs": [],
   "source": [
    "np.random.seed(1)\n",
    "rand_inds = np.random.choice(len(X), 100, replace=True) # generate random indices for 100 X's to sample from\n",
    "X_train = X[rand_inds]\n",
    "y_train = y[rand_inds]\n",
    "X_test = X\n",
    "y_true = y\n",
    "\n",
    "dic = helpers.get_predictions(X_train, y_train, X_test, its=500)"
   ]
  },
  {
   "cell_type": "code",
   "execution_count": null,
   "metadata": {
    "collapsed": true
   },
   "outputs": [],
   "source": [
    "ground = [(aa, i) for aa in 'ARNDCQEGHILKMFPSTWYV' for i in range(4)]"
   ]
  },
  {
   "cell_type": "code",
   "execution_count": null,
   "metadata": {
    "collapsed": true
   },
   "outputs": [],
   "source": [
    "np.random.seed(4195)\n",
    "center = np.random.choice(len(ground), 35, replace=False)\n",
    "center = [ground[c] for c in center]"
   ]
  },
  {
   "cell_type": "code",
   "execution_count": null,
   "metadata": {},
   "outputs": [],
   "source": [
    "X, h = opt.mod_mod(ground, opt.obj_LHS, opt.obj_RHS, center, fn_args=(4, dic), g_args=(4, dic, 100))"
   ]
  },
  {
   "cell_type": "code",
   "execution_count": null,
   "metadata": {
    "collapsed": true
   },
   "outputs": [],
   "source": [
    "def sampler_full_obj(lib, mu, K, tau, its=10, n=100):\n",
    "    \"\"\" Takes in a library (list of tuples with aa and positions),\n",
    "    full mean and covariance, threshold, number of iterations, and\n",
    "    batch size. \n",
    "    \n",
    "    Samples from full objective, and returns the number sampled that is \n",
    "    greater than tau (threshold). \"\"\"\n",
    "    \n",
    "    num_greater = []\n",
    "    lib = np.array(lib)\n",
    "    for _ in range(its):\n",
    "        rand_inds = np.random.choice(len(lib), n, replace=True) # generate random indices\n",
    "        rand_inds = np.unique(rand_inds) # remove duplicates\n",
    "        chosen = lib[rand_inds]\n",
    "        sample = np.random.multivariate_normal(mu[chosen], K[chosen, chosen]) # (n, ) vector\n",
    "        num_greater.append(np.sum(s > tau))\n",
    "    \n",
    "    return num_greater"
   ]
  },
  {
   "cell_type": "code",
   "execution_count": null,
   "metadata": {
    "collapsed": true
   },
   "outputs": [],
   "source": [
    "sampler_full_obj()"
   ]
  }
 ],
 "metadata": {
  "kernelspec": {
   "display_name": "Python 3",
   "language": "python",
   "name": "python3"
  },
  "language_info": {
   "codemirror_mode": {
    "name": "ipython",
    "version": 3
   },
   "file_extension": ".py",
   "mimetype": "text/x-python",
   "name": "python",
   "nbconvert_exporter": "python",
   "pygments_lexer": "ipython3",
   "version": "3.6.1"
  }
 },
 "nbformat": 4,
 "nbformat_minor": 2
}
