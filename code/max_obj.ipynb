{
 "cells": [
  {
   "cell_type": "markdown",
   "metadata": {},
   "source": [
    "Implements algorithm 3 (ModMod) from Algorithms for \"Approx Min of the Difference Between Submodular Fncs with Applications.\""
   ]
  },
  {
   "cell_type": "code",
   "execution_count": 1,
   "metadata": {
    "collapsed": true
   },
   "outputs": [],
   "source": [
    "import torch\n",
    "import itertools\n",
    "import pickle\n",
    "\n",
    "import itertools\n",
    "import random\n",
    "\n",
    "import numpy as np\n",
    "import pandas as pd\n",
    "import matplotlib.pyplot as plt\n",
    "import seaborn as sns\n",
    "%matplotlib inline\n",
    "sns.set_style('white')\n",
    "sns.set_context('paper')\n",
    "# Plot adjustments:\n",
    "plt.rcParams.update({'ytick.labelsize': 15})\n",
    "plt.rcParams.update({'xtick.labelsize': 15})\n",
    "plt.rcParams.update({'axes.labelsize': 35})\n",
    "plt.rcParams.update({'legend.fontsize': 30})\n",
    "plt.rcParams.update({'axes.titlesize': 16})"
   ]
  },
  {
   "cell_type": "code",
   "execution_count": 2,
   "metadata": {
    "collapsed": true
   },
   "outputs": [],
   "source": [
    "def mod_lower(X, fn, perm):\n",
    "    \"\"\" Modular lower bound of fn(X) for any X contained in ground set V\n",
    "    with permutation chain perm (aka S).\n",
    "    \n",
    "    Expects X and center as sets, fn as a Python function, and perm as a list. \"\"\"\n",
    "    \n",
    "    low = 0.0 # lower modular bound\n",
    "    \n",
    "    for elem in X:\n",
    "        i = perm.index(elem)\n",
    "        if i == 0:\n",
    "            low += fn({perm[0]})\n",
    "        else:\n",
    "            low += fn(set(perm[0:i + 1])) - fn(set(perm[0:i]))\n",
    "            \n",
    "    return low"
   ]
  },
  {
   "cell_type": "code",
   "execution_count": 3,
   "metadata": {
    "collapsed": true
   },
   "outputs": [],
   "source": [
    "def mod_upper(X, fn, center):\n",
    "    \"\"\" Modular upper bound of fn(X) for any X contained in ground set V, \n",
    "    centered at center.\n",
    "    \n",
    "    Expects X and center as sets, and fn as a Python function. \"\"\"\n",
    "    \n",
    "    up = fn(center) # modular upper bound\n",
    "    \n",
    "    for j in center:\n",
    "        if j not in X:\n",
    "            center_noj = [x for x in center if x != j]\n",
    "            up -= fn(center) - fn(center_noj)\n",
    "    \n",
    "    for j in X:\n",
    "        if j not in center:\n",
    "            up += fn({j}) - fn({})\n",
    "            \n",
    "    return up\n",
    "\n"
   ]
  },
  {
   "cell_type": "code",
   "execution_count": 8,
   "metadata": {
    "collapsed": true
   },
   "outputs": [],
   "source": [
    "def make_perm(V, X):\n",
    "    \"\"\" Takes in the ground set V and a set X, and\n",
    "    returns a random chain permutation that contains X \"\"\"\n",
    "    lst_perms = list(itertools.permutations(V)) # create a list of all possible permutations of V\n",
    "    # select possible perms that contain X and include all elements in V\n",
    "    poss_perms = [perm for perm in lst_perms if X.issubset(perm[0:len(X)]) and len(perm) == len(V)]\n",
    "    return list(random.choice(poss_perms)) # return random perm from list of possible perms\n",
    "\n",
    "def algo3(V, fn, g):\n",
    "    \"\"\" Implements algorithm3 (ModMod) from paper. Takes in ground set V,\n",
    "    and functions fn and g. \n",
    "    \n",
    "    Expects V as a set, and fn and g as submodular Python functions. \"\"\"\n",
    "    X, X_next = set(), set()\n",
    "    while True:\n",
    "        perm = make_perm(V, X) # choose permutation\n",
    "        for i in V:\n",
    "            obj = mod_upper({i}, fn, X) - mod_lower({i}, g, perm) # objective with element in V as input\n",
    "            emp = mod_upper({}, fn, X) - mod_lower({}, g, perm) # objective with empty set as input\n",
    "            if obj < emp:\n",
    "                X_next.add(i)\n",
    "        if X_next == X:\n",
    "            break\n",
    "        else:\n",
    "            X = X_next\n",
    "    \n",
    "    return X_next"
   ]
  },
  {
   "cell_type": "code",
   "execution_count": 11,
   "metadata": {
    "collapsed": true
   },
   "outputs": [],
   "source": [
    "# two examples of submodular set functions\n",
    "\n",
    "def linear(X):\n",
    "    \"\"\" A function f : 2^N → R is linear if f(X) = sum (i∈X) of wi for some weights\n",
    "    w : N → R. If wi ≥ 0 for all i ∈ N, then f is also monotone. \"\"\"\n",
    "    \n",
    "    if len(X) == 0: # empty set\n",
    "        return -1\n",
    "    \n",
    "    sum_w = 0\n",
    "    for i in X:\n",
    "        sum_w += i\n",
    "        \n",
    "    return sum_w\n",
    "    \n",
    "def budget_add(X, B=10):\n",
    "    \"\"\" A small generalization of the linear case, the function f(A) =\n",
    "    min{sum (i∈A) of wi, B} for any wi ≥ 0 and B ≥ 0, is monotone submodular.\"\"\"\n",
    "    \n",
    "    if len(X) == 0: # empty set\n",
    "        return -10\n",
    "    \n",
    "    sum_w = 0\n",
    "    for i in X:\n",
    "        sum_w += i\n",
    "    \n",
    "    return min(sum_w, B)"
   ]
  },
  {
   "cell_type": "code",
   "execution_count": null,
   "metadata": {
    "collapsed": true
   },
   "outputs": [],
   "source": [
    "# tests for mod_lower\n",
    "assert mod_lower({2, 4, 5}, linear, [3, 1, 2, 5, 4]) == 11 # V = {1...5}\n",
    "assert mod_lower({1, 7, 9}, linear, [3, 1, 4, 2, 10, 6, 9, 7, 5, 8]) == 17 # V = {1...10}\n",
    "\n",
    "assert mod_lower({2, 4, 5}, budget_add, [3, 1, 2, 5, 4]) == 6 # V = {1...5}\n",
    "\n",
    "# tests for mod_upper\n",
    "assert mod_upper({2, 4, 5}, linear, {1, 2, 5}) == 12 # V = {1...5}\n",
    "assert mod_upper({1, 7, 9}, linear, {10, 6, 9, 7}) == 18 # V = {1...10}\n",
    "\n",
    "# tests for make_perm\n",
    "assert set(make_perm({1, 2, 3, 4, 5}, {4, 3, 5})[0:3]).issubset({4, 3, 5})\n",
    "assert set(make_perm({1, 2, 3, 4, 5, 6, 7, 8, 9}, {9, 3, 7})[0:3]).issubset({9, 3, 7})"
   ]
  }
 ],
 "metadata": {
  "kernelspec": {
   "display_name": "Python 3",
   "language": "python",
   "name": "python3"
  },
  "language_info": {
   "codemirror_mode": {
    "name": "ipython",
    "version": 3
   },
   "file_extension": ".py",
   "mimetype": "text/x-python",
   "name": "python",
   "nbconvert_exporter": "python",
   "pygments_lexer": "ipython3",
   "version": "3.6.1"
  }
 },
 "nbformat": 4,
 "nbformat_minor": 2
}
