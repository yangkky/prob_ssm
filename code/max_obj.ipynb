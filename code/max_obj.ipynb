{
 "cells": [
  {
   "cell_type": "markdown",
   "metadata": {},
   "source": [
    "Implements algorithm 3 (ModMod) from Algorithms for \"Approx Min of the Difference Between Submodular Fncs with Applications.\"\n",
    "\n",
    "For prob_ssm"
   ]
  },
  {
   "cell_type": "code",
   "execution_count": 1,
   "metadata": {
    "collapsed": true
   },
   "outputs": [],
   "source": [
    "import torch\n",
    "from torch import distributions as dist\n",
    "\n",
    "import itertools\n",
    "import pickle\n",
    "import operator\n",
    "\n",
    "import random\n",
    "import math\n",
    "import numpy as np\n",
    "import pandas as pd\n",
    "import scipy\n",
    "\n",
    "import matplotlib.pyplot as plt\n",
    "import seaborn as sns\n",
    "%matplotlib inline\n",
    "sns.set_style('white')\n",
    "sns.set_context('paper')\n",
    "# Plot adjustments:\n",
    "plt.rcParams.update({'ytick.labelsize': 15})\n",
    "plt.rcParams.update({'xtick.labelsize': 15})\n",
    "plt.rcParams.update({'axes.labelsize': 35})\n",
    "plt.rcParams.update({'legend.fontsize': 30})\n",
    "plt.rcParams.update({'axes.titlesize': 16})\n",
    "\n",
    "from gptorch import kernels, models"
   ]
  },
  {
   "cell_type": "code",
   "execution_count": 2,
   "metadata": {
    "collapsed": true
   },
   "outputs": [],
   "source": [
    "def mod_lower(X, fn, perm, *args, **kwargs):\n",
    "    \"\"\" Modular lower bound of fn(X) for any X contained in ground set V\n",
    "    with permutation chain perm (aka S).\n",
    "    \n",
    "    Expects X as a list of tuples, fn as a Python function, and perm as a list. \"\"\"\n",
    "    \n",
    "    low = 0.0 # lower modular bound\n",
    "    \n",
    "    for elem in X:\n",
    "        i = perm.index(elem)\n",
    "        if i == 0:\n",
    "            low += fn([perm[0]], *args, **kwargs)\n",
    "        else:\n",
    "            low += fn(perm[0:i + 1], *args, **kwargs) - fn(perm[0:i], *args, **kwargs)\n",
    "            \n",
    "    return low"
   ]
  },
  {
   "cell_type": "code",
   "execution_count": 3,
   "metadata": {
    "collapsed": true
   },
   "outputs": [],
   "source": [
    "def mod_upper(X, fn, center, *args, **kwargs):\n",
    "    \"\"\" Modular upper bound of fn(X) for any X contained in ground set V, \n",
    "    centered at center.\n",
    "    \n",
    "    Expects X and center as lists of tuples, and fn as a Python function. \"\"\"\n",
    "    \n",
    "    up = fn(center, *args, **kwargs) # modular upper bound\n",
    "\n",
    "    for j in center:\n",
    "        if j not in X:\n",
    "            center_noj = [x for x in center if x != j]\n",
    "            up -= fn(center, *args, **kwargs) - fn(center_noj, *args, **kwargs)\n",
    "\n",
    "#     for j in X:\n",
    "#         if j not in center:\n",
    "#             up += fn([j], *args, **kwargs) - fn([], *args, **kwargs)\n",
    "            \n",
    "    return up"
   ]
  },
  {
   "cell_type": "code",
   "execution_count": 4,
   "metadata": {
    "collapsed": true
   },
   "outputs": [],
   "source": [
    "def make_perm(V, X):\n",
    "    \"\"\" Takes in the ground set V and a set X, and\n",
    "    returns a random chain permutation that contains X \"\"\"\n",
    "    if len(X) == 0:\n",
    "        indices = list(range(len(V)))\n",
    "        random.shuffle(indices)\n",
    "        return [V[i] for i in indices]\n",
    "    \n",
    "    ind_X = [i for i, v in enumerate(V) if v in X] # indices of X in V\n",
    "    rest = [i for i in list(range(len(V))) if i not in ind_X] # rest of indices in V\n",
    "    \n",
    "    random.shuffle(ind_X) # shuffle indices\n",
    "    random.shuffle(rest)\n",
    "    indices = ind_X + rest # combine\n",
    "    \n",
    "    return [V[i] for i in indices] # generate perm based on shuffled indices"
   ]
  },
  {
   "cell_type": "code",
   "execution_count": 5,
   "metadata": {},
   "outputs": [],
   "source": [
    "def mod_mod(V, fn, g, seed, *args, **kwargs):\n",
    "    \"\"\" Implements algorithm3 (ModMod) from paper. Takes in ground set V,\n",
    "    and functions fn and g. \n",
    "    \n",
    "    Expects V as a list of tuples, and fn and g as submodular Python functions. \"\"\"\n",
    "    \n",
    "    X = seed\n",
    "    obj_lst = [] # stores objectives at each time step\n",
    "    \n",
    "    while True:\n",
    "        X_next = X\n",
    "        perm = make_perm(V, X) # choose permutation\n",
    "        \n",
    "        up = mod_upper(X, fn, X, args[0])\n",
    "        low = mod_lower(X, g, perm, *args)\n",
    "        print((up, low))\n",
    "        emp = up - low #mod_upper(X, fn, X, args[0]) - mod_lower(X, g, perm, *args) # obj w X as input\n",
    "        obj_lst.append(emp)\n",
    "        print(emp)\n",
    "        for i in V:\n",
    "            if i in X: \n",
    "                X_noi = [x for x in X if x != i]\n",
    "                obj = mod_upper(X_noi, fn, X, args[0]) - mod_lower(X_noi, g, perm, *args) # obj w X w/o element in V as input\n",
    "                print((i, obj))\n",
    "                if obj < emp:\n",
    "                    X_next.remove(i)\n",
    "            else:\n",
    "                obj = mod_upper(X + [i], fn, X, args[0]) - mod_lower(X + [i], g, perm, *args) # obj w element in V added to X as input\n",
    "                print((i, obj))\n",
    "                if obj < emp:\n",
    "                    X_next.append(i)\n",
    "                    \n",
    "        if X_next == X:\n",
    "            break\n",
    "        else:\n",
    "            X = X_next\n",
    "    \n",
    "    return X_next, obj_lst"
   ]
  },
  {
   "cell_type": "code",
   "execution_count": 6,
   "metadata": {
    "collapsed": true
   },
   "outputs": [],
   "source": [
    "# [['A', 'R'], ['V'], ['P'], ['F', 'Q']] - turn into list of lists first!\n",
    "\n",
    "# lst = [('F', 3), ('V', 1), ('P', 2), ('A', 0), ('R', 0), ('Q', 3), ]"
   ]
  },
  {
   "cell_type": "code",
   "execution_count": 7,
   "metadata": {
    "collapsed": true
   },
   "outputs": [],
   "source": [
    "with open('../inputs/phoq.pkl', 'rb') as f:\n",
    "    t = pickle.load(f)\n",
    "\n",
    "X = t[0] # one-hot encoding of X\n",
    "T = t[1] # tokenized encoding of X\n",
    "y = t[2].values"
   ]
  },
  {
   "cell_type": "code",
   "execution_count": 8,
   "metadata": {
    "collapsed": true
   },
   "outputs": [],
   "source": [
    "def decode_X(X):\n",
    "    \"\"\" Takes in one-hot encoding X and decodes it to\n",
    "    return a string of four amino acids. \"\"\"\n",
    "    \n",
    "    amino_acids = 'ARNDCQEGHILKMFPSTWYV'\n",
    "    \n",
    "    pos_X = [i for i, x in enumerate(X) if x == 1.0] # positions of amino acids\n",
    "    pos_X = [(p - 20 * i) for i, p in enumerate(pos_X)] # make sure indexing is same as in str amino_acids\n",
    "    aa_X = [amino_acids[p] for i, p in enumerate(pos_X)] # amino acid chars in X\n",
    "    return ''.join(aa_X)"
   ]
  },
  {
   "cell_type": "code",
   "execution_count": 9,
   "metadata": {},
   "outputs": [
    {
     "name": "stdout",
     "output_type": "stream",
     "text": [
      "Iteration 500 of 500\tNLML: 40.0319\t"
     ]
    }
   ],
   "source": [
    "def get_predictions(X_train, y_train, X_test, its=500):\n",
    "    \"\"\"\n",
    "    Train GP regressor on X_train and y_train. \n",
    "    Predict mean and std for X_test. \n",
    "    Return P(y > y_train_max) as dictionary eg 'AGHU': 0.78\n",
    "    NB: for X_test in X_train, P ~= 0\n",
    "    Be careful with normalization\n",
    "    \n",
    "    Expects X_train, y_train, and X_test as np.arrays\n",
    "    \"\"\"\n",
    "    \n",
    "    ke = kernels.MaternKernel()\n",
    "    mo = models.GPRegressor(ke)\n",
    "    \n",
    "    # make data into tensors\n",
    "    X_train = torch.Tensor(X_train)\n",
    "    X_test = torch.Tensor(np.array(X_test))\n",
    "    y_train_scaled = (np.array(y_train) - np.mean(np.array(y_train))) / np.std(np.array(y_train)) # scale y_train\n",
    "    y_train_scaled = torch.Tensor(y_train_scaled.reshape(len(y_train_scaled), 1)).double() # .float()\n",
    "    \n",
    "    his = mo.fit(X_train, y_train_scaled, its=its) # fit model with training set\n",
    "    \n",
    "    # make predictions\n",
    "    dic = {} # use dictionary to store probs\n",
    "    ind = 0 # index for feeding in batches of X_test\n",
    "    tau = y_train_scaled.max().float()\n",
    "    \n",
    "    for i in range(1000, len(X) + 1000, 1000):\n",
    "        mu, var = mo.forward(X_test[ind:i]) # make predictions\n",
    "        std = torch.sqrt(var.diag())\n",
    "        mu = mu.squeeze()\n",
    "        prob = 1 - dist.Normal(mu, std).cdf(tau) # compute probabilities for all means, stds\n",
    "\n",
    "        for j, p in enumerate(prob):\n",
    "            seq = decode_X(X_test[ind:i][j]) # decode one-hot to get string of seq\n",
    "            dic[seq] = p # store prob for each seq\n",
    "\n",
    "        ind = i\n",
    "        \n",
    "    return dic\n",
    "\n",
    "np.random.seed(1)\n",
    "rand_inds = np.random.choice(len(X), 100, replace=True) # generate random indices for 100 X's to sample from\n",
    "X_train = X[rand_inds]\n",
    "y_train = y[rand_inds]\n",
    "X_test = X\n",
    "y_true = y\n",
    "\n",
    "dic = get_predictions(X_train, y_train, X_test, its=500)"
   ]
  },
  {
   "cell_type": "code",
   "execution_count": 10,
   "metadata": {
    "collapsed": true
   },
   "outputs": [],
   "source": [
    "# Computing objective LHS and RHS (two supermodular set functions)\n",
    "\n",
    "def obj_LHS(X, probs):\n",
    "    \"\"\" Takes in library X, and probabilities.\n",
    "    \n",
    "    Expects X to be a list of tuples, and probs to be a dictionary.\n",
    "    \n",
    "    Returns LHS of objective to be maximized (a supermodular function):\n",
    "    sum of probabilities. \"\"\"\n",
    "    \n",
    "    # if X empty or does not have aa at each position, return 0\n",
    "    if len([i for i in range(4) if i not in [tup[1] for tup in X]]) > 0:\n",
    "        return torch.Tensor([0.0])[0]\n",
    "    \n",
    "    # filter thru probs to find prob of x's in X\n",
    "    X.sort(key=lambda tup: tup[1])\n",
    "\n",
    "    X_str = [[tup[0] for i, tup in enumerate(X) if tup[1] == j] for j in range(4)] # generate list of lists of strings\n",
    "    X_str = [''.join(s) for s in itertools.product(*X_str)] # generate list of strings of 4 aa seqs\n",
    "\n",
    "    p = torch.Tensor([probs[key] for key in X_str])\n",
    "    \n",
    "    return -1 * torch.sum(p)\n",
    "\n",
    "def obj_RHS(X, probs, n):\n",
    "    \"\"\" Takes in library X, probabilities, and batch size n.\n",
    "    \n",
    "    Expects X to be a list of tuples, and probs to be a dictionary.\n",
    "    \n",
    "    Returns RHS of objective to be maximized (a supermodular function):\n",
    "    sum of probabilities times expression with N and n. \"\"\"\n",
    "    \n",
    "    # if X empty or does not have aa at each position, return 0\n",
    "    if len([i for i in range(4) if i not in [tup[1] for tup in X]]) > 0:\n",
    "        return torch.Tensor([0.0])[0]\n",
    "    \n",
    "    N = 1 # represents the product of sequence of # aas at each position\n",
    "    for i in X:\n",
    "        N *= len(i)\n",
    "    \n",
    "    # filter thru probs to find prob of x's in X\n",
    "    X.sort(key=lambda tup: tup[1])\n",
    "\n",
    "    X_str = [[tup[0] for i, tup in enumerate(X) if tup[1] == j] for j in range(4)] # generate list of lists of strings\n",
    "    X_str = [''.join(s) for s in itertools.product(*X_str)] # generate list of strings of 4 aa seqs\n",
    "\n",
    "    p = torch.Tensor([probs[key] for key in X_str])\n",
    "    obj = torch.sum(p) * (1 - 1 / N) ** n\n",
    "    \n",
    "    return -1 * obj"
   ]
  },
  {
   "cell_type": "code",
   "execution_count": 11,
   "metadata": {
    "collapsed": true
   },
   "outputs": [],
   "source": [
    "def generate_V():\n",
    "    \"\"\" Returns V: a list of tuples with every possible amino acid\n",
    "    at each of the four positions. \"\"\"\n",
    "    \n",
    "    amino_acids = 'ARNDCQEGHILKMFPSTWYV'\n",
    "    return [(aa, i) for i in range(4) for aa in amino_acids]\n",
    "\n",
    "V = generate_V()"
   ]
  },
  {
   "cell_type": "code",
   "execution_count": 12,
   "metadata": {
    "collapsed": true
   },
   "outputs": [],
   "source": [
    "X = [('F', 3), ('V', 1), ('P', 2), ('A', 0), ('R', 0), ('Q', 3)]\n",
    "center = [('F', 3), ('E', 0), ('N', 1), ('G', 2)]#, ('M', 3), ('S', 2), ('W', 2)]"
   ]
  },
  {
   "cell_type": "code",
   "execution_count": 13,
   "metadata": {},
   "outputs": [
    {
     "data": {
      "text/plain": [
       "[('S', 0), ('S', 1), ('S', 2), ('L', 3)]"
      ]
     },
     "execution_count": 13,
     "metadata": {},
     "output_type": "execute_result"
    }
   ],
   "source": [
    "def get_seed(probs):\n",
    "    \"\"\" Takes in a dictionary of amino acids to probabilities as\n",
    "    generated by the get_predictions() function, and returns the \n",
    "    seed (the four amino acid seq with the best prediction, aka the \n",
    "    highest probabilitiy). \n",
    "    \n",
    "    Returns a list of tuples representing the seed.\n",
    "    \n",
    "    Currently, 'SSSG' is the seed. \"\"\"\n",
    "    \n",
    "    seq = max(probs.items(), key=operator.itemgetter(1))[0]\n",
    "    return [(aa, i) for aa, i in zip(seq, range(4))]\n",
    "\n",
    "seed = get_seed(dic)\n",
    "seed"
   ]
  },
  {
   "cell_type": "code",
   "execution_count": 14,
   "metadata": {
    "collapsed": true
   },
   "outputs": [],
   "source": [
    "perm = make_perm(V, X)"
   ]
  },
  {
   "cell_type": "code",
   "execution_count": 15,
   "metadata": {},
   "outputs": [
    {
     "data": {
      "text/plain": [
       "tensor(1.00000e-04 *\n",
       "       -1.5783)"
      ]
     },
     "execution_count": 15,
     "metadata": {},
     "output_type": "execute_result"
    }
   ],
   "source": [
    "obj_LHS(X, dic)"
   ]
  },
  {
   "cell_type": "code",
   "execution_count": 16,
   "metadata": {},
   "outputs": [
    {
     "data": {
      "text/plain": [
       "tensor(1.00000e-04 *\n",
       "       2.7990)"
      ]
     },
     "execution_count": 16,
     "metadata": {},
     "output_type": "execute_result"
    }
   ],
   "source": [
    "mod_upper(X, obj_LHS, center, dic) ## should match"
   ]
  },
  {
   "cell_type": "code",
   "execution_count": 17,
   "metadata": {},
   "outputs": [
    {
     "data": {
      "text/plain": [
       "tensor(1.00000e-04 *\n",
       "       2.7990)"
      ]
     },
     "execution_count": 17,
     "metadata": {},
     "output_type": "execute_result"
    }
   ],
   "source": [
    "A = torch.stack([mod_upper([x], obj_LHS, center, dic) for x in X]).sum()\n",
    "A -= (len(X) - 1) * mod_upper([], obj_LHS, center, dic) # takes into account empty set ## should match\n",
    "A"
   ]
  },
  {
   "cell_type": "code",
   "execution_count": 18,
   "metadata": {},
   "outputs": [
    {
     "data": {
      "text/plain": [
       "tensor(1.00000e-04 *\n",
       "       -1.5783)"
      ]
     },
     "execution_count": 18,
     "metadata": {},
     "output_type": "execute_result"
    }
   ],
   "source": [
    "mod_lower(X, obj_LHS, perm, dic)"
   ]
  },
  {
   "cell_type": "code",
   "execution_count": 19,
   "metadata": {},
   "outputs": [
    {
     "name": "stdout",
     "output_type": "stream",
     "text": [
      "tensor(1.00000e-04 *\n",
      "       -1.5783)\n"
     ]
    }
   ],
   "source": [
    "print(torch.stack([mod_lower([x], obj_LHS, perm, dic) for x in X]).sum()) # lower bound"
   ]
  },
  {
   "cell_type": "code",
   "execution_count": null,
   "metadata": {
    "collapsed": true
   },
   "outputs": [],
   "source": []
  },
  {
   "cell_type": "code",
   "execution_count": 20,
   "metadata": {},
   "outputs": [
    {
     "data": {
      "text/plain": [
       "tensor(1.00000e-04 *\n",
       "       -3.8924)"
      ]
     },
     "execution_count": 20,
     "metadata": {},
     "output_type": "execute_result"
    }
   ],
   "source": [
    "obj_RHS(seed, dic, 100)"
   ]
  },
  {
   "cell_type": "code",
   "execution_count": 21,
   "metadata": {},
   "outputs": [
    {
     "data": {
      "text/plain": [
       "tensor(1.00000e-05 *\n",
       "       -3.2678)"
      ]
     },
     "execution_count": 21,
     "metadata": {},
     "output_type": "execute_result"
    }
   ],
   "source": [
    "obj_RHS(X, dic, 100)"
   ]
  },
  {
   "cell_type": "code",
   "execution_count": 22,
   "metadata": {},
   "outputs": [
    {
     "data": {
      "text/plain": [
       "tensor(1.00000e-07 *\n",
       "       4.4069)"
      ]
     },
     "execution_count": 22,
     "metadata": {},
     "output_type": "execute_result"
    }
   ],
   "source": [
    "mod_upper(X, obj_RHS, center, dic, 100)"
   ]
  },
  {
   "cell_type": "code",
   "execution_count": 23,
   "metadata": {},
   "outputs": [
    {
     "data": {
      "text/plain": [
       "tensor(1.00000e-07 *\n",
       "       4.4069)"
      ]
     },
     "execution_count": 23,
     "metadata": {},
     "output_type": "execute_result"
    }
   ],
   "source": [
    "B = torch.stack([mod_upper([x], obj_RHS, center, dic, 100) for x in X]).sum()\n",
    "B -= (len(X) - 1) * mod_upper([], obj_RHS, center, dic, 100) # takes into account empty set ## should match\n",
    "B"
   ]
  },
  {
   "cell_type": "code",
   "execution_count": 24,
   "metadata": {},
   "outputs": [
    {
     "data": {
      "text/plain": [
       "tensor(1.00000e-05 *\n",
       "       -3.2678)"
      ]
     },
     "execution_count": 24,
     "metadata": {},
     "output_type": "execute_result"
    }
   ],
   "source": [
    "mod_lower(X, obj_RHS, perm, dic, 100)"
   ]
  },
  {
   "cell_type": "code",
   "execution_count": 25,
   "metadata": {},
   "outputs": [
    {
     "name": "stdout",
     "output_type": "stream",
     "text": [
      "tensor(1.00000e-04 *\n",
      "       -1.5783)\n"
     ]
    }
   ],
   "source": [
    "print(torch.stack([mod_lower([x], obj_LHS, perm, dic) for x in X]).sum()) # lower bound"
   ]
  },
  {
   "cell_type": "code",
   "execution_count": 37,
   "metadata": {},
   "outputs": [
    {
     "data": {
      "text/plain": [
       "'VQES'"
      ]
     },
     "execution_count": 37,
     "metadata": {},
     "output_type": "execute_result"
    }
   ],
   "source": [
    "seed = np.random.choice(np.array([key for key in dic]))\n",
    "seed"
   ]
  },
  {
   "cell_type": "code",
   "execution_count": 39,
   "metadata": {},
   "outputs": [
    {
     "data": {
      "text/plain": [
       "[('V', 0), ('Q', 1), ('E', 2), ('S', 3)]"
      ]
     },
     "execution_count": 39,
     "metadata": {},
     "output_type": "execute_result"
    }
   ],
   "source": [
    "seed1 = [(s, i) for i, s in enumerate(seed)]\n",
    "seed1"
   ]
  },
  {
   "cell_type": "code",
   "execution_count": 40,
   "metadata": {},
   "outputs": [
    {
     "name": "stdout",
     "output_type": "stream",
     "text": [
      "(tensor(1.00000e-04 *\n",
      "       -5.1570), tensor(1.00000e-07 *\n",
      "       -8.1194))\n",
      "tensor(1.00000e-04 *\n",
      "       -5.1489)\n",
      "(('A', 0), tensor(1.1678))\n",
      "(('R', 0), tensor(0.2610))\n",
      "(('N', 0), tensor(1.4535))\n",
      "(('D', 0), tensor(1.00000e-03 *\n",
      "       2.3682))\n",
      "(('C', 0), tensor(1.00000e-02 *\n",
      "       1.1784))\n",
      "(('Q', 0), tensor(5.3437))\n",
      "(('E', 0), tensor(1.00000e-03 *\n",
      "       2.4020))\n",
      "(('G', 0), tensor(1.1790))\n",
      "(('H', 0), tensor(0.4103))\n",
      "(('I', 0), tensor(3.0005))\n",
      "(('L', 0), tensor(1.0901))\n",
      "(('K', 0), tensor(0.5654))\n",
      "(('M', 0), tensor(2.0035))\n",
      "(('F', 0), tensor(0.6915))\n",
      "(('P', 0), tensor(0.2170))\n",
      "(('S', 0), tensor(11.4290))\n",
      "(('T', 0), tensor(1.7659))\n",
      "(('W', 0), tensor(1.00000e-02 *\n",
      "       8.9663))\n",
      "(('Y', 0), tensor(0.2399))\n",
      "(('V', 0), tensor(1.00000e-07 *\n",
      "       8.1194))\n",
      "(('A', 1), tensor(25.4847))\n",
      "(('R', 1), tensor(2.3866))\n",
      "(('N', 1), tensor(1.00000e-03 *\n",
      "       3.8084))\n",
      "(('D', 1), tensor(7.3930))\n",
      "(('C', 1), tensor(1.9832))\n",
      "(('Q', 1), tensor(1.00000e-07 *\n",
      "       8.1194))\n",
      "(('E', 1), tensor(1.3598))\n",
      "(('G', 1), tensor(1.00000e-03 *\n",
      "       6.0899))\n",
      "(('H', 1), tensor(0.2828))\n",
      "(('I', 1), tensor(1.00000e-02 *\n",
      "       4.2774))\n",
      "(('L', 1), tensor(1.00000e-02 *\n",
      "       8.1432))\n",
      "(('K', 1), tensor(1.3494))\n",
      "(('M', 1), tensor(2.4268))\n",
      "(('F', 1), tensor(3.1373))\n",
      "(('P', 1), tensor(0.2368))\n",
      "(('S', 1), tensor(9.0743))\n",
      "(('T', 1), tensor(1.00000e-04 *\n",
      "       5.6684))\n",
      "(('W', 1), tensor(0.3064))\n",
      "(('Y', 1), tensor(2.7207))\n",
      "(('V', 1), tensor(0.8950))\n",
      "(('A', 2), tensor(0.3799))\n",
      "(('R', 2), tensor(5.9105))\n",
      "(('N', 2), tensor(0.3339))\n",
      "(('D', 2), tensor(1.00000e-04 *\n",
      "       3.8337))\n",
      "(('C', 2), tensor(0.4066))\n",
      "(('Q', 2), tensor(1.0093))\n",
      "(('E', 2), tensor(1.00000e-07 *\n",
      "       8.1194))\n",
      "(('G', 2), tensor(4.5700))\n",
      "(('H', 2), tensor(1.00000e-04 *\n",
      "       -4.9019))\n",
      "(('I', 2), tensor(0.1147))\n",
      "(('L', 2), tensor(1.0805))\n",
      "(('K', 2), tensor(0.5126))\n",
      "(('M', 2), tensor(1.00000e-02 *\n",
      "       4.8438))\n",
      "(('F', 2), tensor(0.3067))\n",
      "(('P', 2), tensor(0.1610))\n",
      "(('S', 2), tensor(25.1548))\n",
      "(('T', 2), tensor(0.3547))\n",
      "(('W', 2), tensor(3.5021))\n",
      "(('Y', 2), tensor(1.00000e-04 *\n",
      "       -3.4766))\n",
      "(('V', 2), tensor(1.6953))\n",
      "(('A', 3), tensor(1.1766))\n",
      "(('R', 3), tensor(1.8281))\n",
      "(('N', 3), tensor(1.00000e-03 *\n",
      "       2.3974))\n",
      "(('D', 3), tensor(1.00000e-02 *\n",
      "       2.9901))\n",
      "(('C', 3), tensor(0.2620))\n",
      "(('Q', 3), tensor(0.1182))\n",
      "(('E', 3), tensor(1.00000e-02 *\n",
      "       5.2689))\n",
      "(('G', 3), tensor(0.1001))\n",
      "(('H', 3), tensor(1.00000e-03 *\n",
      "       8.5926))\n",
      "(('I', 3), tensor(0.6001))\n",
      "(('L', 3), tensor(2.2486))\n",
      "(('K', 3), tensor(0.1502))\n",
      "(('M', 3), tensor(0.4726))\n",
      "(('F', 3), tensor(0.3936))\n",
      "(('P', 3), tensor(1.9936))\n",
      "(('S', 3), tensor(0.))\n",
      "(('T', 3), tensor(1.1274))\n",
      "(('W', 3), tensor(11.9876))\n",
      "(('Y', 3), tensor(1.0511))\n",
      "(('V', 3), tensor(0.5454))\n"
     ]
    },
    {
     "data": {
      "text/plain": [
       "([('V', 0), ('Q', 1), ('E', 2), ('S', 3)], [tensor(1.00000e-04 *\n",
       "         -5.1489)])"
      ]
     },
     "execution_count": 40,
     "metadata": {},
     "output_type": "execute_result"
    }
   ],
   "source": [
    "mod_mod(V, obj_LHS, obj_RHS, seed1, dic, 100)"
   ]
  },
  {
   "cell_type": "code",
   "execution_count": null,
   "metadata": {},
   "outputs": [],
   "source": [
    "seed = [('S', 0), ('S', 1), ('S', 2), ('L', 3)]"
   ]
  },
  {
   "cell_type": "code",
   "execution_count": null,
   "metadata": {},
   "outputs": [],
   "source": [
    "mod_upper(seed, obj_LHS, seed, dic) - mod_lower(seed, obj_RHS, perm, dic, 100)"
   ]
  },
  {
   "cell_type": "code",
   "execution_count": null,
   "metadata": {},
   "outputs": [],
   "source": [
    "mod_upper(seed, obj_LHS, seed, dic)"
   ]
  },
  {
   "cell_type": "code",
   "execution_count": null,
   "metadata": {},
   "outputs": [],
   "source": [
    "mod_lower(seed, obj_RHS, perm, dic, 100)"
   ]
  }
 ],
 "metadata": {
  "kernelspec": {
   "display_name": "Python 3",
   "language": "python",
   "name": "python3"
  },
  "language_info": {
   "codemirror_mode": {
    "name": "ipython",
    "version": 3
   },
   "file_extension": ".py",
   "mimetype": "text/x-python",
   "name": "python",
   "nbconvert_exporter": "python",
   "pygments_lexer": "ipython3",
   "version": "3.6.1"
  }
 },
 "nbformat": 4,
 "nbformat_minor": 2
}
