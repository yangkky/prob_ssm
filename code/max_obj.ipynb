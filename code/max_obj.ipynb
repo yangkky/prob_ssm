{
 "cells": [
  {
   "cell_type": "code",
   "execution_count": 41,
   "metadata": {},
   "outputs": [],
   "source": [
    "import torch\n",
    "from torch import distributions as dist\n",
    "\n",
    "import itertools\n",
    "import pickle\n",
    "import operator\n",
    "import importlib\n",
    "\n",
    "import random\n",
    "import math\n",
    "import numpy as np\n",
    "import pandas as pd\n",
    "import scipy\n",
    "\n",
    "import matplotlib.pyplot as plt\n",
    "import seaborn as sns\n",
    "%matplotlib inline\n",
    "sns.set_style('white')\n",
    "sns.set_context('paper')\n",
    "# Plot adjustments:\n",
    "plt.rcParams.update({'ytick.labelsize': 15})\n",
    "plt.rcParams.update({'xtick.labelsize': 15})\n",
    "plt.rcParams.update({'axes.labelsize': 35})\n",
    "plt.rcParams.update({'legend.fontsize': 30})\n",
    "plt.rcParams.update({'axes.titlesize': 16})\n",
    "\n",
    "from gptorch import kernels, models\n",
    "\n",
    "import helpers, opt, bases"
   ]
  },
  {
   "cell_type": "code",
   "execution_count": 44,
   "metadata": {},
   "outputs": [],
   "source": [
    "with open('../inputs/gb1.pkl', 'rb') as f:\n",
    "    t = pickle.load(f)\n",
    "\n",
    "X = t[0] # one-hot encoding of X\n",
    "T = t[1] # tokenized encoding of X\n",
    "A = t[2]\n",
    "y = t[3].values\n",
    "\n",
    "seq_to_x = {}\n",
    "for i, x in enumerate(X):\n",
    "    seq = helpers.decode_X(x)\n",
    "    seq_to_x[seq] = i"
   ]
  },
  {
   "cell_type": "code",
   "execution_count": 45,
   "metadata": {},
   "outputs": [],
   "source": [
    "wt = \"VDGV\"  # wt as string\n",
    "aas = 'ARNDCQEGHILKMFPSTWYV'"
   ]
  },
  {
   "cell_type": "code",
   "execution_count": 46,
   "metadata": {},
   "outputs": [],
   "source": [
    "ground = [(aa, i) for aa in 'ARNDCQEGHILKMFPSTWYV' for i in range(4)]"
   ]
  },
  {
   "cell_type": "code",
   "execution_count": null,
   "metadata": {},
   "outputs": [
    {
     "name": "stdout",
     "output_type": "stream",
     "text": [
      "Round 0\n",
      "101\n",
      "Iteration 2000 of 2000\tNLML: 48.2267\tsn: 0.209592\t\n"
     ]
    }
   ],
   "source": [
    "%%time\n",
    "helpers = importlib.reload(helpers)\n",
    "opt = importlib.reload(opt)\n",
    "bases = importlib.reload(bases)\n",
    "\n",
    "singles = [wt[:i] + aas[j] + wt[i+1:] for i in range(4) for j in range(20)]\n",
    "train_seqs = singles\n",
    "wt_inds = [seq_to_x[wt]]\n",
    "train_inds = wt_inds + [seq_to_x[seq] for seq in train_seqs]\n",
    "np.random.seed(1245120)\n",
    "train_inds = wt_inds + list(np.random.choice(len(X), 100, replace=True))\n",
    "\n",
    "X_train = X[train_inds]\n",
    "y_train = y[train_inds]\n",
    "X_test = X\n",
    "y_true = y\n",
    "\n",
    "A_train = A[train_inds]\n",
    "A_test = A\n",
    "\n",
    "\n",
    "n_start = 35\n",
    "max_its = 30\n",
    "rounds = 4\n",
    "L = 4\n",
    "n = 100\n",
    "\n",
    "observed_inds = [train_inds]\n",
    "X_sampled = [A[train_inds]]\n",
    "y_sampled = [y[train_inds]]\n",
    "\n",
    "\n",
    "\n",
    "libraries = []\n",
    "histories = []\n",
    "\n",
    "for rou in range(rounds):\n",
    "    print('Round %d' %rou)\n",
    "    inds = sorted(set(itertools.chain(*observed_inds)))\n",
    "    print(len(inds))\n",
    "    dic, _, mo = helpers.get_predictions(A[inds], y[inds], A_test, \n",
    "                                         one_hots=X_test, its=2000, \n",
    "                                         lr=1e-2, return_model=True)\n",
    "    seen_seqs = [helpers.decode_X(X[i]) for i in inds]\n",
    "    for s in seen_seqs:\n",
    "        dic[s] = 0.0\n",
    "    print()\n",
    "    seed = helpers.get_seed(dic)\n",
    "    chosen, obj = bases.greedy(bases.sample_obj, seed, \n",
    "                               obj_args=(mo, tau, seq_to_x, A), \n",
    "                               obj_kwargs={'its': 1000,\n",
    "                                           'observed': seen_seqs})\n",
    "    libraries.append(chosen)\n",
    "    histories.append(obj)\n",
    "    seqs = helpers.seqs_from_set(chosen, L)\n",
    "    inds = np.random.choice(len(seqs), n, replace=True)\n",
    "    sampled_seqs = [seqs[i] for i in inds]\n",
    "    inds = [seq_to_x[s] for s in sampled_seqs]\n",
    "    X_sampled.append(A[inds])\n",
    "    y_sampled.append(y[inds])\n",
    "    observed_inds.append(inds)\n",
    "    \n",
    "    "
   ]
  },
  {
   "cell_type": "code",
   "execution_count": 73,
   "metadata": {},
   "outputs": [
    {
     "data": {
      "text/html": [
       "<div>\n",
       "<style scoped>\n",
       "    .dataframe tbody tr th:only-of-type {\n",
       "        vertical-align: middle;\n",
       "    }\n",
       "\n",
       "    .dataframe tbody tr th {\n",
       "        vertical-align: top;\n",
       "    }\n",
       "\n",
       "    .dataframe thead th {\n",
       "        text-align: right;\n",
       "    }\n",
       "</style>\n",
       "<table border=\"1\" class=\"dataframe\">\n",
       "  <thead>\n",
       "    <tr style=\"text-align: right;\">\n",
       "      <th></th>\n",
       "      <th>y</th>\n",
       "      <th>round</th>\n",
       "    </tr>\n",
       "  </thead>\n",
       "  <tbody>\n",
       "    <tr>\n",
       "      <th>0</th>\n",
       "      <td>0.002108</td>\n",
       "      <td>0</td>\n",
       "    </tr>\n",
       "    <tr>\n",
       "      <th>1</th>\n",
       "      <td>0.003384</td>\n",
       "      <td>0</td>\n",
       "    </tr>\n",
       "    <tr>\n",
       "      <th>2</th>\n",
       "      <td>0.003150</td>\n",
       "      <td>0</td>\n",
       "    </tr>\n",
       "    <tr>\n",
       "      <th>3</th>\n",
       "      <td>0.068828</td>\n",
       "      <td>0</td>\n",
       "    </tr>\n",
       "    <tr>\n",
       "      <th>4</th>\n",
       "      <td>0.000100</td>\n",
       "      <td>0</td>\n",
       "    </tr>\n",
       "  </tbody>\n",
       "</table>\n",
       "</div>"
      ],
      "text/plain": [
       "          y  round\n",
       "0  0.002108      0\n",
       "1  0.003384      0\n",
       "2  0.003150      0\n",
       "3  0.068828      0\n",
       "4  0.000100      0"
      ]
     },
     "execution_count": 73,
     "metadata": {},
     "output_type": "execute_result"
    }
   ],
   "source": [
    "df = pd.DataFrame(np.power(10, np.concatenate(y_sampled)), columns=['y'])\n",
    "df['round'] = [0] * (1 + n) + [1] * n + [2] * n + [3] * n + [4] * n\n",
    "df.head()\n"
   ]
  },
  {
   "cell_type": "code",
   "execution_count": 74,
   "metadata": {},
   "outputs": [
    {
     "data": {
      "text/plain": [
       "[tensor(-0.1310), tensor(-0.1180), tensor(-0.1110), tensor(-3.6150)]"
      ]
     },
     "execution_count": 74,
     "metadata": {},
     "output_type": "execute_result"
    }
   ],
   "source": [
    "histories"
   ]
  },
  {
   "cell_type": "code",
   "execution_count": 75,
   "metadata": {},
   "outputs": [
    {
     "data": {
      "image/png": "[encoded data removed]",
      "text/plain": [
       "<Figure size 432x288 with 1 Axes>"
      ]
     },
     "metadata": {},
     "output_type": "display_data"
    }
   ],
   "source": [
    "df = pd.DataFrame(np.exp(np.concatenate(y_sampled)), columns=['y'])\n",
    "df['round'] = [0] * (n + 1) + [1] * n + [2] * n + [3] * n + [4] * n\n",
    "_ = sns.swarmplot(data=df, x='round', y='y')"
   ]
  },
  {
   "cell_type": "code",
   "execution_count": 76,
   "metadata": {},
   "outputs": [
    {
     "data": {
      "text/plain": [
       "[0.22641667584020303,\n",
       " -0.5837682615899172,\n",
       " 0.5901126924510388,\n",
       " 0.22722075233172428,\n",
       " 0.48871506975799484]"
      ]
     },
     "execution_count": 76,
     "metadata": {},
     "output_type": "execute_result"
    }
   ],
   "source": [
    "[max(yy) for yy in y_sampled]"
   ]
  },
  {
   "cell_type": "code",
   "execution_count": 77,
   "metadata": {},
   "outputs": [
    {
     "data": {
      "text/plain": [
       "[300, 240, 90, 120]"
      ]
     },
     "execution_count": 77,
     "metadata": {},
     "output_type": "execute_result"
    }
   ],
   "source": [
    "[opt.get_N(lib, L) for lib in libraries]"
   ]
  },
  {
   "cell_type": "code",
   "execution_count": null,
   "metadata": {},
   "outputs": [],
   "source": []
  }
 ],
 "metadata": {
  "kernelspec": {
   "display_name": "pyro_py36",
   "language": "python",
   "name": "pyro"
  },
  "language_info": {
   "codemirror_mode": {
    "name": "ipython",
    "version": 3
   },
   "file_extension": ".py",
   "mimetype": "text/x-python",
   "name": "python",
   "nbconvert_exporter": "python",
   "pygments_lexer": "ipython3",
   "version": "3.6.5"
  }
 },
 "nbformat": 4,
 "nbformat_minor": 2
}
