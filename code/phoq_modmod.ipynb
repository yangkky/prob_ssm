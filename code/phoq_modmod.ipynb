{
 "cells": [
  {
   "cell_type": "markdown",
   "metadata": {},
   "source": [
    "Implements algorithm 3 (ModMod) from Algorithms for \"Approx Min of the Difference Between Submodular Fncs with Applications.\"\n",
    "\n",
    "For prob_ssm"
   ]
  },
  {
   "cell_type": "code",
   "execution_count": 1,
   "metadata": {},
   "outputs": [],
   "source": [
    "import torch\n",
    "from torch import distributions as dist\n",
    "\n",
    "import itertools\n",
    "import pickle\n",
    "import operator\n",
    "import importlib\n",
    "\n",
    "import random\n",
    "import math\n",
    "import numpy as np\n",
    "import pandas as pd\n",
    "import scipy\n",
    "\n",
    "import matplotlib.pyplot as plt\n",
    "import seaborn as sns\n",
    "%matplotlib inline\n",
    "sns.set_style('white')\n",
    "sns.set_context('paper')\n",
    "# Plot adjustments:\n",
    "plt.rcParams.update({'ytick.labelsize': 15})\n",
    "plt.rcParams.update({'xtick.labelsize': 15})\n",
    "plt.rcParams.update({'axes.labelsize': 35})\n",
    "plt.rcParams.update({'legend.fontsize': 30})\n",
    "plt.rcParams.update({'axes.titlesize': 16})\n",
    "\n",
    "from gptorch import kernels, models\n",
    "\n",
    "import helpers, opt"
   ]
  },
  {
   "cell_type": "code",
   "execution_count": 28,
   "metadata": {},
   "outputs": [],
   "source": [
    "with open('../inputs/phoq.pkl', 'rb') as f:\n",
    "    t = pickle.load(f)\n",
    "\n",
    "X = t[0] # one-hot encoding of X\n",
    "A = t[2]\n",
    "T = t[1] # tokenized encoding of X\n",
    "y = t[3].values"
   ]
  },
  {
   "cell_type": "code",
   "execution_count": 3,
   "metadata": {},
   "outputs": [],
   "source": [
    "wt = helpers.decode_X(X[150614])  # wt as string\n",
    "aas = 'ARNDCQEGHILKMFPSTWYV'"
   ]
  },
  {
   "cell_type": "code",
   "execution_count": 4,
   "metadata": {},
   "outputs": [],
   "source": [
    "seq_to_x = {}\n",
    "for i, x in enumerate(X):\n",
    "    seq = helpers.decode_X(x)\n",
    "    seq_to_x[seq] = i"
   ]
  },
  {
   "cell_type": "code",
   "execution_count": 48,
   "metadata": {},
   "outputs": [],
   "source": [
    "singles = [wt[:i] + aas[j] + wt[i+1:] for i in range(4) for j in range(20)]\n",
    "train_seqs = singles\n",
    "wt_inds = [seq_to_x[wt]]\n",
    "train_inds = wt_inds + [seq_to_x[seq] for seq in train_seqs]\n",
    "np.random.seed(120120)\n",
    "train_inds = wt_inds + list(np.random.choice(len(X), 100, replace=True))\n",
    "\n",
    "X_train = X[train_inds]\n",
    "y_train = y[train_inds]\n",
    "X_test = X\n",
    "y_true = y\n",
    "\n",
    "A_train = A[train_inds]\n",
    "A_test = A"
   ]
  },
  {
   "cell_type": "code",
   "execution_count": 49,
   "metadata": {},
   "outputs": [],
   "source": [
    "ground = [(aa, i) for aa in aas for i in range(4)]"
   ]
  },
  {
   "cell_type": "code",
   "execution_count": 50,
   "metadata": {
    "scrolled": true
   },
   "outputs": [
    {
     "name": "stdout",
     "output_type": "stream",
     "text": [
      "Round 0\n",
      "101\n",
      "Iteration 2000 of 2000\tNLML: 49.1372\tsn: 0.200000\t\n",
      "Round 1\n",
      "197\n",
      "Iteration 2000 of 2000\tNLML: 97.0109\tsn: 0.199164\t\n",
      "Round 2\n",
      "295\n",
      "Iteration 2000 of 2000\tNLML: 92.9385\tsn: 0.162819\t\n",
      "Round 3\n",
      "344\n",
      "Iteration 2000 of 2000\tNLML: 27.5865\tsn: 0.056630\t\n"
     ]
    }
   ],
   "source": [
    "helpers = importlib.reload(helpers)\n",
    "opt = importlib.reload(opt)\n",
    "\n",
    "n_start = 35\n",
    "max_its = 10\n",
    "rounds = 4\n",
    "L = 4\n",
    "n = 100\n",
    "\n",
    "\n",
    "observed_inds = [train_inds]\n",
    "X_sampled = [A[train_inds]]\n",
    "y_sampled = [y[train_inds]]\n",
    "\n",
    "\n",
    "libraries = []\n",
    "histories = []\n",
    "\n",
    "for rou in range(rounds):\n",
    "    print('Round %d' %rou)\n",
    "    inds = sorted(set(itertools.chain(*observed_inds)))\n",
    "    print(len(inds))\n",
    "    dic, _ = helpers.get_predictions(A[inds], y[inds], A_test, one_hots=X_test, its=2000, lr=1e-2)\n",
    "    seen_seqs = [helpers.decode_X(X[i]) for i in inds]\n",
    "    for s in seen_seqs:\n",
    "        dic[s] = 0.0\n",
    "    print()\n",
    "    best_loss = 0.0\n",
    "    best_X = None\n",
    "    best_h = None\n",
    "    for i in range(max_its):\n",
    "        np.random.seed(i)\n",
    "        center = np.random.choice(len(ground), n_start, replace=False)\n",
    "        center = [ground[c] for c in center]\n",
    "        chosen, h = opt.mod_mod(ground, opt.obj_LHS, opt.obj_RHS, center, \n",
    "                           fn_args=(L, dic), g_args=(L, dic, n), verbose=False)\n",
    "        if h[-1] < best_loss:\n",
    "            best_loss = h[-1]\n",
    "            best_X = chosen\n",
    "            best_h = h\n",
    "    libraries.append(best_X)\n",
    "    histories.append(best_h)\n",
    "    seqs = helpers.seqs_from_set(best_X, L)\n",
    "    inds = np.random.choice(len(seqs), n, replace=True)\n",
    "    sampled_seqs = [seqs[i] for i in inds]\n",
    "    inds = [seq_to_x[s] for s in sampled_seqs]\n",
    "    X_sampled.append(A[inds])\n",
    "    y_sampled.append(y[inds])\n",
    "    observed_inds.append(inds)\n",
    "    "
   ]
  },
  {
   "cell_type": "code",
   "execution_count": 51,
   "metadata": {},
   "outputs": [
    {
     "data": {
      "text/plain": [
       "[[('K', 0),\n",
       "  ('D', 0),\n",
       "  ('T', 0),\n",
       "  ('L', 0),\n",
       "  ('C', 0),\n",
       "  ('F', 0),\n",
       "  ('H', 0),\n",
       "  ('I', 0),\n",
       "  ('E', 0),\n",
       "  ('A', 0),\n",
       "  ('A', 1),\n",
       "  ('Y', 1),\n",
       "  ('T', 1),\n",
       "  ('G', 1),\n",
       "  ('E', 1),\n",
       "  ('K', 1),\n",
       "  ('W', 1),\n",
       "  ('H', 1),\n",
       "  ('S', 2),\n",
       "  ('H', 2),\n",
       "  ('G', 2),\n",
       "  ('T', 2),\n",
       "  ('V', 2),\n",
       "  ('R', 2),\n",
       "  ('F', 2),\n",
       "  ('P', 2),\n",
       "  ('Q', 3),\n",
       "  ('I', 3),\n",
       "  ('A', 3),\n",
       "  ('H', 3),\n",
       "  ('K', 3),\n",
       "  ('W', 3),\n",
       "  ('C', 3),\n",
       "  ('F', 3),\n",
       "  ('N', 3)],\n",
       " [('N', 0),\n",
       "  ('D', 0),\n",
       "  ('I', 0),\n",
       "  ('C', 0),\n",
       "  ('R', 0),\n",
       "  ('H', 0),\n",
       "  ('V', 0),\n",
       "  ('S', 1),\n",
       "  ('V', 1),\n",
       "  ('K', 1),\n",
       "  ('Y', 1),\n",
       "  ('N', 1),\n",
       "  ('D', 1),\n",
       "  ('M', 1),\n",
       "  ('E', 1),\n",
       "  ('F', 1),\n",
       "  ('R', 2),\n",
       "  ('H', 2),\n",
       "  ('F', 2),\n",
       "  ('M', 2),\n",
       "  ('V', 2),\n",
       "  ('P', 2),\n",
       "  ('H', 3),\n",
       "  ('P', 3),\n",
       "  ('S', 3),\n",
       "  ('K', 3),\n",
       "  ('F', 3),\n",
       "  ('G', 3),\n",
       "  ('N', 3),\n",
       "  ('W', 3),\n",
       "  ('Q', 3)],\n",
       " [('I', 0),\n",
       "  ('S', 0),\n",
       "  ('L', 0),\n",
       "  ('Q', 1),\n",
       "  ('S', 1),\n",
       "  ('S', 2),\n",
       "  ('A', 2),\n",
       "  ('G', 2),\n",
       "  ('C', 2),\n",
       "  ('T', 2),\n",
       "  ('V', 3),\n",
       "  ('W', 3)],\n",
       " [('T', 0),\n",
       "  ('L', 0),\n",
       "  ('A', 0),\n",
       "  ('A', 1),\n",
       "  ('T', 1),\n",
       "  ('G', 1),\n",
       "  ('E', 1),\n",
       "  ('S', 2),\n",
       "  ('G', 2),\n",
       "  ('T', 2),\n",
       "  ('V', 2),\n",
       "  ('R', 2),\n",
       "  ('I', 3),\n",
       "  ('K', 3),\n",
       "  ('W', 3)]]"
      ]
     },
     "execution_count": 51,
     "metadata": {},
     "output_type": "execute_result"
    }
   ],
   "source": [
    "libraries"
   ]
  },
  {
   "cell_type": "code",
   "execution_count": 55,
   "metadata": {},
   "outputs": [
    {
     "data": {
      "text/html": [
       "<div>\n",
       "<style scoped>\n",
       "    .dataframe tbody tr th:only-of-type {\n",
       "        vertical-align: middle;\n",
       "    }\n",
       "\n",
       "    .dataframe tbody tr th {\n",
       "        vertical-align: top;\n",
       "    }\n",
       "\n",
       "    .dataframe thead th {\n",
       "        text-align: right;\n",
       "    }\n",
       "</style>\n",
       "<table border=\"1\" class=\"dataframe\">\n",
       "  <thead>\n",
       "    <tr style=\"text-align: right;\">\n",
       "      <th></th>\n",
       "      <th>y</th>\n",
       "      <th>round</th>\n",
       "    </tr>\n",
       "  </thead>\n",
       "  <tbody>\n",
       "    <tr>\n",
       "      <th>0</th>\n",
       "      <td>0.001042</td>\n",
       "      <td>0</td>\n",
       "    </tr>\n",
       "    <tr>\n",
       "      <th>1</th>\n",
       "      <td>0.015752</td>\n",
       "      <td>0</td>\n",
       "    </tr>\n",
       "    <tr>\n",
       "      <th>2</th>\n",
       "      <td>0.000265</td>\n",
       "      <td>0</td>\n",
       "    </tr>\n",
       "    <tr>\n",
       "      <th>3</th>\n",
       "      <td>0.000010</td>\n",
       "      <td>0</td>\n",
       "    </tr>\n",
       "    <tr>\n",
       "      <th>4</th>\n",
       "      <td>0.000010</td>\n",
       "      <td>0</td>\n",
       "    </tr>\n",
       "  </tbody>\n",
       "</table>\n",
       "</div>"
      ],
      "text/plain": [
       "          y  round\n",
       "0  0.001042      0\n",
       "1  0.015752      0\n",
       "2  0.000265      0\n",
       "3  0.000010      0\n",
       "4  0.000010      0"
      ]
     },
     "execution_count": 55,
     "metadata": {},
     "output_type": "execute_result"
    }
   ],
   "source": [
    "df = pd.DataFrame(np.power(10, np.concatenate(y_sampled)), columns=['y'])\n",
    "df['round'] = [0] * (n + 1) + [1] * n + [2] * n + [3] * n + [4] * n\n",
    "df.head()\n"
   ]
  },
  {
   "cell_type": "code",
   "execution_count": 56,
   "metadata": {},
   "outputs": [
    {
     "data": {
      "image/png": "[encoded data removed]",
      "text/plain": [
       "<Figure size 432x288 with 1 Axes>"
      ]
     },
     "metadata": {},
     "output_type": "display_data"
    }
   ],
   "source": [
    "_ = sns.swarmplot(data=df, x='round', y='y')"
   ]
  },
  {
   "cell_type": "code",
   "execution_count": 52,
   "metadata": {},
   "outputs": [
    {
     "data": {
      "text/plain": [
       "[1.175220660068953,\n",
       " 1.334396682952795,\n",
       " 1.1022292926574533,\n",
       " 1.1423527628399934,\n",
       " 1.2706665996001771]"
      ]
     },
     "execution_count": 52,
     "metadata": {},
     "output_type": "execute_result"
    }
   ],
   "source": [
    "[max(yy) for yy in y_sampled]"
   ]
  },
  {
   "cell_type": "code",
   "execution_count": 57,
   "metadata": {},
   "outputs": [
    {
     "data": {
      "text/plain": [
       "[5760, 3402, 60, 180]"
      ]
     },
     "execution_count": 57,
     "metadata": {},
     "output_type": "execute_result"
    }
   ],
   "source": [
    "[opt.get_N(lib, L) for lib in libraries]"
   ]
  },
  {
   "cell_type": "code",
   "execution_count": null,
   "metadata": {},
   "outputs": [],
   "source": []
  }
 ],
 "metadata": {
  "kernelspec": {
   "display_name": "Python [conda env:pyro]",
   "language": "python",
   "name": "conda-env-pyro-py"
  },
  "language_info": {
   "codemirror_mode": {
    "name": "ipython",
    "version": 3
   },
   "file_extension": ".py",
   "mimetype": "text/x-python",
   "name": "python",
   "nbconvert_exporter": "python",
   "pygments_lexer": "ipython3",
   "version": "3.6.5"
  }
 },
 "nbformat": 4,
 "nbformat_minor": 2
}
