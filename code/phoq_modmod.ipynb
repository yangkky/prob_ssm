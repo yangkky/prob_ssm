{
 "cells": [
  {
   "cell_type": "markdown",
   "metadata": {},
   "source": [
    "Implements algorithm 3 (ModMod) from Algorithms for \"Approx Min of the Difference Between Submodular Fncs with Applications.\"\n",
    "\n",
    "For prob_ssm"
   ]
  },
  {
   "cell_type": "code",
   "execution_count": 8,
   "metadata": {},
   "outputs": [],
   "source": [
    "import torch\n",
    "from torch import distributions as dist\n",
    "\n",
    "import itertools\n",
    "import pickle\n",
    "import operator\n",
    "import importlib\n",
    "\n",
    "import random\n",
    "import math\n",
    "import numpy as np\n",
    "import pandas as pd\n",
    "import scipy\n",
    "\n",
    "import matplotlib.pyplot as plt\n",
    "import seaborn as sns\n",
    "%matplotlib inline\n",
    "sns.set_style('white')\n",
    "sns.set_context('paper')\n",
    "# Plot adjustments:\n",
    "plt.rcParams.update({'ytick.labelsize': 15})\n",
    "plt.rcParams.update({'xtick.labelsize': 15})\n",
    "plt.rcParams.update({'axes.labelsize': 35})\n",
    "plt.rcParams.update({'legend.fontsize': 30})\n",
    "plt.rcParams.update({'axes.titlesize': 16})\n",
    "\n",
    "from gptorch import kernels, models\n",
    "\n",
    "import helpers, opt"
   ]
  },
  {
   "cell_type": "code",
   "execution_count": 62,
   "metadata": {},
   "outputs": [],
   "source": [
    "with open('../inputs/phoq.pkl', 'rb') as f:\n",
    "    t = pickle.load(f)\n",
    "\n",
    "X = t[0] # one-hot encoding of X\n",
    "T = t[1] # tokenized encoding of X\n",
    "y = t[2].values"
   ]
  },
  {
   "cell_type": "code",
   "execution_count": 59,
   "metadata": {},
   "outputs": [],
   "source": [
    "wt = helpers.decode_X(X[150614])  # wt as string\n",
    "aas = 'ARNDCQEGHILKMFPSTWYV'"
   ]
  },
  {
   "cell_type": "code",
   "execution_count": 32,
   "metadata": {},
   "outputs": [],
   "source": [
    "seq_to_x = {}\n",
    "for i, x in enumerate(X):\n",
    "    seq = helpers.decode_X(x)\n",
    "    seq_to_x[seq] = i"
   ]
  },
  {
   "cell_type": "code",
   "execution_count": 61,
   "metadata": {},
   "outputs": [
    {
     "data": {
      "text/plain": [
       "80"
      ]
     },
     "execution_count": 61,
     "metadata": {},
     "output_type": "execute_result"
    }
   ],
   "source": [
    "singles = [wt[:i] + aas[j] + wt[i+1:] for i in range(4) for j in range(20)]\n",
    "len(singles)"
   ]
  },
  {
   "cell_type": "code",
   "execution_count": 86,
   "metadata": {},
   "outputs": [],
   "source": [
    "singles = [wt[:i] + aas[j] + wt[i+1:] for i in range(4) for j in range(20)]\n",
    "train_seqs = [wt] + singles\n",
    "train_inds = [seq_to_x[seq] for seq in train_seqs]\n",
    "train_inds += list(np.random.choice(len(X), 100, replace=True)) # generate random indices for 100 X's to sample from\n",
    "\n",
    "X_train = X[train_inds]\n",
    "y_train = y[train_inds]\n",
    "X_test = X\n",
    "y_true = y"
   ]
  },
  {
   "cell_type": "code",
   "execution_count": 66,
   "metadata": {},
   "outputs": [],
   "source": [
    "ground = [(aa, i) for aa in aas for i in range(4)]"
   ]
  },
  {
   "cell_type": "code",
   "execution_count": 29,
   "metadata": {},
   "outputs": [],
   "source": [
    "def seqs_from_set(chosen, L):\n",
    "    pos = [[c[0] for c in chosen if c[1] == p] for p in range(L)]\n",
    "    return [''.join(s) for s in itertools.product(*pos)]\n",
    "\n",
    "seqs = seqs_from_set(chosen, 4)\n",
    "X_sampled = [X_train]\n",
    "y_sampled = [y_train]"
   ]
  },
  {
   "cell_type": "code",
   "execution_count": 88,
   "metadata": {
    "scrolled": true
   },
   "outputs": [
    {
     "name": "stdout",
     "output_type": "stream",
     "text": [
      "Round 0\n",
      "Iteration 500 of 500\tNLML: 37.8196\tsn: 0.176778\t\n",
      "Round 1\n",
      "Iteration 500 of 500\tNLML: 21.9836\tsn: 0.487011\t\n",
      "Round 2\n",
      "Iteration 500 of 500\tNLML: 16.5508\tsn: 0.478253\t\n",
      "Round 3\n",
      "Iteration 500 of 500\tNLML: 6.2960\tsn: 0.471376\t\t\n"
     ]
    }
   ],
   "source": [
    "helpers = importlib.reload(helpers)\n",
    "opt = importlib.reload(opt)\n",
    "\n",
    "n_start = 35\n",
    "max_its = 30\n",
    "rounds = 4\n",
    "L = 4\n",
    "n = 100\n",
    "\n",
    "\n",
    "observed_inds = [train_inds]\n",
    "X_sampled = [X[train_inds]]\n",
    "y_sampled = [y[train_inds]]\n",
    "\n",
    "\n",
    "libraries = []\n",
    "histories = []\n",
    "\n",
    "for rou in range(rounds):\n",
    "    print('Round %d' %rou)\n",
    "    inds = sorted(set(itertools.chain(*observed_inds)))\n",
    "    dic, _ = helpers.get_predictions(X[inds], y[inds], X_test, its=500)    \n",
    "    print()\n",
    "    best_loss = 0.0\n",
    "    best_X = None\n",
    "    best_h = None\n",
    "    for i in range(max_its):\n",
    "        np.random.seed(i)\n",
    "        center = np.random.choice(len(ground), n_start, replace=False)\n",
    "        center = [ground[c] for c in center]\n",
    "        chosen, h = opt.mod_mod(ground, opt.obj_LHS, opt.obj_RHS, center, \n",
    "                           fn_args=(L, dic), g_args=(L, dic, n), verbose=False)\n",
    "        if h[-1] < best_loss:\n",
    "            best_loss = h[-1]\n",
    "            best_X = chosen\n",
    "            best_h = h\n",
    "    libraries.append(best_X)\n",
    "    histories.append(best_h)\n",
    "    seqs = seqs_from_set(best_X, L)\n",
    "    inds = np.random.choice(len(seqs), n, replace=True)\n",
    "    sampled_seqs = [seqs[i] for i in inds]\n",
    "    inds = [seq_to_x[s] for s in sampled_seqs]\n",
    "    X_sampled.append(X[inds])\n",
    "    y_sampled.append(y[inds])\n",
    "    observed_inds.append(inds)\n",
    "    "
   ]
  },
  {
   "cell_type": "code",
   "execution_count": 77,
   "metadata": {},
   "outputs": [
    {
     "data": {
      "text/plain": [
       "[[('I', 0),\n",
       "  ('S', 0),\n",
       "  ('D', 0),\n",
       "  ('L', 0),\n",
       "  ('Q', 0),\n",
       "  ('L', 1),\n",
       "  ('D', 1),\n",
       "  ('W', 1),\n",
       "  ('Q', 1),\n",
       "  ('H', 1),\n",
       "  ('K', 1),\n",
       "  ('S', 1),\n",
       "  ('S', 2),\n",
       "  ('C', 2),\n",
       "  ('Q', 2),\n",
       "  ('E', 3),\n",
       "  ('D', 3),\n",
       "  ('S', 3),\n",
       "  ('L', 3),\n",
       "  ('W', 3)],\n",
       " [('S', 0),\n",
       "  ('H', 0),\n",
       "  ('C', 1),\n",
       "  ('I', 1),\n",
       "  ('D', 1),\n",
       "  ('W', 1),\n",
       "  ('Q', 1),\n",
       "  ('K', 1),\n",
       "  ('S', 1),\n",
       "  ('S', 2),\n",
       "  ('E', 3),\n",
       "  ('S', 3),\n",
       "  ('L', 3),\n",
       "  ('V', 3),\n",
       "  ('M', 3),\n",
       "  ('W', 3)],\n",
       " [('S', 0),\n",
       "  ('F', 1),\n",
       "  ('K', 1),\n",
       "  ('S', 1),\n",
       "  ('T', 1),\n",
       "  ('S', 2),\n",
       "  ('I', 2),\n",
       "  ('T', 2),\n",
       "  ('S', 3),\n",
       "  ('E', 3),\n",
       "  ('G', 3),\n",
       "  ('K', 3),\n",
       "  ('I', 3),\n",
       "  ('H', 3),\n",
       "  ('C', 3),\n",
       "  ('T', 3)]]"
      ]
     },
     "execution_count": 77,
     "metadata": {},
     "output_type": "execute_result"
    }
   ],
   "source": [
    "libraries"
   ]
  },
  {
   "cell_type": "code",
   "execution_count": 78,
   "metadata": {},
   "outputs": [
    {
     "data": {
      "text/plain": [
       "[[tensor(-3.7870),\n",
       "  tensor(-4.2109),\n",
       "  tensor(-4.4620),\n",
       "  tensor(-4.4620),\n",
       "  tensor(-4.5792),\n",
       "  tensor(-4.5792),\n",
       "  tensor(-4.6616),\n",
       "  tensor(-4.6616),\n",
       "  tensor(-4.8239),\n",
       "  tensor(-4.8300),\n",
       "  tensor(-4.8300),\n",
       "  tensor(-4.8691),\n",
       "  tensor(-5.0164),\n",
       "  tensor(-5.0164),\n",
       "  tensor(-5.0164),\n",
       "  tensor(-5.0164),\n",
       "  tensor(-5.0164),\n",
       "  tensor(-5.2042),\n",
       "  tensor(-5.2043),\n",
       "  tensor(-5.7127),\n",
       "  tensor(-5.7127),\n",
       "  tensor(-5.7127),\n",
       "  tensor(-6.3421),\n",
       "  tensor(-6.8758),\n",
       "  tensor(-7.7313),\n",
       "  tensor(-7.7313)],\n",
       " [tensor(-1.1298),\n",
       "  tensor(-1.9876),\n",
       "  tensor(-3.3362),\n",
       "  tensor(-4.3455),\n",
       "  tensor(-5.7700),\n",
       "  tensor(-5.7700),\n",
       "  tensor(-6.1931),\n",
       "  tensor(-12.0296),\n",
       "  tensor(-12.0296)],\n",
       " [tensor(-2.7170),\n",
       "  tensor(-3.5798),\n",
       "  tensor(-3.5798),\n",
       "  tensor(-5.0811),\n",
       "  tensor(-5.3406),\n",
       "  tensor(-5.4788),\n",
       "  tensor(-6.0079),\n",
       "  tensor(-6.1019),\n",
       "  tensor(-6.3645),\n",
       "  tensor(-9.6081),\n",
       "  tensor(-10.8951),\n",
       "  tensor(-11.2054),\n",
       "  tensor(-11.2054)]]"
      ]
     },
     "execution_count": 78,
     "metadata": {},
     "output_type": "execute_result"
    }
   ],
   "source": [
    "histories"
   ]
  },
  {
   "cell_type": "code",
   "execution_count": 91,
   "metadata": {},
   "outputs": [
    {
     "data": {
      "text/html": [
       "<div>\n",
       "<style scoped>\n",
       "    .dataframe tbody tr th:only-of-type {\n",
       "        vertical-align: middle;\n",
       "    }\n",
       "\n",
       "    .dataframe tbody tr th {\n",
       "        vertical-align: top;\n",
       "    }\n",
       "\n",
       "    .dataframe thead th {\n",
       "        text-align: right;\n",
       "    }\n",
       "</style>\n",
       "<table border=\"1\" class=\"dataframe\">\n",
       "  <thead>\n",
       "    <tr style=\"text-align: right;\">\n",
       "      <th></th>\n",
       "      <th>y</th>\n",
       "      <th>round</th>\n",
       "    </tr>\n",
       "  </thead>\n",
       "  <tbody>\n",
       "    <tr>\n",
       "      <th>0</th>\n",
       "      <td>-2.982025</td>\n",
       "      <td>0</td>\n",
       "    </tr>\n",
       "    <tr>\n",
       "      <th>1</th>\n",
       "      <td>-2.982025</td>\n",
       "      <td>0</td>\n",
       "    </tr>\n",
       "    <tr>\n",
       "      <th>2</th>\n",
       "      <td>-5.000000</td>\n",
       "      <td>0</td>\n",
       "    </tr>\n",
       "    <tr>\n",
       "      <th>3</th>\n",
       "      <td>-3.216056</td>\n",
       "      <td>0</td>\n",
       "    </tr>\n",
       "    <tr>\n",
       "      <th>4</th>\n",
       "      <td>-5.000000</td>\n",
       "      <td>0</td>\n",
       "    </tr>\n",
       "  </tbody>\n",
       "</table>\n",
       "</div>"
      ],
      "text/plain": [
       "          y  round\n",
       "0 -2.982025      0\n",
       "1 -2.982025      0\n",
       "2 -5.000000      0\n",
       "3 -3.216056      0\n",
       "4 -5.000000      0"
      ]
     },
     "execution_count": 91,
     "metadata": {},
     "output_type": "execute_result"
    }
   ],
   "source": [
    "df = pd.DataFrame(np.concatenate(y_sampled), columns=['y'])\n",
    "df['round'] = [0] * (81 + n) + [1] * n + [2] * n + [3] * n + [4] * n\n",
    "df.head()\n"
   ]
  },
  {
   "cell_type": "code",
   "execution_count": 92,
   "metadata": {},
   "outputs": [
    {
     "data": {
      "image/png": "[encoded data removed]",
      "text/plain": [
       "<Figure size 432x288 with 1 Axes>"
      ]
     },
     "metadata": {},
     "output_type": "display_data"
    }
   ],
   "source": [
    "_ = sns.swarmplot(data=df, x='round', y='y')"
   ]
  },
  {
   "cell_type": "code",
   "execution_count": 93,
   "metadata": {},
   "outputs": [
    {
     "data": {
      "text/plain": [
       "[1.2350148061910993,\n",
       " 1.2641211135597676,\n",
       " 1.334396682952795,\n",
       " 1.334396682952795,\n",
       " 1.3343422566796406]"
      ]
     },
     "execution_count": 93,
     "metadata": {},
     "output_type": "execute_result"
    }
   ],
   "source": [
    "[max(yy) for yy in y_sampled]"
   ]
  },
  {
   "cell_type": "code",
   "execution_count": 94,
   "metadata": {},
   "outputs": [
    {
     "data": {
      "text/plain": [
       "[120, 210, 144, 120]"
      ]
     },
     "execution_count": 94,
     "metadata": {},
     "output_type": "execute_result"
    }
   ],
   "source": [
    "[opt.get_N(lib, L) for lib in libraries]"
   ]
  },
  {
   "cell_type": "code",
   "execution_count": null,
   "metadata": {},
   "outputs": [],
   "source": []
  }
 ],
 "metadata": {
  "kernelspec": {
   "display_name": "Python [conda env:pyro]",
   "language": "python",
   "name": "conda-env-pyro-py"
  }
 },
 "nbformat": 4,
 "nbformat_minor": 2
}
