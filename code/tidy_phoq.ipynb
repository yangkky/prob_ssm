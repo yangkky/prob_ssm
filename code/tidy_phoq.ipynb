{
 "cells": [
  {
   "cell_type": "code",
   "execution_count": 1,
   "metadata": {},
   "outputs": [],
   "source": [
    "import itertools\n",
    "import pickle\n",
    "\n",
    "import numpy as np\n",
    "import pandas as pd\n",
    "import matplotlib.pyplot as plt\n",
    "import seaborn as sns\n",
    "%matplotlib inline\n",
    "sns.set_style('white')\n",
    "sns.set_context('paper')\n",
    "# Plot adjustments:\n",
    "plt.rcParams.update({'ytick.labelsize': 15})\n",
    "plt.rcParams.update({'xtick.labelsize': 15})\n",
    "plt.rcParams.update({'axes.labelsize': 35})\n",
    "plt.rcParams.update({'legend.fontsize': 30})\n",
    "plt.rcParams.update({'axes.titlesize': 16})\n",
    "\n",
    "from gpmodel import gpmodel, gpkernel, gptools, chimera_tools"
   ]
  },
  {
   "cell_type": "code",
   "execution_count": 2,
   "metadata": {},
   "outputs": [
    {
     "data": {
      "text/html": [
       "<div>\n",
       "<style>\n",
       "    .dataframe thead tr:only-child th {\n",
       "        text-align: right;\n",
       "    }\n",
       "\n",
       "    .dataframe thead th {\n",
       "        text-align: left;\n",
       "    }\n",
       "\n",
       "    .dataframe tbody tr th {\n",
       "        vertical-align: top;\n",
       "    }\n",
       "</style>\n",
       "<table border=\"1\" class=\"dataframe\">\n",
       "  <thead>\n",
       "    <tr style=\"text-align: right;\">\n",
       "      <th></th>\n",
       "      <th>sequence</th>\n",
       "      <th>1</th>\n",
       "      <th>2</th>\n",
       "      <th>3</th>\n",
       "      <th>4</th>\n",
       "    </tr>\n",
       "  </thead>\n",
       "  <tbody>\n",
       "    <tr>\n",
       "      <th>0</th>\n",
       "      <td>CQIP</td>\n",
       "      <td>0.000000</td>\n",
       "      <td>0.000000</td>\n",
       "      <td>0.0</td>\n",
       "      <td>0.00</td>\n",
       "    </tr>\n",
       "    <tr>\n",
       "      <th>1</th>\n",
       "      <td>NM*G</td>\n",
       "      <td>0.000010</td>\n",
       "      <td>0.000010</td>\n",
       "      <td>0.0</td>\n",
       "      <td>0.00</td>\n",
       "    </tr>\n",
       "    <tr>\n",
       "      <th>2</th>\n",
       "      <td>WIPY</td>\n",
       "      <td>0.000010</td>\n",
       "      <td>0.000010</td>\n",
       "      <td>0.0</td>\n",
       "      <td>0.00</td>\n",
       "    </tr>\n",
       "    <tr>\n",
       "      <th>3</th>\n",
       "      <td>SSGD</td>\n",
       "      <td>0.036361</td>\n",
       "      <td>0.094679</td>\n",
       "      <td>0.0</td>\n",
       "      <td>0.25</td>\n",
       "    </tr>\n",
       "    <tr>\n",
       "      <th>4</th>\n",
       "      <td>FGGK</td>\n",
       "      <td>0.000010</td>\n",
       "      <td>0.003922</td>\n",
       "      <td>0.0</td>\n",
       "      <td>0.00</td>\n",
       "    </tr>\n",
       "  </tbody>\n",
       "</table>\n",
       "</div>"
      ],
      "text/plain": [
       "  sequence         1         2    3     4\n",
       "0     CQIP  0.000000  0.000000  0.0  0.00\n",
       "1     NM*G  0.000010  0.000010  0.0  0.00\n",
       "2     WIPY  0.000010  0.000010  0.0  0.00\n",
       "3     SSGD  0.036361  0.094679  0.0  0.25\n",
       "4     FGGK  0.000010  0.003922  0.0  0.00"
      ]
     },
     "execution_count": 2,
     "metadata": {},
     "output_type": "execute_result"
    }
   ],
   "source": [
    "df = pd.read_csv('../inputs/ENRICHMENT_AVERAGE.TXT', delimiter='\\t', header=None)\n",
    "del df[5]\n",
    "df.columns = ['sequence', 1, 2, 3, 4]\n",
    "df.head()"
   ]
  },
  {
   "cell_type": "code",
   "execution_count": 3,
   "metadata": {},
   "outputs": [
    {
     "data": {
      "text/html": [
       "<div>\n",
       "<style>\n",
       "    .dataframe thead tr:only-child th {\n",
       "        text-align: right;\n",
       "    }\n",
       "\n",
       "    .dataframe thead th {\n",
       "        text-align: left;\n",
       "    }\n",
       "\n",
       "    .dataframe tbody tr th {\n",
       "        vertical-align: top;\n",
       "    }\n",
       "</style>\n",
       "<table border=\"1\" class=\"dataframe\">\n",
       "  <thead>\n",
       "    <tr style=\"text-align: right;\">\n",
       "      <th></th>\n",
       "      <th>sequence</th>\n",
       "      <th>1</th>\n",
       "      <th>2</th>\n",
       "      <th>3</th>\n",
       "      <th>4</th>\n",
       "      <th>average</th>\n",
       "    </tr>\n",
       "  </thead>\n",
       "  <tbody>\n",
       "    <tr>\n",
       "      <th>0</th>\n",
       "      <td>CQIP</td>\n",
       "      <td>-5.000000</td>\n",
       "      <td>-5.000000</td>\n",
       "      <td>0.0</td>\n",
       "      <td>0.00</td>\n",
       "      <td>-5.000000</td>\n",
       "    </tr>\n",
       "    <tr>\n",
       "      <th>2</th>\n",
       "      <td>WIPY</td>\n",
       "      <td>-5.000000</td>\n",
       "      <td>-5.000000</td>\n",
       "      <td>0.0</td>\n",
       "      <td>0.00</td>\n",
       "      <td>-5.000000</td>\n",
       "    </tr>\n",
       "    <tr>\n",
       "      <th>3</th>\n",
       "      <td>SSGD</td>\n",
       "      <td>-1.439369</td>\n",
       "      <td>-1.023745</td>\n",
       "      <td>0.0</td>\n",
       "      <td>0.25</td>\n",
       "      <td>-1.231557</td>\n",
       "    </tr>\n",
       "    <tr>\n",
       "      <th>4</th>\n",
       "      <td>FGGK</td>\n",
       "      <td>-5.000000</td>\n",
       "      <td>-2.406437</td>\n",
       "      <td>0.0</td>\n",
       "      <td>0.00</td>\n",
       "      <td>-3.703219</td>\n",
       "    </tr>\n",
       "    <tr>\n",
       "      <th>5</th>\n",
       "      <td>WYIR</td>\n",
       "      <td>-5.000000</td>\n",
       "      <td>-5.000000</td>\n",
       "      <td>0.0</td>\n",
       "      <td>0.00</td>\n",
       "      <td>-5.000000</td>\n",
       "    </tr>\n",
       "  </tbody>\n",
       "</table>\n",
       "</div>"
      ],
      "text/plain": [
       "  sequence         1         2    3     4   average\n",
       "0     CQIP -5.000000 -5.000000  0.0  0.00 -5.000000\n",
       "2     WIPY -5.000000 -5.000000  0.0  0.00 -5.000000\n",
       "3     SSGD -1.439369 -1.023745  0.0  0.25 -1.231557\n",
       "4     FGGK -5.000000 -2.406437  0.0  0.00 -3.703219\n",
       "5     WYIR -5.000000 -5.000000  0.0  0.00 -5.000000"
      ]
     },
     "execution_count": 3,
     "metadata": {},
     "output_type": "execute_result"
    }
   ],
   "source": [
    "keep = ['*' not in sequence for sequence in df.loc[:, 'sequence']]\n",
    "df = df[keep]\n",
    "df[1] = np.log10(np.maximum(1e-5, df[1]))\n",
    "df[2] = np.log10(np.maximum(1e-5, df[2]))\n",
    "df['average'] = np.mean(df.loc[:, [1, 2]], axis=1)\n",
    "df.head()"
   ]
  },
  {
   "cell_type": "code",
   "execution_count": 4,
   "metadata": {},
   "outputs": [],
   "source": [
    "# Find wt sequence AVST\n",
    "# Make overall split with one-hot/tokens\n",
    "# Subsample with two and three-site"
   ]
  },
  {
   "cell_type": "code",
   "execution_count": 5,
   "metadata": {},
   "outputs": [
    {
     "name": "stdout",
     "output_type": "stream",
     "text": [
      "(0, 1) -2.1127284880425825\n",
      "(0, 2) -0.5602594940760849\n",
      "(0, 3) -2.62100536020964\n",
      "(1, 2) -2.2648129216449733\n",
      "(1, 3) -3.9750064679172685\n",
      "(2, 3) -2.446800996982878\n"
     ]
    }
   ],
   "source": [
    "wt = 'AVST'\n",
    "dfs = {}\n",
    "for i, j in itertools.combinations(range(4), 2):\n",
    "    inds = [s[i] == wt[i] and s[j] == wt[j] for s in df['sequence'].values]\n",
    "    dfs[(i, j)] = df[inds]\n",
    "    print((i, j), np.mean(df[inds].average))"
   ]
  },
  {
   "cell_type": "code",
   "execution_count": 6,
   "metadata": {},
   "outputs": [
    {
     "data": {
      "image/png": "[encoded data removed]",
      "text/plain": [
       "<matplotlib.figure.Figure at 0x1044840f0>"
      ]
     },
     "metadata": {},
     "output_type": "display_data"
    }
   ],
   "source": [
    "for i, j in itertools.combinations(range(4), 2):\n",
    "    _ = plt.hist(dfs[(i, j)]['average'], bins=50, alpha=0.5)"
   ]
  },
  {
   "cell_type": "code",
   "execution_count": 7,
   "metadata": {},
   "outputs": [
    {
     "data": {
      "image/png": "[encoded data removed]",
      "text/plain": [
       "<matplotlib.figure.Figure at 0x1a0a893d30>"
      ]
     },
     "metadata": {},
     "output_type": "display_data"
    }
   ],
   "source": [
    "_ = plt.plot(dfs[(0, 2)][1], dfs[(0, 2)][2], '.', alpha=0.5)"
   ]
  },
  {
   "cell_type": "code",
   "execution_count": 8,
   "metadata": {},
   "outputs": [],
   "source": [
    "np.random.seed(20)\n",
    "traintest = np.random.choice(df.index, size=2000, replace=False)\n",
    "train_inds = traintest[:1000]\n",
    "test_inds = traintest[1000:]\n",
    "\n",
    "inds = {'train': train_inds, 'test': test_inds}\n",
    "\n",
    "for i, j in itertools.combinations(range(4), 2):\n",
    "    ind = [s[i] == wt[i] and s[j] == wt[j] for s in df['sequence'].values]\n",
    "    inds[(i, j)] = ind\n",
    "    \n",
    "for i, j, k in itertools.combinations(range(4), 3):\n",
    "    ind = [s[i] == wt[i] and s[j] == wt[j] and s[k] == wt[k] for s in df['sequence'].values]\n",
    "    inds[(i, j, k)] = ind"
   ]
  },
  {
   "cell_type": "code",
   "execution_count": 9,
   "metadata": {},
   "outputs": [],
   "source": [
    "def make_Xs(df):\n",
    "    \"\"\" Make sure df has the index you want for the Xs\"\"\"\n",
    "    contacts = list(itertools.combinations((0, 1, 2, 3), 2))\n",
    "\n",
    "    amino_acids = 'ARNDCQEGHILKMFPSTWYV'\n",
    "\n",
    "    sample_space = [amino_acids for _ in range(len(df.iloc[0]['sequence']))]\n",
    "    seq_terms = chimera_tools.make_sequence_terms(sample_space)\n",
    "    struct_terms = chimera_tools.contacting_terms(sample_space, contacts)\n",
    "    all_terms = seq_terms + struct_terms\n",
    " \n",
    "    seqs = df['sequence'].values\n",
    "    struct_X, _ = chimera_tools.make_contact_X(seqs, None, contacts,\n",
    "                                               contact_terms=struct_terms)\n",
    "    seq_X, _ = chimera_tools.make_sequence_X(seqs, sample_space=sample_space,\n",
    "                                             sequence_terms=seq_terms)\n",
    "    all_X = np.concatenate([seq_X, struct_X], axis=1)\n",
    "    X_dumb = np.zeros((len(df), len(df.iloc[0]['sequence'])))\n",
    "    aa = np.array(sorted(amino_acids))\n",
    "    for i, seq in enumerate(seqs):\n",
    "        for j, s in enumerate(seq):\n",
    "            X_dumb[i, j] = np.argwhere(aa == s).flatten()\n",
    "\n",
    "    return all_X, seq_X, X_dumb\n",
    "\n",
    "_, X, T = make_Xs(df)\n",
    "y = df.loc[:, 'average']"
   ]
  },
  {
   "cell_type": "code",
   "execution_count": 10,
   "metadata": {},
   "outputs": [
    {
     "data": {
      "text/plain": [
       "(160000, 256)"
      ]
     },
     "execution_count": 10,
     "metadata": {},
     "output_type": "execute_result"
    }
   ],
   "source": [
    "df_aa = pd.read_csv('../inputs/aaindex_cosine_64.txt', index_col=0)\n",
    "mus = np.expand_dims(np.mean(df_aa, axis=1).values, 1)\n",
    "var = np.expand_dims(np.std(df_aa, axis=1).values, 1)\n",
    "aa = pd.DataFrame((df_aa.values - mus) / var, index=df_aa.index, columns=df_aa.columns)\n",
    "X_aa = np.array([np.array([aa[s].values for s in seq]).flatten() for seq in df.loc[:, 'sequence'].values])\n",
    "X_aa = pd.DataFrame(X_aa, index=df.index)\n",
    "X_aa.shape"
   ]
  },
  {
   "cell_type": "code",
   "execution_count": 11,
   "metadata": {},
   "outputs": [],
   "source": [
    "with open('../inputs/phoq.pkl', 'wb') as f:\n",
    "    pickle.dump((X, T, X_aa.values, y, inds), f)"
   ]
  },
  {
   "cell_type": "code",
   "execution_count": null,
   "metadata": {},
   "outputs": [],
   "source": []
  }
 ],
 "metadata": {
  "kernelspec": {
   "display_name": "Python [conda env:python36]",
   "language": "python",
   "name": "conda-env-python36-py"
  },
  "language_info": {
   "codemirror_mode": {
    "name": "ipython",
    "version": 3
   },
   "file_extension": ".py",
   "mimetype": "text/x-python",
   "name": "python",
   "nbconvert_exporter": "python",
   "pygments_lexer": "ipython3",
   "version": "3.6.2"
  }
 },
 "nbformat": 4,
 "nbformat_minor": 2
}
