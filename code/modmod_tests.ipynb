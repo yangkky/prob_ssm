{
 "cells": [
  {
   "cell_type": "markdown",
   "metadata": {},
   "source": [
    "Tests for mod_mod algo"
   ]
  },
  {
   "cell_type": "code",
   "execution_count": 15,
   "metadata": {},
   "outputs": [],
   "source": [
    "import torch\n",
    "from torch import distributions as dist\n",
    "\n",
    "import itertools\n",
    "import pickle\n",
    "import importlib\n",
    "\n",
    "import itertools\n",
    "import random\n",
    "import math\n",
    "import numpy as np\n",
    "import pandas as pd\n",
    "import scipy\n",
    "\n",
    "import matplotlib.pyplot as plt\n",
    "import seaborn as sns\n",
    "%matplotlib inline\n",
    "sns.set_style('white')\n",
    "sns.set_context('paper')\n",
    "# Plot adjustments:\n",
    "plt.rcParams.update({'ytick.labelsize': 15})\n",
    "plt.rcParams.update({'xtick.labelsize': 15})\n",
    "plt.rcParams.update({'axes.labelsize': 35})\n",
    "plt.rcParams.update({'legend.fontsize': 30})\n",
    "plt.rcParams.update({'axes.titlesize': 16})\n",
    "\n",
    "from gptorch import kernels, models\n",
    "import helpers, opt, objectives"
   ]
  },
  {
   "cell_type": "code",
   "execution_count": 2,
   "metadata": {},
   "outputs": [],
   "source": [
    "with open('../inputs/phoq.pkl', 'rb') as f:\n",
    "    t = pickle.load(f)\n",
    "\n",
    "X = t[0] # one-hot encoding of X\n",
    "T = t[1] # tokenized encoding of X\n",
    "y = t[3].values"
   ]
  },
  {
   "cell_type": "code",
   "execution_count": 3,
   "metadata": {},
   "outputs": [
    {
     "name": "stdout",
     "output_type": "stream",
     "text": [
      "Iteration 500 of 500\tNLML: 41.3445\tsn: 0.544161\t"
     ]
    }
   ],
   "source": [
    "np.random.seed(1)\n",
    "rand_inds = np.random.choice(len(X), 100, replace=True) # generate random indices for 100 X's to sample from\n",
    "X_train = X[rand_inds]\n",
    "y_train = y[rand_inds]\n",
    "X_test = X\n",
    "y_true = y\n",
    "\n",
    "dic, means = helpers.get_predictions(X_train, y_train, X_test, its=500)"
   ]
  },
  {
   "cell_type": "code",
   "execution_count": 4,
   "metadata": {},
   "outputs": [],
   "source": [
    "aas = 'ARNDCQEGHILKMFPSTWYV'\n",
    "ground = [(aa, i) for aa in aas for i in range(4)]"
   ]
  },
  {
   "cell_type": "code",
   "execution_count": 5,
   "metadata": {},
   "outputs": [],
   "source": [
    "len_X = 35\n",
    "len_center = 5\n",
    "\n",
    "np.random.seed(1)\n",
    "X = np.random.choice(len(ground), len_X, replace=False)\n",
    "X = [ground[x] for x in X]\n",
    "\n",
    "np.random.seed(12)\n",
    "center = np.random.choice(len(ground), len_center, replace=False)\n",
    "center = [ground[c] for c in center]"
   ]
  },
  {
   "cell_type": "code",
   "execution_count": 28,
   "metadata": {},
   "outputs": [
    {
     "data": {
      "text/plain": [
       "[('S', 0), ('A', 1), ('S', 2), ('L', 3)]"
      ]
     },
     "execution_count": 28,
     "metadata": {},
     "output_type": "execute_result"
    }
   ],
   "source": [
    "seed = helpers.get_seed(dic)\n",
    "seed"
   ]
  },
  {
   "cell_type": "code",
   "execution_count": 7,
   "metadata": {},
   "outputs": [],
   "source": [
    "perm = helpers.make_perm(ground, center)"
   ]
  },
  {
   "cell_type": "markdown",
   "metadata": {},
   "source": [
    "#1. Tests for modular upper bound"
   ]
  },
  {
   "cell_type": "code",
   "execution_count": 137,
   "metadata": {},
   "outputs": [],
   "source": [
    "opt = importlib.reload(opt)\n",
    "# Make sure upper bound is indeed upper bound\n",
    "# obj_LHS\n",
    "obj_left = opt.obj_LHS(X, 4, dic)\n",
    "obj_left_upper = opt.mod_upper(X, opt.obj_LHS, center, ground, 4, dic)\n",
    "assert obj_left_upper >= obj_left \n",
    "\n",
    "# obj_RHS\n",
    "obj_right = opt.obj_RHS(X, 4, dic, 100)\n",
    "obj_right_upper = opt.mod_upper(X, opt.obj_RHS, center, ground, 4, dic, 100)\n",
    "assert obj_right_upper >= obj_right\n",
    "\n",
    "# check tightness?"
   ]
  },
  {
   "cell_type": "code",
   "execution_count": 138,
   "metadata": {},
   "outputs": [
    {
     "data": {
      "text/plain": [
       "(tensor(12.9532), tensor(-7.2711))"
      ]
     },
     "execution_count": 138,
     "metadata": {},
     "output_type": "execute_result"
    }
   ],
   "source": [
    "obj_left_upper, obj_left"
   ]
  },
  {
   "cell_type": "code",
   "execution_count": 139,
   "metadata": {},
   "outputs": [],
   "source": [
    "# Make sure modular upper bound is modular\n",
    "opt = importlib.reload(opt)\n",
    "\n",
    "# obj_LHS\n",
    "mod_up1 = torch.stack([opt.mod_upper([x], opt.obj_LHS, center, ground, 4, dic) for x in X]).sum()\n",
    "mod_up1 -= (len(X) - 1) * opt.mod_upper([], opt.obj_LHS, center, ground, 4, dic) # empty set\n",
    "assert np.isclose(np.array(obj_left_upper), np.array(mod_up1))\n",
    "\n",
    "# obj_RHS\n",
    "mod_up2 = torch.stack([opt.mod_upper([x], opt.obj_RHS, center, ground, 4, dic, 100) for x in X]).sum()\n",
    "mod_up2 -= (len(X) - 1) * opt.mod_upper([], opt.obj_RHS, center, ground, 4, dic, 100) # empty set\n",
    "assert np.isclose(np.array(obj_right_upper), np.array(mod_up2))"
   ]
  },
  {
   "cell_type": "code",
   "execution_count": 140,
   "metadata": {},
   "outputs": [],
   "source": [
    "# make sure when X is passed in as center, obj is returned\n",
    "\n",
    "# obj_LHS\n",
    "assert obj_left == opt.mod_upper(X, opt.obj_LHS, X, ground, 4, dic) \n",
    "\n",
    "# obj_RHS\n",
    "assert obj_right == opt.mod_upper(X, opt.obj_RHS, X, ground, 4, dic, 100) "
   ]
  },
  {
   "cell_type": "markdown",
   "metadata": {},
   "source": [
    "#2. Tests for modular lower bound"
   ]
  },
  {
   "cell_type": "code",
   "execution_count": 129,
   "metadata": {},
   "outputs": [],
   "source": [
    "# Make sure lower bound is indeed lower bound\n",
    "opt = importlib.reload(opt)\n",
    "\n",
    "# obj_LHS\n",
    "obj_left_lower = opt.mod_lower(seed, opt.obj_LHS, perm, 4, dic)\n",
    "assert obj_left_lower < obj_left \n",
    "\n",
    "# obj_RHS\n",
    "obj_right_lower = opt.mod_lower(seed, opt.obj_RHS, perm, 4, dic, 100)\n",
    "assert obj_right_lower < obj_right \n",
    "\n",
    "# Make sure modular lower bound is modular\n",
    "opt = importlib.reload(opt)\n",
    "\n",
    "# obj_LHS\n",
    "mod_down1 = torch.stack([opt.mod_lower([x], opt.obj_LHS, perm, 4, dic) for x in seed]).sum()\n",
    "assert np.isclose(np.array(obj_left_lower), np.array(mod_down1))\n",
    "\n",
    "# obj_RHS\n",
    "mod_down2 = torch.stack([opt.mod_lower([x], opt.obj_RHS, perm, 4, dic, 100) for x in seed]).sum()\n",
    "assert np.isclose(np.array(obj_right_lower), np.array(mod_down2))"
   ]
  },
  {
   "cell_type": "code",
   "execution_count": 201,
   "metadata": {
    "scrolled": true
   },
   "outputs": [
    {
     "name": "stdout",
     "output_type": "stream",
     "text": [
      "Iteration 0\t obj = -0.427525\t\n"
     ]
    }
   ],
   "source": [
    "opt = importlib.reload(opt)\n",
    "p = opt.mod_mod(ground, opt.obj_LHS, opt.obj_RHS, seed, \n",
    "                           fn_args=(4, dic), g_args=(4, dic, 100), verbose=True)"
   ]
  },
  {
   "cell_type": "code",
   "execution_count": 216,
   "metadata": {},
   "outputs": [
    {
     "data": {
      "text/plain": [
       "array([35, 55, 15, 70, 64,  1,  2,  3,  4,  5,  6,  7,  8,  9, 10, 11, 12,\n",
       "       13, 14, 16, 17, 18, 19, 20, 21, 22, 23, 24, 25, 26, 27, 28, 29, 30,\n",
       "       31, 32, 33, 34, 36, 37, 38, 39, 40, 41, 42, 43, 44, 45, 46, 47, 48,\n",
       "       49, 50, 51, 52, 53, 54, 56, 57, 58, 59, 60, 61, 62, 63, 64, 65, 66,\n",
       "       67, 68, 69, 71, 72, 73, 74, 75, 76, 77, 78, 79])"
      ]
     },
     "execution_count": 216,
     "metadata": {},
     "output_type": "execute_result"
    }
   ],
   "source": [
    "opt = importlib.reload(opt)\n",
    "p = opt.make_permuted_indices(ground, seed)\n",
    "p[0]"
   ]
  },
  {
   "cell_type": "code",
   "execution_count": 222,
   "metadata": {},
   "outputs": [
    {
     "name": "stdout",
     "output_type": "stream",
     "text": [
      "Iteration 0\t obj = -0.427525\t\n",
      "Iteration 1\t obj = -2.556946\n",
      "Iteration 2\t obj = -4.130598\n",
      "Iteration 3\t obj = -4.971603\n",
      "Iteration 4\t obj = -5.573421\n",
      "Iteration 5\t obj = -6.597044\n",
      "Iteration 6\t obj = -7.283101\n",
      "Iteration 7\t obj = -7.829210\n",
      "Iteration 8\t obj = -8.293918\n",
      "Iteration 9\t obj = -8.500544\n",
      "Iteration 10\t obj = -8.516885\n",
      "Iteration 11\t obj = -8.520318\n",
      "Iteration 12\t obj = -8.580872\n",
      "Iteration 13\t obj = -7.922697\n",
      "Iteration 14\t obj = -8.932904\n",
      "Iteration 15\t obj = -8.633686\n",
      "Iteration 16\t obj = -9.624880\n",
      "Iteration 17\t obj = -10.172570\n",
      "Iteration 18\t obj = -10.291595\n",
      "Iteration 19\t obj = -10.321615\n",
      "Iteration 20\t obj = -10.506092\n",
      "Iteration 21\t obj = -8.205212\n",
      "Iteration 22\t obj = -10.506092\n",
      "Iteration 23\t obj = -8.475809\n",
      "Iteration 24\t obj = -10.506092\n",
      "CPU times: user 2h 26min 33s, sys: 3min 46s, total: 2h 30min 20s\n",
      "Wall time: 2h 30min 50s\n"
     ]
    }
   ],
   "source": [
    "%%time \n",
    "opt = importlib.reload(opt)\n",
    "np.random.seed(10645)\n",
    "\n",
    "lib, obj_lst = opt.mod_mod(ground, opt.obj_LHS, opt.obj_RHS, seed, \n",
    "                           fn_args=(4, dic), g_args=(4, dic, 100), verbose=True)"
   ]
  },
  {
   "cell_type": "code",
   "execution_count": 143,
   "metadata": {},
   "outputs": [
    {
     "data": {
      "text/plain": [
       "60"
      ]
     },
     "execution_count": 143,
     "metadata": {},
     "output_type": "execute_result"
    }
   ],
   "source": [
    "opt.get_N(lib, 4)"
   ]
  },
  {
   "cell_type": "code",
   "execution_count": 24,
   "metadata": {},
   "outputs": [
    {
     "name": "stdout",
     "output_type": "stream",
     "text": [
      "The line_profiler extension is already loaded. To reload it, use:\n",
      "  %reload_ext line_profiler\n",
      "Iteration 0\t obj = -1.606132\t\n",
      "CPU times: user 3min 49s, sys: 7.27 s, total: 3min 56s\n",
      "Wall time: 5min 27s\n"
     ]
    }
   ],
   "source": [
    "%%time\n",
    "%load_ext line_profiler\n",
    "\n",
    "opt = importlib.reload(opt)\n",
    "objectives = importlib.reload(objectives)\n",
    "helpers = importlib.reload(helpers)\n",
    "\n",
    "np.random.seed(10645)\n",
    "\n",
    "%lprun -f opt.mod_lower X_list, obj_list = opt.mod_mod(ground, objectives.obj_LHS, objectives.obj_RHS, seed, fn_args=(4, dic), g_args=(4, dic, 100), verbose=True)"
   ]
  },
  {
   "cell_type": "code",
   "execution_count": 13,
   "metadata": {
    "scrolled": false
   },
   "outputs": [
    {
     "data": {
      "text/plain": [
       "tensor(-1.6061)"
      ]
     },
     "execution_count": 13,
     "metadata": {},
     "output_type": "execute_result"
    }
   ],
   "source": [
    "objectives.obj_LHS(X_list[-1], 4, dic) - objectives.obj_RHS(X_list[-1], 4, dic, 100)"
   ]
  },
  {
   "cell_type": "code",
   "execution_count": 29,
   "metadata": {},
   "outputs": [
    {
     "data": {
      "text/plain": [
       "([('S', 0),\n",
       "  ('A', 1),\n",
       "  ('S', 2),\n",
       "  ('L', 3),\n",
       "  ('I', 2),\n",
       "  ('S', 1),\n",
       "  ('W', 3),\n",
       "  ('C', 2),\n",
       "  ('T', 1),\n",
       "  ('K', 3),\n",
       "  ('S', 3),\n",
       "  ('Y', 3),\n",
       "  ('C', 3),\n",
       "  ('G', 3),\n",
       "  ('I', 3),\n",
       "  ('F', 3)],\n",
       " tensor(-1.6061))"
      ]
     },
     "execution_count": 29,
     "metadata": {},
     "output_type": "execute_result"
    }
   ],
   "source": [
    "objectives = importlib.reload(objectives)\n",
    "opt = importlib.reload(opt)\n",
    "helpers = importlib.reload(helpers)\n",
    "\n",
    "\n",
    "opt.greedy(objectives.objective, seed, obj_args=(4, dic, 100))"
   ]
  },
  {
   "cell_type": "code",
   "execution_count": null,
   "metadata": {},
   "outputs": [],
   "source": []
  },
  {
   "cell_type": "code",
   "execution_count": 224,
   "metadata": {},
   "outputs": [],
   "source": [
    "# Check that cant add or take away anything to increase objective\n",
    "\n",
    "objects = [] # store obj_LHS, obj_RHS, difference btw the two\n",
    "for i in ground:\n",
    "    if i in lib:\n",
    "        X_noi = [x for x in lib if x != i]    \n",
    "        obj_left = opt.obj_LHS(X_noi, 4, dic)\n",
    "        obj_right = opt.obj_RHS(X_noi, 4, dic, 100)\n",
    "        obj = obj_left - obj_right\n",
    "        \n",
    "        objects.append((obj_left, obj_right, obj))\n",
    "    else:        \n",
    "        obj_left = opt.obj_LHS(lib + [i], 4, dic)\n",
    "        obj_right = opt.obj_RHS(lib + [i], 4, dic, 100)\n",
    "        obj = obj_left - obj_right\n",
    "        objects.append((obj_left, obj_right, obj))"
   ]
  },
  {
   "cell_type": "code",
   "execution_count": 227,
   "metadata": {},
   "outputs": [],
   "source": [
    "for obj in objects:\n",
    "    if obj[2] < -10.5061:\n",
    "        print(obj)"
   ]
  },
  {
   "cell_type": "code",
   "execution_count": 30,
   "metadata": {},
   "outputs": [
    {
     "name": "stdout",
     "output_type": "stream",
     "text": [
      "(tensor(-0.4275), tensor(-78.4915), tensor(78.0639))\n",
      "(tensor(-0.6064), tensor(1.00000e-31 *\n",
      "       -4.7839), tensor(-0.6064))\n",
      "--------------------\n",
      "(tensor(-0.4275), tensor(-79.2118), tensor(78.7843))\n",
      "(tensor(-0.7961), tensor(1.00000e-31 *\n",
      "       -6.2798), tensor(-0.7961))\n",
      "--------------------\n",
      "(tensor(-0.4275), tensor(-80.2173), tensor(79.7898))\n",
      "(tensor(-0.4943), tensor(1.00000e-31 *\n",
      "       -3.8995), tensor(-0.4943))\n",
      "--------------------\n",
      "(tensor(-0.4275), tensor(-77.8094), tensor(77.3819))\n",
      "(tensor(-0.4997), tensor(1.00000e-31 *\n",
      "       -3.9422), tensor(-0.4997))\n",
      "--------------------\n",
      "(tensor(-0.4275), tensor(-78.3850), tensor(77.9575))\n",
      "(tensor(-0.4486), tensor(1.00000e-31 *\n",
      "       -3.5385), tensor(-0.4486))\n",
      "--------------------\n",
      "(tensor(-0.4275), tensor(-78.0639), tensor(77.6364))\n",
      "(tensor(-0.6180), tensor(1.00000e-31 *\n",
      "       -4.8753), tensor(-0.6180))\n",
      "--------------------\n",
      "(tensor(-0.4275), tensor(-78.3268), tensor(77.8993))\n",
      "(tensor(-0.5536), tensor(1.00000e-31 *\n",
      "       -4.3671), tensor(-0.5536))\n",
      "--------------------\n",
      "(tensor(-0.4275), tensor(-77.8094), tensor(77.3819))\n",
      "(tensor(-0.5169), tensor(1.00000e-31 *\n",
      "       -4.0774), tensor(-0.5169))\n",
      "--------------------\n",
      "(tensor(-0.4275), tensor(-78.1598), tensor(77.7323))\n",
      "(tensor(-0.4471), tensor(1.00000e-31 *\n",
      "       -3.5272), tensor(-0.4471))\n",
      "--------------------\n",
      "(tensor(-0.4275), tensor(-79.9764), tensor(79.5489))\n",
      "(tensor(-0.6604), tensor(1.00000e-31 *\n",
      "       -5.2096), tensor(-0.6604))\n",
      "--------------------\n",
      "(tensor(-0.4275), tensor(-78.1534), tensor(77.7259))\n",
      "(tensor(-0.4406), tensor(1.00000e-31 *\n",
      "       -3.4759), tensor(-0.4406))\n",
      "--------------------\n",
      "(tensor(-0.4275), tensor(-78.2436), tensor(77.8161))\n",
      "(tensor(-0.4614), tensor(1.00000e-31 *\n",
      "       -3.6401), tensor(-0.4614))\n",
      "--------------------\n",
      "(tensor(-0.4275), tensor(-77.8094), tensor(77.3819))\n",
      "(tensor(-0.4618), tensor(1.00000e-31 *\n",
      "       -3.6430), tensor(-0.4618))\n",
      "--------------------\n",
      "(tensor(-0.4275), tensor(-78.7353), tensor(78.3078))\n",
      "(tensor(-0.6781), tensor(1.00000e-31 *\n",
      "       -5.3492), tensor(-0.6781))\n",
      "--------------------\n",
      "(tensor(-0.4275), tensor(-77.8094), tensor(77.3819))\n",
      "(tensor(-0.4743), tensor(1.00000e-31 *\n",
      "       -3.7414), tensor(-0.4743))\n",
      "--------------------\n",
      "(tensor(-0.4275), tensor(-78.0878), tensor(77.6603))\n",
      "(tensor(-0.4545), tensor(1.00000e-31 *\n",
      "       -3.5853), tensor(-0.4545))\n",
      "--------------------\n",
      "(tensor(-0.4275), tensor(-77.8317), tensor(77.4042))\n",
      "(tensor(-0.5806), tensor(1.00000e-31 *\n",
      "       -4.5805), tensor(-0.5806))\n",
      "--------------------\n",
      "(tensor(-0.4275), tensor(-78.2110), tensor(77.7835))\n",
      "(tensor(-0.5066), tensor(1.00000e-31 *\n",
      "       -3.9961), tensor(-0.5066))\n",
      "--------------------\n",
      "(tensor(-0.4275), tensor(-89.9700), tensor(89.5425))\n",
      "(tensor(-0.7548), tensor(1.00000e-31 *\n",
      "       -5.9545), tensor(-0.7548))\n",
      "--------------------\n",
      "(tensor(-0.4275), tensor(-77.8475), tensor(77.4200))\n",
      "(tensor(-0.6257), tensor(1.00000e-31 *\n",
      "       -4.9357), tensor(-0.6257))\n",
      "--------------------\n",
      "(tensor(-0.4275), tensor(-78.7452), tensor(78.3177))\n",
      "(tensor(-0.5824), tensor(1.00000e-31 *\n",
      "       -4.5945), tensor(-0.5824))\n",
      "--------------------\n",
      "(tensor(-0.4275), tensor(-78.6890), tensor(78.2614))\n",
      "(tensor(-0.7200), tensor(1.00000e-31 *\n",
      "       -5.6801), tensor(-0.7200))\n",
      "--------------------\n",
      "(tensor(-0.4275), tensor(-79.1093), tensor(78.6818))\n",
      "(tensor(-0.4801), tensor(1.00000e-31 *\n",
      "       -3.7871), tensor(-0.4801))\n",
      "--------------------\n",
      "(tensor(-0.4275), tensor(-85.8055), tensor(85.3779))\n",
      "(tensor(-0.5411), tensor(1.00000e-31 *\n",
      "       -4.2685), tensor(-0.5411))\n",
      "--------------------\n",
      "(tensor(-0.4275), tensor(-77.8215), tensor(77.3939))\n",
      "(tensor(-0.4488), tensor(1.00000e-31 *\n",
      "       -3.5407), tensor(-0.4488))\n",
      "--------------------\n",
      "(tensor(-0.4275), tensor(-79.0309), tensor(78.6034))\n",
      "(tensor(-0.4970), tensor(1.00000e-31 *\n",
      "       -3.9207), tensor(-0.4970))\n",
      "--------------------\n",
      "(tensor(-0.4275), tensor(-77.8504), tensor(77.4229))\n",
      "(tensor(-0.5223), tensor(1.00000e-31 *\n",
      "       -4.1200), tensor(-0.5223))\n",
      "--------------------\n",
      "(tensor(-0.4275), tensor(-78.1342), tensor(77.7067))\n",
      "(tensor(-0.5313), tensor(1.00000e-31 *\n",
      "       -4.1909), tensor(-0.5313))\n",
      "--------------------\n",
      "(tensor(-0.4275), tensor(-82.0120), tensor(81.5845))\n",
      "(tensor(-0.5031), tensor(1.00000e-31 *\n",
      "       -3.9688), tensor(-0.5031))\n",
      "--------------------\n",
      "(tensor(-0.4275), tensor(-81.1100), tensor(80.6825))\n",
      "(tensor(-0.6563), tensor(1.00000e-31 *\n",
      "       -5.1769), tensor(-0.6563))\n",
      "--------------------\n",
      "(tensor(-0.4275), tensor(-85.1530), tensor(84.7255))\n",
      "(tensor(-0.5767), tensor(1.00000e-31 *\n",
      "       -4.5493), tensor(-0.5767))\n",
      "--------------------\n",
      "(tensor(-0.4275), tensor(-83.7900), tensor(83.3624))\n",
      "(tensor(-0.6127), tensor(1.00000e-31 *\n",
      "       -4.8335), tensor(-0.6127))\n",
      "--------------------\n",
      "(tensor(-0.4275), tensor(-77.8414), tensor(77.4138))\n",
      "(tensor(-0.4349), tensor(1.00000e-31 *\n",
      "       -3.4304), tensor(-0.4349))\n",
      "--------------------\n",
      "(tensor(-0.4275), tensor(-80.3879), tensor(79.9603))\n",
      "(tensor(-0.6115), tensor(1.00000e-31 *\n",
      "       -4.8239), tensor(-0.6115))\n",
      "--------------------\n",
      "(tensor(-0.4275), tensor(-77.8265), tensor(77.3989))\n",
      "(tensor(-0.4486), tensor(1.00000e-31 *\n",
      "       -3.5392), tensor(-0.4486))\n",
      "--------------------\n",
      "(tensor(-0.4275), tensor(-77.8283), tensor(77.4007))\n",
      "(tensor(-0.5251), tensor(1.00000e-31 *\n",
      "       -4.1419), tensor(-0.5251))\n",
      "--------------------\n",
      "(tensor(-0.4275), tensor(-78.3316), tensor(77.9041))\n",
      "(tensor(-0.5314), tensor(1.00000e-31 *\n",
      "       -4.1919), tensor(-0.5314))\n",
      "--------------------\n",
      "(tensor(-0.4275), tensor(-78.3283), tensor(77.9008))\n",
      "(tensor(-0.6750), tensor(1.00000e-31 *\n",
      "       -5.3247), tensor(-0.6750))\n",
      "--------------------\n",
      "(tensor(-0.4275), tensor(-98.9556), tensor(98.5281))\n",
      "(tensor(-0.7328), tensor(1.00000e-31 *\n",
      "       -5.7807), tensor(-0.7328))\n",
      "--------------------\n",
      "(tensor(-0.4275), tensor(-80.0382), tensor(79.6107))\n",
      "(tensor(-0.5448), tensor(1.00000e-31 *\n",
      "       -4.2977), tensor(-0.5448))\n",
      "--------------------\n",
      "(tensor(-0.4275), tensor(-84.1947), tensor(83.7671))\n",
      "(tensor(-0.4957), tensor(1.00000e-31 *\n",
      "       -3.9103), tensor(-0.4957))\n",
      "--------------------\n",
      "(tensor(-0.4275), tensor(-79.0439), tensor(78.6164))\n",
      "(tensor(-0.6246), tensor(1.00000e-31 *\n",
      "       -4.9271), tensor(-0.6246))\n",
      "--------------------\n",
      "(tensor(-0.4275), tensor(-77.8094), tensor(77.3819))\n",
      "(tensor(-0.5703), tensor(1.00000e-31 *\n",
      "       -4.4988), tensor(-0.5703))\n",
      "--------------------\n",
      "(tensor(0.), tensor(-77.8094), tensor(77.8094))\n",
      "(tensor(0.), tensor(0.), tensor(0.))\n",
      "--------------------\n",
      "(tensor(-0.4275), tensor(-77.8228), tensor(77.3952))\n",
      "(tensor(-0.4674), tensor(1.00000e-31 *\n",
      "       -3.6868), tensor(-0.4674))\n",
      "--------------------\n",
      "(tensor(-0.4275), tensor(-77.8094), tensor(77.3819))\n",
      "(tensor(-0.5360), tensor(1.00000e-31 *\n",
      "       -4.2279), tensor(-0.5360))\n",
      "--------------------\n",
      "(tensor(-0.4275), tensor(-78.0672), tensor(77.6397))\n",
      "(tensor(-0.4543), tensor(1.00000e-31 *\n",
      "       -3.5841), tensor(-0.4543))\n",
      "--------------------\n",
      "(tensor(-0.4275), tensor(-81.7475), tensor(81.3200))\n",
      "(tensor(-0.6387), tensor(1.00000e-31 *\n",
      "       -5.0385), tensor(-0.6387))\n",
      "--------------------\n",
      "(tensor(-0.4275), tensor(-79.3274), tensor(78.8999))\n",
      "(tensor(-0.4645), tensor(1.00000e-31 *\n",
      "       -3.6639), tensor(-0.4645))\n",
      "--------------------\n",
      "(tensor(-0.4275), tensor(-78.1263), tensor(77.6988))\n",
      "(tensor(-0.5716), tensor(1.00000e-31 *\n",
      "       -4.5094), tensor(-0.5716))\n",
      "--------------------\n",
      "(tensor(-0.4275), tensor(-79.4633), tensor(79.0357))\n",
      "(tensor(-0.4975), tensor(1.00000e-31 *\n",
      "       -3.9249), tensor(-0.4975))\n",
      "--------------------\n",
      "(tensor(-0.4275), tensor(-77.8186), tensor(77.3911))\n",
      "(tensor(-0.4592), tensor(1.00000e-31 *\n",
      "       -3.6221), tensor(-0.4592))\n",
      "--------------------\n",
      "(tensor(-0.4275), tensor(-79.8008), tensor(79.3733))\n",
      "(tensor(-0.4749), tensor(1.00000e-31 *\n",
      "       -3.7460), tensor(-0.4749))\n",
      "--------------------\n",
      "(tensor(-0.4275), tensor(-78.6689), tensor(78.2414))\n",
      "(tensor(-0.5427), tensor(1.00000e-31 *\n",
      "       -4.2815), tensor(-0.5427))\n",
      "--------------------\n",
      "(tensor(-0.4275), tensor(-77.8270), tensor(77.3995))\n",
      "(tensor(-0.4764), tensor(1.00000e-31 *\n",
      "       -3.7585), tensor(-0.4764))\n",
      "--------------------\n",
      "(tensor(-0.4275), tensor(-80.5551), tensor(80.1276))\n",
      "(tensor(-0.5574), tensor(1.00000e-31 *\n",
      "       -4.3968), tensor(-0.5574))\n",
      "--------------------\n",
      "(tensor(-0.4275), tensor(-77.8094), tensor(77.3819))\n",
      "(tensor(-0.4611), tensor(1.00000e-31 *\n",
      "       -3.6377), tensor(-0.4611))\n",
      "--------------------\n",
      "(tensor(-0.4275), tensor(-80.9836), tensor(80.5561))\n",
      "(tensor(-0.5882), tensor(1.00000e-31 *\n",
      "       -4.6404), tensor(-0.5882))\n",
      "--------------------\n",
      "(tensor(-0.4275), tensor(-78.6828), tensor(78.2553))\n",
      "(tensor(-0.4906), tensor(1.00000e-31 *\n",
      "       -3.8700), tensor(-0.4906))\n",
      "--------------------\n",
      "(tensor(-0.4275), tensor(-79.4865), tensor(79.0590))\n",
      "(tensor(-0.4624), tensor(1.00000e-31 *\n",
      "       -3.6478), tensor(-0.4624))\n",
      "--------------------\n",
      "(tensor(0.), tensor(-77.8088), tensor(77.8088))\n",
      "(tensor(0.), tensor(0.), tensor(0.))\n",
      "--------------------\n",
      "(tensor(0.), tensor(-57.8593), tensor(57.8593))\n",
      "(tensor(0.), tensor(0.), tensor(0.))\n",
      "--------------------\n",
      "(tensor(0.), tensor(-19.9507), tensor(19.9507))\n",
      "(tensor(0.), tensor(0.), tensor(0.))\n",
      "--------------------\n",
      "(tensor(-0.4275), tensor(-77.8505), tensor(77.4230))\n",
      "(tensor(-0.6178), tensor(1.00000e-31 *\n",
      "       -4.8733), tensor(-0.6178))\n",
      "--------------------\n",
      "(tensor(-0.4275), tensor(-87.6242), tensor(87.1966))\n",
      "(tensor(-0.5612), tensor(1.00000e-31 *\n",
      "       -4.4272), tensor(-0.5612))\n",
      "--------------------\n",
      "(tensor(-0.4275), tensor(-78.5280), tensor(78.1005))\n",
      "(tensor(-0.8077), tensor(1.00000e-31 *\n",
      "       -6.3714), tensor(-0.8077))\n",
      "--------------------\n",
      "(tensor(-0.4275), tensor(-78.0293), tensor(77.6018))\n",
      "(tensor(-0.4397), tensor(1.00000e-31 *\n",
      "       -3.4688), tensor(-0.4397))\n",
      "--------------------\n",
      "(tensor(-0.4275), tensor(-78.1303), tensor(77.7027))\n",
      "(tensor(-0.5100), tensor(1.00000e-31 *\n",
      "       -4.0234), tensor(-0.5100))\n",
      "--------------------\n",
      "(tensor(-0.4275), tensor(-78.3603), tensor(77.9328))\n",
      "(tensor(-0.4448), tensor(1.00000e-31 *\n",
      "       -3.5089), tensor(-0.4448))\n",
      "--------------------\n",
      "(tensor(-0.4275), tensor(-77.8213), tensor(77.3938))\n",
      "(tensor(-0.5712), tensor(1.00000e-31 *\n",
      "       -4.5058), tensor(-0.5712))\n",
      "--------------------\n",
      "(tensor(-0.4275), tensor(-82.3642), tensor(81.9367))\n",
      "(tensor(-0.6204), tensor(1.00000e-31 *\n",
      "       -4.8942), tensor(-0.6204))\n",
      "--------------------\n",
      "(tensor(-0.4275), tensor(-87.5675), tensor(87.1399))\n",
      "(tensor(-0.6925), tensor(1.00000e-31 *\n",
      "       -5.4629), tensor(-0.6925))\n",
      "--------------------\n",
      "(tensor(-0.4275), tensor(-79.0456), tensor(78.6180))\n",
      "(tensor(-0.4468), tensor(1.00000e-31 *\n",
      "       -3.5244), tensor(-0.4468))\n",
      "--------------------\n",
      "(tensor(-0.4275), tensor(-79.7480), tensor(79.3205))\n",
      "(tensor(-0.4927), tensor(1.00000e-31 *\n",
      "       -3.8870), tensor(-0.4927))\n",
      "--------------------\n",
      "(tensor(-0.4275), tensor(-79.9680), tensor(79.5405))\n",
      "(tensor(-0.4868), tensor(1.00000e-31 *\n",
      "       -3.8401), tensor(-0.4868))\n",
      "--------------------\n",
      "(tensor(-0.4275), tensor(-80.5579), tensor(80.1304))\n",
      "(tensor(-0.5888), tensor(1.00000e-31 *\n",
      "       -4.6449), tensor(-0.5888))\n",
      "--------------------\n",
      "(tensor(-0.4275), tensor(-77.9864), tensor(77.5588))\n",
      "(tensor(-0.4838), tensor(1.00000e-31 *\n",
      "       -3.8169), tensor(-0.4838))\n",
      "--------------------\n",
      "(tensor(-0.4275), tensor(-78.1043), tensor(77.6768))\n",
      "(tensor(-0.4991), tensor(1.00000e-31 *\n",
      "       -3.9372), tensor(-0.4991))\n",
      "--------------------\n",
      "(tensor(-0.4275), tensor(-78.5514), tensor(78.1239))\n",
      "(tensor(-0.4760), tensor(1.00000e-31 *\n",
      "       -3.7548), tensor(-0.4760))\n",
      "--------------------\n",
      "(tensor(-0.4275), tensor(-77.8094), tensor(77.3819))\n",
      "(tensor(-0.5430), tensor(1.00000e-31 *\n",
      "       -4.2839), tensor(-0.5430))\n",
      "--------------------\n"
     ]
    }
   ],
   "source": [
    "for mod, obj in zip(mod_bounds, objects):\n",
    "    print(mod)\n",
    "    print(obj)\n",
    "    print(\"--------------------\")"
   ]
  },
  {
   "cell_type": "code",
   "execution_count": 20,
   "metadata": {},
   "outputs": [
    {
     "data": {
      "text/plain": [
       "35"
      ]
     },
     "execution_count": 20,
     "metadata": {},
     "output_type": "execute_result"
    }
   ],
   "source": [
    "len(X)"
   ]
  },
  {
   "cell_type": "code",
   "execution_count": null,
   "metadata": {},
   "outputs": [],
   "source": []
  }
 ],
 "metadata": {
  "kernelspec": {
   "display_name": "pyro_py36",
   "language": "python",
   "name": "pyro"
  },
  "language_info": {
   "codemirror_mode": {
    "name": "ipython",
    "version": 3
   },
   "file_extension": ".py",
   "mimetype": "text/x-python",
   "name": "python",
   "nbconvert_exporter": "python",
   "pygments_lexer": "ipython3",
   "version": "3.6.5"
  }
 },
 "nbformat": 4,
 "nbformat_minor": 2
}
