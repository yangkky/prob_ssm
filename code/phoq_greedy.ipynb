{
 "cells": [
  {
   "cell_type": "markdown",
   "metadata": {},
   "source": [
    "Implements algorithm 3 (ModMod) from Algorithms for \"Approx Min of the Difference Between Submodular Fncs with Applications.\"\n",
    "\n",
    "For prob_ssm"
   ]
  },
  {
   "cell_type": "code",
   "execution_count": 1,
   "metadata": {},
   "outputs": [],
   "source": [
    "import torch\n",
    "from torch import distributions as dist\n",
    "\n",
    "import itertools\n",
    "import pickle\n",
    "import operator\n",
    "import importlib\n",
    "\n",
    "import random\n",
    "import math\n",
    "import numpy as np\n",
    "import pandas as pd\n",
    "import scipy\n",
    "\n",
    "import matplotlib.pyplot as plt\n",
    "import seaborn as sns\n",
    "%matplotlib inline\n",
    "sns.set_style('white')\n",
    "sns.set_context('paper')\n",
    "# Plot adjustments:\n",
    "plt.rcParams.update({'ytick.labelsize': 25})\n",
    "plt.rcParams.update({'xtick.labelsize': 25})\n",
    "plt.rcParams.update({'axes.labelsize': 35})\n",
    "plt.rcParams.update({'legend.fontsize': 30})\n",
    "plt.rcParams.update({'axes.titlesize': 16})\n",
    "\n",
    "from gptorch import kernels, models\n",
    "\n",
    "import helpers, opt, bases"
   ]
  },
  {
   "cell_type": "code",
   "execution_count": 2,
   "metadata": {},
   "outputs": [],
   "source": [
    "with open('../inputs/phoq.pkl', 'rb') as f:\n",
    "    t = pickle.load(f)\n",
    "\n",
    "X = t[0] # one-hot encoding of X\n",
    "T = t[1] # tokenized encoding of X\n",
    "A = t[2]\n",
    "y = t[3].values"
   ]
  },
  {
   "cell_type": "code",
   "execution_count": 3,
   "metadata": {},
   "outputs": [],
   "source": [
    "wt = helpers.decode_X(X[150614])  # wt as string\n",
    "aas = 'ARNDCQEGHILKMFPSTWYV'"
   ]
  },
  {
   "cell_type": "code",
   "execution_count": 4,
   "metadata": {},
   "outputs": [],
   "source": [
    "seq_to_x = {}\n",
    "for i, x in enumerate(X):\n",
    "    seq = helpers.decode_X(x)\n",
    "    seq_to_x[seq] = i"
   ]
  },
  {
   "cell_type": "code",
   "execution_count": 51,
   "metadata": {},
   "outputs": [],
   "source": [
    "singles = [wt[:i] + aas[j] + wt[i+1:] for i in range(4) for j in range(20)]\n",
    "train_seqs = [wt] + singles\n",
    "train_inds = [seq_to_x[seq] for seq in train_seqs]\n",
    "np.random.seed(10120)\n",
    "train_inds += list(np.random.choice(len(X), 100, replace=True)) # generate random indices for 100 X's to sample from\n",
    "\n",
    "X_train = X[train_inds]\n",
    "y_train = y[train_inds]\n",
    "X_test = X\n",
    "y_true = y\n",
    "\n",
    "A_train = A[train_inds]\n",
    "A_test = A"
   ]
  },
  {
   "cell_type": "code",
   "execution_count": 6,
   "metadata": {},
   "outputs": [],
   "source": [
    "ground = [(aa, i) for aa in aas for i in range(4)]"
   ]
  },
  {
   "cell_type": "code",
   "execution_count": 7,
   "metadata": {},
   "outputs": [],
   "source": [
    "def seqs_from_set(chosen, L):\n",
    "    pos = [[c[0] for c in chosen if c[1] == p] for p in range(L)]\n",
    "    return [''.join(s) for s in itertools.product(*pos)]"
   ]
  },
  {
   "cell_type": "code",
   "execution_count": 52,
   "metadata": {
    "scrolled": true
   },
   "outputs": [
    {
     "name": "stdout",
     "output_type": "stream",
     "text": [
      "Round 0\n",
      "177\n",
      "Iteration 2000 of 2000\tNLML: 61.3165\tsn: 0.244621\t\n",
      "Round 1\n",
      "248\n",
      "Iteration 2000 of 2000\tNLML: -6.3155\tsn: 0.103480\t\n",
      "Round 2\n",
      "328\n",
      "Iteration 2000 of 2000\tNLML: 20.9504\tsn: 0.459492\t\n",
      "Round 3\n",
      "389\n",
      "Iteration 2000 of 2000\tNLML: -23.1965\tsn: 0.307498\t\n"
     ]
    }
   ],
   "source": [
    "helpers = importlib.reload(helpers)\n",
    "opt = importlib.reload(opt)\n",
    "\n",
    "n_start = 35\n",
    "max_its = 30\n",
    "rounds = 4\n",
    "L = 4\n",
    "n = 100\n",
    "\n",
    "observed_inds = [train_inds]\n",
    "X_sampled = [A[train_inds]]\n",
    "y_sampled = [y[train_inds]]\n",
    "\n",
    "\n",
    "\n",
    "libraries = []\n",
    "histories = []\n",
    "\n",
    "for rou in range(rounds):\n",
    "    print('Round %d' %rou)\n",
    "    inds = sorted(set(itertools.chain(*observed_inds)))\n",
    "    print(len(inds))\n",
    "    dic, _ = helpers.get_predictions(A[inds], y[inds], A_test, one_hots=X_test, its=2000)\n",
    "    seen_seqs = [helpers.decode_X(X[i]) for i in inds]\n",
    "    for s in seen_seqs:\n",
    "        dic[s] = 0.0\n",
    "    print()\n",
    "    seed = helpers.get_seed(dic)\n",
    "    chosen, obj = bases.greedy(dic, seed, n, L)\n",
    "    libraries.append(chosen)\n",
    "    histories.append(obj)\n",
    "    seqs = seqs_from_set(chosen, L)\n",
    "    inds = np.random.choice(len(seqs), n, replace=True)\n",
    "    sampled_seqs = [seqs[i] for i in inds]\n",
    "    inds = [seq_to_x[s] for s in sampled_seqs]\n",
    "    X_sampled.append(A[inds])\n",
    "    y_sampled.append(y[inds])\n",
    "    observed_inds.append(inds)\n",
    "    \n",
    "    "
   ]
  },
  {
   "cell_type": "code",
   "execution_count": 53,
   "metadata": {},
   "outputs": [
    {
     "data": {
      "text/plain": [
       "[[('S', 0),\n",
       "  ('S', 1),\n",
       "  ('S', 2),\n",
       "  ('S', 3),\n",
       "  ('A', 0),\n",
       "  ('A', 1),\n",
       "  ('Q', 3),\n",
       "  ('R', 2),\n",
       "  ('A', 3),\n",
       "  ('T', 1),\n",
       "  ('G', 1),\n",
       "  ('C', 3),\n",
       "  ('Q', 1),\n",
       "  ('N', 1),\n",
       "  ('K', 1),\n",
       "  ('H', 1),\n",
       "  ('D', 1),\n",
       "  ('T', 3)],\n",
       " [('S', 0),\n",
       "  ('S', 1),\n",
       "  ('R', 2),\n",
       "  ('S', 3),\n",
       "  ('K', 1),\n",
       "  ('Q', 3),\n",
       "  ('G', 0),\n",
       "  ('T', 1),\n",
       "  ('I', 3),\n",
       "  ('T', 0),\n",
       "  ('A', 1),\n",
       "  ('A', 3),\n",
       "  ('G', 1),\n",
       "  ('L', 3),\n",
       "  ('A', 0),\n",
       "  ('F', 1),\n",
       "  ('H', 3),\n",
       "  ('V', 3),\n",
       "  ('K', 3),\n",
       "  ('R', 1)],\n",
       " [('S', 0),\n",
       "  ('S', 1),\n",
       "  ('R', 2),\n",
       "  ('A', 3),\n",
       "  ('S', 3),\n",
       "  ('R', 1),\n",
       "  ('Q', 3),\n",
       "  ('A', 0),\n",
       "  ('T', 1),\n",
       "  ('M', 3),\n",
       "  ('T', 0),\n",
       "  ('G', 3),\n",
       "  ('D', 1),\n",
       "  ('G', 1),\n",
       "  ('L', 3),\n",
       "  ('I', 3),\n",
       "  ('Q', 1),\n",
       "  ('E', 3)],\n",
       " [('S', 0),\n",
       "  ('S', 1),\n",
       "  ('R', 2),\n",
       "  ('S', 3),\n",
       "  ('D', 3),\n",
       "  ('T', 0),\n",
       "  ('A', 1),\n",
       "  ('I', 3),\n",
       "  ('S', 2),\n",
       "  ('D', 1),\n",
       "  ('E', 3),\n",
       "  ('G', 3),\n",
       "  ('G', 1),\n",
       "  ('A', 0),\n",
       "  ('N', 3),\n",
       "  ('P', 3),\n",
       "  ('R', 1),\n",
       "  ('K', 3)]]"
      ]
     },
     "execution_count": 53,
     "metadata": {},
     "output_type": "execute_result"
    }
   ],
   "source": [
    "libraries"
   ]
  },
  {
   "cell_type": "code",
   "execution_count": 54,
   "metadata": {},
   "outputs": [
    {
     "data": {
      "text/plain": [
       "[tensor(-7.8042), tensor(-14.3043), tensor(-8.5126), tensor(-7.7306)]"
      ]
     },
     "execution_count": 54,
     "metadata": {},
     "output_type": "execute_result"
    }
   ],
   "source": [
    "histories"
   ]
  },
  {
   "cell_type": "code",
   "execution_count": 57,
   "metadata": {
    "scrolled": true
   },
   "outputs": [
    {
     "data": {
      "image/png": "[encoded data removed]",
      "text/plain": [
       "<Figure size 432x288 with 1 Axes>"
      ]
     },
     "metadata": {},
     "output_type": "display_data"
    }
   ],
   "source": [
    "df = pd.DataFrame(np.exp(np.concatenate(y_sampled)), columns=['y'])\n",
    "df['round'] = [0] * (100 + 81) + [1] * n + [2] * n + [3] * n + [4] * n\n",
    "_ = sns.swarmplot(data=df, x='round', y='y')"
   ]
  },
  {
   "cell_type": "code",
   "execution_count": 56,
   "metadata": {},
   "outputs": [
    {
     "data": {
      "text/plain": [
       "[1.2350148061910993,\n",
       " 1.3570964380647161,\n",
       " 1.4445990461327103,\n",
       " 1.5045527618961398,\n",
       " 1.358350375525943]"
      ]
     },
     "execution_count": 56,
     "metadata": {},
     "output_type": "execute_result"
    }
   ],
   "source": [
    "[max(yy) for yy in y_sampled]"
   ]
  },
  {
   "cell_type": "code",
   "execution_count": 50,
   "metadata": {},
   "outputs": [
    {
     "data": {
      "text/plain": [
       "[140, 192, 160, 196]"
      ]
     },
     "execution_count": 50,
     "metadata": {},
     "output_type": "execute_result"
    }
   ],
   "source": [
    "[opt.get_N(lib, L) for lib in libraries]"
   ]
  },
  {
   "cell_type": "code",
   "execution_count": 21,
   "metadata": {},
   "outputs": [],
   "source": [
    "df.to_csv('../outputs/greedy_phoq.txt', index=False)"
   ]
  },
  {
   "cell_type": "code",
   "execution_count": null,
   "metadata": {},
   "outputs": [],
   "source": []
  }
 ],
 "metadata": {
  "kernelspec": {
   "display_name": "Python [conda env:pyro]",
   "language": "python",
   "name": "conda-env-pyro-py"
  },
  "language_info": {
   "codemirror_mode": {
    "name": "ipython",
    "version": 3
   },
   "file_extension": ".py",
   "mimetype": "text/x-python",
   "name": "python",
   "nbconvert_exporter": "python",
   "pygments_lexer": "ipython3",
   "version": "3.6.5"
  }
 },
 "nbformat": 4,
 "nbformat_minor": 2
}
