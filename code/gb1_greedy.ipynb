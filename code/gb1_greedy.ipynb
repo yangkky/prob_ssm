{
 "cells": [
  {
   "cell_type": "markdown",
   "metadata": {},
   "source": [
    "Runs Greedy optimization of objective using GB1 dataset."
   ]
  },
  {
   "cell_type": "code",
   "execution_count": 1,
   "metadata": {},
   "outputs": [],
   "source": [
    "import torch\n",
    "from torch import distributions as dist\n",
    "\n",
    "import itertools\n",
    "import pickle\n",
    "import operator\n",
    "import importlib\n",
    "\n",
    "import random\n",
    "import math\n",
    "import numpy as np\n",
    "import pandas as pd\n",
    "import scipy\n",
    "\n",
    "import matplotlib.pyplot as plt\n",
    "import seaborn as sns\n",
    "%matplotlib inline\n",
    "sns.set_style('white')\n",
    "sns.set_context('paper')\n",
    "# Plot adjustments:\n",
    "plt.rcParams.update({'ytick.labelsize': 25})\n",
    "plt.rcParams.update({'xtick.labelsize': 25})\n",
    "plt.rcParams.update({'axes.labelsize': 35})\n",
    "plt.rcParams.update({'legend.fontsize': 30})\n",
    "plt.rcParams.update({'axes.titlesize': 16})\n",
    "\n",
    "from gptorch import kernels, models\n",
    "\n",
    "import helpers, opt, bases"
   ]
  },
  {
   "cell_type": "code",
   "execution_count": 2,
   "metadata": {},
   "outputs": [],
   "source": [
    "with open('../inputs/GB1.pkl', 'rb') as f:\n",
    "    t = pickle.load(f)\n",
    "\n",
    "X = t[0] # one-hot encoding of X\n",
    "T = t[1] # tokenized encoding of X\n",
    "A = t[2]\n",
    "y = t[3].values"
   ]
  },
  {
   "cell_type": "code",
   "execution_count": 3,
   "metadata": {},
   "outputs": [],
   "source": [
    "wt = \"VDGV\"  # wt as string\n",
    "aas = 'ARNDCQEGHILKMFPSTWYV'"
   ]
  },
  {
   "cell_type": "code",
   "execution_count": 4,
   "metadata": {},
   "outputs": [],
   "source": [
    "seq_to_x = {}\n",
    "for i, x in enumerate(X):\n",
    "    seq = helpers.decode_X(x)\n",
    "    seq_to_x[seq] = i"
   ]
  },
  {
   "cell_type": "code",
   "execution_count": 26,
   "metadata": {},
   "outputs": [],
   "source": [
    "singles = [wt[:i] + aas[j] + wt[i+1:] for i in range(4) for j in range(20)]\n",
    "train_seqs = singles\n",
    "wt_inds = [seq_to_x[wt]]\n",
    "train_inds = wt_inds + [seq_to_x[seq] for seq in train_seqs]\n",
    "np.random.seed(120120)\n",
    "train_inds = wt_inds + list(np.random.choice(len(X), 100, replace=True))\n",
    "\n",
    "X_train = X[train_inds]\n",
    "y_train = y[train_inds]\n",
    "X_test = X\n",
    "y_true = y\n",
    "\n",
    "A_train = A[train_inds]\n",
    "A_test = A"
   ]
  },
  {
   "cell_type": "code",
   "execution_count": 27,
   "metadata": {},
   "outputs": [],
   "source": [
    "ground = [(aa, i) for aa in aas for i in range(4)]"
   ]
  },
  {
   "cell_type": "code",
   "execution_count": 37,
   "metadata": {
    "scrolled": true
   },
   "outputs": [
    {
     "name": "stdout",
     "output_type": "stream",
     "text": [
      "Round 0\n",
      "101\n",
      "Iteration 2000 of 2000\tNLML: 49.0147\tsn: 0.199854\t\n",
      "Round 1\n",
      "200\n",
      "Iteration 2000 of 2000\tNLML: 79.5225\tsn: 0.176414\t\n",
      "Round 2\n",
      "268\n",
      "Iteration 2000 of 2000\tNLML: 64.5932\tsn: 0.085434\t\n",
      "Round 3\n",
      "343\n",
      "Iteration 2000 of 2000\tNLML: 3.8045\tsn: 0.041321\t\t\n"
     ]
    }
   ],
   "source": [
    "helpers = importlib.reload(helpers)\n",
    "opt = importlib.reload(opt)\n",
    "bases = importlib.reload(bases)\n",
    "\n",
    "\n",
    "n_start = 35\n",
    "max_its = 30\n",
    "rounds = 4\n",
    "L = 4\n",
    "n = 100\n",
    "\n",
    "observed_inds = [train_inds]\n",
    "X_sampled = [A[train_inds]]\n",
    "y_sampled = [y[train_inds]]\n",
    "\n",
    "\n",
    "\n",
    "libraries = []\n",
    "histories = []\n",
    "\n",
    "for rou in range(rounds):\n",
    "    print('Round %d' %rou)\n",
    "    inds = sorted(set(itertools.chain(*observed_inds)))\n",
    "    print(len(inds))\n",
    "    dic, _ = helpers.get_predictions(A[inds], y[inds], A_test, one_hots=X_test, its=2000, lr=1e-2)\n",
    "    seen_seqs = [helpers.decode_X(X[i]) for i in inds]\n",
    "    for s in seen_seqs:\n",
    "        dic[s] = 0.0\n",
    "    print()\n",
    "    seed = helpers.get_seed(dic)\n",
    "    chosen, obj = bases.greedy(bases.objective, seed, obj_args=(L, dic, n))\n",
    "    libraries.append(chosen)\n",
    "    histories.append(obj)\n",
    "    seqs = helpers.seqs_from_set(chosen, L)\n",
    "    inds = np.random.choice(len(seqs), n, replace=True)\n",
    "    sampled_seqs = [seqs[i] for i in inds]\n",
    "    inds = [seq_to_x[s] for s in sampled_seqs]\n",
    "    X_sampled.append(A[inds])\n",
    "    y_sampled.append(y[inds])\n",
    "    observed_inds.append(inds)\n",
    "    \n",
    "    "
   ]
  },
  {
   "cell_type": "code",
   "execution_count": 38,
   "metadata": {},
   "outputs": [
    {
     "data": {
      "text/plain": [
       "[[('W', 0),\n",
       "  ('N', 1),\n",
       "  ('Q', 2),\n",
       "  ('W', 3),\n",
       "  ('A', 0),\n",
       "  ('R', 1),\n",
       "  ('R', 2),\n",
       "  ('A', 3),\n",
       "  ('R', 0),\n",
       "  ('D', 1),\n",
       "  ('D', 2),\n",
       "  ('C', 3),\n",
       "  ('N', 0),\n",
       "  ('C', 1),\n",
       "  ('Q', 3),\n",
       "  ('F', 2),\n",
       "  ('C', 0),\n",
       "  ('E', 3),\n",
       "  ('G', 2),\n",
       "  ('M', 1),\n",
       "  ('E', 0),\n",
       "  ('L', 3),\n",
       "  ('I', 0),\n",
       "  ('G', 3),\n",
       "  ('L', 0),\n",
       "  ('H', 3),\n",
       "  ('V', 1),\n",
       "  ('P', 0),\n",
       "  ('P', 3),\n",
       "  ('F', 0),\n",
       "  ('I', 3),\n",
       "  ('V', 2),\n",
       "  ('K', 0),\n",
       "  ('G', 0),\n",
       "  ('F', 3),\n",
       "  ('D', 0),\n",
       "  ('G', 1),\n",
       "  ('Y', 3),\n",
       "  ('V', 0),\n",
       "  ('S', 3),\n",
       "  ('R', 3)],\n",
       " [('R', 0),\n",
       "  ('Y', 1),\n",
       "  ('Q', 2),\n",
       "  ('I', 3),\n",
       "  ('A', 3),\n",
       "  ('V', 1),\n",
       "  ('W', 1),\n",
       "  ('R', 2),\n",
       "  ('V', 3),\n",
       "  ('H', 0),\n",
       "  ('I', 1),\n",
       "  ('M', 3),\n",
       "  ('W', 3),\n",
       "  ('F', 1),\n",
       "  ('L', 3),\n",
       "  ('L', 1)],\n",
       " [('V', 0),\n",
       "  ('D', 1),\n",
       "  ('R', 2),\n",
       "  ('Q', 3),\n",
       "  ('I', 0),\n",
       "  ('A', 3),\n",
       "  ('E', 1),\n",
       "  ('K', 3),\n",
       "  ('K', 1),\n",
       "  ('L', 0),\n",
       "  ('R', 3),\n",
       "  ('N', 1),\n",
       "  ('Q', 1),\n",
       "  ('R', 1),\n",
       "  ('N', 3),\n",
       "  ('T', 1),\n",
       "  ('H', 1),\n",
       "  ('S', 1)],\n",
       " [('I', 0),\n",
       "  ('D', 1),\n",
       "  ('R', 2),\n",
       "  ('A', 3),\n",
       "  ('N', 1),\n",
       "  ('V', 0),\n",
       "  ('K', 1),\n",
       "  ('L', 0),\n",
       "  ('G', 3),\n",
       "  ('H', 1),\n",
       "  ('A', 1),\n",
       "  ('F', 0),\n",
       "  ('Y', 1),\n",
       "  ('Y', 0),\n",
       "  ('S', 1),\n",
       "  ('M', 0),\n",
       "  ('W', 1),\n",
       "  ('E', 1)]]"
      ]
     },
     "execution_count": 38,
     "metadata": {},
     "output_type": "execute_result"
    }
   ],
   "source": [
    "libraries"
   ]
  },
  {
   "cell_type": "code",
   "execution_count": 39,
   "metadata": {},
   "outputs": [
    {
     "data": {
      "text/plain": [
       "[tensor(-0.1409), tensor(-4.9379), tensor(-7.6119), tensor(-7.6029)]"
      ]
     },
     "execution_count": 39,
     "metadata": {},
     "output_type": "execute_result"
    }
   ],
   "source": [
    "histories"
   ]
  },
  {
   "cell_type": "code",
   "execution_count": 40,
   "metadata": {
    "scrolled": true
   },
   "outputs": [
    {
     "data": {
      "image/png": "[encoded data removed]",
      "text/plain": [
       "<Figure size 432x288 with 1 Axes>"
      ]
     },
     "metadata": {},
     "output_type": "display_data"
    }
   ],
   "source": [
    "df = pd.DataFrame(np.exp(np.concatenate(y_sampled)), columns=['y'])\n",
    "df['round'] = [0] * (n + 1) + [1] * n + [2] * n + [3] * n + [4] * n\n",
    "_ = sns.swarmplot(data=df, x='round', y='y')"
   ]
  },
  {
   "cell_type": "code",
   "execution_count": 41,
   "metadata": {},
   "outputs": [
    {
     "data": {
      "text/plain": [
       "[0.42967125497365644,\n",
       " 0.32158124926803683,\n",
       " 0.5336155150240063,\n",
       " 0.7209161521736925,\n",
       " 0.8622705203669584]"
      ]
     },
     "execution_count": 41,
     "metadata": {},
     "output_type": "execute_result"
    }
   ],
   "source": [
    "[max(yy) for yy in y_sampled]"
   ]
  },
  {
   "cell_type": "code",
   "execution_count": 33,
   "metadata": {},
   "outputs": [
    {
     "data": {
      "text/plain": [
       "[8232, 120, 126, 130]"
      ]
     },
     "execution_count": 33,
     "metadata": {},
     "output_type": "execute_result"
    }
   ],
   "source": [
    "[opt.get_N(lib, L) for lib in libraries]"
   ]
  },
  {
   "cell_type": "code",
   "execution_count": 42,
   "metadata": {
    "collapsed": true
   },
   "outputs": [],
   "source": [
    "df.to_csv('../outputs/greedy_gb1.txt', index=False)"
   ]
  },
  {
   "cell_type": "code",
   "execution_count": null,
   "metadata": {
    "collapsed": true
   },
   "outputs": [],
   "source": []
  }
 ],
 "metadata": {
  "kernelspec": {
   "display_name": "pyro_py36",
   "language": "python",
   "name": "pyro"
  },
  "language_info": {
   "codemirror_mode": {
    "name": "ipython",
    "version": 3
   },
   "file_extension": ".py",
   "mimetype": "text/x-python",
   "name": "python",
   "nbconvert_exporter": "python",
   "pygments_lexer": "ipython3",
   "version": "3.6.5"
  }
 },
 "nbformat": 4,
 "nbformat_minor": 2
}
