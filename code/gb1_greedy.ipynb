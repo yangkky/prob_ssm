{
 "cells": [
  {
   "cell_type": "markdown",
   "metadata": {},
   "source": [
    "Runs Greedy optimization of objective using GB1 dataset."
   ]
  },
  {
   "cell_type": "code",
   "execution_count": 1,
   "metadata": {
    "collapsed": true
   },
   "outputs": [],
   "source": [
    "import torch\n",
    "from torch import distributions as dist\n",
    "\n",
    "import itertools\n",
    "import pickle\n",
    "import operator\n",
    "import importlib\n",
    "\n",
    "import random\n",
    "import math\n",
    "import numpy as np\n",
    "import pandas as pd\n",
    "import scipy\n",
    "\n",
    "import matplotlib.pyplot as plt\n",
    "import seaborn as sns\n",
    "%matplotlib inline\n",
    "sns.set_style('white')\n",
    "sns.set_context('paper')\n",
    "# Plot adjustments:\n",
    "plt.rcParams.update({'ytick.labelsize': 25})\n",
    "plt.rcParams.update({'xtick.labelsize': 25})\n",
    "plt.rcParams.update({'axes.labelsize': 35})\n",
    "plt.rcParams.update({'legend.fontsize': 30})\n",
    "plt.rcParams.update({'axes.titlesize': 16})\n",
    "\n",
    "from gptorch import kernels, models\n",
    "\n",
    "import helpers, opt, bases"
   ]
  },
  {
   "cell_type": "code",
   "execution_count": 2,
   "metadata": {
    "collapsed": true
   },
   "outputs": [],
   "source": [
    "with open('../inputs/GB1.pkl', 'rb') as f:\n",
    "    t = pickle.load(f)\n",
    "\n",
    "X = t[0] # one-hot encoding of X\n",
    "T = t[1] # tokenized encoding of X\n",
    "A = t[2]\n",
    "y = t[3].values"
   ]
  },
  {
   "cell_type": "code",
   "execution_count": 7,
   "metadata": {
    "collapsed": true
   },
   "outputs": [],
   "source": [
    "wt = \"VDGV\"  # wt as string\n",
    "aas = 'ARNDCQEGHILKMFPSTWYV'"
   ]
  },
  {
   "cell_type": "code",
   "execution_count": 4,
   "metadata": {
    "collapsed": true
   },
   "outputs": [],
   "source": [
    "seq_to_x = {}\n",
    "for i, x in enumerate(X):\n",
    "    seq = helpers.decode_X(x)\n",
    "    seq_to_x[seq] = i"
   ]
  },
  {
   "cell_type": "code",
   "execution_count": 28,
   "metadata": {
    "collapsed": true
   },
   "outputs": [],
   "source": [
    "singles = [wt[:i] + aas[j] + wt[i+1:] for i in range(4) for j in range(20)]\n",
    "train_seqs = [wt] + singles\n",
    "train_inds = [seq_to_x[seq] for seq in train_seqs]\n",
    "np.random.seed(120120)\n",
    "train_inds = list(np.random.choice(len(X), 100, replace=True)) # generate random indices for 100 X's to sample from\n",
    "\n",
    "X_train = X[train_inds]\n",
    "y_train = y[train_inds]\n",
    "X_test = X\n",
    "y_true = y\n",
    "\n",
    "A_train = A[train_inds]\n",
    "A_test = A"
   ]
  },
  {
   "cell_type": "code",
   "execution_count": 6,
   "metadata": {
    "collapsed": true
   },
   "outputs": [],
   "source": [
    "ground = [(aa, i) for aa in aas for i in range(4)]"
   ]
  },
  {
   "cell_type": "code",
   "execution_count": 7,
   "metadata": {
    "collapsed": true
   },
   "outputs": [],
   "source": [
    "def seqs_from_set(chosen, L):\n",
    "    pos = [[c[0] for c in chosen if c[1] == p] for p in range(L)]\n",
    "    return [''.join(s) for s in itertools.product(*pos)]"
   ]
  },
  {
   "cell_type": "code",
   "execution_count": 34,
   "metadata": {
    "scrolled": true
   },
   "outputs": [
    {
     "name": "stdout",
     "output_type": "stream",
     "text": [
      "Round 0\n",
      "100\n",
      "Iteration 2000 of 2000\tNLML: 48.4962\tsn: 0.199951\t\n",
      "Round 1\n",
      "200\n",
      "Iteration 2000 of 2000\tNLML: 93.3991\tsn: 0.180702\t\n",
      "Round 2\n",
      "264\n",
      "Iteration 2000 of 2000\tNLML: 65.5891\tsn: 0.043452\t\n",
      "Round 3\n",
      "328\n",
      "Iteration 2000 of 2000\tNLML: 19.2149\tsn: 0.013059\t\n"
     ]
    }
   ],
   "source": [
    "helpers = importlib.reload(helpers)\n",
    "opt = importlib.reload(opt)\n",
    "\n",
    "n_start = 35\n",
    "max_its = 30\n",
    "rounds = 4\n",
    "L = 4\n",
    "n = 100\n",
    "\n",
    "observed_inds = [train_inds]\n",
    "X_sampled = [A[train_inds]]\n",
    "y_sampled = [y[train_inds]]\n",
    "\n",
    "\n",
    "\n",
    "libraries = []\n",
    "histories = []\n",
    "\n",
    "for rou in range(rounds):\n",
    "    print('Round %d' %rou)\n",
    "    inds = sorted(set(itertools.chain(*observed_inds)))\n",
    "    print(len(inds))\n",
    "    dic, _ = helpers.get_predictions(A[inds], y[inds], A_test, one_hots=X_test, its=2000, lr=1e-2)\n",
    "    seen_seqs = [helpers.decode_X(X[i]) for i in inds]\n",
    "    for s in seen_seqs:\n",
    "        dic[s] = 0.0\n",
    "    print()\n",
    "    seed = helpers.get_seed(dic)\n",
    "    chosen, obj = bases.greedy(dic, seed, n, L)\n",
    "    libraries.append(chosen)\n",
    "    histories.append(obj)\n",
    "    seqs = seqs_from_set(chosen, L)\n",
    "    inds = np.random.choice(len(seqs), n, replace=True)\n",
    "    sampled_seqs = [seqs[i] for i in inds]\n",
    "    inds = [seq_to_x[s] for s in sampled_seqs]\n",
    "    X_sampled.append(A[inds])\n",
    "    y_sampled.append(y[inds])\n",
    "    observed_inds.append(inds)\n",
    "    \n",
    "    "
   ]
  },
  {
   "cell_type": "code",
   "execution_count": 35,
   "metadata": {},
   "outputs": [
    {
     "data": {
      "text/plain": [
       "[[('W', 0),\n",
       "  ('N', 1),\n",
       "  ('Q', 2),\n",
       "  ('W', 3),\n",
       "  ('A', 0),\n",
       "  ('R', 1),\n",
       "  ('R', 2),\n",
       "  ('A', 3),\n",
       "  ('R', 0),\n",
       "  ('D', 1),\n",
       "  ('D', 2),\n",
       "  ('C', 3),\n",
       "  ('N', 0),\n",
       "  ('C', 1),\n",
       "  ('Q', 3),\n",
       "  ('F', 2),\n",
       "  ('C', 0),\n",
       "  ('E', 3),\n",
       "  ('G', 2),\n",
       "  ('M', 1),\n",
       "  ('E', 0),\n",
       "  ('L', 3),\n",
       "  ('I', 0),\n",
       "  ('G', 3),\n",
       "  ('L', 0),\n",
       "  ('H', 3),\n",
       "  ('P', 0),\n",
       "  ('V', 1),\n",
       "  ('P', 3),\n",
       "  ('F', 0),\n",
       "  ('I', 3),\n",
       "  ('K', 0),\n",
       "  ('V', 2),\n",
       "  ('G', 0),\n",
       "  ('F', 3),\n",
       "  ('D', 0),\n",
       "  ('G', 1),\n",
       "  ('Y', 3),\n",
       "  ('V', 0),\n",
       "  ('S', 3),\n",
       "  ('R', 3)],\n",
       " [('G', 0),\n",
       "  ('C', 1),\n",
       "  ('Q', 2),\n",
       "  ('I', 3),\n",
       "  ('V', 1),\n",
       "  ('M', 3),\n",
       "  ('F', 3),\n",
       "  ('I', 1),\n",
       "  ('R', 0),\n",
       "  ('Y', 1),\n",
       "  ('V', 3),\n",
       "  ('L', 3),\n",
       "  ('K', 0),\n",
       "  ('W', 1),\n",
       "  ('A', 3),\n",
       "  ('H', 0)],\n",
       " [('A', 0),\n",
       "  ('Y', 1),\n",
       "  ('Q', 2),\n",
       "  ('L', 3),\n",
       "  ('C', 1),\n",
       "  ('I', 3),\n",
       "  ('S', 0),\n",
       "  ('R', 2),\n",
       "  ('V', 1),\n",
       "  ('G', 0),\n",
       "  ('T', 1),\n",
       "  ('A', 3),\n",
       "  ('H', 1),\n",
       "  ('R', 1),\n",
       "  ('S', 1)],\n",
       " [('G', 0),\n",
       "  ('H', 1),\n",
       "  ('R', 2),\n",
       "  ('A', 3),\n",
       "  ('A', 0),\n",
       "  ('S', 1),\n",
       "  ('G', 3),\n",
       "  ('R', 1),\n",
       "  ('V', 0),\n",
       "  ('W', 1),\n",
       "  ('I', 0),\n",
       "  ('Y', 1),\n",
       "  ('C', 1),\n",
       "  ('C', 0),\n",
       "  ('V', 1),\n",
       "  ('A', 1),\n",
       "  ('K', 1),\n",
       "  ('L', 0),\n",
       "  ('T', 1)]]"
      ]
     },
     "execution_count": 35,
     "metadata": {},
     "output_type": "execute_result"
    }
   ],
   "source": [
    "libraries"
   ]
  },
  {
   "cell_type": "code",
   "execution_count": 36,
   "metadata": {},
   "outputs": [
    {
     "data": {
      "text/plain": [
       "[tensor(-0.1515), tensor(-1.6765), tensor(-4.4212), tensor(-8.9474)]"
      ]
     },
     "execution_count": 36,
     "metadata": {},
     "output_type": "execute_result"
    }
   ],
   "source": [
    "histories"
   ]
  },
  {
   "cell_type": "code",
   "execution_count": 39,
   "metadata": {
    "scrolled": true
   },
   "outputs": [
    {
     "data": {
      "image/png": "[encoded data removed]",
      "text/plain": [
       "<Figure size 432x288 with 1 Axes>"
      ]
     },
     "metadata": {},
     "output_type": "display_data"
    }
   ],
   "source": [
    "df = pd.DataFrame(np.exp(np.concatenate(y_sampled)), columns=['y'])\n",
    "df['round'] = [0] * (100) + [1] * n + [2] * n + [3] * n + [4] * n\n",
    "_ = sns.swarmplot(data=df, x='round', y='y')"
   ]
  },
  {
   "cell_type": "code",
   "execution_count": 40,
   "metadata": {},
   "outputs": [
    {
     "data": {
      "text/plain": [
       "[0.42967125497365644,\n",
       " 0.5768266000449709,\n",
       " 0.7184390982375426,\n",
       " 0.8039462204271667,\n",
       " 0.8782151067154043]"
      ]
     },
     "execution_count": 40,
     "metadata": {},
     "output_type": "execute_result"
    }
   ],
   "source": [
    "[max(yy) for yy in y_sampled]"
   ]
  },
  {
   "cell_type": "code",
   "execution_count": 41,
   "metadata": {},
   "outputs": [
    {
     "data": {
      "text/plain": [
       "[8232, 120, 126, 120]"
      ]
     },
     "execution_count": 41,
     "metadata": {},
     "output_type": "execute_result"
    }
   ],
   "source": [
    "[opt.get_N(lib, L) for lib in libraries]"
   ]
  },
  {
   "cell_type": "code",
   "execution_count": 42,
   "metadata": {
    "collapsed": true
   },
   "outputs": [],
   "source": [
    "df.to_csv('../outputs/greedy_gb1.txt', index=False)"
   ]
  },
  {
   "cell_type": "code",
   "execution_count": null,
   "metadata": {
    "collapsed": true
   },
   "outputs": [],
   "source": []
  }
 ],
 "metadata": {
  "kernelspec": {
   "display_name": "Python 3",
   "language": "python",
   "name": "python3"
  },
  "language_info": {
   "codemirror_mode": {
    "name": "ipython",
    "version": 3
   },
   "file_extension": ".py",
   "mimetype": "text/x-python",
   "name": "python",
   "nbconvert_exporter": "python",
   "pygments_lexer": "ipython3",
   "version": "3.6.1"
  }
 },
 "nbformat": 4,
 "nbformat_minor": 2
}
