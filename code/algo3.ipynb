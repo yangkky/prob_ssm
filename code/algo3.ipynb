{
 "cells": [
  {
   "cell_type": "markdown",
   "metadata": {},
   "source": [
    "Implements algorithm 3 (ModMod) from Algorithms for \"Approx Min of the Difference Between Submodular Fncs with Applications.\"\n",
    "\n",
    "Includes submodular set functions: linear, budget-additive, and entropy\n",
    "\n",
    "For functions where V and X are sets, see () <br>\n",
    "For functions where V and X are torch.Tensors as in entropy, see (1)"
   ]
  },
  {
   "cell_type": "code",
   "execution_count": 1,
   "metadata": {
    "collapsed": true
   },
   "outputs": [],
   "source": [
    "import torch\n",
    "from torch import distributions as dist\n",
    "\n",
    "import itertools\n",
    "import pickle\n",
    "\n",
    "import itertools\n",
    "import random\n",
    "import math\n",
    "import numpy as np\n",
    "import pandas as pd\n",
    "import scipy\n",
    "\n",
    "import matplotlib.pyplot as plt\n",
    "import seaborn as sns\n",
    "%matplotlib inline\n",
    "sns.set_style('white')\n",
    "sns.set_context('paper')\n",
    "# Plot adjustments:\n",
    "plt.rcParams.update({'ytick.labelsize': 15})\n",
    "plt.rcParams.update({'xtick.labelsize': 15})\n",
    "plt.rcParams.update({'axes.labelsize': 35})\n",
    "plt.rcParams.update({'legend.fontsize': 30})\n",
    "plt.rcParams.update({'axes.titlesize': 16})\n",
    "\n",
    "from gptorch import kernels, models"
   ]
  },
  {
   "cell_type": "code",
   "execution_count": 2,
   "metadata": {
    "collapsed": true
   },
   "outputs": [],
   "source": [
    "def mod_lower(X, fn, perm, *args, **kwargs):\n",
    "    \"\"\" Modular lower bound of fn(X) for any X contained in ground set V\n",
    "    with permutation chain perm (aka S).\n",
    "    \n",
    "    Expects X as a set, fn as a Python function, and perm as a list. \"\"\"\n",
    "    \n",
    "    low = 0.0 # lower modular bound\n",
    "    \n",
    "    for elem in X:\n",
    "        i = perm.index(elem)\n",
    "        if i == 0:\n",
    "            low += fn({perm[0]}, *args, **kwargs)\n",
    "        else:\n",
    "            low += fn(set(perm[0:i + 1]), *args, **kwargs) - fn(set(perm[0:i]), *args, **kwargs)\n",
    "            \n",
    "    return low\n",
    "\n",
    "def mod_lower1(X, fn, perm, *args, **kwargs):\n",
    "    \"\"\" Modular lower bound of fn(X) for any X contained in ground set V\n",
    "    with permutation chain perm (aka S).\n",
    "    \n",
    "    Expects X as a set, fn as a Python function, and perm as a list. \"\"\"\n",
    "    \n",
    "    \n",
    "    low = 0.0 # lower modular bound\n",
    "    if len(X) == 0:\n",
    "        return(fn(torch.Tensor([]), *args, **kwargs))\n",
    "    \n",
    "    for elem in X:\n",
    "        i = (perm == elem).nonzero()[0][0].data.numpy() #perm.index(elem)\n",
    "        if i == 0:\n",
    "            low += fn(perm[torch.Tensor([0]).long()], *args, **kwargs)\n",
    "        else:\n",
    "            low += fn(perm[0:i + 1], *args, **kwargs) - fn(perm[0:i], *args, **kwargs)\n",
    "            \n",
    "    return low"
   ]
  },
  {
   "cell_type": "code",
   "execution_count": 3,
   "metadata": {
    "collapsed": true
   },
   "outputs": [],
   "source": [
    "def mod_upper(X, fn, center, *args, **kwargs):\n",
    "    \"\"\" Modular upper bound of fn(X) for any X contained in ground set V, \n",
    "    centered at center.\n",
    "    \n",
    "    Expects X and center as sets, and fn as a Python function. \"\"\"\n",
    "    \n",
    "    up = fn(center, *args, **kwargs) # modular upper bound\n",
    "    \n",
    "    for j in center:\n",
    "        if j not in X:\n",
    "            center_noj = [x for x in center if x != j]\n",
    "            up -= fn(center, *args, **kwargs) - fn(center_noj, *args, **kwargs)\n",
    " \n",
    "    for j in X:\n",
    "        if j not in center:\n",
    "            up += fn({j}, *args, **kwargs) - fn({}, *args, **kwargs)\n",
    "\n",
    "    return up\n",
    "\n",
    "def mod_upper1(X, fn, center, *args, **kwargs):\n",
    "    \"\"\" Modular upper bound of fn(X) for any X contained in ground set V, \n",
    "    centered at center.\n",
    "    \n",
    "    Expects X and center as sets, and fn as a Python function. \"\"\"\n",
    "    \n",
    "    up = fn(center, *args, **kwargs) # modular upper bound\n",
    "    \n",
    "    for j in center:\n",
    "        if len(X) > 0 and (X == j).nonzero().size()[0] == 0:\n",
    "            no_j = [x for x in center if torch.eq(x, j)[0] != 1]\n",
    "            if no_j == []:\n",
    "                center_noj = torch.Tensor(no_j)\n",
    "            else:\n",
    "                center_noj = torch.stack(no_j)\n",
    "            up -= fn(center, *args, **kwargs) - fn(center_noj, *args, **kwargs)\n",
    "        elif len(X) == 0:\n",
    "            continue\n",
    "\n",
    "    for j in X:\n",
    "        if len(center) == 0 or (center == j).nonzero().size()[0] == 0:\n",
    "            up += fn(torch.stack([j]), *args, **kwargs) - fn(torch.zeros(1, X.size()[1]), *args, **kwargs)\n",
    "\n",
    "    return up"
   ]
  },
  {
   "cell_type": "code",
   "execution_count": 4,
   "metadata": {
    "collapsed": true
   },
   "outputs": [],
   "source": [
    "def make_perm(V, X):\n",
    "    \"\"\" Takes in the ground set V and a set X, and\n",
    "    returns a random chain permutation that contains X \"\"\"\n",
    "    lst_perms = list(itertools.permutations(V)) # create a list of all possible permutations of V\n",
    "    \n",
    "    # select possible perms that contain X and include all elements in V\n",
    "    poss_perms = [perm for perm in lst_perms if X.issubset(perm[0:len(X)]) and len(perm) == len(V)]\n",
    "    \n",
    "    return list(random.choice(poss_perms)) # return random perm from list of possible perms\n",
    "\n",
    "def make_perm1(V, X):\n",
    "    \"\"\" Takes in the ground set V and a set X, and\n",
    "    returns a random chain permutation that contains X \"\"\"\n",
    "    if len(X) == 0:\n",
    "        indices = list(range(len(V)))\n",
    "        random.shuffle(indices)\n",
    "        return torch.stack([V[i] for i in indices])\n",
    "    \n",
    "    ind_X = [i for i, v in enumerate(V) if (X == v).nonzero().size()[0] != 0] # indices of X in V\n",
    "    rest = [i for i in list(range(len(V))) if i not in ind_X] # rest of indices in V\n",
    "    \n",
    "    random.shuffle(ind_X) # shuffle indices\n",
    "    random.shuffle(rest)\n",
    "    indices = ind_X + rest # combine\n",
    "    \n",
    "    return torch.stack([V[i] for i in indices]) # generate perm based on shuffled indices"
   ]
  },
  {
   "cell_type": "code",
   "execution_count": 5,
   "metadata": {
    "collapsed": true
   },
   "outputs": [],
   "source": [
    "def mod_mod(V, fn, g):\n",
    "    \"\"\" Implements algorithm3 (ModMod) from paper. Takes in ground set V,\n",
    "    and functions fn and g. \n",
    "    \n",
    "    Expects V as a set, and fn and g as submodular Python functions. \"\"\"\n",
    "    X, X_next = set(), set()\n",
    "    while True:\n",
    "        perm = make_perm(V, X) # choose permutation\n",
    "        for i in V:\n",
    "            obj = mod_upper({i}, fn, X) - mod_lower({i}, g, perm) # objective with element in V as input\n",
    "            emp = mod_upper({}, fn, X) - mod_lower({}, g, perm) # objective with empty set as input\n",
    "            if obj < emp:\n",
    "                X_next.add(i)\n",
    "        if X_next == X:\n",
    "            break\n",
    "        else:\n",
    "            X = X_next\n",
    "            X_next = set()\n",
    "    \n",
    "    return X_next\n",
    "\n",
    "def mod_mod1(V, fn, g, *args, **kwargs):\n",
    "    \"\"\" Implements algorithm3 (ModMod) from paper. Takes in ground set V,\n",
    "    and functions fn and g. \n",
    "    \n",
    "    Expects V as a torch Tensor matrix, and fn and g as submodular Python functions. \"\"\"\n",
    "\n",
    "    X, X_next, empty = torch.Tensor([]), torch.Tensor([]), torch.Tensor([])\n",
    "    \n",
    "    while True:\n",
    "        perm = make_perm1(V, X) # choose permutation\n",
    "        for i in V:\n",
    "            obj = mod_upper1(torch.stack([i]), fn, X, args[0]) - mod_lower1(torch.stack([i]), g, perm, args[1]) # objective with element in V as input\n",
    "            emp = mod_upper1(empty, fn, X, args[0]) - mod_lower1(empty, g, perm, args[1]) # objective with empty set as input\n",
    "            if obj <= emp:\n",
    "                if len(X_next) == 0:\n",
    "                    X_next = torch.stack([torch.cat((X_next, i), 0)])\n",
    "                else:\n",
    "                    X_next = torch.stack([X_next[0], i])\n",
    "        if X.size() == X_next.size() and torch.eq(X, X_next).all():\n",
    "            break\n",
    "        else:\n",
    "            X = X_next\n",
    "            X_next = torch.Tensor([])\n",
    "    \n",
    "    return X_next"
   ]
  },
  {
   "cell_type": "code",
   "execution_count": 6,
   "metadata": {
    "collapsed": true
   },
   "outputs": [],
   "source": [
    "# two examples of submodular set functions\n",
    "\n",
    "def linear(X):\n",
    "    \"\"\" A function f : 2^N → R is linear if f(X) = sum (i∈X) of wi for some weights\n",
    "    w : N → R. If wi ≥ 0 for all i ∈ N, then f is also monotone. \"\"\"\n",
    "    \n",
    "    if len(X) == 0: # empty set\n",
    "        return 0\n",
    "    \n",
    "    sum_w = 0\n",
    "    for i in X:\n",
    "        sum_w += i\n",
    "        \n",
    "    return sum_w\n",
    "    \n",
    "def budget_add(X, B=10):\n",
    "    \"\"\" A small generalization of the linear case, the function f(A) =\n",
    "    min{sum (i∈A) of wi, B} for any wi ≥ 0 and B ≥ 0, is monotone submodular.\"\"\"\n",
    "    \n",
    "    if len(X) == 0: # empty set\n",
    "        return 0\n",
    "    \n",
    "    sum_w = 0\n",
    "    for i in X:\n",
    "        sum_w += i\n",
    "    \n",
    "    return min(sum_w, B)"
   ]
  },
  {
   "cell_type": "code",
   "execution_count": 7,
   "metadata": {
    "collapsed": true
   },
   "outputs": [],
   "source": [
    "# entropy function\n",
    "\n",
    "def entropy(X, k):\n",
    "    \"\"\" Takes in a set of points X, covariance function cov, \n",
    "    and computes the entropy of the multivariate normal distribution \"\"\"\n",
    "    if len(X) == 0:\n",
    "        return torch.Tensor([0.0])[0]\n",
    "    \n",
    "    cov = k(X, X)\n",
    "    return torch.log(torch.det(cov)) # 0.5 * torch.log(torch.det(2 * math.pi * torch.exp(1) * cov))"
   ]
  },
  {
   "cell_type": "code",
   "execution_count": null,
   "metadata": {
    "collapsed": true
   },
   "outputs": [],
   "source": [
    "V = torch.randn(10, 4)\n",
    "ke = kernels.SEKernel()\n",
    "ke2 = kernels.MaternKernel()"
   ]
  },
  {
   "cell_type": "code",
   "execution_count": 8,
   "metadata": {
    "collapsed": true
   },
   "outputs": [],
   "source": [
    "V = torch.randn(100, 4)\n",
    "ke = kernels.SEKernel()\n",
    "ke2 = kernels.MaternKernel()\n",
    "\n",
    "# each row of X is an element of the set of X\n",
    "inds = np.random.choice(100, size=5, replace=False)\n",
    "inds = torch.LongTensor(inds)\n",
    "X = V[inds]\n",
    "inds = np.random.choice(100, size=5, replace=False)\n",
    "inds = torch.LongTensor(inds)\n",
    "center = V[inds]"
   ]
  },
  {
   "cell_type": "code",
   "execution_count": null,
   "metadata": {
    "collapsed": true
   },
   "outputs": [],
   "source": [
    "entropy(X, ke)"
   ]
  },
  {
   "cell_type": "code",
   "execution_count": null,
   "metadata": {
    "collapsed": true
   },
   "outputs": [],
   "source": [
    "entropy(X, ke2)"
   ]
  },
  {
   "cell_type": "code",
   "execution_count": null,
   "metadata": {
    "collapsed": true
   },
   "outputs": [],
   "source": [
    "perm = make_perm1(V, center)\n",
    "mod_lower1(X, entropy, perm, ke2)"
   ]
  },
  {
   "cell_type": "code",
   "execution_count": 9,
   "metadata": {},
   "outputs": [
    {
     "data": {
      "text/plain": [
       "tensor(0.2952)"
      ]
     },
     "execution_count": 9,
     "metadata": {},
     "output_type": "execute_result"
    }
   ],
   "source": [
    "mod_upper1(X, entropy, center, ke)"
   ]
  },
  {
   "cell_type": "code",
   "execution_count": 10,
   "metadata": {},
   "outputs": [
    {
     "name": "stdout",
     "output_type": "stream",
     "text": [
      "tensor(1.4762)\n"
     ]
    }
   ],
   "source": [
    "print(torch.stack([mod_upper1(x.unsqueeze(0), entropy, center, ke) for x in X]).sum()) # upper bound"
   ]
  },
  {
   "cell_type": "code",
   "execution_count": null,
   "metadata": {
    "collapsed": true
   },
   "outputs": [],
   "source": [
    "# check modular\n",
    "print(torch.stack([mod_upper1(x.unsqueeze(0), entropy, center, ke) for x in X]).sum()) # upper bound\n",
    "print(torch.stack([mod_lower1(x.unsqueeze(0), entropy, perm, ke2) for x in X]).sum()) # lower bound"
   ]
  },
  {
   "cell_type": "code",
   "execution_count": null,
   "metadata": {
    "collapsed": true
   },
   "outputs": [],
   "source": [
    "X = mod_mod1(V, entropy, entropy, ke, ke2)\n",
    "X"
   ]
  },
  {
   "cell_type": "code",
   "execution_count": null,
   "metadata": {
    "collapsed": true
   },
   "outputs": [],
   "source": [
    "# tests for mod_lower\n",
    "assert mod_lower({2, 4, 5}, linear, [3, 1, 2, 5, 4]) == 11 # V = {1...5}\n",
    "assert mod_lower({1, 7, 9}, linear, [3, 1, 4, 2, 10, 6, 9, 7, 5, 8]) == 17 # V = {1...10}\n",
    "\n",
    "assert mod_lower({2, 4, 5}, budget_add, [3, 1, 2, 5, 4]) == 6 # V = {1...5}\n",
    "\n",
    "# tests for mod_upper\n",
    "assert mod_upper({2, 4, 5}, linear, {1, 2, 5}) == 11 # V = {1...5}\n",
    "assert mod_upper({1, 7, 9}, linear, {10, 6, 9, 7}) == 17 # V = {1...10}\n",
    "\n",
    "# tests for make_perm\n",
    "assert set(make_perm({1, 2, 3, 4, 5}, {4, 3, 5})[0:3]).issubset({4, 3, 5})\n",
    "assert set(make_perm({1, 2, 3, 4, 5, 6, 7, 8, 9}, {9, 3, 7})[0:3]).issubset({9, 3, 7})"
   ]
  },
  {
   "cell_type": "code",
   "execution_count": null,
   "metadata": {
    "collapsed": true
   },
   "outputs": [],
   "source": [
    "mod_upper({1, 7, 9}, linear, {10, 6, 9, 7})\n"
   ]
  },
  {
   "cell_type": "code",
   "execution_count": null,
   "metadata": {
    "collapsed": true
   },
   "outputs": [],
   "source": [
    "# def mod_upper(X, V, fn, center, *args, **kwargs):\n",
    "#     \"\"\" Modular upper bound of fn(X) for any X contained in ground set V, \n",
    "#     centered at center.\n",
    "    \n",
    "#     Expects X and center as lists of tuples, and fn as a Python function. \"\"\"\n",
    "    \n",
    "#     up = fn(center, *args, **kwargs) # modular upper bound\n",
    "    \n",
    "#     for j in center:\n",
    "#         if j not in X:\n",
    "#             V_noj = [x for x in V if x != j]\n",
    "#             up -= fn(V, *args, **kwargs) - fn(V_noj, *args, **kwargs)\n",
    "\n",
    "#     for j in X:\n",
    "#         if j not in center:\n",
    "#             up += fn(center + [j], *args, **kwargs) - fn(center, *args, **kwargs)\n",
    "            \n",
    "#     return up"
   ]
  }
 ],
 "metadata": {
  "kernelspec": {
   "display_name": "Python 3",
   "language": "python",
   "name": "python3"
  },
  "language_info": {
   "codemirror_mode": {
    "name": "ipython",
    "version": 3
   },
   "file_extension": ".py",
   "mimetype": "text/x-python",
   "name": "python",
   "nbconvert_exporter": "python",
   "pygments_lexer": "ipython3",
   "version": "3.6.1"
  }
 },
 "nbformat": 4,
 "nbformat_minor": 2
}
