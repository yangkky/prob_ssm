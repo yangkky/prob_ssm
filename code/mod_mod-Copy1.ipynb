{
 "cells": [
  {
   "cell_type": "markdown",
   "metadata": {},
   "source": [
    "Tests for mod_mod algo"
   ]
  },
  {
   "cell_type": "code",
   "execution_count": 1,
   "metadata": {},
   "outputs": [],
   "source": [
    "import torch\n",
    "from torch import distributions as dist\n",
    "\n",
    "import itertools\n",
    "import pickle\n",
    "import importlib\n",
    "\n",
    "import itertools\n",
    "import random\n",
    "import math\n",
    "import numpy as np\n",
    "import pandas as pd\n",
    "import scipy\n",
    "\n",
    "import matplotlib.pyplot as plt\n",
    "import seaborn as sns\n",
    "%matplotlib inline\n",
    "sns.set_style('white')\n",
    "sns.set_context('paper')\n",
    "# Plot adjustments:\n",
    "plt.rcParams.update({'ytick.labelsize': 15})\n",
    "plt.rcParams.update({'xtick.labelsize': 15})\n",
    "plt.rcParams.update({'axes.labelsize': 35})\n",
    "plt.rcParams.update({'legend.fontsize': 30})\n",
    "plt.rcParams.update({'axes.titlesize': 16})\n",
    "\n",
    "from gptorch import kernels, models\n",
    "import helpers, opt, objectives"
   ]
  },
  {
   "cell_type": "code",
   "execution_count": 2,
   "metadata": {},
   "outputs": [],
   "source": [
    "with open('../inputs/gb1.pkl', 'rb') as f:\n",
    "    t = pickle.load(f)\n",
    "X = t[0]\n",
    "A = t[1]\n",
    "y = t[2]\n",
    "wt = t[3]"
   ]
  },
  {
   "cell_type": "code",
   "execution_count": 3,
   "metadata": {},
   "outputs": [
    {
     "name": "stdout",
     "output_type": "stream",
     "text": [
      "Iteration 3000 of 3000\tNLML: 49.9795\tsn: 0.495660\t"
     ]
    }
   ],
   "source": [
    "np.random.seed(120120)\n",
    "_ = torch.manual_seed(43298)\n",
    "\n",
    "seq_to_x = {}\n",
    "for i, x in enumerate(X):\n",
    "    seq = helpers.decode_X(x)\n",
    "    seq_to_x[seq] = i\n",
    "wt_inds = [seq_to_x[wt]]\n",
    "\n",
    "n = 100\n",
    "train_inds = wt_inds + list(np.random.choice(len(X), n, replace=True))\n",
    "\n",
    "y_train = y[train_inds]\n",
    "y_true = y\n",
    "A_train = A[train_inds]\n",
    "A_test = A\n",
    "\n",
    "inds = sorted(set(itertools.chain(train_inds)))\n",
    "\n",
    "\n",
    "dic, _ = helpers.get_predictions(A[inds], y[inds], A_test,\n",
    "                                         one_hots=X, its=3000, lr=1e-3)"
   ]
  },
  {
   "cell_type": "code",
   "execution_count": 4,
   "metadata": {},
   "outputs": [],
   "source": [
    "aas = 'ARNDCQEGHILKMFPSTWYV'\n",
    "ground = [(aa, i) for aa in aas for i in range(4)]"
   ]
  },
  {
   "cell_type": "code",
   "execution_count": 5,
   "metadata": {},
   "outputs": [],
   "source": [
    "seen_seqs = [helpers.decode_X(X[i]) for i in inds]\n",
    "for s in seen_seqs:\n",
    "    dic[s] = 0.0"
   ]
  },
  {
   "cell_type": "code",
   "execution_count": 6,
   "metadata": {},
   "outputs": [
    {
     "data": {
      "text/plain": [
       "[('W', 0), ('N', 1), ('Q', 2), ('W', 3)]"
      ]
     },
     "execution_count": 6,
     "metadata": {},
     "output_type": "execute_result"
    }
   ],
   "source": [
    "seed = helpers.get_seed(dic)\n",
    "seed"
   ]
  },
  {
   "cell_type": "code",
   "execution_count": 7,
   "metadata": {},
   "outputs": [],
   "source": [
    "with open('../outputs/20180828_modmod_not_mono.pkl', 'rb') as f:\n",
    "    X_list, obj_list = pickle.load(f)"
   ]
  },
  {
   "cell_type": "code",
   "execution_count": 34,
   "metadata": {},
   "outputs": [],
   "source": [
    "lib1, lib2 = X_list[23:25]\n",
    "n = 100\n",
    "L = 4\n",
    "diff = list(set(lib2) - set(lib1))\n",
    "\n",
    "def v(A):\n",
    "    return objectives.objective(A, L, dic, n)\n",
    "\n",
    "def g(A):\n",
    "    return objectives.obj_RHS(A, L, dic, n)"
   ]
  },
  {
   "cell_type": "code",
   "execution_count": 17,
   "metadata": {},
   "outputs": [
    {
     "data": {
      "text/plain": [
       "(tensor(-0.5816), tensor(-0.7754))"
      ]
     },
     "execution_count": 17,
     "metadata": {},
     "output_type": "execute_result"
    }
   ],
   "source": [
    "g(lib1), g(lib2)"
   ]
  },
  {
   "cell_type": "code",
   "execution_count": 40,
   "metadata": {},
   "outputs": [],
   "source": [
    "np.random.seed(0)\n",
    "inds = opt._make_permuted_indices(ground, lib1)\n",
    "perms = [[ground[i] for i in p] for p in inds]"
   ]
  },
  {
   "cell_type": "code",
   "execution_count": 43,
   "metadata": {
    "scrolled": true
   },
   "outputs": [],
   "source": [
    "uppers = []\n",
    "fn = objectives.obj_LHS\n",
    "fn_args = (L, dic)\n",
    "fn_kwargs = {}\n",
    "for i in ground:\n",
    "    if i in lib1:\n",
    "        X_noi = [x for x in lib1 if x != i]\n",
    "        uppers.append(opt.mod_upper(X_noi, fn, lib1, ground, *fn_args, **fn_kwargs))\n",
    "    else:\n",
    "        uppers.append(opt.mod_upper(lib1 + [i], fn, lib1, ground, *fn_args, **fn_kwargs))\n"
   ]
  },
  {
   "cell_type": "code",
   "execution_count": 52,
   "metadata": {},
   "outputs": [
    {
     "name": "stdout",
     "output_type": "stream",
     "text": [
      "CPU times: user 11min 43s, sys: 10.8 s, total: 11min 53s\n",
      "Wall time: 13min 26s\n"
     ]
    }
   ],
   "source": [
    "%%time\n",
    "g_args = (L, dic, n)\n",
    "g_kwargs = {}\n",
    "candidates = [opt._get_candidates(perm, ground, lib1, uppers, obj_list[23],\n",
    "                                 objectives.obj_RHS, g_args, g_kwargs)\n",
    "             for perm in perms]\n",
    "candidates = list(itertools.chain.from_iterable(candidates))"
   ]
  },
  {
   "cell_type": "code",
   "execution_count": 54,
   "metadata": {},
   "outputs": [
    {
     "data": {
      "text/plain": [
       "[[('W', 0),\n",
       "  ('C', 0),\n",
       "  ('I', 0),\n",
       "  ('P', 0),\n",
       "  ('R', 0),\n",
       "  ('L', 0),\n",
       "  ('Q', 0),\n",
       "  ('G', 0),\n",
       "  ('Y', 0),\n",
       "  ('E', 0),\n",
       "  ('K', 0),\n",
       "  ('F', 0),\n",
       "  ('N', 0),\n",
       "  ('V', 0),\n",
       "  ('N', 1),\n",
       "  ('R', 1),\n",
       "  ('G', 1),\n",
       "  ('F', 1),\n",
       "  ('S', 1),\n",
       "  ('K', 1),\n",
       "  ('D', 1),\n",
       "  ('C', 1),\n",
       "  ('L', 1),\n",
       "  ('Q', 2),\n",
       "  ('G', 2),\n",
       "  ('V', 2),\n",
       "  ('W', 3),\n",
       "  ('R', 3),\n",
       "  ('E', 3),\n",
       "  ('K', 3),\n",
       "  ('C', 3),\n",
       "  ('H', 3),\n",
       "  ('I', 3),\n",
       "  ('Y', 3),\n",
       "  ('L', 3),\n",
       "  ('F', 3),\n",
       "  ('S', 3),\n",
       "  ('G', 3),\n",
       "  ('A', 3),\n",
       "  ('P', 3),\n",
       "  ('M', 3),\n",
       "  ('D', 2)],\n",
       " [('W', 0),\n",
       "  ('C', 0),\n",
       "  ('I', 0),\n",
       "  ('P', 0),\n",
       "  ('R', 0),\n",
       "  ('L', 0),\n",
       "  ('Q', 0),\n",
       "  ('G', 0),\n",
       "  ('Y', 0),\n",
       "  ('E', 0),\n",
       "  ('K', 0),\n",
       "  ('F', 0),\n",
       "  ('N', 0),\n",
       "  ('V', 0),\n",
       "  ('N', 1),\n",
       "  ('R', 1),\n",
       "  ('G', 1),\n",
       "  ('F', 1),\n",
       "  ('S', 1),\n",
       "  ('K', 1),\n",
       "  ('D', 1),\n",
       "  ('C', 1),\n",
       "  ('L', 1),\n",
       "  ('Q', 2),\n",
       "  ('G', 2),\n",
       "  ('V', 2),\n",
       "  ('W', 3),\n",
       "  ('R', 3),\n",
       "  ('E', 3),\n",
       "  ('K', 3),\n",
       "  ('C', 3),\n",
       "  ('H', 3),\n",
       "  ('I', 3),\n",
       "  ('Y', 3),\n",
       "  ('L', 3),\n",
       "  ('F', 3),\n",
       "  ('S', 3),\n",
       "  ('G', 3),\n",
       "  ('A', 3),\n",
       "  ('P', 3),\n",
       "  ('M', 3),\n",
       "  ('D', 2),\n",
       "  ('F', 2)],\n",
       " [('W', 0),\n",
       "  ('C', 0),\n",
       "  ('I', 0),\n",
       "  ('P', 0),\n",
       "  ('R', 0),\n",
       "  ('L', 0),\n",
       "  ('Q', 0),\n",
       "  ('G', 0),\n",
       "  ('Y', 0),\n",
       "  ('E', 0),\n",
       "  ('K', 0),\n",
       "  ('F', 0),\n",
       "  ('N', 0),\n",
       "  ('V', 0),\n",
       "  ('N', 1),\n",
       "  ('R', 1),\n",
       "  ('G', 1),\n",
       "  ('F', 1),\n",
       "  ('S', 1),\n",
       "  ('K', 1),\n",
       "  ('D', 1),\n",
       "  ('C', 1),\n",
       "  ('L', 1),\n",
       "  ('Q', 2),\n",
       "  ('G', 2),\n",
       "  ('V', 2),\n",
       "  ('W', 3),\n",
       "  ('R', 3),\n",
       "  ('E', 3),\n",
       "  ('K', 3),\n",
       "  ('C', 3),\n",
       "  ('H', 3),\n",
       "  ('I', 3),\n",
       "  ('Y', 3),\n",
       "  ('L', 3),\n",
       "  ('F', 3),\n",
       "  ('S', 3),\n",
       "  ('G', 3),\n",
       "  ('A', 3),\n",
       "  ('P', 3),\n",
       "  ('M', 3),\n",
       "  ('H', 2)],\n",
       " [('W', 0),\n",
       "  ('C', 0),\n",
       "  ('I', 0),\n",
       "  ('P', 0),\n",
       "  ('R', 0),\n",
       "  ('L', 0),\n",
       "  ('Q', 0),\n",
       "  ('G', 0),\n",
       "  ('Y', 0),\n",
       "  ('E', 0),\n",
       "  ('K', 0),\n",
       "  ('F', 0),\n",
       "  ('N', 0),\n",
       "  ('V', 0),\n",
       "  ('N', 1),\n",
       "  ('R', 1),\n",
       "  ('G', 1),\n",
       "  ('F', 1),\n",
       "  ('S', 1),\n",
       "  ('K', 1),\n",
       "  ('D', 1),\n",
       "  ('C', 1),\n",
       "  ('L', 1),\n",
       "  ('Q', 2),\n",
       "  ('G', 2),\n",
       "  ('V', 2),\n",
       "  ('W', 3),\n",
       "  ('R', 3),\n",
       "  ('E', 3),\n",
       "  ('K', 3),\n",
       "  ('C', 3),\n",
       "  ('H', 3),\n",
       "  ('I', 3),\n",
       "  ('Y', 3),\n",
       "  ('L', 3),\n",
       "  ('F', 3),\n",
       "  ('S', 3),\n",
       "  ('G', 3),\n",
       "  ('A', 3),\n",
       "  ('P', 3),\n",
       "  ('M', 3),\n",
       "  ('D', 2)]]"
      ]
     },
     "execution_count": 54,
     "metadata": {},
     "output_type": "execute_result"
    }
   ],
   "source": [
    "candidates_ = [c[0] for c in candidates if c[1]]\n",
    "candidates_"
   ]
  },
  {
   "cell_type": "code",
   "execution_count": 56,
   "metadata": {},
   "outputs": [
    {
     "name": "stdout",
     "output_type": "stream",
     "text": [
      "tensor(1.00000e-02 *\n",
      "       -1.0262)\n",
      "tensor(1.00000e-02 *\n",
      "       -1.0260)\n",
      "tensor(1.00000e-02 *\n",
      "       -1.0188)\n",
      "tensor(1.00000e-02 *\n",
      "       -1.0262)\n"
     ]
    }
   ],
   "source": [
    "for c in candidates_:\n",
    "    print(objectives.objective(c, L, dic, n))"
   ]
  },
  {
   "cell_type": "code",
   "execution_count": 57,
   "metadata": {},
   "outputs": [
    {
     "name": "stdout",
     "output_type": "stream",
     "text": [
      "27\n",
      "37\n",
      "57\n",
      "73\n"
     ]
    }
   ],
   "source": [
    "for i, c in enumerate(candidates):\n",
    "    if c[1]:\n",
    "        print(i)"
   ]
  },
  {
   "cell_type": "code",
   "execution_count": 105,
   "metadata": {},
   "outputs": [
    {
     "name": "stdout",
     "output_type": "stream",
     "text": [
      "added\n",
      "('D', 2)\n",
      "('F', 2)\n",
      "removed\n"
     ]
    }
   ],
   "source": [
    "perm = perms[18]\n",
    "lib3 = candidates_[1]\n",
    "added = []\n",
    "removed = []\n",
    "print('added')\n",
    "for c in lib3:\n",
    "    if c not in lib1:\n",
    "        print(c)\n",
    "        added.append(c)\n",
    "print('removed')\n",
    "for c in lib1:\n",
    "    if c not in lib3:\n",
    "        print(c)\n",
    "        removed.append(c)"
   ]
  },
  {
   "cell_type": "code",
   "execution_count": 109,
   "metadata": {},
   "outputs": [
    {
     "data": {
      "text/plain": [
       "('I', 2)"
      ]
     },
     "execution_count": 109,
     "metadata": {},
     "output_type": "execute_result"
    }
   ],
   "source": [
    "perm[41]"
   ]
  },
  {
   "cell_type": "code",
   "execution_count": 110,
   "metadata": {},
   "outputs": [
    {
     "data": {
      "text/plain": [
       "-0.010666966438293457"
      ]
     },
     "execution_count": 110,
     "metadata": {},
     "output_type": "execute_result"
    }
   ],
   "source": [
    "h = opt.mod_lower(lib3, objectives.obj_RHS, perm, *g_args, **g_kwargs)\n",
    "m = opt.mod_upper(lib3, objectives.obj_LHS, lib1, ground, *fn_args)\n",
    "(m[1] - h).item()"
   ]
  },
  {
   "cell_type": "code",
   "execution_count": 83,
   "metadata": {},
   "outputs": [
    {
     "data": {
      "text/plain": [
       "-0.01034998893737793"
      ]
     },
     "execution_count": 83,
     "metadata": {},
     "output_type": "execute_result"
    }
   ],
   "source": [
    "obj_list[23].item()"
   ]
  },
  {
   "cell_type": "code",
   "execution_count": 111,
   "metadata": {},
   "outputs": [
    {
     "data": {
      "text/plain": [
       "-0.010260343551635742"
      ]
     },
     "execution_count": 111,
     "metadata": {},
     "output_type": "execute_result"
    }
   ],
   "source": [
    "objectives.objective(lib3, L, dic, n).item()"
   ]
  },
  {
   "cell_type": "code",
   "execution_count": 112,
   "metadata": {},
   "outputs": [
    {
     "data": {
      "text/plain": [
       "-0.9746916890144348"
      ]
     },
     "execution_count": 112,
     "metadata": {},
     "output_type": "execute_result"
    }
   ],
   "source": [
    "objectives.obj_LHS(lib3, L, dic).item()"
   ]
  },
  {
   "cell_type": "code",
   "execution_count": 117,
   "metadata": {},
   "outputs": [
    {
     "data": {
      "text/plain": [
       "-0.9746916890144348"
      ]
     },
     "execution_count": 117,
     "metadata": {},
     "output_type": "execute_result"
    }
   ],
   "source": [
    "m[1].item()"
   ]
  },
  {
   "cell_type": "code",
   "execution_count": 114,
   "metadata": {},
   "outputs": [
    {
     "data": {
      "text/plain": [
       "-0.9644313454627991"
      ]
     },
     "execution_count": 114,
     "metadata": {},
     "output_type": "execute_result"
    }
   ],
   "source": [
    "objectives.obj_RHS(lib3, L, dic, n).item()"
   ]
  },
  {
   "cell_type": "code",
   "execution_count": 115,
   "metadata": {},
   "outputs": [
    {
     "data": {
      "text/plain": [
       "-0.9640247225761414"
      ]
     },
     "execution_count": 115,
     "metadata": {},
     "output_type": "execute_result"
    }
   ],
   "source": [
    "h.item()"
   ]
  },
  {
   "cell_type": "code",
   "execution_count": 92,
   "metadata": {},
   "outputs": [],
   "source": [
    "# The lower bound fails for some permutations...\n",
    "# Does changing items in the permutation at the end effect anything? Should it?"
   ]
  },
  {
   "cell_type": "code",
   "execution_count": 103,
   "metadata": {},
   "outputs": [
    {
     "data": {
      "text/plain": [
       "('T', 2)"
      ]
     },
     "execution_count": 103,
     "metadata": {},
     "output_type": "execute_result"
    }
   ],
   "source": [
    "perm[42]"
   ]
  },
  {
   "cell_type": "code",
   "execution_count": 98,
   "metadata": {},
   "outputs": [
    {
     "data": {
      "text/plain": [
       "41"
      ]
     },
     "execution_count": 98,
     "metadata": {},
     "output_type": "execute_result"
    }
   ],
   "source": [
    "perm[:41]"
   ]
  },
  {
   "cell_type": "code",
   "execution_count": 118,
   "metadata": {},
   "outputs": [],
   "source": [
    "B = tuple(sorted(lib1))\n",
    "for p in perms:\n",
    "    A = tuple(sorted(p[:41]))\n",
    "    assert A == B"
   ]
  },
  {
   "cell_type": "code",
   "execution_count": 125,
   "metadata": {},
   "outputs": [
    {
     "data": {
      "text/plain": [
       "(tensor(-0.1890), tensor(-0.1888))"
      ]
     },
     "execution_count": 125,
     "metadata": {},
     "output_type": "execute_result"
    }
   ],
   "source": [
    "A = perms[13][:41]\n",
    "B = perms[13][:42]\n",
    "x = perms[13][42]\n",
    "del1 = objectives.obj_RHS(A + [x], L, dic, n) - objectives.obj_RHS(A, L, dic, n)\n",
    "del2 = objectives.obj_RHS(B + [x], L, dic, n) - objectives.obj_RHS(B, L, dic, n)\n",
    "del1, del2"
   ]
  },
  {
   "cell_type": "code",
   "execution_count": 126,
   "metadata": {},
   "outputs": [
    {
     "data": {
      "text/plain": [
       "5670"
      ]
     },
     "execution_count": 126,
     "metadata": {},
     "output_type": "execute_result"
    }
   ],
   "source": [
    "helpers.get_N(A, L)"
   ]
  },
  {
   "cell_type": "code",
   "execution_count": 131,
   "metadata": {},
   "outputs": [
    {
     "data": {
      "text/plain": [
       "tensor([[-0.7386,  0.5874,  0.7542, -0.5349],\n",
       "        [ 0.1037, -0.2985, -0.5463,  1.0685],\n",
       "        [ 0.1611,  1.6024, -0.1498,  0.5626],\n",
       "        [-0.7317,  1.0714, -0.7512, -1.0312],\n",
       "        [-0.6830,  0.3442,  0.5877,  1.4528],\n",
       "        [-0.2115, -1.2897,  1.4389, -0.2047],\n",
       "        [ 0.3044, -0.2894,  0.7601, -0.1009],\n",
       "        [ 0.6436,  0.6820,  0.6647,  1.2048],\n",
       "        [ 0.0238,  0.1157,  0.5046, -0.0459],\n",
       "        [-0.2615, -0.4721,  2.2720,  0.0629]])"
      ]
     },
     "execution_count": 131,
     "metadata": {},
     "output_type": "execute_result"
    }
   ],
   "source": [
    "torch.randn(size=(10, 4))"
   ]
  },
  {
   "cell_type": "code",
   "execution_count": null,
   "metadata": {},
   "outputs": [],
   "source": []
  }
 ],
 "metadata": {
  "kernelspec": {
   "display_name": "Python [conda env:pyro]",
   "language": "python",
   "name": "conda-env-pyro-py"
  },
  "language_info": {
   "codemirror_mode": {
    "name": "ipython",
    "version": 3
   },
   "file_extension": ".py",
   "mimetype": "text/x-python",
   "name": "python",
   "nbconvert_exporter": "python",
   "pygments_lexer": "ipython3",
   "version": "3.6.5"
  }
 },
 "nbformat": 4,
 "nbformat_minor": 2
}
