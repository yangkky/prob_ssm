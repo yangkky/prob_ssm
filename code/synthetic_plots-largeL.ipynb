{
 "cells": [
  {
   "cell_type": "markdown",
   "metadata": {},
   "source": [
    "Tests for mod_mod algo"
   ]
  },
  {
   "cell_type": "code",
   "execution_count": 1,
   "metadata": {},
   "outputs": [],
   "source": [
    "import torch\n",
    "from torch import distributions as dist\n",
    "\n",
    "import itertools\n",
    "import pickle\n",
    "import importlib\n",
    "\n",
    "import itertools\n",
    "import random\n",
    "import math\n",
    "import numpy as np\n",
    "import pandas as pd\n",
    "import scipy\n",
    "\n",
    "import matplotlib.pyplot as plt\n",
    "import seaborn as sns\n",
    "%matplotlib inline\n",
    "sns.set_style('white')\n",
    "sns.set_context('paper')\n",
    "# Plot adjustments:\n",
    "plt.rcParams.update({'ytick.labelsize': 15})\n",
    "plt.rcParams.update({'xtick.labelsize': 15})\n",
    "plt.rcParams.update({'axes.labelsize': 20})\n",
    "plt.rcParams.update({'legend.fontsize': 12})\n",
    "plt.rcParams.update({'axes.titlesize': 16})\n",
    "from gptorch import kernels, models\n",
    "import helpers, opt, objectives"
   ]
  },
  {
   "cell_type": "code",
   "execution_count": 2,
   "metadata": {},
   "outputs": [],
   "source": [
    "torch.set_default_tensor_type(torch.DoubleTensor)"
   ]
  },
  {
   "cell_type": "code",
   "execution_count": 49,
   "metadata": {},
   "outputs": [],
   "source": [
    "aas = 'AB'\n",
    "n_aas = 2\n",
    "L = 15\n",
    "\n",
    "dic = {\n",
    "    'A' * L: torch.tensor(0.99),\n",
    "    'B' * L: torch.tensor(0.95)\n",
    "}\n",
    "\n",
    "torch.manual_seed(0)\n",
    "for k in itertools.product(aas, repeat=L):\n",
    "    k = ''.join(k)\n",
    "    if k in dic:\n",
    "        continue\n",
    "    elif k[:3] == 'AAA':\n",
    "        dic[k] = torch.rand([])\n",
    "    elif k[-3:] == 'BBBB':\n",
    "        dic[k] = torch.rand([])\n",
    "    elif k[4:10] == 'ABBABB':\n",
    "        dic[k] = torch.rand([])\n",
    "    else:\n",
    "        dic[k] = torch.tensor(0.0)\n",
    "        \n",
    "ns = [2, 500, 1000, 2000]"
   ]
  },
  {
   "cell_type": "code",
   "execution_count": 33,
   "metadata": {},
   "outputs": [],
   "source": [
    "ground = [(aa, i) for aa in aas for i in range(L)]"
   ]
  },
  {
   "cell_type": "code",
   "execution_count": 34,
   "metadata": {},
   "outputs": [
    {
     "data": {
      "text/plain": [
       "[('B', 0),\n",
       " ('B', 1),\n",
       " ('B', 2),\n",
       " ('B', 3),\n",
       " ('A', 4),\n",
       " ('B', 5),\n",
       " ('B', 6),\n",
       " ('A', 7),\n",
       " ('B', 8),\n",
       " ('B', 9),\n",
       " ('B', 10),\n",
       " ('A', 11),\n",
       " ('A', 12),\n",
       " ('B', 13),\n",
       " ('A', 14)]"
      ]
     },
     "execution_count": 34,
     "metadata": {},
     "output_type": "execute_result"
    }
   ],
   "source": [
    "seed = helpers.get_seed(dic)\n",
    "seed"
   ]
  },
  {
   "cell_type": "code",
   "execution_count": 35,
   "metadata": {},
   "outputs": [],
   "source": [
    "def ddr(x, n):\n",
    "    return n * (n - 2 * x + 1) * (1 - 1 / x) ** n / (x - 1) ** 2 / x ** 2\n",
    "\n",
    "def get_alpha(dic, n):\n",
    "    probs = np.sort(np.array([dic[k] for k in dic]))\n",
    "    L = len(next(iter(dic.keys())))\n",
    "    S = len(probs)\n",
    "    alpha = 0\n",
    "    for s in range(1, S):\n",
    "        if s % 1000 == 0:\n",
    "            print(s)\n",
    "        candidate = (1 - (1 - 1 / (2 * s)) ** n) - (1 - (1 - 1 / s) ** n)\n",
    "        candidate *= np.sum(probs[:S])\n",
    "        if candidate <= alpha:\n",
    "            alpha = candidate\n",
    "        else:\n",
    "            break\n",
    "    return alpha"
   ]
  },
  {
   "cell_type": "code",
   "execution_count": 36,
   "metadata": {},
   "outputs": [
    {
     "name": "stdout",
     "output_type": "stream",
     "text": [
      "1\n",
      "32768\n",
      "32\n",
      "128\n",
      "1024\n"
     ]
    }
   ],
   "source": [
    "np.random.seed(402136)\n",
    "\n",
    "M = [[int(np.random.random() * 2 + 1) for _ in range(L)] for _ in range(3)]\n",
    "inds = [[np.random.choice(n_aas, m, replace=False) * L + i for i, m in enumerate(mm)] for mm in M]\n",
    "inds = [list(itertools.chain.from_iterable(ind)) for ind in inds]\n",
    "libs = [[ground[i] for i in lib] for lib in inds]\n",
    "libs\n",
    "starts = [seed, ground]\n",
    "starts += [lib for lib in libs]\n",
    "for s in starts:\n",
    "    print(helpers.get_N(s, L))\n",
    "# starts = [seed, ground]\n",
    "# for m in [10, 15, 20]:\n",
    "#     A = np.random.choice(L * n_aas, m, replace=False)\n",
    "#     A = [ground[a] for a in A]\n",
    "#     starts.append(A)\n"
   ]
  },
  {
   "cell_type": "code",
   "execution_count": 50,
   "metadata": {},
   "outputs": [
    {
     "data": {
      "text/plain": [
       "[tensor(0.1250), tensor(1.00000e-06 *\n",
       "        1.6797), tensor(1.00000e-07 *\n",
       "        4.1994), tensor(1.00000e-07 *\n",
       "        1.0498)]"
      ]
     },
     "execution_count": 50,
     "metadata": {},
     "output_type": "execute_result"
    }
   ],
   "source": [
    "def ddr(x, n):\n",
    "    return n * (n - 2 * x + 1) * (1 - 1 / x) ** n / (x - 1) ** 2 / x ** 2\n",
    "\n",
    "alphas = [scipy.optimize.minimize(ddr, 500, args=(n,), method='Powell')['fun'] for n in ns]\n",
    "alphas = [-torch.Tensor(alpha) for alpha in alphas]\n",
    "alphas"
   ]
  },
  {
   "cell_type": "code",
   "execution_count": 40,
   "metadata": {},
   "outputs": [
    {
     "name": "stdout",
     "output_type": "stream",
     "text": [
      "1000\n",
      "CPU times: user 470 ms, sys: 5.91 ms, total: 476 ms\n",
      "Wall time: 474 ms\n"
     ]
    },
    {
     "data": {
      "text/plain": [
       "[711.1050353969392, 569.4310849076033, 569.1574254840262, 569.020716704798]"
      ]
     },
     "execution_count": 40,
     "metadata": {},
     "output_type": "execute_result"
    }
   ],
   "source": [
    "def get_alpha(dic, n):\n",
    "    probs = np.sort(np.array([dic[k] for k in dic]))\n",
    "    L = len(next(iter(dic.keys())))\n",
    "    S = len(probs)\n",
    "    alpha = 0\n",
    "    for s in range(1, S):\n",
    "        if s % 1000 == 0:\n",
    "            print(s)\n",
    "        candidate = (1 - (1 - 1 / (2 * s)) ** n) - (1 - (1 - 1 / s) ** n)\n",
    "        candidate *= np.sum(probs[:S])\n",
    "        if candidate <= alpha:\n",
    "            alpha = candidate\n",
    "        else:\n",
    "            break\n",
    "    return alpha\n",
    "\n",
    "    \n",
    "%time alphas2 = [-get_alpha(dic, n) for n in ns]\n",
    "alphas2"
   ]
  },
  {
   "cell_type": "code",
   "execution_count": 41,
   "metadata": {},
   "outputs": [],
   "source": [
    "S = L * n_aas\n",
    "S = torch.tensor(S).double()\n",
    "beta = 2 * torch.sqrt(S - 1) - torch.sqrt(S) - torch.sqrt(S - 2)"
   ]
  },
  {
   "cell_type": "code",
   "execution_count": 51,
   "metadata": {},
   "outputs": [],
   "source": [
    "df = pd.DataFrame(columns=['n', 'start', 'L', 'algorithm', 'obj'])"
   ]
  },
  {
   "cell_type": "code",
   "execution_count": 52,
   "metadata": {},
   "outputs": [
    {
     "name": "stdout",
     "output_type": "stream",
     "text": [
      "CPU times: user 9.58 s, sys: 56.7 ms, total: 9.63 s\n",
      "Wall time: 9.67 s\n"
     ]
    }
   ],
   "source": [
    "%%time\n",
    "for n in ns:\n",
    "    for S in starts:\n",
    "        _, objs = opt.greedy(ground, S, objectives.objective, obj_args=(L, dic, n))\n",
    "        other = pd.DataFrame([[n, S, L, 'gr', objs[-1]]], columns=df.columns)\n",
    "        df = df.append(other)\n",
    "        \n",
    "for n in ns:\n",
    "    for S in starts:\n",
    "        _, objs = opt.greedy_add(ground, S, objectives.objective, obj_args=(L, dic, n))\n",
    "        other = pd.DataFrame([[n, S, L, 'gr_add', objs[-1]]], columns=df.columns)\n",
    "        df = df.append(other)\n",
    "        \n",
    "\n",
    "for n in ns:\n",
    "    for S in starts:\n",
    "        _, objs = opt.greedy_add(ground, S, objectives.objective, obj_args=(L, dic, n), remove=True)\n",
    "        other = pd.DataFrame([[n, S, L, 'gr_rem', objs[-1]]], columns=df.columns)\n",
    "        df = df.append(other)"
   ]
  },
  {
   "cell_type": "code",
   "execution_count": 53,
   "metadata": {},
   "outputs": [
    {
     "name": "stdout",
     "output_type": "stream",
     "text": [
      "2\n",
      "500\n",
      "1000\n",
      "2000\n",
      "CPU times: user 39min 16s, sys: 1min 55s, total: 41min 11s\n",
      "Wall time: 47min 41s\n"
     ]
    }
   ],
   "source": [
    "%%time\n",
    "opt = importlib.reload(opt)\n",
    "dc_list = []\n",
    "\n",
    "for alpha, n in zip(alphas, ns):\n",
    "    print(n)\n",
    "    for S in starts:\n",
    "        X_list, objs = opt.mod_mod(ground, S, objectives.objective, args=(L, dic, n), dec='dc', alpha=alpha,\n",
    "                            beta=beta, verbose=False)\n",
    "        other = pd.DataFrame([[n, S, L, 'SS-dc', objs[-1]]], columns=df.columns)\n",
    "        df = df.append(other)\n",
    "        dc_list.append([S, X_list, n, alpha])"
   ]
  },
  {
   "cell_type": "code",
   "execution_count": 54,
   "metadata": {},
   "outputs": [
    {
     "name": "stdout",
     "output_type": "stream",
     "text": [
      "2\n",
      "500\n",
      "1000\n",
      "2000\n",
      "CPU times: user 39min 6s, sys: 1min 59s, total: 41min 6s\n",
      "Wall time: 46min 44s\n"
     ]
    }
   ],
   "source": [
    "%%time\n",
    "opt = importlib.reload(opt)\n",
    "ds_list = []\n",
    "\n",
    "for alpha, n in zip(alphas2, ns):\n",
    "    print(n)\n",
    "    for S in starts:\n",
    "        X_list, objs = opt.mod_mod(ground, S, objectives.objective, args=(L, dic, n), dec='dc', alpha=alpha,\n",
    "                            beta=beta, verbose=False)\n",
    "        other = pd.DataFrame([[n, S, L, 'SS-ds', objs[-1]]], columns=df.columns)\n",
    "        df = df.append(other)\n",
    "        ds_list.append([S, X_list, n, alpha])"
   ]
  },
  {
   "cell_type": "code",
   "execution_count": 55,
   "metadata": {},
   "outputs": [],
   "source": [
    "# Fix the SS vs MM\n",
    "to_replace = ['SS-dc', 'SS-ds', 'gr', 'gr_add', 'gr_rem']\n",
    "values = ['LBDC', 'LBDS', 'greedy', 'add', 'rem']\n",
    "df['algorithm'] = df['algorithm'].replace(to_replace=to_replace, value=values)"
   ]
  },
  {
   "cell_type": "code",
   "execution_count": 56,
   "metadata": {
    "scrolled": true
   },
   "outputs": [],
   "source": [
    "results = {\n",
    "    'df':df,\n",
    "    'ds_list': ds_list,\n",
    "    'dc_list': dc_list\n",
    "}\n",
    "\n",
    "with open('../outputs/20181018_synthetic_opt15.pkl', 'wb') as f:\n",
    "    pickle.dump(results, f)"
   ]
  },
  {
   "cell_type": "code",
   "execution_count": 57,
   "metadata": {},
   "outputs": [],
   "source": [
    "with open('../outputs/20181018_synthetic_opt15.pkl', 'rb') as f:\n",
    "    results = pickle.load(f)\n",
    "df = results['df']"
   ]
  },
  {
   "cell_type": "code",
   "execution_count": 68,
   "metadata": {},
   "outputs": [
    {
     "data": {
      "image/png": "[encoded data removed]",
      "text/plain": [
       "<Figure size 432x288 with 1 Axes>"
      ]
     },
     "metadata": {},
     "output_type": "display_data"
    }
   ],
   "source": [
    "fig, ax = plt.subplots(1, 1)\n",
    "pal = sns.color_palette()\n",
    "lab_dict = {\n",
    "    'greedy': 'Greedy',\n",
    "    'add': 'Greedy-Add', \n",
    "    'rem': 'Greedy-Rem',\n",
    "    'LBDS': 'DSOpt-SA',\n",
    "    'LBDC': 'DSOpt-DC'\n",
    "}\n",
    "for c, al in zip(pal, sorted(set(df['algorithm']))[::-1]):\n",
    "    if al == 'greedy':\n",
    "        continue\n",
    "    df_ = df[df['algorithm'] == al]\n",
    "    means = [np.mean(df_[df_['n'] == n]['obj']) for n in ns]\n",
    "    stds = [np.std(df_[df_['n'] == n]['obj']) for n in ns]\n",
    "    maxes = [np.max(df_[df_['n'] == n]['obj']) for n in ns]\n",
    "    mins = [np.min(df_[df_['n'] == n]['obj']) for n in ns]\n",
    "#     _ = ax.plot(ns, mins, color=c)\n",
    "    _ = ax.errorbar(ns, -np.array(means), yerr=stds / np.sqrt(len(starts)), fmt='-o', \n",
    "                    label=lab_dict[al], capsize=2, color=c)\n",
    "#     _ = ax.fill_between(ns, maxes, mins, color=c, alpha=0.3)\n",
    "_ = ax.set_xlabel(r'$n$')\n",
    "_ = ax.set_ylabel(r'$\\hat{F}(S)$')\n",
    "_ = ax.legend()\n",
    "_ = fig.tight_layout()\n",
    "_ = fig.savefig('../outputs/synthetic_objectives15.pdf')"
   ]
  },
  {
   "cell_type": "code",
   "execution_count": 67,
   "metadata": {},
   "outputs": [
    {
     "data": {
      "text/html": [
       "<div>\n",
       "<style scoped>\n",
       "    .dataframe tbody tr th:only-of-type {\n",
       "        vertical-align: middle;\n",
       "    }\n",
       "\n",
       "    .dataframe tbody tr th {\n",
       "        vertical-align: top;\n",
       "    }\n",
       "\n",
       "    .dataframe thead th {\n",
       "        text-align: right;\n",
       "    }\n",
       "</style>\n",
       "<table border=\"1\" class=\"dataframe\">\n",
       "  <thead>\n",
       "    <tr style=\"text-align: right;\">\n",
       "      <th></th>\n",
       "      <th>n</th>\n",
       "      <th>start</th>\n",
       "      <th>L</th>\n",
       "      <th>algorithm</th>\n",
       "      <th>obj</th>\n",
       "    </tr>\n",
       "  </thead>\n",
       "  <tbody>\n",
       "    <tr>\n",
       "      <th>0</th>\n",
       "      <td>2</td>\n",
       "      <td>[(B, 0), (B, 1), (B, 2), (B, 3), (A, 4), (B, 5...</td>\n",
       "      <td>15</td>\n",
       "      <td>greedy</td>\n",
       "      <td>tensor(-1.3102)</td>\n",
       "    </tr>\n",
       "    <tr>\n",
       "      <th>0</th>\n",
       "      <td>2</td>\n",
       "      <td>[(A, 0), (B, 0), (A, 1), (B, 1), (A, 2), (B, 2...</td>\n",
       "      <td>15</td>\n",
       "      <td>greedy</td>\n",
       "      <td>tensor(-1.4394)</td>\n",
       "    </tr>\n",
       "    <tr>\n",
       "      <th>0</th>\n",
       "      <td>2</td>\n",
       "      <td>[(A, 0), (B, 1), (B, 2), (A, 2), (B, 3), (A, 4...</td>\n",
       "      <td>15</td>\n",
       "      <td>greedy</td>\n",
       "      <td>tensor(-1.3533)</td>\n",
       "    </tr>\n",
       "    <tr>\n",
       "      <th>0</th>\n",
       "      <td>2</td>\n",
       "      <td>[(A, 0), (B, 0), (A, 1), (A, 2), (B, 3), (A, 3...</td>\n",
       "      <td>15</td>\n",
       "      <td>greedy</td>\n",
       "      <td>tensor(-1.4835)</td>\n",
       "    </tr>\n",
       "    <tr>\n",
       "      <th>0</th>\n",
       "      <td>2</td>\n",
       "      <td>[(B, 0), (A, 0), (B, 1), (A, 2), (B, 2), (B, 3...</td>\n",
       "      <td>15</td>\n",
       "      <td>greedy</td>\n",
       "      <td>tensor(-1.5904)</td>\n",
       "    </tr>\n",
       "    <tr>\n",
       "      <th>0</th>\n",
       "      <td>500</td>\n",
       "      <td>[(B, 0), (B, 1), (B, 2), (B, 3), (A, 4), (B, 5...</td>\n",
       "      <td>15</td>\n",
       "      <td>greedy</td>\n",
       "      <td>tensor(-153.0064)</td>\n",
       "    </tr>\n",
       "    <tr>\n",
       "      <th>0</th>\n",
       "      <td>500</td>\n",
       "      <td>[(A, 0), (B, 0), (A, 1), (B, 1), (A, 2), (B, 2...</td>\n",
       "      <td>15</td>\n",
       "      <td>greedy</td>\n",
       "      <td>tensor(-236.7804)</td>\n",
       "    </tr>\n",
       "    <tr>\n",
       "      <th>0</th>\n",
       "      <td>500</td>\n",
       "      <td>[(A, 0), (B, 1), (B, 2), (A, 2), (B, 3), (A, 4...</td>\n",
       "      <td>15</td>\n",
       "      <td>greedy</td>\n",
       "      <td>tensor(-236.7804)</td>\n",
       "    </tr>\n",
       "    <tr>\n",
       "      <th>0</th>\n",
       "      <td>500</td>\n",
       "      <td>[(A, 0), (B, 0), (A, 1), (A, 2), (B, 3), (A, 3...</td>\n",
       "      <td>15</td>\n",
       "      <td>greedy</td>\n",
       "      <td>tensor(-236.7804)</td>\n",
       "    </tr>\n",
       "    <tr>\n",
       "      <th>0</th>\n",
       "      <td>500</td>\n",
       "      <td>[(B, 0), (A, 0), (B, 1), (A, 2), (B, 2), (B, 3...</td>\n",
       "      <td>15</td>\n",
       "      <td>greedy</td>\n",
       "      <td>tensor(-236.7804)</td>\n",
       "    </tr>\n",
       "    <tr>\n",
       "      <th>0</th>\n",
       "      <td>1000</td>\n",
       "      <td>[(B, 0), (B, 1), (B, 2), (B, 3), (A, 4), (B, 5...</td>\n",
       "      <td>15</td>\n",
       "      <td>greedy</td>\n",
       "      <td>tensor(-210.5741)</td>\n",
       "    </tr>\n",
       "    <tr>\n",
       "      <th>0</th>\n",
       "      <td>1000</td>\n",
       "      <td>[(A, 0), (B, 0), (A, 1), (B, 1), (A, 2), (B, 2...</td>\n",
       "      <td>15</td>\n",
       "      <td>greedy</td>\n",
       "      <td>tensor(-446.3483)</td>\n",
       "    </tr>\n",
       "    <tr>\n",
       "      <th>0</th>\n",
       "      <td>1000</td>\n",
       "      <td>[(A, 0), (B, 1), (B, 2), (A, 2), (B, 3), (A, 4...</td>\n",
       "      <td>15</td>\n",
       "      <td>greedy</td>\n",
       "      <td>tensor(-446.3483)</td>\n",
       "    </tr>\n",
       "    <tr>\n",
       "      <th>0</th>\n",
       "      <td>1000</td>\n",
       "      <td>[(A, 0), (B, 0), (A, 1), (A, 2), (B, 3), (A, 3...</td>\n",
       "      <td>15</td>\n",
       "      <td>greedy</td>\n",
       "      <td>tensor(-446.3483)</td>\n",
       "    </tr>\n",
       "    <tr>\n",
       "      <th>0</th>\n",
       "      <td>1000</td>\n",
       "      <td>[(B, 0), (A, 0), (B, 1), (A, 2), (B, 2), (B, 3...</td>\n",
       "      <td>15</td>\n",
       "      <td>greedy</td>\n",
       "      <td>tensor(-446.3483)</td>\n",
       "    </tr>\n",
       "    <tr>\n",
       "      <th>0</th>\n",
       "      <td>2000</td>\n",
       "      <td>[(B, 0), (B, 1), (B, 2), (B, 3), (A, 4), (B, 5...</td>\n",
       "      <td>15</td>\n",
       "      <td>greedy</td>\n",
       "      <td>tensor(-241.0624)</td>\n",
       "    </tr>\n",
       "    <tr>\n",
       "      <th>0</th>\n",
       "      <td>2000</td>\n",
       "      <td>[(A, 0), (B, 0), (A, 1), (B, 1), (A, 2), (B, 2...</td>\n",
       "      <td>15</td>\n",
       "      <td>greedy</td>\n",
       "      <td>tensor(-795.9971)</td>\n",
       "    </tr>\n",
       "    <tr>\n",
       "      <th>0</th>\n",
       "      <td>2000</td>\n",
       "      <td>[(A, 0), (B, 1), (B, 2), (A, 2), (B, 3), (A, 4...</td>\n",
       "      <td>15</td>\n",
       "      <td>greedy</td>\n",
       "      <td>tensor(-795.9971)</td>\n",
       "    </tr>\n",
       "    <tr>\n",
       "      <th>0</th>\n",
       "      <td>2000</td>\n",
       "      <td>[(A, 0), (B, 0), (A, 1), (A, 2), (B, 3), (A, 3...</td>\n",
       "      <td>15</td>\n",
       "      <td>greedy</td>\n",
       "      <td>tensor(-795.9971)</td>\n",
       "    </tr>\n",
       "    <tr>\n",
       "      <th>0</th>\n",
       "      <td>2000</td>\n",
       "      <td>[(B, 0), (A, 0), (B, 1), (A, 2), (B, 2), (B, 3...</td>\n",
       "      <td>15</td>\n",
       "      <td>greedy</td>\n",
       "      <td>tensor(-795.9971)</td>\n",
       "    </tr>\n",
       "  </tbody>\n",
       "</table>\n",
       "</div>"
      ],
      "text/plain": [
       "      n                                              start   L algorithm  \\\n",
       "0     2  [(B, 0), (B, 1), (B, 2), (B, 3), (A, 4), (B, 5...  15    greedy   \n",
       "0     2  [(A, 0), (B, 0), (A, 1), (B, 1), (A, 2), (B, 2...  15    greedy   \n",
       "0     2  [(A, 0), (B, 1), (B, 2), (A, 2), (B, 3), (A, 4...  15    greedy   \n",
       "0     2  [(A, 0), (B, 0), (A, 1), (A, 2), (B, 3), (A, 3...  15    greedy   \n",
       "0     2  [(B, 0), (A, 0), (B, 1), (A, 2), (B, 2), (B, 3...  15    greedy   \n",
       "0   500  [(B, 0), (B, 1), (B, 2), (B, 3), (A, 4), (B, 5...  15    greedy   \n",
       "0   500  [(A, 0), (B, 0), (A, 1), (B, 1), (A, 2), (B, 2...  15    greedy   \n",
       "0   500  [(A, 0), (B, 1), (B, 2), (A, 2), (B, 3), (A, 4...  15    greedy   \n",
       "0   500  [(A, 0), (B, 0), (A, 1), (A, 2), (B, 3), (A, 3...  15    greedy   \n",
       "0   500  [(B, 0), (A, 0), (B, 1), (A, 2), (B, 2), (B, 3...  15    greedy   \n",
       "0  1000  [(B, 0), (B, 1), (B, 2), (B, 3), (A, 4), (B, 5...  15    greedy   \n",
       "0  1000  [(A, 0), (B, 0), (A, 1), (B, 1), (A, 2), (B, 2...  15    greedy   \n",
       "0  1000  [(A, 0), (B, 1), (B, 2), (A, 2), (B, 3), (A, 4...  15    greedy   \n",
       "0  1000  [(A, 0), (B, 0), (A, 1), (A, 2), (B, 3), (A, 3...  15    greedy   \n",
       "0  1000  [(B, 0), (A, 0), (B, 1), (A, 2), (B, 2), (B, 3...  15    greedy   \n",
       "0  2000  [(B, 0), (B, 1), (B, 2), (B, 3), (A, 4), (B, 5...  15    greedy   \n",
       "0  2000  [(A, 0), (B, 0), (A, 1), (B, 1), (A, 2), (B, 2...  15    greedy   \n",
       "0  2000  [(A, 0), (B, 1), (B, 2), (A, 2), (B, 3), (A, 4...  15    greedy   \n",
       "0  2000  [(A, 0), (B, 0), (A, 1), (A, 2), (B, 3), (A, 3...  15    greedy   \n",
       "0  2000  [(B, 0), (A, 0), (B, 1), (A, 2), (B, 2), (B, 3...  15    greedy   \n",
       "\n",
       "                 obj  \n",
       "0    tensor(-1.3102)  \n",
       "0    tensor(-1.4394)  \n",
       "0    tensor(-1.3533)  \n",
       "0    tensor(-1.4835)  \n",
       "0    tensor(-1.5904)  \n",
       "0  tensor(-153.0064)  \n",
       "0  tensor(-236.7804)  \n",
       "0  tensor(-236.7804)  \n",
       "0  tensor(-236.7804)  \n",
       "0  tensor(-236.7804)  \n",
       "0  tensor(-210.5741)  \n",
       "0  tensor(-446.3483)  \n",
       "0  tensor(-446.3483)  \n",
       "0  tensor(-446.3483)  \n",
       "0  tensor(-446.3483)  \n",
       "0  tensor(-241.0624)  \n",
       "0  tensor(-795.9971)  \n",
       "0  tensor(-795.9971)  \n",
       "0  tensor(-795.9971)  \n",
       "0  tensor(-795.9971)  "
      ]
     },
     "execution_count": 67,
     "metadata": {},
     "output_type": "execute_result"
    }
   ],
   "source": [
    "df[df['algorithm'] == 'greedy']"
   ]
  },
  {
   "cell_type": "code",
   "execution_count": null,
   "metadata": {},
   "outputs": [],
   "source": []
  }
 ],
 "metadata": {
  "kernelspec": {
   "display_name": "Python [conda env:pyro]",
   "language": "python",
   "name": "conda-env-pyro-py"
  },
  "language_info": {
   "codemirror_mode": {
    "name": "ipython",
    "version": 3
   },
   "file_extension": ".py",
   "mimetype": "text/x-python",
   "name": "python",
   "nbconvert_exporter": "python",
   "pygments_lexer": "ipython3",
   "version": "3.6.5"
  }
 },
 "nbformat": 4,
 "nbformat_minor": 2
}
