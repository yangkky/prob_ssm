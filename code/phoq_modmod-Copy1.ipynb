{
 "cells": [
  {
   "cell_type": "markdown",
   "metadata": {},
   "source": [
    "Implements algorithm 3 (ModMod) from Algorithms for \"Approx Min of the Difference Between Submodular Fncs with Applications.\"\n",
    "\n",
    "For prob_ssm"
   ]
  },
  {
   "cell_type": "code",
   "execution_count": 10,
   "metadata": {},
   "outputs": [],
   "source": [
    "import torch\n",
    "from torch import distributions as dist\n",
    "\n",
    "import itertools\n",
    "import pickle\n",
    "import operator\n",
    "import importlib\n",
    "\n",
    "import random\n",
    "import math\n",
    "import numpy as np\n",
    "import pandas as pd\n",
    "import scipy\n",
    "\n",
    "import matplotlib.pyplot as plt\n",
    "import seaborn as sns\n",
    "%matplotlib inline\n",
    "sns.set_style('white')\n",
    "sns.set_context('paper')\n",
    "# Plot adjustments:\n",
    "plt.rcParams.update({'ytick.labelsize': 15})\n",
    "plt.rcParams.update({'xtick.labelsize': 15})\n",
    "plt.rcParams.update({'axes.labelsize': 35})\n",
    "plt.rcParams.update({'legend.fontsize': 30})\n",
    "plt.rcParams.update({'axes.titlesize': 16})\n",
    "\n",
    "from gptorch import kernels, models\n",
    "\n",
    "import helpers, opt, bases"
   ]
  },
  {
   "cell_type": "code",
   "execution_count": 2,
   "metadata": {},
   "outputs": [],
   "source": [
    "with open('../inputs/phoq.pkl', 'rb') as f:\n",
    "    t = pickle.load(f)\n",
    "\n",
    "X = t[0] # one-hot encoding of X\n",
    "T = t[1] # tokenized encoding of X\n",
    "y = t[2].values"
   ]
  },
  {
   "cell_type": "code",
   "execution_count": 3,
   "metadata": {},
   "outputs": [],
   "source": [
    "wt = helpers.decode_X(X[150614])  # wt as string\n",
    "aas = 'ARNDCQEGHILKMFPSTWYV'"
   ]
  },
  {
   "cell_type": "code",
   "execution_count": 4,
   "metadata": {},
   "outputs": [],
   "source": [
    "seq_to_x = {}\n",
    "for i, x in enumerate(X):\n",
    "    seq = helpers.decode_X(x)\n",
    "    seq_to_x[seq] = i"
   ]
  },
  {
   "cell_type": "code",
   "execution_count": 29,
   "metadata": {},
   "outputs": [],
   "source": [
    "singles = [wt[:i] + aas[j] + wt[i+1:] for i in range(4) for j in range(20)]\n",
    "train_seqs = [wt] + singles\n",
    "train_inds = [seq_to_x[seq] for seq in train_seqs]\n",
    "np.random.seed(100)\n",
    "train_inds += list(np.random.choice(len(X), 100, replace=True)) # generate random indices for 100 X's to sample from\n",
    "\n",
    "X_train = X[train_inds]\n",
    "y_train = y[train_inds]\n",
    "X_test = X\n",
    "y_true = y"
   ]
  },
  {
   "cell_type": "code",
   "execution_count": 6,
   "metadata": {},
   "outputs": [],
   "source": [
    "ground = [(aa, i) for aa in aas for i in range(4)]"
   ]
  },
  {
   "cell_type": "code",
   "execution_count": 8,
   "metadata": {},
   "outputs": [],
   "source": [
    "def seqs_from_set(chosen, L):\n",
    "    pos = [[c[0] for c in chosen if c[1] == p] for p in range(L)]\n",
    "    return [''.join(s) for s in itertools.product(*pos)]"
   ]
  },
  {
   "cell_type": "code",
   "execution_count": 30,
   "metadata": {
    "scrolled": true
   },
   "outputs": [
    {
     "name": "stdout",
     "output_type": "stream",
     "text": [
      "Round 0\n",
      "Iteration 500 of 500\tNLML: 37.3494\tsn: 0.165943\t\n",
      "Iteration 0\t obj = -20.486116\t\n",
      "Iteration 1\t obj = -20.486115\n",
      "Iteration 2\t obj = -20.486115\n",
      "Round 1\n",
      "Iteration 500 of 500\tNLML: 2.7113\tsn: 0.480295\t\t\n",
      "Iteration 0\t obj = -17.864445\t\n",
      "Iteration 1\t obj = -17.864449\n",
      "Iteration 2\t obj = -17.864449\n",
      "Round 2\n",
      "Iteration 500 of 500\tNLML: -11.5406\tsn: 0.472299\t\n",
      "Iteration 0\t obj = -15.724091\t\n",
      "Iteration 1\t obj = -15.724092\n",
      "Iteration 2\t obj = -15.724094\n",
      "Iteration 3\t obj = -15.724092\n",
      "Iteration 4\t obj = -15.724092\n",
      "Round 3\n",
      "Iteration 500 of 500\tNLML: -20.3149\tsn: 0.467085\t\n",
      "Iteration 0\t obj = -15.576752\t\n",
      "Iteration 1\t obj = -15.576748\n",
      "Iteration 2\t obj = -15.576746\n",
      "Iteration 3\t obj = -15.576748\n",
      "Iteration 4\t obj = -15.576746\n",
      "Iteration 5\t obj = -15.576752\n",
      "Iteration 6\t obj = -15.576748\n",
      "Iteration 7\t obj = -15.576748\n"
     ]
    }
   ],
   "source": [
    "helpers = importlib.reload(helpers)\n",
    "opt = importlib.reload(opt)\n",
    "\n",
    "rounds = 4\n",
    "L = 4\n",
    "n = 100\n",
    "\n",
    "observed_inds = [train_inds]\n",
    "X_sampled = [X[train_inds]]\n",
    "y_sampled = [y[train_inds]]\n",
    "\n",
    "\n",
    "libraries = []\n",
    "histories = []\n",
    "\n",
    "for rou in range(rounds):\n",
    "    print('Round %d' %rou)\n",
    "    inds = sorted(set(itertools.chain(*observed_inds)))\n",
    "    dic, _ = helpers.get_predictions(X[inds], y[inds], X_test, its=500)\n",
    "    print()\n",
    "    seed = helpers.get_seed(dic)\n",
    "    center, obj = bases.greedy(dic, seed, n, L)\n",
    "    chosen, h = opt.mod_mod(ground, opt.obj_LHS, opt.obj_RHS, center, \n",
    "                       fn_args=(L, dic), g_args=(L, dic, n), verbose=True)\n",
    "    libraries.append(chosen)\n",
    "    histories.append(h)\n",
    "    seqs = seqs_from_set(chosen, L)\n",
    "    inds = np.random.choice(len(seqs), n, replace=True)\n",
    "    sampled_seqs = [seqs[i] for i in inds]\n",
    "    inds = [seq_to_x[s] for s in sampled_seqs]\n",
    "    X_sampled.append(X[inds])\n",
    "    y_sampled.append(y[inds])\n",
    "    observed_inds.append(inds)\n",
    "    \n",
    "    "
   ]
  },
  {
   "cell_type": "code",
   "execution_count": 31,
   "metadata": {},
   "outputs": [
    {
     "data": {
      "text/plain": [
       "[[('T', 0),\n",
       "  ('S', 0),\n",
       "  ('R', 1),\n",
       "  ('S', 1),\n",
       "  ('D', 1),\n",
       "  ('T', 1),\n",
       "  ('Q', 1),\n",
       "  ('S', 2),\n",
       "  ('R', 2),\n",
       "  ('S', 3),\n",
       "  ('T', 3),\n",
       "  ('W', 3),\n",
       "  ('L', 3),\n",
       "  ('Q', 3),\n",
       "  ('I', 3),\n",
       "  ('Y', 3),\n",
       "  ('E', 3),\n",
       "  ('K', 3)],\n",
       " [('T', 0),\n",
       "  ('S', 0),\n",
       "  ('S', 1),\n",
       "  ('D', 1),\n",
       "  ('T', 1),\n",
       "  ('R', 1),\n",
       "  ('Q', 1),\n",
       "  ('S', 2),\n",
       "  ('R', 2),\n",
       "  ('W', 3),\n",
       "  ('S', 3),\n",
       "  ('L', 3),\n",
       "  ('Q', 3),\n",
       "  ('I', 3),\n",
       "  ('K', 3),\n",
       "  ('E', 3),\n",
       "  ('T', 3)],\n",
       " [('T', 0),\n",
       "  ('S', 0),\n",
       "  ('D', 1),\n",
       "  ('S', 1),\n",
       "  ('T', 1),\n",
       "  ('R', 1),\n",
       "  ('Q', 1),\n",
       "  ('S', 2),\n",
       "  ('R', 2),\n",
       "  ('W', 3),\n",
       "  ('L', 3),\n",
       "  ('S', 3),\n",
       "  ('Q', 3),\n",
       "  ('I', 3),\n",
       "  ('K', 3),\n",
       "  ('E', 3),\n",
       "  ('T', 3),\n",
       "  ('C', 3)],\n",
       " [('T', 0),\n",
       "  ('S', 0),\n",
       "  ('D', 1),\n",
       "  ('S', 1),\n",
       "  ('R', 1),\n",
       "  ('T', 1),\n",
       "  ('Q', 1),\n",
       "  ('S', 2),\n",
       "  ('R', 2),\n",
       "  ('L', 3),\n",
       "  ('W', 3),\n",
       "  ('S', 3),\n",
       "  ('Q', 3),\n",
       "  ('I', 3),\n",
       "  ('K', 3),\n",
       "  ('E', 3),\n",
       "  ('T', 3)]]"
      ]
     },
     "execution_count": 31,
     "metadata": {},
     "output_type": "execute_result"
    }
   ],
   "source": [
    "libraries"
   ]
  },
  {
   "cell_type": "code",
   "execution_count": 36,
   "metadata": {},
   "outputs": [
    {
     "data": {
      "text/plain": [
       "[tensor(-20.4861), tensor(-17.8644), tensor(-15.7241), tensor(-15.5767)]"
      ]
     },
     "execution_count": 36,
     "metadata": {},
     "output_type": "execute_result"
    }
   ],
   "source": [
    "[h[-1] for h in histories]"
   ]
  },
  {
   "cell_type": "code",
   "execution_count": 33,
   "metadata": {},
   "outputs": [
    {
     "data": {
      "text/html": [
       "<div>\n",
       "<style scoped>\n",
       "    .dataframe tbody tr th:only-of-type {\n",
       "        vertical-align: middle;\n",
       "    }\n",
       "\n",
       "    .dataframe tbody tr th {\n",
       "        vertical-align: top;\n",
       "    }\n",
       "\n",
       "    .dataframe thead th {\n",
       "        text-align: right;\n",
       "    }\n",
       "</style>\n",
       "<table border=\"1\" class=\"dataframe\">\n",
       "  <thead>\n",
       "    <tr style=\"text-align: right;\">\n",
       "      <th></th>\n",
       "      <th>y</th>\n",
       "      <th>round</th>\n",
       "    </tr>\n",
       "  </thead>\n",
       "  <tbody>\n",
       "    <tr>\n",
       "      <th>0</th>\n",
       "      <td>-2.982025</td>\n",
       "      <td>0</td>\n",
       "    </tr>\n",
       "    <tr>\n",
       "      <th>1</th>\n",
       "      <td>-2.982025</td>\n",
       "      <td>0</td>\n",
       "    </tr>\n",
       "    <tr>\n",
       "      <th>2</th>\n",
       "      <td>-5.000000</td>\n",
       "      <td>0</td>\n",
       "    </tr>\n",
       "    <tr>\n",
       "      <th>3</th>\n",
       "      <td>-3.216056</td>\n",
       "      <td>0</td>\n",
       "    </tr>\n",
       "    <tr>\n",
       "      <th>4</th>\n",
       "      <td>-5.000000</td>\n",
       "      <td>0</td>\n",
       "    </tr>\n",
       "  </tbody>\n",
       "</table>\n",
       "</div>"
      ],
      "text/plain": [
       "          y  round\n",
       "0 -2.982025      0\n",
       "1 -2.982025      0\n",
       "2 -5.000000      0\n",
       "3 -3.216056      0\n",
       "4 -5.000000      0"
      ]
     },
     "execution_count": 33,
     "metadata": {},
     "output_type": "execute_result"
    }
   ],
   "source": [
    "df = pd.DataFrame(np.concatenate(y_sampled), columns=['y'])\n",
    "df['round'] = [0] * (81 + n) + [1] * n + [2] * n + [3] * n + [4] * n\n",
    "df.head()\n"
   ]
  },
  {
   "cell_type": "code",
   "execution_count": 34,
   "metadata": {},
   "outputs": [
    {
     "data": {
      "image/png": "[encoded data removed]",
      "text/plain": [
       "<Figure size 432x288 with 1 Axes>"
      ]
     },
     "metadata": {},
     "output_type": "display_data"
    }
   ],
   "source": [
    "_ = sns.swarmplot(data=df, x='round', y='y')"
   ]
  },
  {
   "cell_type": "code",
   "execution_count": 35,
   "metadata": {},
   "outputs": [
    {
     "data": {
      "text/plain": [
       "[1.2350148061910993,\n",
       " 1.3903574303810153,\n",
       " 1.470634792232138,\n",
       " 1.470634792232138,\n",
       " 1.410835623803914]"
      ]
     },
     "execution_count": 35,
     "metadata": {},
     "output_type": "execute_result"
    }
   ],
   "source": [
    "[max(yy) for yy in y_sampled]"
   ]
  },
  {
   "cell_type": "code",
   "execution_count": 37,
   "metadata": {},
   "outputs": [
    {
     "data": {
      "text/plain": [
       "[180, 160, 180, 160]"
      ]
     },
     "execution_count": 37,
     "metadata": {},
     "output_type": "execute_result"
    }
   ],
   "source": [
    "[opt.get_N(lib, L) for lib in libraries]"
   ]
  },
  {
   "cell_type": "code",
   "execution_count": null,
   "metadata": {},
   "outputs": [],
   "source": []
  }
 ],
 "metadata": {
  "kernelspec": {
   "display_name": "Python [conda env:pyro]",
   "language": "python",
   "name": "conda-env-pyro-py"
  },
  "language_info": {
   "codemirror_mode": {
    "name": "ipython",
    "version": 3
   },
   "file_extension": ".py",
   "mimetype": "text/x-python",
   "name": "python",
   "nbconvert_exporter": "python",
   "pygments_lexer": "ipython3",
   "version": "3.6.5"
  }
 },
 "nbformat": 4,
 "nbformat_minor": 2
}
