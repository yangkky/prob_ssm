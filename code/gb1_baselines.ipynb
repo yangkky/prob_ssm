{
 "cells": [
  {
   "cell_type": "markdown",
   "metadata": {},
   "source": [
    "Loads in full library of 160,000 GB1 variants, and computes deterministic baselines (from bases.py)."
   ]
  },
  {
   "cell_type": "code",
   "execution_count": 1,
   "metadata": {
    "collapsed": true
   },
   "outputs": [],
   "source": [
    "import torch\n",
    "import itertools\n",
    "import pickle\n",
    "\n",
    "from scipy.stats import norm\n",
    "import operator\n",
    "\n",
    "import numpy as np\n",
    "import pandas as pd\n",
    "import matplotlib.pyplot as plt\n",
    "import seaborn as sns\n",
    "%matplotlib inline\n",
    "sns.set_style('white')\n",
    "sns.set_context('paper')\n",
    "# Plot adjustments:\n",
    "plt.rcParams.update({'ytick.labelsize': 15})\n",
    "plt.rcParams.update({'xtick.labelsize': 15})\n",
    "plt.rcParams.update({'axes.labelsize': 35})\n",
    "plt.rcParams.update({'legend.fontsize': 30})\n",
    "plt.rcParams.update({'axes.titlesize': 16})\n",
    "\n",
    "from gptorch import kernels, models\n",
    "import bases, helpers, opt"
   ]
  },
  {
   "cell_type": "code",
   "execution_count": 2,
   "metadata": {
    "collapsed": true
   },
   "outputs": [],
   "source": [
    "with open('../inputs/GB1.pkl', 'rb') as f:\n",
    "    t = pickle.load(f)\n",
    "\n",
    "X = t[0] # one-hot encoding of X\n",
    "T = t[1] # tokenized encoding of X\n",
    "y = t[3].values"
   ]
  },
  {
   "cell_type": "code",
   "execution_count": 3,
   "metadata": {
    "collapsed": true
   },
   "outputs": [],
   "source": [
    "seq_to_x = {} # dictionary of strings of aa with corresponding index in X\n",
    "for i, x in enumerate(X):\n",
    "    seq = helpers.decode_X(x)\n",
    "    seq_to_x[seq] = i"
   ]
  },
  {
   "cell_type": "markdown",
   "metadata": {},
   "source": [
    "For a given X, this baseline is an optimal sequence consisting of the best amino acids (those with max y-values) at each position out of the four possible positions in the wildtype variant. This baseline is computed by first varying the amino acid in the first position while fixing the three wildtype amino acids in the next three positions, then by varying the amino acid in the second position by fixing the best amino acid chosen to be in the previous position and the wildtype amino acids in the two other positions, etc. Thus, in each iteration through the variant, the amino acids in the fixed positions are not necessarily all wildtype amino acids. \n",
    "\n",
    "The function baseline_fixed() in bases.py that computes this baseline returns a list of all possible 24 optimal untested variants (as a string). Then the variant from that list with the best y-value is taken to be the deterministic baseline."
   ]
  },
  {
   "cell_type": "code",
   "execution_count": 4,
   "metadata": {},
   "outputs": [
    {
     "name": "stdout",
     "output_type": "stream",
     "text": [
      "aa: ['GYQC', 'GYAA', 'GYQC', 'GVQR', 'GYAA', 'GYAA', 'WWAA', 'WWAA', 'WWAA', 'WWAA', 'WWAA', 'IWRA', 'WYQC', 'WYQW', 'TVQL', 'TVQL', 'WYQL', 'TVQL', 'GYQL', 'GYQL', 'WWAL', 'WWAL', 'WYQL', 'TVQL']\n",
      "best baseline: GYAA\n",
      "y value: 0.7811863015014009\n",
      "global max: 0.9962089758370211\n"
     ]
    }
   ],
   "source": [
    "# DET BASELINE_FIXED\n",
    "\n",
    "wt = helpers.decode_X(X[150614]) # wt as string\n",
    "seqs = bases.det_fixed(wt, X, y)\n",
    "print(\"aa: {}\".format(seqs))\n",
    "\n",
    "# find y-values corresponding to 24 possible baselines from baseline_fixed() --> take aa seq with max y\n",
    "\n",
    "seqs = list(set(seqs)) # remove duplicates\n",
    "X_decode = [helpers.decode_X(x) for x in X]\n",
    "ys_baseline = [y[X_decode.index(x)] for x in seqs]\n",
    "max_baseline = seqs[ys_baseline.index(max(ys_baseline))]\n",
    "\n",
    "y_seq1 = max(ys_baseline)\n",
    "print(\"best baseline: {}\".format(max_baseline))\n",
    "print(\"y value: {}\".format(y_seq1))\n",
    "print(\"global max: {}\".format(np.max(y)))"
   ]
  },
  {
   "cell_type": "markdown",
   "metadata": {},
   "source": [
    "For a given X, this baseline is an optimal sequence consisting of the best amino acids (those with max y-values) at each position out of the four possible positions in the wildtype variant. This baseline is computed by varying the amino acid in the first position while fixing the wildtype amino acids at the three other positions, then taking the best amino acid at each position to make up the optimal sequence. The fixed substring in each iteration is a substring of the wildtype sequence.\n",
    "\n",
    "The function baseline_vary() in bases.py that computes this baseline returns one optimal variant (as a string) that is taken to be the deterministic baseline."
   ]
  },
  {
   "cell_type": "code",
   "execution_count": 5,
   "metadata": {},
   "outputs": [
    {
     "name": "stdout",
     "output_type": "stream",
     "text": [
      "aa: GWQL\n",
      "y value: 0.054260596652116355\n",
      "global max: 0.9962089758370211\n"
     ]
    }
   ],
   "source": [
    "# DET BASELINE_VARY\n",
    "\n",
    "wt = helpers.decode_X(X[150614])  # wt as string\n",
    "seq2 = bases.det_vary(wt, X, y)\n",
    "print(\"aa: {}\".format(seq2))\n",
    "\n",
    "y_seq2 = y[X_decode.index(seq2)]\n",
    "print(\"y value: {}\".format(y_seq2))\n",
    "print(\"global max: {}\".format(np.max(y)))"
   ]
  }
 ],
 "metadata": {
  "kernelspec": {
   "display_name": "Python 3",
   "language": "python",
   "name": "python3"
  },
  "language_info": {
   "codemirror_mode": {
    "name": "ipython",
    "version": 3
   },
   "file_extension": ".py",
   "mimetype": "text/x-python",
   "name": "python",
   "nbconvert_exporter": "python",
   "pygments_lexer": "ipython3",
   "version": "3.6.1"
  }
 },
 "nbformat": 4,
 "nbformat_minor": 2
}
