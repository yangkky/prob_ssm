{
 "cells": [
  {
   "cell_type": "markdown",
   "metadata": {},
   "source": [
    "Implements deterministic baselines (two versions of each: one version keeps X as list of one-hots while other version converts X to a list of strings of aa seqs)"
   ]
  },
  {
   "cell_type": "code",
   "execution_count": 1,
   "metadata": {
    "collapsed": true
   },
   "outputs": [],
   "source": [
    "import torch\n",
    "from torch import distributions as dist\n",
    "import itertools\n",
    "import pickle\n",
    "\n",
    "from scipy.stats import norm\n",
    "import operator\n",
    "\n",
    "import numpy as np\n",
    "import pandas as pd\n",
    "import matplotlib.pyplot as plt\n",
    "import seaborn as sns\n",
    "%matplotlib inline\n",
    "sns.set_style('white')\n",
    "sns.set_context('paper')\n",
    "# Plot adjustments:\n",
    "plt.rcParams.update({'ytick.labelsize': 15})\n",
    "plt.rcParams.update({'xtick.labelsize': 15})\n",
    "plt.rcParams.update({'axes.labelsize': 35})\n",
    "plt.rcParams.update({'legend.fontsize': 30})\n",
    "plt.rcParams.update({'axes.titlesize': 16})\n",
    "\n",
    "from gptorch import kernels, models"
   ]
  },
  {
   "cell_type": "code",
   "execution_count": 4,
   "metadata": {
    "collapsed": true
   },
   "outputs": [],
   "source": [
    "with open('../inputs/phoq.pkl', 'rb') as f:\n",
    "    t = pickle.load(f)\n",
    "\n",
    "X = t[0] # one-hot encoding of X\n",
    "T = t[1] # tokenized encoding of X\n",
    "y = t[2].values"
   ]
  },
  {
   "cell_type": "code",
   "execution_count": 2,
   "metadata": {
    "collapsed": true
   },
   "outputs": [],
   "source": [
    "def decode_X(X):\n",
    "    \"\"\" Takes in one-hot encoding X and decodes it to\n",
    "    return a string of four amino acids. \"\"\"\n",
    "    \n",
    "    amino_acids = 'ARNDCQEGHILKMFPSTWYV'\n",
    "    \n",
    "    pos_X = [i for i, x in enumerate(X) if x == 1.0] # positions of amino acids\n",
    "    pos_X = [(p - 20 * i) for i, p in enumerate(pos_X)] # make sure indexing is same as in str amino_acids\n",
    "    aa_X = [amino_acids[p] for i, p in enumerate(pos_X)] # amino acid chars in X\n",
    "    return ''.join(aa_X)"
   ]
  },
  {
   "cell_type": "code",
   "execution_count": 25,
   "metadata": {},
   "outputs": [
    {
     "name": "stdout",
     "output_type": "stream",
     "text": [
      "One hot: [ 0.  0.  0.  0.  0.  0.  0.  0.  0.  0.  0.  0.  0.  0.  0.  0.  1.  0.\n",
      "  0.  0.  0.  0.  0.  1.  0.  0.  0.  0.  0.  0.  0.  0.  0.  0.  0.  0.\n",
      "  0.  0.  0.  0.  0.  0.  0.  0.  0.  0.  0.  0.  0.  0.  0.  0.  0.  0.\n",
      "  0.  1.  0.  0.  0.  0.  0.  0.  0.  0.  0.  0.  0.  0.  0.  0.  0.  0.\n",
      "  0.  0.  0.  0.  1.  0.  0.  0.]\n",
      "aa: TDST\n",
      "y value: 1.3861272508754858\n",
      "global max: 1.788094549112096\n"
     ]
    }
   ],
   "source": [
    "def baseline_fixed(wt, X, y): # deterministic\n",
    "    \"\"\" Takes in wildtype sequence, X, and y to compute baseline that creates \n",
    "    optimal sequence from X's given optimal amino acids (those with max y-values) \n",
    "    at each position out of the four possible positions in the wildtype sequence \n",
    "    by fixing the three other positions, then continues onto the next position in\n",
    "    the wildtype sequence by fixing the best amino acid in the previous position.\n",
    "    So the fixed substring is not necessarily a fixed substring of the wildtype sequence.\n",
    "    \n",
    "    Note: wildtype sequence expected as one-hot encoding. X expected as an array or list of\n",
    "    one-hot encodings.\n",
    "    \n",
    "    Returns optimal untested variant (as a one-hot). \"\"\"  \n",
    "    \n",
    "    inds = [i for i, num in enumerate(wt) if num == 1.0] # store initial indices of four positions with amino acids\n",
    "    baseline = np.zeros((80,)) # stores baseline untested variant to be returned\n",
    "\n",
    "    for i in range(4):\n",
    "        fixed = list(inds[0:i] + inds[i + 1:len(inds)]) # list of 3 fixed amino acids in each iteration through wt seq\n",
    "\n",
    "        index = [] # index of xs in X with fixed substring\n",
    "        for j, x in enumerate(X):\n",
    "            in_lst = True\n",
    "            for m in fixed:\n",
    "                if x[m] != 1.0:\n",
    "                    in_lst = False\n",
    "            if in_lst == True:\n",
    "                index.append(j)\n",
    "                \n",
    "        ys = [y[j] for j in index] # stores y values of x's in X with those 3 fixed amino acids\n",
    "\n",
    "        max_ind = np.where(ys==max(ys))[0][0] # takes first occurrence of index with maximum y value\n",
    "\n",
    "        # store amino acid in position being varied in baseline\n",
    "        baseline[(i * 20):(i * 20 + 20)] = X[index[max_ind]][(i * 20):(i * 20 + 20)]\n",
    "\n",
    "        # update inds to include index of new amino acid stored in baseline\n",
    "        for j, num in enumerate(X[index[max_ind]][(i * 20):(i * 20 + 20)]):\n",
    "            if num == 1.0:\n",
    "                inds[i] = j + i * 20\n",
    "                break\n",
    "    \n",
    "    return baseline\n",
    "                \n",
    "seq1 = baseline_fixed(X[150614], X, y)\n",
    "print(\"One hot: {}\".format(seq1)) # TDST, X[41418]\n",
    "print(\"aa: {}\".format(decode_X(seq1)))\n",
    "\n",
    "y_seq1 = y[41418]\n",
    "print(\"y value: {}\".format(y_seq1))\n",
    "print(\"global max: {}\".format(np.max(y)))"
   ]
  },
  {
   "cell_type": "code",
   "execution_count": 23,
   "metadata": {},
   "outputs": [
    {
     "name": "stdout",
     "output_type": "stream",
     "text": [
      "aa: TDST\n"
     ]
    }
   ],
   "source": [
    "def baseline_fixed(wt, X, y): # deterministic\n",
    "    \"\"\" Takes in wildtype sequence, X, and y to compute baseline that creates \n",
    "    optimal sequence from X's given optimal amino acids (those with max y-values) \n",
    "    at each position out of the four possible positions in the wildtype sequence \n",
    "    by fixing the three other positions, then continues onto the next position in\n",
    "    the wildtype sequence by fixing the best amino acid in the previous position.\n",
    "    So the fixed substring is not necessarily a fixed substring of the wildtype sequence.\n",
    "    \n",
    "    Note: wildtype sequence expected as string. X expected as an array or list of\n",
    "    one-hot encodings.\n",
    "    \n",
    "    Returns optimal untested variant (as a string). \"\"\"  \n",
    "    \n",
    "    X_decode = [decode_X(x) for x in X]\n",
    "    baseline = \"\"\n",
    "    wt = list(wt)\n",
    "    \n",
    "    for i in range(4):\n",
    "        fixed = ''.join(wt)\n",
    "        \n",
    "        # index of xs in X with fixed substring\n",
    "        index = [j for j, x in enumerate(X_decode) if fixed[0:i] == x[0:i] and fixed[i + 1:len(fixed)] == x[i + 1:len(x)]] \n",
    "        ys = [y[j] for j in index] # stores y values of x's in X with those 3 fixed amino acids\n",
    "        \n",
    "        max_ind = np.where(ys==max(ys))[0][0] # takes first occurrence of index with maximum y value\n",
    "\n",
    "        # store amino acid in position being varied in baseline\n",
    "        baseline += X_decode[index[max_ind]][i]\n",
    "        \n",
    "        wt[i] = X_decode[index[max_ind]][i]\n",
    "    \n",
    "    return baseline\n",
    "\n",
    "wt = decode_X(X[150614])\n",
    "seq1 = baseline_fixed(wt, X, y)\n",
    "print(\"aa: {}\".format(seq1))\n",
    "\n",
    "# y_seq1 = y[41418]\n",
    "# print(\"y value: {}\".format(y_seq1))\n",
    "# print(\"global max: {}\".format(np.max(y)))\n",
    "\n",
    "# X_decode = [decode_X(x) for x in X]"
   ]
  },
  {
   "cell_type": "code",
   "execution_count": 50,
   "metadata": {},
   "outputs": [
    {
     "name": "stdout",
     "output_type": "stream",
     "text": [
      "[2 3]\n"
     ]
    }
   ],
   "source": [
    "print(np.delete(np.arange(len(wt)), [0,1]))"
   ]
  },
  {
   "cell_type": "code",
   "execution_count": 55,
   "metadata": {},
   "outputs": [
    {
     "name": "stdout",
     "output_type": "stream",
     "text": [
      "aa: ['TDST', 'TDTS', 'TSDT', 'TSTD', 'TTDS', 'TTSD', 'DTST', 'DTTS', 'DSTT', 'DSTT', 'DTTS', 'DTST', 'CADQ', 'CAQD', 'CDFQ', 'CDQF', 'CQFD', 'CQDF', 'WTDS', 'WTSD', 'WDTS', 'WDST', 'WSTD', 'WSDT']\n"
     ]
    }
   ],
   "source": [
    "# returns all 24 possibilities\n",
    "\n",
    "def baseline_fixed(wt, X, y): # deterministic\n",
    "    \"\"\" Takes in wildtype sequence, X, and y to compute baseline that creates \n",
    "    optimal sequence from X's given optimal amino acids (those with max y-values) \n",
    "    at each position out of the four possible positions in the wildtype sequence \n",
    "    by fixing the three other positions, then continues onto the next position in\n",
    "    the wildtype sequence by fixing the best amino acid in the previous position.\n",
    "    So the fixed substring is not necessarily a fixed substring of the wildtype sequence.\n",
    "    \n",
    "    Note: wildtype sequence expected as string. X expected as an array or list of\n",
    "    one-hot encodings.\n",
    "    \n",
    "    Returns list of all possible 24 optimal untested variants (as a string). \"\"\"  \n",
    "    \n",
    "    X_decode = [decode_X(x) for x in X]\n",
    "    baseline = []\n",
    "    \n",
    "    for i in range(4):\n",
    "        seq = list(wt)\n",
    "        base1 = []\n",
    "        \n",
    "        fixed = ''.join(seq)\n",
    "\n",
    "        # index of xs in X with fixed substring\n",
    "        index = [j for j, x in enumerate(X_decode) if fixed[0:i] == x[0:i] and fixed[i + 1:len(fixed)] == x[i + 1:len(x)]] \n",
    "        ys = [y[j] for j in index] # stores y values of x's in X with those 3 fixed amino acids\n",
    "\n",
    "        max_ind = np.where(ys==max(ys))[0][0] # takes first occurrence of index with maximum y value\n",
    "\n",
    "        # store amino acid in position being varied in baseline\n",
    "        base1.append(X_decode[index[max_ind]][i])\n",
    "\n",
    "        seq[i] = X_decode[index[max_ind]][i]\n",
    "        \n",
    "        for k in np.delete(np.arange(len(wt)), i):\n",
    "            base2 = list(base1)\n",
    "            \n",
    "            fixed = ''.join(seq)\n",
    "\n",
    "            # index of xs in X with fixed substring\n",
    "            index = [j for j, x in enumerate(X_decode) if fixed[0:k] == x[0:k] and fixed[k + 1:len(fixed)] == x[k + 1:len(x)]] \n",
    "            ys = [y[j] for j in index] # stores y values of x's in X with those 3 fixed amino acids\n",
    "\n",
    "            max_ind = np.where(ys==max(ys))[0][0] # takes first occurrence of index with maximum y value\n",
    "\n",
    "            # store amino acid in position being varied in baseline\n",
    "            base2.append(X_decode[index[max_ind]][k])\n",
    "\n",
    "            seq[k] = X_decode[index[max_ind]][k]\n",
    "        \n",
    "            for m in np.delete(np.arange(len(wt)), [i, k]):\n",
    "                base3 = list(base2)\n",
    "            \n",
    "                fixed = ''.join(seq)\n",
    "\n",
    "                # index of xs in X with fixed substring\n",
    "                index = [j for j, x in enumerate(X_decode) if fixed[0:m] == x[0:m] and fixed[m + 1:len(fixed)] == x[m + 1:len(x)]] \n",
    "                ys = [y[j] for j in index] # stores y values of x's in X with those 3 fixed amino acids\n",
    "\n",
    "                max_ind = np.where(ys==max(ys))[0][0] # takes first occurrence of index with maximum y value\n",
    "\n",
    "                # store amino acid in position being varied in baseline\n",
    "                base3.append(X_decode[index[max_ind]][m])\n",
    "\n",
    "                seq[m] = X_decode[index[max_ind]][m]\n",
    "                \n",
    "                for n in np.delete(np.arange(len(wt)), [i, k, m]):\n",
    "                    base4 = list(base3)\n",
    "            \n",
    "                    fixed = ''.join(seq)\n",
    "\n",
    "                    # index of xs in X with fixed substring\n",
    "                    index = [j for j, x in enumerate(X_decode) if fixed[0:n] == x[0:n] and fixed[n + 1:len(fixed)] == x[n + 1:len(x)]] \n",
    "                    ys = [y[j] for j in index] # stores y values of x's in X with those 3 fixed amino acids\n",
    "\n",
    "                    max_ind = np.where(ys==max(ys))[0][0] # takes first occurrence of index with maximum y value\n",
    "\n",
    "                    # store amino acid in position being varied in baseline\n",
    "                    base4.append(X_decode[index[max_ind]][n])\n",
    "\n",
    "                    seq[n] = X_decode[index[max_ind]][n]\n",
    "                    \n",
    "                    baseline.append(''.join(base4))\n",
    "                \n",
    "    \n",
    "    return baseline\n",
    "\n",
    "wt = decode_X(X[150614])\n",
    "seqs = baseline_fixed(wt, X, y)\n",
    "print(\"aa: {}\".format(seqs))\n",
    "\n",
    "# y_seq1 = y[41418]\n",
    "# print(\"y value: {}\".format(y_seq1))\n",
    "# print(\"global max: {}\".format(np.max(y)))\n",
    "\n",
    "# X_decode = [decode_X(x) for x in X]"
   ]
  },
  {
   "cell_type": "code",
   "execution_count": 57,
   "metadata": {},
   "outputs": [
    {
     "data": {
      "text/plain": [
       "'TDST'"
      ]
     },
     "execution_count": 57,
     "metadata": {},
     "output_type": "execute_result"
    }
   ],
   "source": [
    "# find y-values corresponding to 24 possible baselines from baseline_fixed()\n",
    "\n",
    "X_decode = [decode_X(x) for x in X]\n",
    "ys_baseline = [y[X_decode.index(x)] for x in seqs]\n",
    "max_baseline = seqs[ys_baseline.index(max(ys_baseline))]\n",
    "max_baseline"
   ]
  },
  {
   "cell_type": "code",
   "execution_count": 24,
   "metadata": {},
   "outputs": [
    {
     "name": "stdout",
     "output_type": "stream",
     "text": [
      "One-hot: [ 0.  0.  0.  0.  0.  0.  0.  0.  0.  0.  0.  0.  0.  0.  0.  0.  1.  0.\n",
      "  0.  0.  0.  0.  0.  1.  0.  0.  0.  0.  0.  0.  0.  0.  0.  0.  0.  0.\n",
      "  0.  0.  0.  0.  0.  0.  0.  0.  1.  0.  0.  0.  0.  0.  0.  0.  0.  0.\n",
      "  0.  0.  0.  0.  0.  0.  0.  0.  0.  0.  0.  0.  0.  0.  0.  0.  0.  0.\n",
      "  0.  0.  0.  0.  0.  1.  0.  0.]\n",
      "aa: TDCW\n",
      "y value: 1.0122630505442225\n",
      "global max: 1.788094549112096\n"
     ]
    }
   ],
   "source": [
    "def baseline_vary(wt, X, y): # deterministic\n",
    "    \"\"\" Takes in wildtype sequence, X, and y to compute baseline that creates \n",
    "    optimal sequence from X's given optimal amino acids (those with max y-values) at each \n",
    "    position out of the four possible positions in the wildtype sequence by fixing the three\n",
    "    other positions, then takes the best amino acid at each position. The fixed substring\n",
    "    in each iteration is a substring of the wildtype sequence.\n",
    "    \n",
    "    Note: wildtype sequence expected as one-hot encoding. X expected as an array or list of\n",
    "    one-hot encodings.\n",
    "    \n",
    "    Returns optimal untested variant (as a one-hot). \"\"\"\n",
    "    \n",
    "    inds = [i for i, num in enumerate(wt) if num == 1.0] # store indices of four positions with amino acids\n",
    "    baseline = np.zeros((80,)) # stores baseline untested variant to be returned\n",
    "    \n",
    "    for i in range(4): # vary amino acid in each position\n",
    "        fixed = list(inds[0:i] + inds[i + 1:len(inds)]) # list of 3 fixed amino acids in each iteration through wt seq\n",
    "        \n",
    "        xs_inds = [] # index of x's in X with those 3 fixed amino acids\n",
    "        for j, x in enumerate(X):\n",
    "            in_lst = True\n",
    "            for m in fixed:\n",
    "                if x[m] != 1.0:\n",
    "                    in_lst = False\n",
    "            if in_lst:\n",
    "                xs_inds.append(j)\n",
    "        \n",
    "        ys = [y[j] for j in xs_inds] # stores y values of x's in X with those 3 fixed amino acids\n",
    "        max_ind = np.where(ys==max(ys))[0][0] # takes first occurrence of index with maximum y value\n",
    "        \n",
    "        # store amino acid in position being varied in baseline\n",
    "        baseline[(i * 20):(i * 20 + 20)] = X[xs_inds[max_ind]][(i * 20):(i * 20 + 20)] \n",
    "    \n",
    "    return baseline\n",
    "\n",
    "seq2 = baseline_vary(X[150614], X, y)\n",
    "print(\"One-hot: {}\".format(seq2)) # TDCW, X[44500]\n",
    "print(\"aa: {}\".format(decode_X(seq2)))\n",
    "\n",
    "y_seq2 = y[44500]\n",
    "print(\"y value: {}\".format(y_seq2))\n",
    "print(\"global max: {}\".format(np.max(y)))"
   ]
  },
  {
   "cell_type": "code",
   "execution_count": 30,
   "metadata": {},
   "outputs": [
    {
     "name": "stdout",
     "output_type": "stream",
     "text": [
      "aa: TDCW\n"
     ]
    }
   ],
   "source": [
    "def baseline_vary(wt, X, y): # deterministic\n",
    "    \"\"\" Takes in wildtype sequence, X, and y to compute baseline that creates \n",
    "    optimal sequence from X's given optimal amino acids (those with max y-values) at each \n",
    "    position out of the four possible positions in the wildtype sequence by fixing the three\n",
    "    other positions, then takes the best amino acid at each position. The fixed substring\n",
    "    in each iteration is a substring of the wildtype sequence.\n",
    "    \n",
    "    Note: wildtype sequence expected as a string. X expected as an array or list of\n",
    "    one-hot encodings.\n",
    "    \n",
    "    Returns optimal untested variant (as a string). \"\"\"\n",
    "    \n",
    "    X_decode = [decode_X(x) for x in X]\n",
    "    baseline = \"\" # stores baseline untested variant to be returned\n",
    "    wt = list(wt)\n",
    "    \n",
    "    for i in range(4): # vary amino acid in each position\n",
    "        fixed = ''.join(wt) # list of 3 fixed amino acids in each iteration through wt seq\n",
    "        \n",
    "        # index of xs in X with fixed substring\n",
    "        index = [j for j, x in enumerate(X_decode) if fixed[0:i] == x[0:i] and fixed[i + 1:len(fixed)] == x[i + 1:len(x)]] \n",
    "        ys = [y[j] for j in index] # stores y values of x's in X with those 3 fixed amino acids\n",
    "        \n",
    "        max_ind = np.where(ys==max(ys))[0][0] # takes first occurrence of index with maximum y value\n",
    "\n",
    "        # store amino acid in position being varied in baseline\n",
    "        baseline += X_decode[index[max_ind]][i]\n",
    "    \n",
    "    return baseline\n",
    "\n",
    "wt = decode_X(X[150614])\n",
    "seq2 = baseline_vary(wt, X, y)\n",
    "print(\"aa: {}\".format(seq2))\n",
    "\n",
    "# y_seq2 = y[44500]\n",
    "# print(\"y value: {}\".format(y_seq2))\n",
    "# print(\"global max: {}\".format(np.max(y)))"
   ]
  }
 ],
 "metadata": {
  "kernelspec": {
   "display_name": "Python 3",
   "language": "python",
   "name": "python3"
  },
  "language_info": {
   "codemirror_mode": {
    "name": "ipython",
    "version": 3
   },
   "file_extension": ".py",
   "mimetype": "text/x-python",
   "name": "python",
   "nbconvert_exporter": "python",
   "pygments_lexer": "ipython3",
   "version": "3.6.1"
  }
 },
 "nbformat": 4,
 "nbformat_minor": 2
}
