{
 "cells": [
  {
   "cell_type": "markdown",
   "metadata": {},
   "source": [
    "Tests for mod_mod algo"
   ]
  },
  {
   "cell_type": "code",
   "execution_count": 2,
   "metadata": {},
   "outputs": [],
   "source": [
    "import torch\n",
    "from torch import distributions as dist\n",
    "\n",
    "import itertools\n",
    "import pickle\n",
    "import importlib\n",
    "\n",
    "import itertools\n",
    "import random\n",
    "import math\n",
    "import numpy as np\n",
    "import pandas as pd\n",
    "import scipy\n",
    "\n",
    "import matplotlib.pyplot as plt\n",
    "import seaborn as sns\n",
    "%matplotlib inline\n",
    "sns.set_style('white')\n",
    "sns.set_context('paper')\n",
    "# Plot adjustments:\n",
    "plt.rcParams.update({'ytick.labelsize': 15})\n",
    "plt.rcParams.update({'xtick.labelsize': 15})\n",
    "plt.rcParams.update({'axes.labelsize': 35})\n",
    "plt.rcParams.update({'legend.fontsize': 30})\n",
    "plt.rcParams.update({'axes.titlesize': 16})\n",
    "\n",
    "from gptorch import kernels, models\n",
    "import helpers, opt, objectives"
   ]
  },
  {
   "cell_type": "code",
   "execution_count": 3,
   "metadata": {},
   "outputs": [],
   "source": [
    "torch.set_default_tensor_type(torch.DoubleTensor)"
   ]
  },
  {
   "cell_type": "code",
   "execution_count": 4,
   "metadata": {},
   "outputs": [],
   "source": [
    "with open('../inputs/phoq.pkl', 'rb') as f:\n",
    "    t = pickle.load(f)\n",
    "X = t[0]\n",
    "A = t[2]\n",
    "y = t[3].values\n",
    "wt = helpers.decode_X(X[150614])  # wt as string\n",
    "aas = 'ARNDCQEGHILKMFPSTWYV'"
   ]
  },
  {
   "cell_type": "code",
   "execution_count": 5,
   "metadata": {},
   "outputs": [],
   "source": [
    "seq_to_x = {}\n",
    "for i, x in enumerate(X):\n",
    "    seq = helpers.decode_X(x)\n",
    "    seq_to_x[seq] = i\n",
    "wt_inds = [seq_to_x[wt]]"
   ]
  },
  {
   "cell_type": "code",
   "execution_count": 6,
   "metadata": {},
   "outputs": [
    {
     "name": "stdout",
     "output_type": "stream",
     "text": [
      "Iteration 3000 of 3000\tNLML: 58.9343\tsn: 0.259592\t"
     ]
    }
   ],
   "source": [
    "np.random.seed(120120)\n",
    "_ = torch.manual_seed(43298)\n",
    "\n",
    "\n",
    "\n",
    "n = 100\n",
    "\n",
    "singles = [wt[:i] + aas[j] + wt[i+1:] for i in range(4) for j in range(20)]\n",
    "wt_inds = [seq_to_x[wt]]\n",
    "single_inds = wt_inds + [seq_to_x[seq] for seq in singles]\n",
    "train_inds = wt_inds + single_inds + list(np.random.choice(len(X), n, replace=True))\n",
    "\n",
    "\n",
    "y_train = y[train_inds]\n",
    "y_true = y\n",
    "A_train = A[train_inds]\n",
    "A_test = A\n",
    "\n",
    "inds = sorted(set(itertools.chain(train_inds)))\n",
    "\n",
    "\n",
    "dic, _ = helpers.get_predictions(A[inds], y[inds], A_test,\n",
    "                                         one_hots=X, its=3000, lr=1e-2)"
   ]
  },
  {
   "cell_type": "code",
   "execution_count": 7,
   "metadata": {},
   "outputs": [],
   "source": [
    "aas = 'ARNDCQEGHILKMFPSTWYV'\n",
    "ground = [(aa, i) for aa in aas for i in range(4)]"
   ]
  },
  {
   "cell_type": "code",
   "execution_count": 8,
   "metadata": {},
   "outputs": [],
   "source": [
    "seen_seqs = [helpers.decode_X(X[i]) for i in inds]\n",
    "for s in seen_seqs:\n",
    "    dic[s] = 0.0"
   ]
  },
  {
   "cell_type": "code",
   "execution_count": 9,
   "metadata": {},
   "outputs": [
    {
     "data": {
      "text/plain": [
       "[('A', 0), ('Q', 1), ('S', 2), ('V', 3)]"
      ]
     },
     "execution_count": 9,
     "metadata": {},
     "output_type": "execute_result"
    }
   ],
   "source": [
    "seed = helpers.get_seed(dic)\n",
    "seed"
   ]
  },
  {
   "cell_type": "code",
   "execution_count": 10,
   "metadata": {
    "scrolled": true
   },
   "outputs": [],
   "source": [
    "rand_dict = {k:torch.tensor(np.random.random()) for k in dic}"
   ]
  },
  {
   "cell_type": "code",
   "execution_count": 11,
   "metadata": {},
   "outputs": [],
   "source": [
    "dic3 = {k[:-1]:dic[k] for k in dic if k[-1] == seed[-1][0]}\n",
    "rand3 = {k[:-1]:rand_dict[k] for k in dic if k[-1] == seed[-1][0]}\n",
    "seed3 = helpers.get_seed(dic3)\n",
    "\n",
    "ground3 = [g for g in ground if g[1] < 3]\n",
    "L = 3"
   ]
  },
  {
   "cell_type": "code",
   "execution_count": 12,
   "metadata": {},
   "outputs": [
    {
     "data": {
      "text/plain": [
       "[('A', 0), ('Q', 1), ('S', 2)]"
      ]
     },
     "execution_count": 12,
     "metadata": {},
     "output_type": "execute_result"
    }
   ],
   "source": [
    "seed3"
   ]
  },
  {
   "cell_type": "code",
   "execution_count": 13,
   "metadata": {},
   "outputs": [],
   "source": [
    "dic2 = {k[:-2]:dic[k] for k in dic if k[-1] == seed[-1][0] and k[-2] == seed[-2][0]}\n",
    "rand2 = {k[:-2]:rand_dict[k] for k in dic if k[-1] == seed[-1][0] and k[-2] == seed[-2][0]}\n",
    "\n",
    "seed2 = seed[:-2]\n",
    "ground2 = [g for g in ground if g[1] < 2]\n",
    "L = 2"
   ]
  },
  {
   "cell_type": "code",
   "execution_count": 14,
   "metadata": {},
   "outputs": [],
   "source": [
    "dic1 = {k[0]:dic[k] for k in dic if k[-1] == seed[-1][0] and k[-2] == seed[-2][0] and k[-3] == seed[-3][0]}\n",
    "seed1 = seed[:-3]\n",
    "ground1 = [g for g in ground if g[1] < 1]\n",
    "L = 1"
   ]
  },
  {
   "cell_type": "code",
   "execution_count": 15,
   "metadata": {},
   "outputs": [
    {
     "data": {
      "text/plain": [
       "tensor(1.00000e-05 *\n",
       "       4.1996)"
      ]
     },
     "execution_count": 15,
     "metadata": {},
     "output_type": "execute_result"
    }
   ],
   "source": [
    "n = 100\n",
    "\n",
    "def ddr(x, n):\n",
    "    return n * (n - 2 * x + 1) * (1 - 1 / x) ** n / (x - 1) ** 2 / x ** 2\n",
    "\n",
    "alpha = scipy.optimize.minimize(ddr, 70, args=(n,), method='Powell')['fun']\n",
    "alpha = -torch.Tensor(alpha)\n",
    "alpha"
   ]
  },
  {
   "cell_type": "code",
   "execution_count": 16,
   "metadata": {},
   "outputs": [],
   "source": [
    "np.random.seed(1)\n",
    "inds = np.random.choice(80, 30, replace=False)\n",
    "A = [ground[i] for i in inds]"
   ]
  },
  {
   "cell_type": "code",
   "execution_count": 56,
   "metadata": {},
   "outputs": [
    {
     "name": "stdout",
     "output_type": "stream",
     "text": [
      "CPU times: user 54.3 s, sys: 884 ms, total: 55.2 s\n",
      "Wall time: 56.2 s\n"
     ]
    },
    {
     "data": {
      "text/plain": [
       "tensor(138.8483)"
      ]
     },
     "execution_count": 56,
     "metadata": {},
     "output_type": "execute_result"
    }
   ],
   "source": [
    "def get_alpha(dic, n):\n",
    "    probs = np.sort(np.array([dic[k] for k in dic]))\n",
    "    L = len(next(iter(dic.keys())))\n",
    "    S = len(probs)\n",
    "    alpha = 0\n",
    "    for s in range(1, S):\n",
    "        if s % 1000 == 0:\n",
    "            print(s)\n",
    "        candidate = (1 - (1 - 1 / (2 * s)) ** n) - (1 - (1 - 1 / s) ** n)\n",
    "        candidate *= np.sum(probs[:S])\n",
    "        if candidate <= alpha:\n",
    "            alpha = candidate\n",
    "        else:\n",
    "            break\n",
    "    return alpha\n",
    "\n",
    "    \n",
    "%time alpha4 = -get_alpha(dic, 100)\n",
    "alpha4"
   ]
  },
  {
   "cell_type": "code",
   "execution_count": 18,
   "metadata": {},
   "outputs": [
    {
     "name": "stdout",
     "output_type": "stream",
     "text": [
      "Iteration 0\t obj = -0.171235\t\n",
      "Iteration 1\t obj = -0.356971\n",
      "Iteration 2\t obj = -0.604633\n",
      "Iteration 3\t obj = -0.967881\n",
      "Iteration 4\t obj = -1.342621\n",
      "Iteration 5\t obj = -1.785980\n",
      "Iteration 6\t obj = -2.313732\n",
      "Iteration 7\t obj = -2.831154\n",
      "Iteration 8\t obj = -3.376843\n",
      "Iteration 9\t obj = -3.904830\n",
      "Iteration 10\t obj = -4.231414\n",
      "Iteration 11\t obj = -4.493796\n",
      "Iteration 12\t obj = -4.654944\n",
      "Iteration 13\t obj = -4.756065\n",
      "Iteration 14\t obj = -4.806947\n",
      "CPU times: user 2min 4s, sys: 6.95 s, total: 2min 11s\n",
      "Wall time: 2min 40s\n"
     ]
    }
   ],
   "source": [
    "%%time\n",
    "\n",
    "opt = importlib.reload(opt)\n",
    "objectives = importlib.reload(objectives)\n",
    "helpers = importlib.reload(helpers)\n",
    "\n",
    "np.random.seed(101645)\n",
    "L = 3\n",
    "S = L * 20\n",
    "S = torch.tensor(S).double()\n",
    "beta = 2 * torch.sqrt(S - 1) - torch.sqrt(S) - torch.sqrt(S - 2)\n",
    "\n",
    "X_list, obj_list, perm_list, perms = opt.mod_mod(ground3, seed3, objectives.objective,\n",
    "                                                 args=(L, dic3, n), dec='dc', alpha=alpha, beta=beta)"
   ]
  },
  {
   "cell_type": "code",
   "execution_count": 19,
   "metadata": {},
   "outputs": [
    {
     "name": "stdout",
     "output_type": "stream",
     "text": [
      "-0.17123523886021352 1\n",
      "-0.31963582552666137 2\n",
      "-0.5367199181448924 4\n",
      "-0.8720610205288681 8\n",
      "-1.2560749694515705 12\n",
      "-1.8016627814520811 18\n",
      "-2.421484947267848 27\n",
      "-3.0203766049551466 36\n",
      "-3.5691597040610263 48\n",
      "-3.9749006426680755 60\n",
      "-4.270636997051267 75\n",
      "-4.493796290114859 90\n",
      "-4.654944350682018 105\n",
      "-4.756065354676568 126\n",
      "-4.806946572619794 144\n"
     ]
    }
   ],
   "source": [
    "objectives = importlib.reload(objectives)\n",
    "opt = importlib.reload(opt)\n",
    "helpers = importlib.reload(helpers)\n",
    "L = 3\n",
    "\n",
    "_, _, Xs, objs = opt.greedy(ground3, seed3, objectives.objective, 1, obj_args=(L, dic3, n), return_all=True)\n",
    "\n",
    "for x, obj in zip(Xs, objs):\n",
    "    print(obj.item(), helpers.get_N(x, L))"
   ]
  },
  {
   "cell_type": "code",
   "execution_count": 20,
   "metadata": {},
   "outputs": [
    {
     "name": "stdout",
     "output_type": "stream",
     "text": [
      "tensor(-4.8069)\n",
      "tensor(-4.6988)\n",
      "tensor(-4.6988)\n",
      "tensor(-4.6988)\n",
      "tensor(-4.6988)\n",
      "tensor(-4.6988)\n",
      "tensor(-4.8069)\n",
      "tensor(-4.8069)\n",
      "tensor(-4.8069)\n",
      "tensor(-4.8069)\n",
      "tensor(-4.8069)\n",
      "tensor(-4.8069)\n",
      "tensor(-4.8069)\n",
      "tensor(-4.8069)\n",
      "tensor(-4.8069)\n"
     ]
    }
   ],
   "source": [
    "for x in X_list:\n",
    "    _, obj, _, _ = opt.greedy(ground3, x, objectives.objective, 1, obj_args=(L, dic3, n), return_all=True)\n",
    "    print(obj)"
   ]
  },
  {
   "cell_type": "code",
   "execution_count": 61,
   "metadata": {},
   "outputs": [
    {
     "name": "stdout",
     "output_type": "stream",
     "text": [
      "Iteration 0\t obj = -0.171235\t\n",
      "Iteration 0\t obj = -0.330886\t\n",
      "Iteration 0\t obj = -0.619065\t\n",
      "Iteration 0\t obj = -1.056581\t\n",
      "Iteration 0\t obj = -1.716390\t\n",
      "Iteration 0\t obj = -2.465870\t\n",
      "Iteration 0\t obj = -3.365414\t\n",
      "Iteration 0\t obj = -4.189944\t\n",
      "Iteration 0\t obj = -4.860962\t\n",
      "Iteration 0\t obj = -5.303563\t\n",
      "Iteration 0\t obj = -5.595810\t\n",
      "Iteration 0\t obj = -5.708489\t\n",
      "Iteration 0\t obj = -5.778487\t\n",
      "Iteration 0\t obj = -5.808615\t\n"
     ]
    }
   ],
   "source": [
    "opt = importlib.reload(opt)\n",
    "\n",
    "L = 4\n",
    "S = L * 20\n",
    "S = torch.tensor(S).double()\n",
    "beta = 2 * torch.sqrt(S - 1) - torch.sqrt(S) - torch.sqrt(S - 2)\n",
    "\n",
    "ss_list, objs = opt.supsub(ground, seed, objectives.objective, args=(L, dic, n),\n",
    "                           dec='ds', alpha=alpha4, beta=beta, verbose=True)"
   ]
  },
  {
   "cell_type": "code",
   "execution_count": 70,
   "metadata": {},
   "outputs": [
    {
     "name": "stdout",
     "output_type": "stream",
     "text": [
      "Iteration 0\t obj = -0.171235\t\n",
      "tensor(-0.3663) tensor(-3.2155)\n",
      "Iteration 1\t obj = -3.215478\t\n",
      "tensor(-0.2989) tensor(-5.0284)\n",
      "Iteration 2\t obj = -5.028404\t\n",
      "tensor(-0.5408) tensor(-5.2698)\n",
      "Iteration 3\t obj = -5.269850\t\n",
      "tensor(-0.4517) tensor(-5.4225)\n",
      "Iteration 4\t obj = -5.422475\t\n",
      "tensor(-0.3096) tensor(-5.4246)\n",
      "Iteration 5\t obj = -5.424572\t\n",
      "tensor(-0.3847) tensor(-5.5689)\n",
      "Iteration 6\t obj = -5.568863\t\n",
      "tensor(-0.3157) tensor(-5.6618)\n",
      "Iteration 7\t obj = -5.661762\t\n",
      "tensor(-0.3746) tensor(-5.7157)\n",
      "Iteration 8\t obj = -5.715697\t\n",
      "tensor(-0.3717) tensor(-5.7391)\n",
      "Iteration 9\t obj = -5.739143\t\n",
      "tensor(-0.2755) tensor(-5.7492)\n",
      "Iteration 10\t obj = -5.749152\t\n",
      "tensor(-0.4279) tensor(-5.7727)\n",
      "Iteration 11\t obj = -5.772691\t\n",
      "tensor(-0.2682) tensor(-5.7727)\n",
      "CPU times: user 5h 28min 30s, sys: 11min 24s, total: 5h 39min 54s\n",
      "Wall time: 5h 41min 53s\n"
     ]
    }
   ],
   "source": [
    "%%time\n",
    "opt = importlib.reload(opt)\n",
    "\n",
    "L = 4\n",
    "S = L * 20\n",
    "S = torch.tensor(S).double()\n",
    "beta = 2 * torch.sqrt(S - 1) - torch.sqrt(S) - torch.sqrt(S - 2)\n",
    "\n",
    "ss_list2, objs = opt.supsub(ground, seed, objectives.objective, args=(L, dic, n),\n",
    "                           dec='dc', alpha=alpha, beta=beta, verbose=True)"
   ]
  },
  {
   "cell_type": "code",
   "execution_count": 67,
   "metadata": {},
   "outputs": [
    {
     "data": {
      "text/plain": [
       "tensor(1.00000e-02 *\n",
       "       -4.6548)"
      ]
     },
     "execution_count": 67,
     "metadata": {},
     "output_type": "execute_result"
    }
   ],
   "source": [
    "opt = importlib.reload(opt)\n",
    "\n",
    "Y, ob = opt.seeded_stochastic_usm(ground, seed, objectives.objective, obj_args=(L, dic, n))\n",
    "ob"
   ]
  },
  {
   "cell_type": "code",
   "execution_count": 64,
   "metadata": {},
   "outputs": [
    {
     "data": {
      "text/plain": [
       "[tensor(-0.1712),\n",
       " tensor(-0.3309),\n",
       " tensor(-0.6191),\n",
       " tensor(-1.0566),\n",
       " tensor(-1.7164),\n",
       " tensor(-2.4659),\n",
       " tensor(-3.3654),\n",
       " tensor(-4.1899),\n",
       " tensor(-4.8610),\n",
       " tensor(-5.3036),\n",
       " tensor(-5.5958),\n",
       " tensor(-5.7085),\n",
       " tensor(-5.7785),\n",
       " tensor(-5.8086)]"
      ]
     },
     "execution_count": 64,
     "metadata": {},
     "output_type": "execute_result"
    }
   ],
   "source": [
    "obj_list"
   ]
  },
  {
   "cell_type": "code",
   "execution_count": 33,
   "metadata": {},
   "outputs": [
    {
     "name": "stdout",
     "output_type": "stream",
     "text": [
      "43\n",
      "tensor(-5.7845)\n",
      "39\n",
      "33\n",
      "39\n",
      "75\n",
      "51\n",
      "49\n",
      "33\n",
      "tensor(-5.8086)\n",
      "56\n",
      "11\n",
      "tensor(-5.8086)\n",
      "7\n",
      "52\n",
      "17\n",
      "41\n",
      "33\n",
      "5\n",
      "47\n",
      "45\n",
      "38\n",
      "42\n",
      "47\n",
      "7\n",
      "tensor(-5.8086)\n",
      "39\n",
      "55\n",
      "22\n",
      "20\n",
      "78\n",
      "25\n",
      "22\n",
      "54\n",
      "73\n",
      "53\n",
      "48\n",
      "36\n",
      "11\n",
      "50\n",
      "31\n",
      "19\n",
      "61\n",
      "29\n",
      "76\n",
      "65\n",
      "21\n",
      "5\n",
      "73\n",
      "5\n",
      "tensor(-5.8086)\n",
      "79\n",
      "12\n",
      "29\n",
      "79\n",
      "53\n",
      "15\n",
      "21\n",
      "72\n",
      "51\n",
      "14\n",
      "79\n",
      "78\n",
      "74\n",
      "33\n",
      "47\n",
      "22\n",
      "54\n",
      "77\n",
      "9\n",
      "17\n",
      "6\n",
      "46\n",
      "26\n",
      "64\n",
      "23\n",
      "47\n",
      "51\n",
      "7\n",
      "17\n",
      "32\n",
      "71\n",
      "58\n",
      "32\n",
      "77\n",
      "20\n",
      "76\n",
      "71\n",
      "14\n",
      "56\n",
      "37\n",
      "51\n",
      "5\n",
      "54\n",
      "35\n",
      "65\n",
      "13\n",
      "6\n",
      "12\n",
      "54\n",
      "40\n",
      "13\n",
      "17\n",
      "30\n",
      "64\n",
      "CPU times: user 58min 54s, sys: 1min 2s, total: 59min 56s\n",
      "Wall time: 59min 59s\n"
     ]
    }
   ],
   "source": [
    "%%time\n",
    "np.random.seed(101)\n",
    "best = torch.tensor(0.0)\n",
    "L = 4\n",
    "for _ in range(100):\n",
    "    M = np.random.random() * 76 + 4\n",
    "    M = int(M)\n",
    "    print(M)\n",
    "    inds = np.random.choice(80, M, replace=False)\n",
    "    A = [ground[i] for i in inds]\n",
    "    _, obj, _, _ = opt.greedy(ground, A, objectives.objective, 1, obj_args=(L, dic, n), return_all=True)\n",
    "    if obj < best:\n",
    "        best = obj\n",
    "        print(best)\n",
    "    "
   ]
  },
  {
   "cell_type": "code",
   "execution_count": 302,
   "metadata": {},
   "outputs": [
    {
     "name": "stdout",
     "output_type": "stream",
     "text": [
      "-0.17123523886021352 1\n",
      "-0.31963582552666137 2\n",
      "-0.5367199181448924 4\n",
      "-0.8720610205288681 8\n",
      "-1.2560749694515705 12\n",
      "-1.8016627814520811 18\n",
      "-2.421484947267848 27\n",
      "-3.0203766049551466 36\n",
      "-3.5691597040610263 48\n",
      "-3.9749006426680755 60\n",
      "-4.270636997051267 75\n",
      "-4.493796290114859 90\n",
      "-4.654944350682018 105\n",
      "-4.756065354676568 126\n",
      "-4.806946572619794 144\n"
     ]
    }
   ],
   "source": [
    "objectives = importlib.reload(objectives)\n",
    "opt = importlib.reload(opt)\n",
    "helpers = importlib.reload(helpers)\n",
    "L = 3\n",
    "\n",
    "_, _, Xs, objs = opt.greedy(ground3, seed3, objectives.objective, 1, obj_args=(L, dic3, n), return_all=True)\n",
    "\n",
    "for x, obj in zip(Xs, objs):\n",
    "    print(obj.item(), helpers.get_N(x, L))"
   ]
  },
  {
   "cell_type": "code",
   "execution_count": null,
   "metadata": {},
   "outputs": [],
   "source": []
  }
 ],
 "metadata": {
  "kernelspec": {
   "display_name": "Python [conda env:pyro]",
   "language": "python",
   "name": "conda-env-pyro-py"
  },
  "language_info": {
   "codemirror_mode": {
    "name": "ipython",
    "version": 3
   },
   "file_extension": ".py",
   "mimetype": "text/x-python",
   "name": "python",
   "nbconvert_exporter": "python",
   "pygments_lexer": "ipython3",
   "version": "3.6.5"
  }
 },
 "nbformat": 4,
 "nbformat_minor": 2
}
