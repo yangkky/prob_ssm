{
 "cells": [
  {
   "cell_type": "markdown",
   "metadata": {},
   "source": [
    "Tests for mod_mod algo"
   ]
  },
  {
   "cell_type": "code",
   "execution_count": 1,
   "metadata": {},
   "outputs": [],
   "source": [
    "import torch\n",
    "from torch import distributions as dist\n",
    "\n",
    "import itertools\n",
    "import pickle\n",
    "import importlib\n",
    "\n",
    "import itertools\n",
    "import random\n",
    "import math\n",
    "import numpy as np\n",
    "import pandas as pd\n",
    "import scipy\n",
    "\n",
    "import matplotlib.pyplot as plt\n",
    "import seaborn as sns\n",
    "%matplotlib inline\n",
    "sns.set_style('white')\n",
    "sns.set_context('paper')\n",
    "# Plot adjustments:\n",
    "plt.rcParams.update({'ytick.labelsize': 15})\n",
    "plt.rcParams.update({'xtick.labelsize': 15})\n",
    "plt.rcParams.update({'axes.labelsize': 35})\n",
    "plt.rcParams.update({'legend.fontsize': 30})\n",
    "plt.rcParams.update({'axes.titlesize': 16})\n",
    "\n",
    "from gptorch import kernels, models\n",
    "import helpers, opt, objectives"
   ]
  },
  {
   "cell_type": "code",
   "execution_count": 2,
   "metadata": {},
   "outputs": [],
   "source": [
    "with open('../inputs/gb1.pkl', 'rb') as f:\n",
    "    t = pickle.load(f)\n",
    "X = t[0]\n",
    "A = t[1]\n",
    "y = t[2]\n",
    "wt = t[3]"
   ]
  },
  {
   "cell_type": "code",
   "execution_count": 10,
   "metadata": {},
   "outputs": [
    {
     "name": "stdout",
     "output_type": "stream",
     "text": [
      "Iteration 3000 of 3000\tNLML: 49.9795\tsn: 0.495660\t"
     ]
    }
   ],
   "source": [
    "np.random.seed(120120)\n",
    "_ = torch.manual_seed(43298)\n",
    "\n",
    "seq_to_x = {}\n",
    "for i, x in enumerate(X):\n",
    "    seq = helpers.decode_X(x)\n",
    "    seq_to_x[seq] = i\n",
    "wt_inds = [seq_to_x[wt]]\n",
    "\n",
    "n = 100\n",
    "train_inds = wt_inds + list(np.random.choice(len(X), n, replace=True))\n",
    "\n",
    "y_train = y[train_inds]\n",
    "y_true = y\n",
    "A_train = A[train_inds]\n",
    "A_test = A\n",
    "\n",
    "inds = sorted(set(itertools.chain(train_inds)))\n",
    "\n",
    "\n",
    "dic, _ = helpers.get_predictions(A[inds], y[inds], A_test,\n",
    "                                         one_hots=X, its=3000, lr=1e-3)"
   ]
  },
  {
   "cell_type": "code",
   "execution_count": 11,
   "metadata": {},
   "outputs": [],
   "source": [
    "aas = 'ARNDCQEGHILKMFPSTWYV'\n",
    "ground = [(aa, i) for aa in aas for i in range(4)]"
   ]
  },
  {
   "cell_type": "code",
   "execution_count": 17,
   "metadata": {},
   "outputs": [],
   "source": [
    "seen_seqs = [helpers.decode_X(X[i]) for i in inds]\n",
    "for s in seen_seqs:\n",
    "    dic[s] = 0.0"
   ]
  },
  {
   "cell_type": "code",
   "execution_count": 18,
   "metadata": {},
   "outputs": [
    {
     "data": {
      "text/plain": [
       "[('W', 0), ('N', 1), ('Q', 2), ('W', 3)]"
      ]
     },
     "execution_count": 18,
     "metadata": {},
     "output_type": "execute_result"
    }
   ],
   "source": [
    "seed = helpers.get_seed(dic)\n",
    "seed"
   ]
  },
  {
   "cell_type": "code",
   "execution_count": 78,
   "metadata": {},
   "outputs": [
    {
     "name": "stdout",
     "output_type": "stream",
     "text": [
      "Iteration 0\t obj = -0.000105\t\n",
      "Iteration 1\t obj = -0.003231\n",
      "Iteration 2\t obj = -0.007021\n",
      "Iteration 3\t obj = -0.008408\n",
      "Iteration 4\t obj = -0.009028\n",
      "Iteration 5\t obj = -0.009695\n",
      "Iteration 6\t obj = -0.009872\n",
      "Iteration 7\t obj = -0.010028\n",
      "Iteration 8\t obj = -0.010114\n",
      "Iteration 9\t obj = -0.010169\n",
      "Iteration 10\t obj = -0.010197\n",
      "Iteration 11\t obj = -0.010223\n",
      "Iteration 12\t obj = -0.010272\n",
      "Iteration 13\t obj = -0.010291\n",
      "Iteration 14\t obj = -0.010308\n",
      "Iteration 15\t obj = -0.010322\n",
      "Iteration 16\t obj = -0.010334\n",
      "Iteration 17\t obj = -0.010339\n",
      "Iteration 18\t obj = -0.010344\n",
      "Iteration 19\t obj = -0.010347\n",
      "Iteration 20\t obj = -0.010348\n",
      "Iteration 21\t obj = -0.010349\n",
      "Iteration 22\t obj = -0.010350\n",
      "Iteration 23\t obj = -0.010350\n",
      "Iteration 24\t obj = -0.010326\n",
      "Iteration 25\t obj = -0.010357\n",
      "Iteration 26\t obj = -0.010361\n",
      "Iteration 27\t obj = -0.010365\n",
      "Iteration 28\t obj = -0.010368\n",
      "Iteration 29\t obj = -0.010370\n",
      "Iteration 30\t obj = -0.010359\n",
      "Iteration 31\t obj = -0.010377\n",
      "Iteration 32\t obj = -0.010386\n",
      "Iteration 33\t obj = -0.010387\n",
      "CPU times: user 3h 41min 29s, sys: 2min 40s, total: 3h 44min 10s\n",
      "Wall time: 3h 44min 28s\n"
     ]
    }
   ],
   "source": [
    "%%time\n",
    "\n",
    "opt = importlib.reload(opt)\n",
    "objectives = importlib.reload(objectives)\n",
    "helpers = importlib.reload(helpers)\n",
    "\n",
    "np.random.seed(10645)\n",
    "\n",
    "X_list, obj_list = opt.mod_mod(ground, seed, objectives.obj_LHS, objectives.obj_RHS, \n",
    "                               fn_args=(4, dic), g_args=(4, dic, 100), verbose=True)"
   ]
  },
  {
   "cell_type": "code",
   "execution_count": 104,
   "metadata": {},
   "outputs": [
    {
     "data": {
      "text/plain": [
       "([('W', 0),\n",
       "  ('C', 0),\n",
       "  ('I', 0),\n",
       "  ('P', 0),\n",
       "  ('R', 0),\n",
       "  ('L', 0),\n",
       "  ('Q', 0),\n",
       "  ('G', 0),\n",
       "  ('Y', 0),\n",
       "  ('E', 0),\n",
       "  ('K', 0),\n",
       "  ('F', 0),\n",
       "  ('N', 0),\n",
       "  ('V', 0),\n",
       "  ('N', 1),\n",
       "  ('R', 1),\n",
       "  ('G', 1),\n",
       "  ('F', 1),\n",
       "  ('S', 1),\n",
       "  ('K', 1),\n",
       "  ('D', 1),\n",
       "  ('C', 1),\n",
       "  ('L', 1),\n",
       "  ('Q', 2),\n",
       "  ('G', 2),\n",
       "  ('V', 2),\n",
       "  ('W', 3),\n",
       "  ('R', 3),\n",
       "  ('E', 3),\n",
       "  ('K', 3),\n",
       "  ('C', 3),\n",
       "  ('H', 3),\n",
       "  ('I', 3),\n",
       "  ('Y', 3),\n",
       "  ('L', 3),\n",
       "  ('F', 3),\n",
       "  ('S', 3),\n",
       "  ('G', 3),\n",
       "  ('A', 3),\n",
       "  ('P', 3),\n",
       "  ('M', 3)],\n",
       " tensor(1.00000e-02 *\n",
       "        -1.0350))"
      ]
     },
     "execution_count": 104,
     "metadata": {},
     "output_type": "execute_result"
    }
   ],
   "source": [
    "objectives = importlib.reload(objectives)\n",
    "opt = importlib.reload(opt)\n",
    "helpers = importlib.reload(helpers)\n",
    "\n",
    "\n",
    "opt.greedy(ground, X_list[23], objectives.objective, 1, obj_args=(4, dic, 100))"
   ]
  },
  {
   "cell_type": "code",
   "execution_count": 87,
   "metadata": {
    "scrolled": true
   },
   "outputs": [
    {
     "name": "stdout",
     "output_type": "stream",
     "text": [
      "CPU times: user 2min 21s, sys: 1.29 s, total: 2min 22s\n",
      "Wall time: 2min 24s\n"
     ]
    },
    {
     "data": {
      "text/plain": [
       "tensor(1.00000e-02 *\n",
       "       -1.0393)"
      ]
     },
     "execution_count": 87,
     "metadata": {},
     "output_type": "execute_result"
    }
   ],
   "source": [
    "objectives = importlib.reload(objectives)\n",
    "opt = importlib.reload(opt)\n",
    "helpers = importlib.reload(helpers)\n",
    "\n",
    "\n",
    "%time lib, obj = opt.greedy(ground, seed, ind_obj.objective, 2)\n",
    "obj"
   ]
  },
  {
   "cell_type": "code",
   "execution_count": 23,
   "metadata": {},
   "outputs": [],
   "source": [
    "# Check that cant add or take away anything to increase objective\n",
    "\n",
    "objects = [] # store obj_LHS, obj_RHS, difference btw the two\n",
    "lib = X_list[-1]\n",
    "for i in ground:\n",
    "    if i in lib:\n",
    "        X_noi = [x for x in lib if x != i]    \n",
    "        obj_left = objectives.obj_LHS(X_noi, 4, dic)\n",
    "        obj_right = objectives.obj_RHS(X_noi, 4, dic, 100)\n",
    "        obj = obj_left - obj_right\n",
    "        \n",
    "        objects.append((obj_left, obj_right, obj))\n",
    "    else:        \n",
    "        obj_left = objectives.obj_LHS(lib + [i], 4, dic)\n",
    "        obj_right = objectives.obj_RHS(lib + [i], 4, dic, 100)\n",
    "        obj = obj_left - obj_right\n",
    "        objects.append((obj_left, obj_right, obj))"
   ]
  },
  {
   "cell_type": "code",
   "execution_count": 24,
   "metadata": {},
   "outputs": [],
   "source": [
    "for obj in objects:\n",
    "    if obj[2] < objectives.objective(lib, 4, dic, 100):\n",
    "        print(obj)"
   ]
  },
  {
   "cell_type": "code",
   "execution_count": 25,
   "metadata": {},
   "outputs": [
    {
     "data": {
      "text/plain": [
       "5600"
      ]
     },
     "execution_count": 25,
     "metadata": {},
     "output_type": "execute_result"
    }
   ],
   "source": [
    "helpers.get_N(lib, 4)"
   ]
  },
  {
   "cell_type": "code",
   "execution_count": 26,
   "metadata": {},
   "outputs": [],
   "source": [
    "with open('../outputs/20180828_modmod_not_mono.pkl', 'wb') as f:\n",
    "    pickle.dump((X_list, obj_list), f)"
   ]
  },
  {
   "cell_type": "code",
   "execution_count": 88,
   "metadata": {},
   "outputs": [],
   "source": [
    "with open('../outputs/20180828_modmod_not_mono.pkl', 'rb') as f:\n",
    "    X_list, obj_list = pickle.load(f)"
   ]
  },
  {
   "cell_type": "code",
   "execution_count": 116,
   "metadata": {},
   "outputs": [
    {
     "name": "stdout",
     "output_type": "stream",
     "text": [
      "('F', 2)\n"
     ]
    }
   ],
   "source": [
    "for a in X_list[23]:\n",
    "    if a not in X_list[24]:\n",
    "        print(a)\n",
    "        \n",
    "for a in X_list[24]:\n",
    "    if a not in X_list[23]:\n",
    "        print(a)"
   ]
  },
  {
   "cell_type": "code",
   "execution_count": 113,
   "metadata": {},
   "outputs": [
    {
     "data": {
      "text/plain": [
       "42"
      ]
     },
     "execution_count": 113,
     "metadata": {},
     "output_type": "execute_result"
    }
   ],
   "source": [
    "len(X_list[24])"
   ]
  },
  {
   "cell_type": "code",
   "execution_count": 106,
   "metadata": {},
   "outputs": [
    {
     "data": {
      "text/plain": [
       "[23, 29]"
      ]
     },
     "execution_count": 106,
     "metadata": {},
     "output_type": "execute_result"
    }
   ],
   "source": [
    "inds = [i for i in range(len(objs) - 1) if objs[i] < objs[i + 1]]\n",
    "inds"
   ]
  },
  {
   "cell_type": "code",
   "execution_count": 109,
   "metadata": {},
   "outputs": [],
   "source": [
    "objects = [] # store obj_LHS, obj_RHS, difference btw the two\n",
    "lib = X_list[29]\n",
    "n = 100\n",
    "L = 4\n",
    "for i in ground:\n",
    "    if i in lib:\n",
    "        A = [x for x in lib if x != i]    \n",
    "    else:        \n",
    "        A = lib + [i]\n",
    "    objects.append(objectives.objective(A, L, dic, n))\n",
    "    \n",
    "for obj in objects:\n",
    "    if obj < objectives.objective(lib, 4, dic, 100):\n",
    "        print(obj)"
   ]
  },
  {
   "cell_type": "code",
   "execution_count": 118,
   "metadata": {},
   "outputs": [
    {
     "data": {
      "text/plain": [
       "tensor(1.00000e-02 *\n",
       "       -1.0326)"
      ]
     },
     "execution_count": 118,
     "metadata": {},
     "output_type": "execute_result"
    }
   ],
   "source": [
    "objectives.objective(X_list[23], L, dic, n)"
   ]
  },
  {
   "cell_type": "code",
   "execution_count": 121,
   "metadata": {},
   "outputs": [
    {
     "name": "stdout",
     "output_type": "stream",
     "text": [
      "Iteration 0\t obj = -0.000105\t\n",
      "Iteration 1\t obj = -0.003231\n",
      "Iteration 2\t obj = -0.007021\n",
      "Iteration 3\t obj = -0.008408\n",
      "Iteration 4\t obj = -0.009028\n",
      "Iteration 5\t obj = -0.009695\n",
      "Iteration 6\t obj = -0.009872\n",
      "Iteration 7\t obj = -0.010028\n",
      "Iteration 8\t obj = -0.010114\n",
      "Iteration 9\t obj = -0.010169\n",
      "Iteration 10\t obj = -0.010197\n",
      "Iteration 11\t obj = -0.010223\n",
      "Iteration 12\t obj = -0.010272\n",
      "Iteration 13\t obj = -0.010291\n",
      "Iteration 14\t obj = -0.010308\n",
      "Iteration 15\t obj = -0.010322\n",
      "Iteration 16\t obj = -0.010334\n",
      "Iteration 17\t obj = -0.010339\n",
      "Iteration 18\t obj = -0.010344\n",
      "Iteration 19\t obj = -0.010347\n",
      "Iteration 20\t obj = -0.010348\n",
      "Iteration 21\t obj = -0.010349\n",
      "Iteration 22\t obj = -0.010350\n",
      "Iteration 23\t obj = -0.010350\n",
      "Iteration 24\t obj = -0.010326\n",
      "Iteration 25\t obj = -0.010357\n",
      "Iteration 26\t obj = -0.010361\n",
      "Iteration 27\t obj = -0.010365\n",
      "Iteration 28\t obj = -0.010368\n",
      "Iteration 29\t obj = -0.010370\n",
      "Iteration 30\t obj = -0.010359\n",
      "Iteration 31\t obj = -0.010377\n",
      "Iteration 32\t obj = -0.010386\n",
      "Iteration 33\t obj = -0.010387\n",
      "CPU times: user 1h 33min 2s, sys: 4min 21s, total: 1h 37min 24s\n",
      "Wall time: 2h 19min 57s\n"
     ]
    }
   ],
   "source": [
    "%%time\n",
    "\n",
    "opt = importlib.reload(opt)\n",
    "objectives = importlib.reload(objectives)\n",
    "helpers = importlib.reload(helpers)\n",
    "\n",
    "np.random.seed(10645)\n",
    "\n",
    "X_list, obj_list, perm_list = opt.mod_mod(ground, seed, objectives.obj_LHS, objectives.obj_RHS, \n",
    "                               fn_args=(4, dic), g_args=(4, dic, 100), verbose=True)"
   ]
  },
  {
   "cell_type": "code",
   "execution_count": null,
   "metadata": {},
   "outputs": [],
   "source": []
  }
 ],
 "metadata": {
  "kernelspec": {
   "display_name": "Python [conda env:pyro]",
   "language": "python",
   "name": "conda-env-pyro-py"
  },
  "language_info": {
   "codemirror_mode": {
    "name": "ipython",
    "version": 3
   },
   "file_extension": ".py",
   "mimetype": "text/x-python",
   "name": "python",
   "nbconvert_exporter": "python",
   "pygments_lexer": "ipython3",
   "version": "3.6.5"
  }
 },
 "nbformat": 4,
 "nbformat_minor": 2
}
