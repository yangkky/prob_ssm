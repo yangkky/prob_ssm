{
 "cells": [
  {
   "cell_type": "markdown",
   "metadata": {},
   "source": [
    "Tests for mod_mod algo"
   ]
  },
  {
   "cell_type": "code",
   "execution_count": 1,
   "metadata": {},
   "outputs": [],
   "source": [
    "import torch\n",
    "from torch import distributions as dist\n",
    "\n",
    "import itertools\n",
    "import pickle\n",
    "import importlib\n",
    "\n",
    "import itertools\n",
    "import random\n",
    "import math\n",
    "import numpy as np\n",
    "import pandas as pd\n",
    "import scipy\n",
    "\n",
    "import matplotlib.pyplot as plt\n",
    "import seaborn as sns\n",
    "%matplotlib inline\n",
    "sns.set_style('white')\n",
    "sns.set_context('paper')\n",
    "# Plot adjustments:\n",
    "plt.rcParams.update({'ytick.labelsize': 15})\n",
    "plt.rcParams.update({'xtick.labelsize': 15})\n",
    "plt.rcParams.update({'axes.labelsize': 35})\n",
    "plt.rcParams.update({'legend.fontsize': 30})\n",
    "plt.rcParams.update({'axes.titlesize': 16})\n",
    "\n",
    "from gptorch import kernels, models\n",
    "import helpers, opt, objectives"
   ]
  },
  {
   "cell_type": "code",
   "execution_count": 2,
   "metadata": {},
   "outputs": [],
   "source": [
    "torch.set_default_tensor_type(torch.DoubleTensor)\n"
   ]
  },
  {
   "cell_type": "code",
   "execution_count": 3,
   "metadata": {},
   "outputs": [],
   "source": [
    "with open('../inputs/gb1.pkl', 'rb') as f:\n",
    "    t = pickle.load(f)\n",
    "X = t[0]\n",
    "A = t[1]\n",
    "y = t[2]\n",
    "wt = t[3]"
   ]
  },
  {
   "cell_type": "code",
   "execution_count": 4,
   "metadata": {},
   "outputs": [
    {
     "name": "stdout",
     "output_type": "stream",
     "text": [
      "Iteration 3000 of 3000\tNLML: 49.3676\tsn: 0.365388\t"
     ]
    }
   ],
   "source": [
    "np.random.seed(120120)\n",
    "_ = torch.manual_seed(43298)\n",
    "\n",
    "seq_to_x = {}\n",
    "for i, x in enumerate(X):\n",
    "    seq = helpers.decode_X(x)\n",
    "    seq_to_x[seq] = i\n",
    "wt_inds = [seq_to_x[wt]]\n",
    "\n",
    "n = 100\n",
    "train_inds = wt_inds + list(np.random.choice(len(X), n, replace=True))\n",
    "\n",
    "y_train = y[train_inds]\n",
    "y_true = y\n",
    "A_train = A[train_inds]\n",
    "A_test = A\n",
    "\n",
    "inds = sorted(set(itertools.chain(train_inds)))\n",
    "\n",
    "\n",
    "dic, _ = helpers.get_predictions(A[inds], y[inds], A_test,\n",
    "                                         one_hots=X, its=3000, lr=1e-3)"
   ]
  },
  {
   "cell_type": "code",
   "execution_count": 47,
   "metadata": {},
   "outputs": [],
   "source": [
    "aas = 'ARNDCQEGHILKMFPSTWYV'\n",
    "ground = [(aa, i) for aa in aas for i in range(4)]"
   ]
  },
  {
   "cell_type": "code",
   "execution_count": 42,
   "metadata": {},
   "outputs": [],
   "source": [
    "seen_seqs = [helpers.decode_X(X[i]) for i in inds]\n",
    "for s in seen_seqs:\n",
    "    dic[s] = 0.0"
   ]
  },
  {
   "cell_type": "code",
   "execution_count": 49,
   "metadata": {},
   "outputs": [
    {
     "data": {
      "text/plain": [
       "[('K', 0), ('Y', 1), ('Q', 2), ('L', 3)]"
      ]
     },
     "execution_count": 49,
     "metadata": {},
     "output_type": "execute_result"
    }
   ],
   "source": [
    "seed = helpers.get_seed(dic)\n",
    "seed"
   ]
  },
  {
   "cell_type": "code",
   "execution_count": 546,
   "metadata": {},
   "outputs": [],
   "source": [
    "dic3 = {k[:-1]:dic[k] for k in dic if k[-1] == 'A'}\n",
    "seed3 = helpers.get_seed(dic3)\n",
    "\n",
    "ground3 = [g for g in ground if g[1] < 3]\n",
    "L = 3"
   ]
  },
  {
   "cell_type": "code",
   "execution_count": 544,
   "metadata": {},
   "outputs": [
    {
     "data": {
      "text/plain": [
       "[('K', 0), ('Y', 1), ('L', 3)]"
      ]
     },
     "execution_count": 544,
     "metadata": {},
     "output_type": "execute_result"
    }
   ],
   "source": [
    "seed3"
   ]
  },
  {
   "cell_type": "code",
   "execution_count": 130,
   "metadata": {},
   "outputs": [],
   "source": [
    "dic2 = {k[:-2]:dic[k] for k in dic if k[-1] == 'L' and k[-2] == 'Q'}\n",
    "seed2 = seed[:-2]\n",
    "ground2 = [g for g in ground if g[1] < 2]\n",
    "L = 2"
   ]
  },
  {
   "cell_type": "code",
   "execution_count": 535,
   "metadata": {},
   "outputs": [
    {
     "data": {
      "text/plain": [
       "tensor(1.00000e-05 *\n",
       "       4.1996)"
      ]
     },
     "execution_count": 535,
     "metadata": {},
     "output_type": "execute_result"
    }
   ],
   "source": [
    "n = 100\n",
    "\n",
    "def ddr(x, n):\n",
    "    return n * (n - 2 * x + 1) * (1 - 1 / x) ** n / (x - 1) ** 2 / x ** 2\n",
    "\n",
    "alpha = scipy.optimize.minimize(ddr, 70, args=(n,), method='Powell')['fun']\n",
    "alpha = -torch.Tensor(alpha)\n",
    "alpha"
   ]
  },
  {
   "cell_type": "code",
   "execution_count": 557,
   "metadata": {},
   "outputs": [],
   "source": [
    "np.random.seed(1)\n",
    "inds = np.random.choice(60, 30, replace=False)\n",
    "A = [ground3[i] for i in inds]"
   ]
  },
  {
   "cell_type": "code",
   "execution_count": 574,
   "metadata": {
    "scrolled": false
   },
   "outputs": [
    {
     "name": "stdout",
     "output_type": "stream",
     "text": [
      "Iteration 0\t obj = -0.014445\t\n",
      "Iteration 1\t obj = -0.064004\n",
      "Iteration 2\t obj = -0.126820\n",
      "Iteration 3\t obj = -0.152837\n",
      "Iteration 4\t obj = -0.170050\n",
      "Iteration 5\t obj = -0.186076\n",
      "Iteration 6\t obj = -0.196567\n",
      "Iteration 7\t obj = -0.209288\n",
      "Iteration 8\t obj = -0.213174\n",
      "Iteration 9\t obj = -0.219561\n",
      "Iteration 10\t obj = -0.220467\n",
      "CPU times: user 47min 3s, sys: 1min 48s, total: 48min 52s\n",
      "Wall time: 1h 5min 58s\n"
     ]
    }
   ],
   "source": [
    "%%time\n",
    "\n",
    "opt = importlib.reload(opt)\n",
    "objectives = importlib.reload(objectives)\n",
    "helpers = importlib.reload(helpers)\n",
    "\n",
    "np.random.seed(101645)\n",
    "L = 4\n",
    "\n",
    "X_list, obj_list, perm_list, perms = opt.mod_mod(ground, seed, objectives.dc_lhs, objectives.dc_rhs, \n",
    "                               fn_args=(L, dic, alpha), g_args=(L, dic, n, alpha), verbose=True)"
   ]
  },
  {
   "cell_type": "code",
   "execution_count": 568,
   "metadata": {},
   "outputs": [],
   "source": [
    "B = X_list[-1]"
   ]
  },
  {
   "cell_type": "code",
   "execution_count": 573,
   "metadata": {},
   "outputs": [
    {
     "name": "stdout",
     "output_type": "stream",
     "text": [
      "-0.014445329159274656 1\n",
      "-0.02827841545166343 2\n",
      "-0.04250175502991774 4\n",
      "-0.06286361429667228 8\n",
      "-0.09371428426170933 12\n",
      "-0.12434356196666106 24\n",
      "-0.15573745360235977 32\n",
      "-0.18397867407959734 48\n",
      "-0.20407077304473778 60\n",
      "-0.21907020755168066 72\n",
      "-0.2252375682033628 108\n"
     ]
    }
   ],
   "source": [
    "objectives = importlib.reload(objectives)\n",
    "opt = importlib.reload(opt)\n",
    "helpers = importlib.reload(helpers)\n",
    "\n",
    "\n",
    "_, _, Xs, objs = opt.greedy(ground, seed, objectives.objective, 1, obj_args=(L, dic, n), return_all=True)\n",
    "\n",
    "for x, obj in zip(Xs, objs):\n",
    "    print(obj.item(), helpers.get_N(x, L))"
   ]
  },
  {
   "cell_type": "code",
   "execution_count": 577,
   "metadata": {},
   "outputs": [
    {
     "name": "stdout",
     "output_type": "stream",
     "text": [
      "Iteration 0\t obj = -0.006363\t\n",
      "Iteration 1\t obj = -0.017786\n",
      "Iteration 2\t obj = -0.029355\n",
      "Iteration 3\t obj = -0.040097\n",
      "Iteration 4\t obj = -0.047059\n",
      "Iteration 5\t obj = -0.051602\n",
      "Iteration 6\t obj = -0.054774\n",
      "Iteration 7\t obj = -0.058097\n",
      "Iteration 8\t obj = -0.062154\n",
      "Iteration 9\t obj = -0.069739\n",
      "Iteration 10\t obj = -0.073886\n",
      "Iteration 11\t obj = -0.076899\n",
      "Iteration 12\t obj = -0.078617\n",
      "Iteration 13\t obj = -0.080815\n",
      "Iteration 14\t obj = -0.082132\n",
      "Iteration 15\t obj = -0.083245\n",
      "Iteration 16\t obj = -0.084078\n",
      "Iteration 17\t obj = -0.084872\n",
      "Iteration 18\t obj = -0.086218\n",
      "Iteration 19\t obj = -0.087598\n",
      "Iteration 20\t obj = -0.088953\n",
      "Iteration 21\t obj = -0.090665\n",
      "Iteration 22\t obj = -0.091810\n",
      "Iteration 23\t obj = -0.092703\n",
      "Iteration 24\t obj = -0.093194\n",
      "CPU times: user 3min 26s, sys: 11.7 s, total: 3min 38s\n",
      "Wall time: 4min 28s\n"
     ]
    }
   ],
   "source": [
    "%%time\n",
    "\n",
    "opt = importlib.reload(opt)\n",
    "objectives = importlib.reload(objectives)\n",
    "helpers = importlib.reload(helpers)\n",
    "\n",
    "np.random.seed(101645)\n",
    "L = 3\n",
    "\n",
    "X_list, obj_list, perm_list, perms = opt.mod_mod(ground3, seed3, objectives.dc_lhs, objectives.dc_rhs, \n",
    "                               fn_args=(L, dic3, alpha), g_args=(L, dic3, n, alpha), verbose=True)"
   ]
  },
  {
   "cell_type": "code",
   "execution_count": 578,
   "metadata": {
    "scrolled": true
   },
   "outputs": [
    {
     "name": "stdout",
     "output_type": "stream",
     "text": [
      "-0.006362772397890626 1\n",
      "-0.009294416719369591 2\n",
      "-0.0135901881664697 4\n",
      "-0.019279320771721082 8\n",
      "-0.027348733503082978 12\n",
      "-0.039635361967049296 18\n",
      "-0.052354384377158565 27\n",
      "-0.06243370492967245 36\n",
      "-0.07084752474085987 48\n",
      "-0.07680222877290716 60\n",
      "-0.08126210872405523 72\n",
      "-0.08451755675595073 90\n",
      "-0.08649325274282776 108\n",
      "-0.08757385451294562 126\n",
      "-0.08895308227513692 84\n",
      "-0.09066500540691927 96\n",
      "-0.09180968636857108 108\n",
      "-0.09270319485700912 120\n",
      "-0.09319378614461538 132\n"
     ]
    }
   ],
   "source": [
    "objectives = importlib.reload(objectives)\n",
    "opt = importlib.reload(opt)\n",
    "helpers = importlib.reload(helpers)\n",
    "\n",
    "\n",
    "_, _, Xs, objs = opt.greedy(ground3, seed3, objectives.objective, 1, obj_args=(L, dic3, n), return_all=True)\n",
    "\n",
    "for x, obj in zip(Xs, objs):\n",
    "    print(obj.item(), helpers.get_N(x, L))"
   ]
  },
  {
   "cell_type": "code",
   "execution_count": 514,
   "metadata": {},
   "outputs": [
    {
     "data": {
      "text/plain": [
       "15"
      ]
     },
     "execution_count": 514,
     "metadata": {},
     "output_type": "execute_result"
    }
   ],
   "source": [
    "perms = perm_list[-2]\n",
    "ind = [perm[m - 1] for perm in perms].index(j)\n",
    "ind"
   ]
  },
  {
   "cell_type": "code",
   "execution_count": 515,
   "metadata": {},
   "outputs": [
    {
     "data": {
      "text/plain": [
       "(43, 17)"
      ]
     },
     "execution_count": 515,
     "metadata": {},
     "output_type": "execute_result"
    }
   ],
   "source": [
    "len(perms), len(X_list[-1])"
   ]
  },
  {
   "cell_type": "code",
   "execution_count": null,
   "metadata": {},
   "outputs": [],
   "source": []
  },
  {
   "cell_type": "code",
   "execution_count": 501,
   "metadata": {},
   "outputs": [
    {
     "data": {
      "text/plain": [
       "[('T', 1),\n",
       " ('K', 1),\n",
       " ('Y', 0),\n",
       " ('G', 0),\n",
       " ('D', 0),\n",
       " ('V', 0),\n",
       " ('Y', 0),\n",
       " ('C', 2),\n",
       " ('N', 1),\n",
       " ('V', 0),\n",
       " ('D', 1),\n",
       " ('T', 0),\n",
       " ('Y', 0),\n",
       " ('G', 0),\n",
       " ('M', 2),\n",
       " ('P', 0),\n",
       " ('C', 1),\n",
       " ('V', 1),\n",
       " ('T', 1),\n",
       " ('N', 0),\n",
       " ('P', 0),\n",
       " ('D', 0),\n",
       " ('C', 2),\n",
       " ('F', 2),\n",
       " ('I', 1),\n",
       " ('G', 1),\n",
       " ('N', 1),\n",
       " ('F', 2),\n",
       " ('F', 1),\n",
       " ('W', 2),\n",
       " ('A', 1),\n",
       " ('R', 1),\n",
       " ('W', 0),\n",
       " ('S', 0),\n",
       " ('C', 1),\n",
       " ('I', 0),\n",
       " ('M', 0),\n",
       " ('R', 1),\n",
       " ('T', 1),\n",
       " ('Q', 1),\n",
       " ('L', 2),\n",
       " ('K', 1),\n",
       " ('T', 0),\n",
       " ('W', 0)]"
      ]
     },
     "execution_count": 501,
     "metadata": {},
     "output_type": "execute_result"
    }
   ],
   "source": [
    "[perm[m - 1] for perm in perms]\n"
   ]
  },
  {
   "cell_type": "code",
   "execution_count": 525,
   "metadata": {},
   "outputs": [],
   "source": [
    "# Check that cant add or take away anything to increase objective\n",
    "\n",
    "objects = [] # store obj_LHS, obj_RHS, difference btw the two\n",
    "lib = X_list[-1]\n",
    "for i in ground:\n",
    "    if i in lib:\n",
    "        X_noi = [x for x in lib if x != i]    \n",
    "        obj_left = objectives.obj_LHS(X_noi, L, dic3)\n",
    "        obj_right = objectives.obj_RHS(X_noi, L, dic3, n)\n",
    "        obj = obj_left - obj_right\n",
    "        \n",
    "        objects.append((obj_left, obj_right, obj))\n",
    "    else:        \n",
    "        obj_left = objectives.obj_LHS(lib + [i], L, dic3)\n",
    "        obj_right = objectives.obj_RHS(lib + [i], L, dic3, n)\n",
    "        obj = obj_left - obj_right\n",
    "        objects.append((obj_left, obj_right, obj))"
   ]
  },
  {
   "cell_type": "code",
   "execution_count": 526,
   "metadata": {},
   "outputs": [],
   "source": [
    "for obj in objects:\n",
    "    if obj[2] < objectives.objective(lib, L, dic3, n):\n",
    "        print(obj)"
   ]
  },
  {
   "cell_type": "code",
   "execution_count": 25,
   "metadata": {},
   "outputs": [
    {
     "data": {
      "text/plain": [
       "5600"
      ]
     },
     "execution_count": 25,
     "metadata": {},
     "output_type": "execute_result"
    }
   ],
   "source": [
    "helpers.get_N(lib, 4)"
   ]
  },
  {
   "cell_type": "code",
   "execution_count": 26,
   "metadata": {},
   "outputs": [],
   "source": [
    "with open('../outputs/20180828_modmod_not_mono.pkl', 'wb') as f:\n",
    "    pickle.dump((X_list, obj_list), f)"
   ]
  },
  {
   "cell_type": "code",
   "execution_count": 88,
   "metadata": {},
   "outputs": [],
   "source": [
    "with open('../outputs/20180828_modmod_not_mono.pkl', 'rb') as f:\n",
    "    X_list, obj_list = pickle.load(f)"
   ]
  },
  {
   "cell_type": "code",
   "execution_count": 116,
   "metadata": {},
   "outputs": [
    {
     "name": "stdout",
     "output_type": "stream",
     "text": [
      "('F', 2)\n"
     ]
    }
   ],
   "source": [
    "for a in X_list[23]:\n",
    "    if a not in X_list[24]:\n",
    "        print(a)\n",
    "        \n",
    "for a in X_list[24]:\n",
    "    if a not in X_list[23]:\n",
    "        print(a)"
   ]
  },
  {
   "cell_type": "code",
   "execution_count": 113,
   "metadata": {},
   "outputs": [
    {
     "data": {
      "text/plain": [
       "42"
      ]
     },
     "execution_count": 113,
     "metadata": {},
     "output_type": "execute_result"
    }
   ],
   "source": [
    "len(X_list[24])"
   ]
  },
  {
   "cell_type": "code",
   "execution_count": 106,
   "metadata": {},
   "outputs": [
    {
     "data": {
      "text/plain": [
       "[23, 29]"
      ]
     },
     "execution_count": 106,
     "metadata": {},
     "output_type": "execute_result"
    }
   ],
   "source": [
    "inds = [i for i in range(len(objs) - 1) if objs[i] < objs[i + 1]]\n",
    "inds"
   ]
  },
  {
   "cell_type": "code",
   "execution_count": 109,
   "metadata": {},
   "outputs": [],
   "source": [
    "objects = [] # store obj_LHS, obj_RHS, difference btw the two\n",
    "lib = X_list[29]\n",
    "n = 100\n",
    "L = 4\n",
    "for i in ground:\n",
    "    if i in lib:\n",
    "        A = [x for x in lib if x != i]    \n",
    "    else:        \n",
    "        A = lib + [i]\n",
    "    objects.append(objectives.objective(A, L, dic, n))\n",
    "    \n",
    "for obj in objects:\n",
    "    if obj < objectives.objective(lib, 4, dic, 100):\n",
    "        print(obj)"
   ]
  },
  {
   "cell_type": "code",
   "execution_count": 118,
   "metadata": {},
   "outputs": [
    {
     "data": {
      "text/plain": [
       "tensor(1.00000e-02 *\n",
       "       -1.0326)"
      ]
     },
     "execution_count": 118,
     "metadata": {},
     "output_type": "execute_result"
    }
   ],
   "source": [
    "objectives.objective(X_list[23], L, dic, n)"
   ]
  },
  {
   "cell_type": "code",
   "execution_count": 121,
   "metadata": {},
   "outputs": [
    {
     "name": "stdout",
     "output_type": "stream",
     "text": [
      "Iteration 0\t obj = -0.000105\t\n",
      "Iteration 1\t obj = -0.003231\n",
      "Iteration 2\t obj = -0.007021\n",
      "Iteration 3\t obj = -0.008408\n",
      "Iteration 4\t obj = -0.009028\n",
      "Iteration 5\t obj = -0.009695\n",
      "Iteration 6\t obj = -0.009872\n",
      "Iteration 7\t obj = -0.010028\n",
      "Iteration 8\t obj = -0.010114\n",
      "Iteration 9\t obj = -0.010169\n",
      "Iteration 10\t obj = -0.010197\n",
      "Iteration 11\t obj = -0.010223\n",
      "Iteration 12\t obj = -0.010272\n",
      "Iteration 13\t obj = -0.010291\n",
      "Iteration 14\t obj = -0.010308\n",
      "Iteration 15\t obj = -0.010322\n",
      "Iteration 16\t obj = -0.010334\n",
      "Iteration 17\t obj = -0.010339\n",
      "Iteration 18\t obj = -0.010344\n",
      "Iteration 19\t obj = -0.010347\n",
      "Iteration 20\t obj = -0.010348\n",
      "Iteration 21\t obj = -0.010349\n",
      "Iteration 22\t obj = -0.010350\n",
      "Iteration 23\t obj = -0.010350\n",
      "Iteration 24\t obj = -0.010326\n",
      "Iteration 25\t obj = -0.010357\n",
      "Iteration 26\t obj = -0.010361\n",
      "Iteration 27\t obj = -0.010365\n",
      "Iteration 28\t obj = -0.010368\n",
      "Iteration 29\t obj = -0.010370\n",
      "Iteration 30\t obj = -0.010359\n",
      "Iteration 31\t obj = -0.010377\n",
      "Iteration 32\t obj = -0.010386\n",
      "Iteration 33\t obj = -0.010387\n",
      "CPU times: user 1h 33min 2s, sys: 4min 21s, total: 1h 37min 24s\n",
      "Wall time: 2h 19min 57s\n"
     ]
    }
   ],
   "source": [
    "%%time\n",
    "\n",
    "opt = importlib.reload(opt)\n",
    "objectives = importlib.reload(objectives)\n",
    "helpers = importlib.reload(helpers)\n",
    "\n",
    "np.random.seed(10645)\n",
    "\n",
    "X_list, obj_list, perm_list = opt.mod_mod(ground, seed, objectives.obj_LHS, objectives.obj_RHS, \n",
    "                               fn_args=(4, dic), g_args=(4, dic, 100), verbose=True)"
   ]
  },
  {
   "cell_type": "code",
   "execution_count": null,
   "metadata": {},
   "outputs": [],
   "source": []
  }
 ],
 "metadata": {
  "kernelspec": {
   "display_name": "Python [conda env:pyro]",
   "language": "python",
   "name": "conda-env-pyro-py"
  },
  "language_info": {
   "codemirror_mode": {
    "name": "ipython",
    "version": 3
   },
   "file_extension": ".py",
   "mimetype": "text/x-python",
   "name": "python",
   "nbconvert_exporter": "python",
   "pygments_lexer": "ipython3",
   "version": "3.6.5"
  }
 },
 "nbformat": 4,
 "nbformat_minor": 2
}
