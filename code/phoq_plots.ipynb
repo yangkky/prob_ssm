{
 "cells": [
  {
   "cell_type": "code",
   "execution_count": 1,
   "metadata": {},
   "outputs": [],
   "source": [
    "import torch\n",
    "from torch import distributions as dist\n",
    "\n",
    "import itertools\n",
    "import pickle\n",
    "import importlib\n",
    "\n",
    "import itertools\n",
    "import random\n",
    "import math\n",
    "import numpy as np\n",
    "import pandas as pd\n",
    "import scipy\n",
    "\n",
    "import matplotlib.pyplot as plt\n",
    "import seaborn as sns\n",
    "%matplotlib inline\n",
    "sns.set_style('white')\n",
    "sns.set_context('paper')\n",
    "# Plot adjustments:\n",
    "plt.rcParams.update({'ytick.labelsize': 15})\n",
    "plt.rcParams.update({'xtick.labelsize': 15})\n",
    "plt.rcParams.update({'axes.labelsize': 20})\n",
    "plt.rcParams.update({'legend.fontsize': 15})\n",
    "plt.rcParams.update({'axes.titlesize': 16})\n",
    "\n",
    "from gptorch import kernels, models\n",
    "import helpers, opt, objectives"
   ]
  },
  {
   "cell_type": "code",
   "execution_count": 2,
   "metadata": {},
   "outputs": [],
   "source": [
    "torch.set_default_tensor_type(torch.DoubleTensor)"
   ]
  },
  {
   "cell_type": "code",
   "execution_count": 3,
   "metadata": {},
   "outputs": [
    {
     "name": "stdout",
     "output_type": "stream",
     "text": [
      "177\n",
      "Iteration 3000 of 3000\tNLML: 58.9343\tsn: 0.259592\t\n"
     ]
    }
   ],
   "source": [
    "with open('../inputs/phoq.pkl', 'rb') as f:\n",
    "    t = pickle.load(f)\n",
    "X = t[0]\n",
    "A = t[2]\n",
    "y = t[3].values\n",
    "wt = helpers.decode_X(X[150614])  # wt as string\n",
    "aas = 'ARNDCQEGHILKMFPSTWYV'\n",
    "\n",
    "ground = [(aa, i) for aa in aas for i in range(4)]\n",
    "L = 4\n",
    "n_aas = 20\n",
    "\n",
    "seq_to_x = {}\n",
    "for i, x in enumerate(X):\n",
    "    seq = helpers.decode_X(x)\n",
    "    seq_to_x[seq] = i\n",
    "wt_inds = [seq_to_x[wt]]\n",
    "\n",
    "np.random.seed(120120)\n",
    "_ = torch.manual_seed(43298)\n",
    "\n",
    "\n",
    "\n",
    "n = 100\n",
    "\n",
    "singles = [wt[:i] + aas[j] + wt[i+1:] for i in range(4) for j in range(20)]\n",
    "wt_inds = [seq_to_x[wt]]\n",
    "single_inds = wt_inds + [seq_to_x[seq] for seq in singles]\n",
    "train_inds = wt_inds + single_inds + list(np.random.choice(len(X), n, replace=True))\n",
    "\n",
    "\n",
    "y_true = y\n",
    "A_test = A\n",
    "\n",
    "sampled_inds = [train_inds[:]]\n",
    "libs = []\n",
    "objs = []\n",
    "\n",
    "inds = sorted(set(train_inds))\n",
    "print(len(inds))\n",
    "dic, _, mo = helpers.get_predictions(A[inds], y[inds], A_test,\n",
    "                                 one_hots=X, its=3000, lr=1e-2,\n",
    "                                return_model=True)\n",
    "print()\n",
    "seen_seqs = [helpers.decode_X(X[i]) for i in inds]\n",
    "for s in seen_seqs:\n",
    "    dic[s] = 0.0\n",
    "seed = helpers.get_seed(dic)\n",
    "\n",
    "dic = {k[:-1]:dic[k] for k in dic if k[-1] == seed[-1][0]}\n",
    "seed = helpers.get_seed(dic)\n",
    "\n",
    "ground = [g for g in ground if g[1] < 3]\n",
    "L = 3"
   ]
  },
  {
   "cell_type": "code",
   "execution_count": 4,
   "metadata": {},
   "outputs": [],
   "source": [
    "def ddr(x, n):\n",
    "    return n * (n - 2 * x + 1) * (1 - 1 / x) ** n / (x - 1) ** 2 / x ** 2\n",
    "\n",
    "def get_alpha(dic, n):\n",
    "    probs = np.sort(np.array([dic[k] for k in dic]))\n",
    "    L = len(next(iter(dic.keys())))\n",
    "    S = len(probs)\n",
    "    alpha = 0\n",
    "    for s in range(1, S):\n",
    "        if s % 1000 == 0:\n",
    "            print(s)\n",
    "        candidate = (1 - (1 - 1 / (2 * s)) ** n) - (1 - (1 - 1 / s) ** n)\n",
    "        candidate *= np.sum(probs[:S])\n",
    "        if candidate <= alpha:\n",
    "            alpha = candidate\n",
    "        else:\n",
    "            break\n",
    "    return alpha"
   ]
  },
  {
   "cell_type": "code",
   "execution_count": 5,
   "metadata": {},
   "outputs": [],
   "source": [
    "np.random.seed(402136)\n",
    "\n",
    "starts = [seed, ground]\n",
    "for m in [10, 25, 40]:\n",
    "    A = np.random.choice(L * n_aas, m + L, replace=False)\n",
    "    A = [ground[a] for a in A]\n",
    "    starts.append(A)\n",
    "    \n",
    "ns = [2, 50, 100, 500, 1250]"
   ]
  },
  {
   "cell_type": "code",
   "execution_count": 6,
   "metadata": {},
   "outputs": [
    {
     "data": {
      "text/plain": [
       "[tensor(0.1250), tensor(1.00000e-04 *\n",
       "        1.6802), tensor(1.00000e-05 *\n",
       "        4.1996), tensor(1.00000e-06 *\n",
       "        1.6797), tensor(1.00000e-07 *\n",
       "        2.6876)]"
      ]
     },
     "execution_count": 6,
     "metadata": {},
     "output_type": "execute_result"
    }
   ],
   "source": [
    "def ddr(x, n):\n",
    "    return n * (n - 2 * x + 1) * (1 - 1 / x) ** n / (x - 1) ** 2 / x ** 2\n",
    "\n",
    "alphas = [scipy.optimize.minimize(ddr, 500, args=(n,), method='Powell')['fun'] for n in ns]\n",
    "alphas = [-torch.Tensor(alpha) for alpha in alphas]\n",
    "alphas"
   ]
  },
  {
   "cell_type": "code",
   "execution_count": 7,
   "metadata": {},
   "outputs": [
    {
     "name": "stdout",
     "output_type": "stream",
     "text": [
      "2\n",
      "50\n",
      "100\n",
      "500\n",
      "1250\n",
      "CPU times: user 40.9 s, sys: 107 ms, total: 41 s\n",
      "Wall time: 41.1 s\n"
     ]
    },
    {
     "data": {
      "text/plain": [
       "[tensor(18.0487),\n",
       " tensor(14.5792),\n",
       " tensor(14.5087),\n",
       " tensor(14.4529),\n",
       " tensor(14.4446)]"
      ]
     },
     "execution_count": 7,
     "metadata": {},
     "output_type": "execute_result"
    }
   ],
   "source": [
    "def get_alpha(dic, n):\n",
    "    print(n)\n",
    "    probs = np.sort(np.array([dic[k] for k in dic]))\n",
    "    L = len(next(iter(dic.keys())))\n",
    "    S = len(probs)\n",
    "    alpha = 0\n",
    "    for s in range(1, S):\n",
    "        if s % 1000 == 0:\n",
    "            print(s)\n",
    "        candidate = (1 - (1 - 1 / (2 * s)) ** n) - (1 - (1 - 1 / s) ** n)\n",
    "        candidate *= np.sum(probs[:S])\n",
    "        if candidate <= alpha:\n",
    "            alpha = candidate\n",
    "        else:\n",
    "            break\n",
    "    return alpha\n",
    "\n",
    "    \n",
    "%time alphas2 = [-get_alpha(dic, n) for n in ns]\n",
    "alphas2"
   ]
  },
  {
   "cell_type": "code",
   "execution_count": 8,
   "metadata": {},
   "outputs": [],
   "source": [
    "S = L * n_aas\n",
    "S = torch.tensor(S).double()\n",
    "beta = 2 * torch.sqrt(S - 1) - torch.sqrt(S) - torch.sqrt(S - 2)"
   ]
  },
  {
   "cell_type": "code",
   "execution_count": 9,
   "metadata": {},
   "outputs": [],
   "source": [
    "df = pd.DataFrame(columns=['n', 'start', 'L', 'algorithm', 'obj'])"
   ]
  },
  {
   "cell_type": "code",
   "execution_count": 10,
   "metadata": {},
   "outputs": [],
   "source": [
    "for n in ns:\n",
    "    for S in starts:\n",
    "        _, objs = opt.greedy(ground, S, objectives.objective, obj_args=(L, dic, n))\n",
    "        other = pd.DataFrame([[n, S, L, 'gr', objs[-1]]], columns=df.columns)\n",
    "        df = df.append(other)"
   ]
  },
  {
   "cell_type": "code",
   "execution_count": 11,
   "metadata": {},
   "outputs": [],
   "source": [
    "opt = importlib.reload(opt)\n",
    "\n",
    "for n in ns:\n",
    "    for S in starts:\n",
    "        _, objs = opt.greedy_add(ground, S, objectives.objective, obj_args=(L, dic, n))\n",
    "        other = pd.DataFrame([[n, S, L, 'gr_add', objs[-1]]], columns=df.columns)\n",
    "        df = df.append(other)"
   ]
  },
  {
   "cell_type": "code",
   "execution_count": 12,
   "metadata": {},
   "outputs": [],
   "source": [
    "opt = importlib.reload(opt)\n",
    "\n",
    "for n in ns:\n",
    "    for S in starts:\n",
    "        _, objs = opt.greedy_add(ground, S, objectives.objective, obj_args=(L, dic, n), remove=True)\n",
    "        other = pd.DataFrame([[n, S, L, 'gr_rem', objs[-1]]], columns=df.columns)\n",
    "        df = df.append(other)"
   ]
  },
  {
   "cell_type": "code",
   "execution_count": 13,
   "metadata": {},
   "outputs": [
    {
     "name": "stdout",
     "output_type": "stream",
     "text": [
      "2\n",
      "50\n",
      "100\n",
      "500\n",
      "1250\n",
      "CPU times: user 2h 4min 16s, sys: 4min 20s, total: 2h 8min 36s\n",
      "Wall time: 8h 29min 42s\n"
     ]
    }
   ],
   "source": [
    "%%time\n",
    "opt = importlib.reload(opt)\n",
    "dc_list = []\n",
    "\n",
    "for alpha, n in zip(alphas, ns):\n",
    "    print(n)\n",
    "    for S in starts:\n",
    "        X_list, objs = opt.mod_mod(ground, S, objectives.objective, args=(L, dic, n), dec='dc', alpha=alpha,\n",
    "                            beta=beta, verbose=False)\n",
    "        other = pd.DataFrame([[n, S, L, 'MM-dc', objs[-1]]], columns=df.columns)\n",
    "        df = df.append(other)\n",
    "        dc_list.append([S, X_list, n, alpha])"
   ]
  },
  {
   "cell_type": "code",
   "execution_count": 14,
   "metadata": {},
   "outputs": [
    {
     "name": "stdout",
     "output_type": "stream",
     "text": [
      "2\n",
      "50\n",
      "100\n",
      "500\n",
      "1250\n",
      "CPU times: user 2h 3min 3s, sys: 4min 44s, total: 2h 7min 47s\n",
      "Wall time: 7h 14min 57s\n"
     ]
    }
   ],
   "source": [
    "%%time\n",
    "opt = importlib.reload(opt)\n",
    "ds_list = []\n",
    "\n",
    "for alpha, n in zip(alphas2, ns):\n",
    "    print(n)\n",
    "    for S in starts:\n",
    "        X_list, objs = opt.mod_mod(ground, S, objectives.objective, args=(L, dic, n), dec='dc', alpha=alpha,\n",
    "                            beta=beta, verbose=False)\n",
    "        other = pd.DataFrame([[n, S, L, 'MM-ds', objs[-1]]], columns=df.columns)\n",
    "        df = df.append(other)\n",
    "        ds_list.append([S, X_list, n, alpha])"
   ]
  },
  {
   "cell_type": "code",
   "execution_count": 15,
   "metadata": {},
   "outputs": [
    {
     "data": {
      "image/png": "[encoded data removed]",
      "text/plain": [
       "<Figure size 432x288 with 1 Axes>"
      ]
     },
     "metadata": {},
     "output_type": "display_data"
    }
   ],
   "source": [
    "fig, ax = plt.subplots(1, 1, figsize=(6, 4))\n",
    "pal = sns.color_palette()\n",
    "for c, al in zip(pal, sorted(set(df['algorithm']))):\n",
    "#     if al != 'gr_rem':\n",
    "#         continue\n",
    "    df_ = df[df['algorithm'] == al]\n",
    "    means = [np.mean(df_[df_['n'] == n]['obj']) for n in ns]\n",
    "    stds = [np.std(df_[df_['n'] == n]['obj']) for n in ns]\n",
    "    maxes = [np.max(df_[df_['n'] == n]['obj']) for n in ns]\n",
    "    mins = [np.min(df_[df_['n'] == n]['obj']) for n in ns]\n",
    "#     _ = ax.plot(ns, mins, color=c)\n",
    "    _ = ax.errorbar(ns, means, yerr=stds / np.sqrt(len(starts)), fmt='-o', label=al, capsize=30, color=c)\n",
    "#     _ = ax.fill_between(ns, maxes, mins, color=c, alpha=0.3)\n",
    "_ = ax.set_xlabel('n')\n",
    "_ = ax.set_ylabel('f')\n",
    "_ = ax.legend()"
   ]
  },
  {
   "cell_type": "code",
   "execution_count": 16,
   "metadata": {},
   "outputs": [],
   "source": [
    "results = {\n",
    "    'df':df,\n",
    "    'ds_list': ds_list,\n",
    "    'dc_list': dc_list\n",
    "}\n",
    "\n",
    "with open('../outputs/20181003_phoq3_opt.pkl', 'wb') as f:\n",
    "    pickle.dump(results, f)"
   ]
  },
  {
   "cell_type": "code",
   "execution_count": 24,
   "metadata": {},
   "outputs": [
    {
     "data": {
      "text/html": [
       "<div>\n",
       "<style scoped>\n",
       "    .dataframe tbody tr th:only-of-type {\n",
       "        vertical-align: middle;\n",
       "    }\n",
       "\n",
       "    .dataframe tbody tr th {\n",
       "        vertical-align: top;\n",
       "    }\n",
       "\n",
       "    .dataframe thead th {\n",
       "        text-align: right;\n",
       "    }\n",
       "</style>\n",
       "<table border=\"1\" class=\"dataframe\">\n",
       "  <thead>\n",
       "    <tr style=\"text-align: right;\">\n",
       "      <th></th>\n",
       "      <th>n</th>\n",
       "      <th>start</th>\n",
       "      <th>L</th>\n",
       "      <th>algorithm</th>\n",
       "      <th>obj</th>\n",
       "    </tr>\n",
       "  </thead>\n",
       "  <tbody>\n",
       "    <tr>\n",
       "      <th>0</th>\n",
       "      <td>1250</td>\n",
       "      <td>[(A, 0), (R, 0), (N, 0), (D, 0), (C, 0), (Q, 0...</td>\n",
       "      <td>4</td>\n",
       "      <td>gr_rem</td>\n",
       "      <td>tensor(-35.9310)</td>\n",
       "    </tr>\n",
       "    <tr>\n",
       "      <th>0</th>\n",
       "      <td>1250</td>\n",
       "      <td>[(N, 2), (E, 2), (E, 1), (D, 2), (W, 0), (P, 2...</td>\n",
       "      <td>4</td>\n",
       "      <td>gr_rem</td>\n",
       "      <td>tensor(-0.5651)</td>\n",
       "    </tr>\n",
       "    <tr>\n",
       "      <th>0</th>\n",
       "      <td>1250</td>\n",
       "      <td>[(I, 1), (D, 2), (W, 2), (M, 0), (C, 0), (D, 3...</td>\n",
       "      <td>4</td>\n",
       "      <td>gr_rem</td>\n",
       "      <td>tensor(-9.1217)</td>\n",
       "    </tr>\n",
       "    <tr>\n",
       "      <th>0</th>\n",
       "      <td>1250</td>\n",
       "      <td>[(F, 1), (W, 2), (N, 0), (E, 1), (D, 1), (C, 2...</td>\n",
       "      <td>4</td>\n",
       "      <td>gr_rem</td>\n",
       "      <td>tensor(-14.1985)</td>\n",
       "    </tr>\n",
       "    <tr>\n",
       "      <th>0</th>\n",
       "      <td>2</td>\n",
       "      <td>[(A, 0), (Q, 1), (S, 2), (V, 3)]</td>\n",
       "      <td>4</td>\n",
       "      <td>SS-dc</td>\n",
       "      <td>tensor(-0.2743)</td>\n",
       "    </tr>\n",
       "  </tbody>\n",
       "</table>\n",
       "</div>"
      ],
      "text/plain": [
       "      n                                              start  L algorithm  \\\n",
       "0  1250  [(A, 0), (R, 0), (N, 0), (D, 0), (C, 0), (Q, 0...  4    gr_rem   \n",
       "0  1250  [(N, 2), (E, 2), (E, 1), (D, 2), (W, 0), (P, 2...  4    gr_rem   \n",
       "0  1250  [(I, 1), (D, 2), (W, 2), (M, 0), (C, 0), (D, 3...  4    gr_rem   \n",
       "0  1250  [(F, 1), (W, 2), (N, 0), (E, 1), (D, 1), (C, 2...  4    gr_rem   \n",
       "0     2                   [(A, 0), (Q, 1), (S, 2), (V, 3)]  4     SS-dc   \n",
       "\n",
       "                obj  \n",
       "0  tensor(-35.9310)  \n",
       "0   tensor(-0.5651)  \n",
       "0   tensor(-9.1217)  \n",
       "0  tensor(-14.1985)  \n",
       "0   tensor(-0.2743)  "
      ]
     },
     "execution_count": 24,
     "metadata": {},
     "output_type": "execute_result"
    }
   ],
   "source": [
    "df.tail()"
   ]
  },
  {
   "cell_type": "code",
   "execution_count": 25,
   "metadata": {},
   "outputs": [
    {
     "data": {
      "text/html": [
       "<div>\n",
       "<style scoped>\n",
       "    .dataframe tbody tr th:only-of-type {\n",
       "        vertical-align: middle;\n",
       "    }\n",
       "\n",
       "    .dataframe tbody tr th {\n",
       "        vertical-align: top;\n",
       "    }\n",
       "\n",
       "    .dataframe thead th {\n",
       "        text-align: right;\n",
       "    }\n",
       "</style>\n",
       "<table border=\"1\" class=\"dataframe\">\n",
       "  <thead>\n",
       "    <tr style=\"text-align: right;\">\n",
       "      <th></th>\n",
       "      <th>n</th>\n",
       "      <th>start</th>\n",
       "      <th>L</th>\n",
       "      <th>algorithm</th>\n",
       "      <th>obj</th>\n",
       "    </tr>\n",
       "  </thead>\n",
       "  <tbody>\n",
       "    <tr>\n",
       "      <th>0</th>\n",
       "      <td>2</td>\n",
       "      <td>[(A, 0), (Q, 1), (S, 2), (V, 3)]</td>\n",
       "      <td>4</td>\n",
       "      <td>gr</td>\n",
       "      <td>tensor(-0.2743)</td>\n",
       "    </tr>\n",
       "    <tr>\n",
       "      <th>0</th>\n",
       "      <td>2</td>\n",
       "      <td>[(A, 0), (R, 0), (N, 0), (D, 0), (C, 0), (Q, 0...</td>\n",
       "      <td>4</td>\n",
       "      <td>gr</td>\n",
       "      <td>tensor(-0.2696)</td>\n",
       "    </tr>\n",
       "    <tr>\n",
       "      <th>0</th>\n",
       "      <td>2</td>\n",
       "      <td>[(N, 2), (E, 2), (E, 1), (D, 2), (W, 0), (P, 2...</td>\n",
       "      <td>4</td>\n",
       "      <td>gr</td>\n",
       "      <td>tensor(-0.2743)</td>\n",
       "    </tr>\n",
       "    <tr>\n",
       "      <th>0</th>\n",
       "      <td>2</td>\n",
       "      <td>[(I, 1), (D, 2), (W, 2), (M, 0), (C, 0), (D, 3...</td>\n",
       "      <td>4</td>\n",
       "      <td>gr</td>\n",
       "      <td>tensor(-0.2696)</td>\n",
       "    </tr>\n",
       "    <tr>\n",
       "      <th>0</th>\n",
       "      <td>2</td>\n",
       "      <td>[(F, 1), (W, 2), (N, 0), (E, 1), (D, 1), (C, 2...</td>\n",
       "      <td>4</td>\n",
       "      <td>gr</td>\n",
       "      <td>tensor(-0.2696)</td>\n",
       "    </tr>\n",
       "  </tbody>\n",
       "</table>\n",
       "</div>"
      ],
      "text/plain": [
       "   n                                              start  L algorithm  \\\n",
       "0  2                   [(A, 0), (Q, 1), (S, 2), (V, 3)]  4        gr   \n",
       "0  2  [(A, 0), (R, 0), (N, 0), (D, 0), (C, 0), (Q, 0...  4        gr   \n",
       "0  2  [(N, 2), (E, 2), (E, 1), (D, 2), (W, 0), (P, 2...  4        gr   \n",
       "0  2  [(I, 1), (D, 2), (W, 2), (M, 0), (C, 0), (D, 3...  4        gr   \n",
       "0  2  [(F, 1), (W, 2), (N, 0), (E, 1), (D, 1), (C, 2...  4        gr   \n",
       "\n",
       "               obj  \n",
       "0  tensor(-0.2743)  \n",
       "0  tensor(-0.2696)  \n",
       "0  tensor(-0.2743)  \n",
       "0  tensor(-0.2696)  \n",
       "0  tensor(-0.2696)  "
      ]
     },
     "execution_count": 25,
     "metadata": {},
     "output_type": "execute_result"
    }
   ],
   "source": [
    "df.head()"
   ]
  },
  {
   "cell_type": "code",
   "execution_count": null,
   "metadata": {},
   "outputs": [],
   "source": []
  }
 ],
 "metadata": {
  "kernelspec": {
   "display_name": "Python [conda env:pyro]",
   "language": "python",
   "name": "conda-env-pyro-py"
  },
  "language_info": {
   "codemirror_mode": {
    "name": "ipython",
    "version": 3
   },
   "file_extension": ".py",
   "mimetype": "text/x-python",
   "name": "python",
   "nbconvert_exporter": "python",
   "pygments_lexer": "ipython3",
   "version": "3.6.5"
  }
 },
 "nbformat": 4,
 "nbformat_minor": 2
}
