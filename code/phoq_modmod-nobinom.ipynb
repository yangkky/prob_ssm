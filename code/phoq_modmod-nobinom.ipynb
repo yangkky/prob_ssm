{
 "cells": [
  {
   "cell_type": "markdown",
   "metadata": {},
   "source": [
    "Implements algorithm 3 (ModMod) from Algorithms for \"Approx Min of the Difference Between Submodular Fncs with Applications.\"\n",
    "\n",
    "For prob_ssm"
   ]
  },
  {
   "cell_type": "code",
   "execution_count": 1,
   "metadata": {
    "collapsed": true
   },
   "outputs": [],
   "source": [
    "import torch\n",
    "from torch import distributions as dist\n",
    "\n",
    "import itertools\n",
    "import pickle\n",
    "import operator\n",
    "import importlib\n",
    "\n",
    "import random\n",
    "import math\n",
    "import numpy as np\n",
    "import pandas as pd\n",
    "import scipy\n",
    "\n",
    "import matplotlib.pyplot as plt\n",
    "import seaborn as sns\n",
    "%matplotlib inline\n",
    "sns.set_style('white')\n",
    "sns.set_context('paper')\n",
    "# Plot adjustments:\n",
    "plt.rcParams.update({'ytick.labelsize': 15})\n",
    "plt.rcParams.update({'xtick.labelsize': 15})\n",
    "plt.rcParams.update({'axes.labelsize': 35})\n",
    "plt.rcParams.update({'legend.fontsize': 30})\n",
    "plt.rcParams.update({'axes.titlesize': 16})\n",
    "\n",
    "from gptorch import kernels, models\n",
    "\n",
    "import helpers, opt"
   ]
  },
  {
   "cell_type": "code",
   "execution_count": 2,
   "metadata": {
    "collapsed": true
   },
   "outputs": [],
   "source": [
    "with open('../inputs/phoq.pkl', 'rb') as f:\n",
    "    t = pickle.load(f)\n",
    "\n",
    "X = t[0] # one-hot encoding of X\n",
    "T = t[1] # tokenized encoding of X\n",
    "y = t[2].values"
   ]
  },
  {
   "cell_type": "code",
   "execution_count": 3,
   "metadata": {
    "collapsed": true
   },
   "outputs": [],
   "source": [
    "wt = helpers.decode_X(X[150614])  # wt as string\n",
    "aas = 'ARNDCQEGHILKMFPSTWYV'"
   ]
  },
  {
   "cell_type": "code",
   "execution_count": 4,
   "metadata": {
    "collapsed": true
   },
   "outputs": [],
   "source": [
    "seq_to_x = {}\n",
    "for i, x in enumerate(X):\n",
    "    seq = helpers.decode_X(x)\n",
    "    seq_to_x[seq] = i"
   ]
  },
  {
   "cell_type": "code",
   "execution_count": 5,
   "metadata": {},
   "outputs": [
    {
     "data": {
      "text/plain": [
       "80"
      ]
     },
     "execution_count": 5,
     "metadata": {},
     "output_type": "execute_result"
    }
   ],
   "source": [
    "singles = [wt[:i] + aas[j] + wt[i+1:] for i in range(4) for j in range(20)]\n",
    "len(singles)"
   ]
  },
  {
   "cell_type": "code",
   "execution_count": 6,
   "metadata": {
    "collapsed": true
   },
   "outputs": [],
   "source": [
    "singles = [wt[:i] + aas[j] + wt[i+1:] for i in range(4) for j in range(20)]\n",
    "train_seqs = [wt] + singles\n",
    "train_inds = [seq_to_x[seq] for seq in train_seqs]\n",
    "train_inds += list(np.random.choice(len(X), 100, replace=True)) # generate random indices for 100 X's to sample from\n",
    "\n",
    "X_train = X[train_inds]\n",
    "y_train = y[train_inds]\n",
    "X_test = X\n",
    "y_true = y"
   ]
  },
  {
   "cell_type": "code",
   "execution_count": 7,
   "metadata": {
    "collapsed": true
   },
   "outputs": [],
   "source": [
    "ground = [(aa, i) for aa in aas for i in range(4)]"
   ]
  },
  {
   "cell_type": "code",
   "execution_count": 8,
   "metadata": {
    "collapsed": true
   },
   "outputs": [],
   "source": [
    "def seqs_from_set(chosen, L):\n",
    "    pos = [[c[0] for c in chosen if c[1] == p] for p in range(L)]\n",
    "    return [''.join(s) for s in itertools.product(*pos)]\n",
    "\n",
    "X_sampled = [X_train]\n",
    "y_sampled = [y_train]"
   ]
  },
  {
   "cell_type": "code",
   "execution_count": 9,
   "metadata": {
    "scrolled": true
   },
   "outputs": [
    {
     "name": "stdout",
     "output_type": "stream",
     "text": [
      "Round 0\n",
      "here0\n",
      "Iteration 500 of 500\tNLML: 43.0758\tsn: 0.150327\t\n",
      "here0.5\n",
      "here1\n",
      "here1\n",
      "here1\n",
      "here1\n",
      "here1\n",
      "here1\n",
      "here1\n",
      "here1\n",
      "here1\n",
      "here1\n",
      "here1\n",
      "here1\n",
      "here1\n",
      "here1\n",
      "here1\n",
      "here1\n",
      "here1\n",
      "here1\n",
      "here1\n",
      "here1\n",
      "here1\n",
      "here1\n",
      "here1\n",
      "here1\n",
      "here1\n",
      "here1\n",
      "here1\n",
      "here1\n",
      "here1\n",
      "here1\n",
      "here2\n",
      "here3\n",
      "here4\n",
      "here5\n",
      "Round 1\n",
      "here0\n",
      "Iteration 500 of 500\tNLML: 61.5336\tsn: 0.142351\t\n",
      "here0.5\n",
      "here1\n",
      "here1\n",
      "here1\n",
      "here1\n",
      "here1\n",
      "here1\n",
      "here1\n",
      "here1\n",
      "here1\n",
      "here1\n",
      "here1\n",
      "here1\n",
      "here1\n",
      "here1\n",
      "here1\n",
      "here1\n",
      "here1\n",
      "here1\n",
      "here1\n",
      "here1\n",
      "here1\n",
      "here1\n",
      "here1\n",
      "here1\n",
      "here1\n",
      "here1\n",
      "here1\n",
      "here1\n",
      "here1\n",
      "here1\n",
      "here2\n",
      "here3\n",
      "here4\n",
      "here5\n",
      "Round 2\n",
      "here0\n",
      "Iteration 500 of 500\tNLML: 63.1081\tsn: 0.140175\t\n",
      "here0.5\n",
      "here1\n",
      "here1\n",
      "here1\n",
      "here1\n",
      "here1\n",
      "here1\n",
      "here1\n",
      "here1\n",
      "here1\n",
      "here1\n",
      "here1\n",
      "here1\n",
      "here1\n",
      "here1\n",
      "here1\n",
      "here1\n",
      "here1\n",
      "here1\n",
      "here1\n",
      "here1\n",
      "here1\n",
      "here1\n",
      "here1\n",
      "here1\n",
      "here1\n",
      "here1\n",
      "here1\n",
      "here1\n",
      "here1\n",
      "here1\n",
      "here2\n",
      "here3\n",
      "here4\n",
      "here5\n",
      "Round 3\n",
      "here0\n",
      "Iteration 500 of 500\tNLML: 63.1081\tsn: 0.140175\t\n",
      "here0.5\n",
      "here1\n",
      "here1\n",
      "here1\n",
      "here1\n",
      "here1\n",
      "here1\n",
      "here1\n",
      "here1\n",
      "here1\n",
      "here1\n",
      "here1\n",
      "here1\n",
      "here1\n",
      "here1\n",
      "here1\n",
      "here1\n",
      "here1\n",
      "here1\n",
      "here1\n",
      "here1\n",
      "here1\n",
      "here1\n",
      "here1\n",
      "here1\n",
      "here1\n",
      "here1\n",
      "here1\n",
      "here1\n",
      "here1\n",
      "here1\n",
      "here2\n",
      "here3\n",
      "here4\n",
      "here5\n"
     ]
    }
   ],
   "source": [
    "helpers = importlib.reload(helpers)\n",
    "opt = importlib.reload(opt)\n",
    "\n",
    "n_start = 35\n",
    "max_its = 30\n",
    "rounds = 4\n",
    "L = 4\n",
    "n = 100\n",
    "\n",
    "\n",
    "observed_inds = [train_inds]\n",
    "X_sampled = [X[train_inds]]\n",
    "y_sampled = [y[train_inds]]\n",
    "\n",
    "\n",
    "libraries = []\n",
    "histories = []\n",
    "\n",
    "for rou in range(rounds):\n",
    "    print('Round %d' %rou)\n",
    "    inds = sorted(set(itertools.chain(*observed_inds)))\n",
    "    print(\"here0\")\n",
    "    dic, _ = helpers.get_predictions(X[inds], y[inds], X_test, its=500)    \n",
    "    print()\n",
    "    print(\"here0.5\")\n",
    "    best_loss = 0.0\n",
    "    best_X = None\n",
    "    best_h = None\n",
    "    for i in range(max_its):\n",
    "        np.random.seed(i)\n",
    "        center = np.random.choice(len(ground), n_start, replace=False)\n",
    "        center = [ground[c] for c in center]\n",
    "        print(\"here1\")\n",
    "        chosen, h = opt.mod_mod(ground, opt.obj_LHS, opt.obj_RHS_edit, center, \n",
    "                           fn_args=(L, dic), g_args=(L, dic, n), verbose=False)\n",
    "        if h[-1] < best_loss:\n",
    "            best_loss = h[-1]\n",
    "            best_X = chosen\n",
    "            best_h = h\n",
    "    print(\"here2\")\n",
    "    libraries.append(best_X)\n",
    "    histories.append(best_h)\n",
    "    print(\"here3\")\n",
    "    seqs = seqs_from_set(best_X, L)\n",
    "    inds = np.random.choice(len(seqs), n, replace=True)\n",
    "    sampled_seqs = [seqs[i] for i in inds]\n",
    "    inds = [seq_to_x[s] for s in sampled_seqs]\n",
    "    print(\"here4\")\n",
    "    X_sampled.append(X[inds])\n",
    "    y_sampled.append(y[inds])\n",
    "    observed_inds.append(inds)\n",
    "    print(\"here5\")"
   ]
  },
  {
   "cell_type": "code",
   "execution_count": 10,
   "metadata": {},
   "outputs": [
    {
     "data": {
      "text/plain": [
       "[[('I', 0),\n",
       "  ('S', 0),\n",
       "  ('D', 0),\n",
       "  ('L', 0),\n",
       "  ('Q', 0),\n",
       "  ('H', 0),\n",
       "  ('G', 0),\n",
       "  ('C', 1),\n",
       "  ('L', 1),\n",
       "  ('I', 1),\n",
       "  ('D', 1),\n",
       "  ('M', 1),\n",
       "  ('V', 1),\n",
       "  ('W', 1),\n",
       "  ('Q', 1),\n",
       "  ('H', 1),\n",
       "  ('K', 1),\n",
       "  ('S', 1),\n",
       "  ('S', 2),\n",
       "  ('A', 2),\n",
       "  ('Y', 2),\n",
       "  ('G', 2),\n",
       "  ('C', 2),\n",
       "  ('Q', 2),\n",
       "  ('E', 2),\n",
       "  ('F', 2),\n",
       "  ('N', 2),\n",
       "  ('T', 2),\n",
       "  ('E', 3),\n",
       "  ('D', 3),\n",
       "  ('S', 3),\n",
       "  ('L', 3),\n",
       "  ('V', 3),\n",
       "  ('M', 3),\n",
       "  ('W', 3)],\n",
       " [('I', 0),\n",
       "  ('L', 0),\n",
       "  ('P', 0),\n",
       "  ('K', 0),\n",
       "  ('S', 0),\n",
       "  ('W', 1),\n",
       "  ('F', 1),\n",
       "  ('Y', 1),\n",
       "  ('H', 1),\n",
       "  ('K', 1),\n",
       "  ('S', 1),\n",
       "  ('V', 1),\n",
       "  ('T', 1),\n",
       "  ('K', 2),\n",
       "  ('Y', 2),\n",
       "  ('H', 2),\n",
       "  ('S', 2),\n",
       "  ('P', 2),\n",
       "  ('N', 2),\n",
       "  ('I', 2),\n",
       "  ('A', 2),\n",
       "  ('T', 2),\n",
       "  ('E', 2),\n",
       "  ('V', 2),\n",
       "  ('L', 2),\n",
       "  ('S', 3),\n",
       "  ('E', 3),\n",
       "  ('G', 3),\n",
       "  ('K', 3),\n",
       "  ('I', 3),\n",
       "  ('H', 3),\n",
       "  ('D', 3),\n",
       "  ('C', 3),\n",
       "  ('T', 3),\n",
       "  ('V', 3)],\n",
       " [('I', 0),\n",
       "  ('L', 0),\n",
       "  ('P', 0),\n",
       "  ('K', 0),\n",
       "  ('S', 0),\n",
       "  ('W', 1),\n",
       "  ('F', 1),\n",
       "  ('Y', 1),\n",
       "  ('H', 1),\n",
       "  ('K', 1),\n",
       "  ('S', 1),\n",
       "  ('V', 1),\n",
       "  ('T', 1),\n",
       "  ('K', 2),\n",
       "  ('Y', 2),\n",
       "  ('H', 2),\n",
       "  ('S', 2),\n",
       "  ('P', 2),\n",
       "  ('N', 2),\n",
       "  ('I', 2),\n",
       "  ('A', 2),\n",
       "  ('T', 2),\n",
       "  ('E', 2),\n",
       "  ('V', 2),\n",
       "  ('L', 2),\n",
       "  ('S', 3),\n",
       "  ('E', 3),\n",
       "  ('G', 3),\n",
       "  ('K', 3),\n",
       "  ('I', 3),\n",
       "  ('H', 3),\n",
       "  ('D', 3),\n",
       "  ('C', 3),\n",
       "  ('T', 3),\n",
       "  ('V', 3)],\n",
       " [('I', 0),\n",
       "  ('L', 0),\n",
       "  ('P', 0),\n",
       "  ('K', 0),\n",
       "  ('S', 0),\n",
       "  ('W', 1),\n",
       "  ('F', 1),\n",
       "  ('Y', 1),\n",
       "  ('H', 1),\n",
       "  ('K', 1),\n",
       "  ('S', 1),\n",
       "  ('V', 1),\n",
       "  ('T', 1),\n",
       "  ('K', 2),\n",
       "  ('Y', 2),\n",
       "  ('H', 2),\n",
       "  ('S', 2),\n",
       "  ('P', 2),\n",
       "  ('N', 2),\n",
       "  ('I', 2),\n",
       "  ('A', 2),\n",
       "  ('T', 2),\n",
       "  ('E', 2),\n",
       "  ('V', 2),\n",
       "  ('L', 2),\n",
       "  ('S', 3),\n",
       "  ('E', 3),\n",
       "  ('G', 3),\n",
       "  ('K', 3),\n",
       "  ('I', 3),\n",
       "  ('H', 3),\n",
       "  ('D', 3),\n",
       "  ('C', 3),\n",
       "  ('T', 3),\n",
       "  ('V', 3)]]"
      ]
     },
     "execution_count": 10,
     "metadata": {},
     "output_type": "execute_result"
    }
   ],
   "source": [
    "libraries"
   ]
  },
  {
   "cell_type": "code",
   "execution_count": 11,
   "metadata": {},
   "outputs": [
    {
     "data": {
      "text/plain": [
       "[[tensor(-15.9069), tensor(-15.9069)],\n",
       " [tensor(-42.4598), tensor(-42.4598)],\n",
       " [tensor(-40.9212), tensor(-40.9212)],\n",
       " [tensor(-40.9212), tensor(-40.9212)]]"
      ]
     },
     "execution_count": 11,
     "metadata": {},
     "output_type": "execute_result"
    }
   ],
   "source": [
    "histories"
   ]
  },
  {
   "cell_type": "code",
   "execution_count": null,
   "metadata": {
    "collapsed": true
   },
   "outputs": [],
   "source": [
    "df = pd.DataFrame(np.concatenate(y_sampled), columns=['y'])\n",
    "df['round'] = [0] * (81 + n) + [1] * n + [2] * n + [3] * n + [4] * n\n",
    "df.head()\n"
   ]
  },
  {
   "cell_type": "code",
   "execution_count": null,
   "metadata": {
    "collapsed": true
   },
   "outputs": [],
   "source": [
    "_ = sns.swarmplot(data=df, x='round', y='y')"
   ]
  },
  {
   "cell_type": "code",
   "execution_count": null,
   "metadata": {
    "collapsed": true
   },
   "outputs": [],
   "source": [
    "[max(yy) for yy in y_sampled]"
   ]
  },
  {
   "cell_type": "code",
   "execution_count": null,
   "metadata": {
    "collapsed": true
   },
   "outputs": [],
   "source": [
    "[opt.get_N(lib, L) for lib in libraries]"
   ]
  },
  {
   "cell_type": "code",
   "execution_count": null,
   "metadata": {
    "collapsed": true
   },
   "outputs": [],
   "source": []
  }
 ],
 "metadata": {
  "kernelspec": {
   "display_name": "Python 3",
   "language": "python",
   "name": "python3"
  },
  "language_info": {
   "codemirror_mode": {
    "name": "ipython",
    "version": 3
   },
   "file_extension": ".py",
   "mimetype": "text/x-python",
   "name": "python",
   "nbconvert_exporter": "python",
   "pygments_lexer": "ipython3",
   "version": "3.6.1"
  }
 },
 "nbformat": 4,
 "nbformat_minor": 2
}
