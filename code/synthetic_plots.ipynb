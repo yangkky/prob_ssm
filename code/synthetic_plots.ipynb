{
 "cells": [
  {
   "cell_type": "markdown",
   "metadata": {},
   "source": [
    "Tests for mod_mod algo"
   ]
  },
  {
   "cell_type": "code",
   "execution_count": 1,
   "metadata": {},
   "outputs": [],
   "source": [
    "import torch\n",
    "from torch import distributions as dist\n",
    "\n",
    "import itertools\n",
    "import pickle\n",
    "import importlib\n",
    "\n",
    "import itertools\n",
    "import random\n",
    "import math\n",
    "import numpy as np\n",
    "import pandas as pd\n",
    "import scipy\n",
    "\n",
    "import matplotlib.pyplot as plt\n",
    "import seaborn as sns\n",
    "%matplotlib inline\n",
    "sns.set_style('white')\n",
    "sns.set_context('paper')\n",
    "# Plot adjustments:\n",
    "plt.rcParams.update({'ytick.labelsize': 15})\n",
    "plt.rcParams.update({'xtick.labelsize': 15})\n",
    "plt.rcParams.update({'axes.labelsize': 20})\n",
    "plt.rcParams.update({'legend.fontsize': 12})\n",
    "plt.rcParams.update({'axes.titlesize': 16})\n",
    "from gptorch import kernels, models\n",
    "import helpers, opt, objectives"
   ]
  },
  {
   "cell_type": "code",
   "execution_count": 2,
   "metadata": {},
   "outputs": [],
   "source": [
    "torch.set_default_tensor_type(torch.DoubleTensor)"
   ]
  },
  {
   "cell_type": "code",
   "execution_count": 3,
   "metadata": {},
   "outputs": [],
   "source": [
    "aas = 'ABCDEFGHIJKLMNOPQRSTUVWXYZ'\n",
    "n_aas = 26\n",
    "L = 2\n",
    "\n",
    "dic = {\n",
    "    'AA': torch.tensor(0.99),\n",
    "    'ZZ': torch.tensor(0.95)\n",
    "}\n",
    "for a, b in itertools.product(aas, repeat=2):\n",
    "    k = a + b\n",
    "    if k in dic:\n",
    "        continue\n",
    "    elif a in 'BCEF' and b in 'BCEF':\n",
    "        dic[k] = torch.tensor(0.7)\n",
    "    elif a in 'HI' and b in 'HI':\n",
    "        dic[k] = torch.tensor(0.9)\n",
    "    elif a in 'JKLMNOP' and b in 'JKLMNOP':\n",
    "        dic[k] = torch.tensor(0.6)\n",
    "    elif a in 'QRS' and b in 'QRS':\n",
    "        dic[k] = torch.tensor(0.8)\n",
    "    elif a in 'TUVWXYZ' and b in 'TUVWXYZ':\n",
    "        dic[k] = torch.tensor(0.4)\n",
    "    else:\n",
    "        dic[k] = torch.tensor(0.0)\n",
    "        \n",
    "ns = [2, 50, 250, 626, 1250]"
   ]
  },
  {
   "cell_type": "code",
   "execution_count": 7,
   "metadata": {},
   "outputs": [],
   "source": [
    "ground = [(aa, i) for aa in aas for i in range(L)]"
   ]
  },
  {
   "cell_type": "code",
   "execution_count": 8,
   "metadata": {},
   "outputs": [
    {
     "data": {
      "text/plain": [
       "[('A', 0), ('A', 1)]"
      ]
     },
     "execution_count": 8,
     "metadata": {},
     "output_type": "execute_result"
    }
   ],
   "source": [
    "seed = helpers.get_seed(dic)\n",
    "seed"
   ]
  },
  {
   "cell_type": "code",
   "execution_count": 10,
   "metadata": {},
   "outputs": [],
   "source": [
    "def ddr(x, n):\n",
    "    return n * (n - 2 * x + 1) * (1 - 1 / x) ** n / (x - 1) ** 2 / x ** 2\n",
    "\n",
    "def get_alpha(dic, n):\n",
    "    probs = np.sort(np.array([dic[k] for k in dic]))\n",
    "    L = len(next(iter(dic.keys())))\n",
    "    S = len(probs)\n",
    "    alpha = 0\n",
    "    for s in range(1, S):\n",
    "        if s % 1000 == 0:\n",
    "            print(s)\n",
    "        candidate = (1 - (1 - 1 / (2 * s)) ** n) - (1 - (1 - 1 / s) ** n)\n",
    "        candidate *= np.sum(probs[:S])\n",
    "        if candidate <= alpha:\n",
    "            alpha = candidate\n",
    "        else:\n",
    "            break\n",
    "    return alpha"
   ]
  },
  {
   "cell_type": "code",
   "execution_count": 11,
   "metadata": {},
   "outputs": [],
   "source": [
    "np.random.seed(402136)\n",
    "\n",
    "starts = [seed, ground]\n",
    "for m in [10, 25, 40]:\n",
    "    A = np.random.choice(L * n_aas, m + L, replace=False)\n",
    "    A = [ground[a] for a in A]\n",
    "    starts.append(A)\n",
    "    "
   ]
  },
  {
   "cell_type": "code",
   "execution_count": 8,
   "metadata": {},
   "outputs": [
    {
     "data": {
      "text/plain": [
       "[tensor(0.1250), tensor(1.00000e-04 *\n",
       "        1.6802), tensor(1.00000e-06 *\n",
       "        6.7190), tensor(1.00000e-06 *\n",
       "        1.0716), tensor(1.00000e-07 *\n",
       "        2.6876)]"
      ]
     },
     "execution_count": 8,
     "metadata": {},
     "output_type": "execute_result"
    }
   ],
   "source": [
    "def ddr(x, n):\n",
    "    return n * (n - 2 * x + 1) * (1 - 1 / x) ** n / (x - 1) ** 2 / x ** 2\n",
    "\n",
    "alphas = [scipy.optimize.minimize(ddr, 500, args=(n,), method='Powell')['fun'] for n in ns]\n",
    "alphas = [-torch.Tensor(alpha) for alpha in alphas]\n",
    "alphas"
   ]
  },
  {
   "cell_type": "code",
   "execution_count": 9,
   "metadata": {},
   "outputs": [
    {
     "name": "stdout",
     "output_type": "stream",
     "text": [
      "CPU times: user 25.4 ms, sys: 2.83 ms, total: 28.3 ms\n",
      "Wall time: 27.3 ms\n"
     ]
    },
    {
     "data": {
      "text/plain": [
       "[22.668750000000003,\n",
       " 18.31112503119052,\n",
       " 18.1698923903519,\n",
       " 18.14892361825949,\n",
       " 17.358649830835777]"
      ]
     },
     "execution_count": 9,
     "metadata": {},
     "output_type": "execute_result"
    }
   ],
   "source": [
    "def get_alpha(dic, n):\n",
    "    probs = np.sort(np.array([dic[k] for k in dic]))\n",
    "    L = len(next(iter(dic.keys())))\n",
    "    S = len(probs)\n",
    "    alpha = 0\n",
    "    for s in range(1, S):\n",
    "        if s % 1000 == 0:\n",
    "            print(s)\n",
    "        candidate = (1 - (1 - 1 / (2 * s)) ** n) - (1 - (1 - 1 / s) ** n)\n",
    "        candidate *= np.sum(probs[:S])\n",
    "        if candidate <= alpha:\n",
    "            alpha = candidate\n",
    "        else:\n",
    "            break\n",
    "    return alpha\n",
    "\n",
    "    \n",
    "%time alphas2 = [-get_alpha(dic, n) for n in ns]\n",
    "alphas2"
   ]
  },
  {
   "cell_type": "code",
   "execution_count": 10,
   "metadata": {},
   "outputs": [],
   "source": [
    "S = L * n_aas\n",
    "S = torch.tensor(S).double()\n",
    "beta = 2 * torch.sqrt(S - 1) - torch.sqrt(S) - torch.sqrt(S - 2)"
   ]
  },
  {
   "cell_type": "code",
   "execution_count": 11,
   "metadata": {},
   "outputs": [],
   "source": [
    "df = pd.DataFrame(columns=['n', 'start', 'L', 'algorithm', 'obj'])"
   ]
  },
  {
   "cell_type": "code",
   "execution_count": 12,
   "metadata": {},
   "outputs": [],
   "source": [
    "for n in ns:\n",
    "    for S in starts:\n",
    "        _, objs = opt.greedy(ground, S, objectives.objective, obj_args=(L, dic, n))\n",
    "        other = pd.DataFrame([[n, S, L, 'gr', objs[-1]]], columns=df.columns)\n",
    "        df = df.append(other)"
   ]
  },
  {
   "cell_type": "code",
   "execution_count": 13,
   "metadata": {},
   "outputs": [],
   "source": [
    "opt = importlib.reload(opt)\n",
    "\n",
    "for n in ns:\n",
    "    for S in starts:\n",
    "        _, objs = opt.greedy_add(ground, S, objectives.objective, obj_args=(L, dic, n))\n",
    "        other = pd.DataFrame([[n, S, L, 'gr_add', objs[-1]]], columns=df.columns)\n",
    "        df = df.append(other)"
   ]
  },
  {
   "cell_type": "code",
   "execution_count": 14,
   "metadata": {},
   "outputs": [],
   "source": [
    "opt = importlib.reload(opt)\n",
    "\n",
    "for n in ns:\n",
    "    for S in starts:\n",
    "        _, objs = opt.greedy_add(ground, S, objectives.objective, obj_args=(L, dic, n), remove=True)\n",
    "        other = pd.DataFrame([[n, S, L, 'gr_rem', objs[-1]]], columns=df.columns)\n",
    "        df = df.append(other)"
   ]
  },
  {
   "cell_type": "code",
   "execution_count": 15,
   "metadata": {},
   "outputs": [
    {
     "name": "stdout",
     "output_type": "stream",
     "text": [
      "2\n",
      "50\n",
      "250\n",
      "626\n",
      "1250\n",
      "CPU times: user 5min 22s, sys: 24.2 s, total: 5min 46s\n",
      "Wall time: 28min 51s\n"
     ]
    }
   ],
   "source": [
    "%%time\n",
    "opt = importlib.reload(opt)\n",
    "dc_list = []\n",
    "\n",
    "for alpha, n in zip(alphas, ns):\n",
    "    print(n)\n",
    "    for S in starts:\n",
    "        X_list, objs = opt.mod_mod(ground, S, objectives.objective, args=(L, dic, n), dec='dc', alpha=alpha,\n",
    "                            beta=beta, verbose=False)\n",
    "        other = pd.DataFrame([[n, S, L, 'SS-dc', objs[-1]]], columns=df.columns)\n",
    "        df = df.append(other)\n",
    "        dc_list.append([S, X_list, n, alpha])"
   ]
  },
  {
   "cell_type": "code",
   "execution_count": 16,
   "metadata": {},
   "outputs": [
    {
     "name": "stdout",
     "output_type": "stream",
     "text": [
      "2\n",
      "50\n",
      "250\n",
      "626\n",
      "1250\n",
      "CPU times: user 7min 12s, sys: 33.3 s, total: 7min 45s\n",
      "Wall time: 36min 59s\n"
     ]
    }
   ],
   "source": [
    "%%time\n",
    "opt = importlib.reload(opt)\n",
    "ds_list = []\n",
    "\n",
    "for alpha, n in zip(alphas2, ns):\n",
    "    print(n)\n",
    "    for S in starts:\n",
    "        X_list, objs = opt.mod_mod(ground, S, objectives.objective, args=(L, dic, n), dec='dc', alpha=alpha,\n",
    "                            beta=beta, verbose=False)\n",
    "        other = pd.DataFrame([[n, S, L, 'SS-ds', objs[-1]]], columns=df.columns)\n",
    "        df = df.append(other)\n",
    "        ds_list.append([S, X_list, n, alpha])"
   ]
  },
  {
   "cell_type": "code",
   "execution_count": 22,
   "metadata": {},
   "outputs": [
    {
     "data": {
      "image/png": "[encoded data removed]",
      "text/plain": [
       "<Figure size 432x288 with 1 Axes>"
      ]
     },
     "metadata": {},
     "output_type": "display_data"
    }
   ],
   "source": [
    "fig, ax = plt.subplots(1, 1, figsize=(6, 4))\n",
    "pal = sns.color_palette()\n",
    "for c, al in zip(pal, sorted(set(df['algorithm']))):\n",
    "#     if al != 'gr_rem':\n",
    "#         continue\n",
    "    df_ = df[df['algorithm'] == al]\n",
    "    means = [np.mean(df_[df_['n'] == n]['obj']) for n in ns]\n",
    "    stds = [np.std(df_[df_['n'] == n]['obj']) for n in ns]\n",
    "    maxes = [np.max(df_[df_['n'] == n]['obj']) for n in ns]\n",
    "    mins = [np.min(df_[df_['n'] == n]['obj']) for n in ns]\n",
    "#     _ = ax.plot(ns, mins, color=c)\n",
    "    _ = ax.errorbar(ns, means, yerr=stds / np.sqrt(len(starts)), fmt='-o', label=al, capsize=30, color=c)\n",
    "#     _ = ax.fill_between(ns, maxes, mins, color=c, alpha=0.3)\n",
    "_ = ax.set_xlabel('n')\n",
    "_ = ax.set_ylabel('f')\n",
    "_ = ax.legend()"
   ]
  },
  {
   "cell_type": "code",
   "execution_count": 20,
   "metadata": {},
   "outputs": [],
   "source": [
    "results = {\n",
    "    'df':df,\n",
    "    'ds_list': ds_list,\n",
    "    'dc_list': dc_list\n",
    "}\n",
    "\n",
    "with open('../outputs/20181003_synthetic_opt.pkl', 'wb') as f:\n",
    "    pickle.dump(results, f)"
   ]
  },
  {
   "cell_type": "code",
   "execution_count": 45,
   "metadata": {},
   "outputs": [],
   "source": [
    "np.random.seed(0)\n",
    "M = [[int(np.random.random() * 26 + 1) for _ in range(L)] for _ in range(15)]\n",
    "inds = [[np.random.choice(n_aas, m, replace=False) * L + i for i, m in enumerate(mm)] for mm in M]\n",
    "inds = [list(itertools.chain.from_iterable(ind)) for ind in inds]\n",
    "libs = [[ground[i] for i in lib] for lib in inds]\n",
    "starts += libs"
   ]
  },
  {
   "cell_type": "code",
   "execution_count": 46,
   "metadata": {},
   "outputs": [
    {
     "name": "stdout",
     "output_type": "stream",
     "text": [
      "CPU times: user 43.9 s, sys: 211 ms, total: 44.1 s\n",
      "Wall time: 45.6 s\n"
     ]
    }
   ],
   "source": [
    "%%time\n",
    "for n in ns:\n",
    "    for S in starts[5:]:\n",
    "        _, objs = opt.greedy(ground, S, objectives.objective, obj_args=(L, dic, n))\n",
    "        other = pd.DataFrame([[n, S, L, 'gr', objs[-1]]], columns=df.columns)\n",
    "        df = df.append(other)\n",
    "        \n",
    "for n in ns:\n",
    "    for S in starts[5:]:\n",
    "        _, objs = opt.greedy_add(ground, S, objectives.objective, obj_args=(L, dic, n))\n",
    "        other = pd.DataFrame([[n, S, L, 'gr_add', objs[-1]]], columns=df.columns)\n",
    "        df = df.append(other)\n",
    "        \n",
    "\n",
    "for n in ns:\n",
    "    for S in starts[5:]:\n",
    "        _, objs = opt.greedy_add(ground, S, objectives.objective, obj_args=(L, dic, n), remove=True)\n",
    "        other = pd.DataFrame([[n, S, L, 'gr_rem', objs[-1]]], columns=df.columns)\n",
    "        df = df.append(other)"
   ]
  },
  {
   "cell_type": "code",
   "execution_count": 47,
   "metadata": {},
   "outputs": [
    {
     "name": "stdout",
     "output_type": "stream",
     "text": [
      "2\n",
      "50\n",
      "250\n",
      "626\n",
      "1250\n",
      "CPU times: user 17min 50s, sys: 1min 33s, total: 19min 24s\n",
      "Wall time: 1h 32min 6s\n"
     ]
    }
   ],
   "source": [
    "%%time\n",
    "opt = importlib.reload(opt)\n",
    "dc_list = []\n",
    "\n",
    "for alpha, n in zip(alphas, ns):\n",
    "    print(n)\n",
    "    for S in starts[5:]:\n",
    "        X_list, objs = opt.mod_mod(ground, S, objectives.objective, args=(L, dic, n), dec='dc', alpha=alpha,\n",
    "                            beta=beta, verbose=False)\n",
    "        other = pd.DataFrame([[n, S, L, 'SS-dc', objs[-1]]], columns=df.columns)\n",
    "        df = df.append(other)\n",
    "        dc_list.append([S, X_list, n, alpha])"
   ]
  },
  {
   "cell_type": "code",
   "execution_count": 48,
   "metadata": {},
   "outputs": [
    {
     "name": "stdout",
     "output_type": "stream",
     "text": [
      "2\n",
      "50\n",
      "250\n",
      "626\n",
      "1250\n",
      "CPU times: user 32min 42s, sys: 2min 33s, total: 35min 16s\n",
      "Wall time: 3h 11min 49s\n"
     ]
    }
   ],
   "source": [
    "%%time\n",
    "opt = importlib.reload(opt)\n",
    "ds_list = []\n",
    "\n",
    "for alpha, n in zip(alphas2, ns):\n",
    "    print(n)\n",
    "    for S in starts[5:]:\n",
    "        X_list, objs = opt.mod_mod(ground, S, objectives.objective, args=(L, dic, n), dec='dc', alpha=alpha,\n",
    "                            beta=beta, verbose=False)\n",
    "        other = pd.DataFrame([[n, S, L, 'SS-ds', objs[-1]]], columns=df.columns)\n",
    "        df = df.append(other)\n",
    "        ds_list.append([S, X_list, n, alpha])"
   ]
  },
  {
   "cell_type": "code",
   "execution_count": 49,
   "metadata": {},
   "outputs": [
    {
     "data": {
      "image/png": "[encoded data removed]",
      "text/plain": [
       "<Figure size 432x288 with 1 Axes>"
      ]
     },
     "metadata": {},
     "output_type": "display_data"
    }
   ],
   "source": [
    "fig, ax = plt.subplots(1, 1, figsize=(6, 4))\n",
    "pal = sns.color_palette()\n",
    "for c, al in zip(pal, sorted(set(df['algorithm']))):\n",
    "#     if al != 'gr_rem':\n",
    "#         continue\n",
    "    df_ = df[df['algorithm'] == al]\n",
    "    means = [np.mean(df_[df_['n'] == n]['obj']) for n in ns]\n",
    "    stds = [np.std(df_[df_['n'] == n]['obj']) for n in ns]\n",
    "    maxes = [np.max(df_[df_['n'] == n]['obj']) for n in ns]\n",
    "    mins = [np.min(df_[df_['n'] == n]['obj']) for n in ns]\n",
    "#     _ = ax.plot(ns, mins, color=c)\n",
    "    _ = ax.errorbar(ns, means, yerr=stds / np.sqrt(len(starts)), fmt='-o', label=al, capsize=30, color=c)\n",
    "#     _ = ax.fill_between(ns, maxes, mins, color=c, alpha=0.3)\n",
    "_ = ax.set_xlabel('n')\n",
    "_ = ax.set_ylabel('f')\n",
    "_ = ax.legend()"
   ]
  },
  {
   "cell_type": "code",
   "execution_count": 50,
   "metadata": {},
   "outputs": [],
   "source": [
    "results = {\n",
    "    'df':df,\n",
    "    'ds_list': ds_list,\n",
    "    'dc_list': dc_list\n",
    "}\n",
    "\n",
    "with open('../outputs/20181003_synthetic_opt_extended.pkl', 'wb') as f:\n",
    "    pickle.dump(results, f)"
   ]
  },
  {
   "cell_type": "code",
   "execution_count": 53,
   "metadata": {},
   "outputs": [],
   "source": [
    "# Fix the SS vs MM\n",
    "to_replace = ['SS-dc', 'SS-ds', 'gr', 'gr_add', 'gr_rem']\n",
    "values = ['LBDC', 'LBDS', 'greedy', 'add', 'rem']\n",
    "df['algorithm'] = df['algorithm'].replace(to_replace=to_replace, value=values)"
   ]
  },
  {
   "cell_type": "code",
   "execution_count": 55,
   "metadata": {
    "scrolled": true
   },
   "outputs": [],
   "source": [
    "results = {\n",
    "    'df':df,\n",
    "    'ds_list': ds_list,\n",
    "    'dc_list': dc_list\n",
    "}\n",
    "\n",
    "with open('../outputs/20181003_synthetic_opt_extended.pkl', 'wb') as f:\n",
    "    pickle.dump(results, f)"
   ]
  },
  {
   "cell_type": "code",
   "execution_count": 4,
   "metadata": {},
   "outputs": [],
   "source": [
    "with open('../outputs/20181003_synthetic_opt_extended.pkl', 'rb') as f:\n",
    "    results = pickle.load(f)\n",
    "df = results['df']"
   ]
  },
  {
   "cell_type": "code",
   "execution_count": 15,
   "metadata": {},
   "outputs": [
    {
     "data": {
      "image/png": "[encoded data removed]",
      "text/plain": [
       "<Figure size 432x288 with 1 Axes>"
      ]
     },
     "metadata": {},
     "output_type": "display_data"
    }
   ],
   "source": [
    "fig, ax = plt.subplots(1, 1)\n",
    "pal = sns.color_palette()\n",
    "lab_dict = {\n",
    "    'greedy': 'Greedy',\n",
    "    'add': 'Greedy-Add', \n",
    "    'rem': 'Greedy-Rem',\n",
    "    'LBDS': 'DSOpt-SA',\n",
    "    'LBDC': 'DSOpt-DC'\n",
    "}\n",
    "for c, al in zip(pal, sorted(set(df['algorithm']))[::-1]):\n",
    "    if al == 'greedy':\n",
    "        continue\n",
    "    df_ = df[df['algorithm'] == al]\n",
    "    means = [np.mean(df_[df_['n'] == n]['obj']) for n in ns]\n",
    "    stds = [np.std(df_[df_['n'] == n]['obj']) for n in ns]\n",
    "    maxes = [np.max(df_[df_['n'] == n]['obj']) for n in ns]\n",
    "    mins = [np.min(df_[df_['n'] == n]['obj']) for n in ns]\n",
    "#     _ = ax.plot(ns, mins, color=c)\n",
    "    _ = ax.errorbar(ns, -np.array(means), yerr=stds / np.sqrt(len(starts)), fmt='-o', \n",
    "                    label=lab_dict[al], capsize=2, color=c)\n",
    "#     _ = ax.fill_between(ns, maxes, mins, color=c, alpha=0.3)\n",
    "_ = ax.set_xlabel(r'$n$')\n",
    "_ = ax.set_ylabel(r'$\\hat{F}(S)$')\n",
    "_ = ax.legend()\n",
    "_ = fig.tight_layout()\n",
    "_ = fig.savefig('../outputs/synthetic_objectives2_no_greedy.pdf')"
   ]
  },
  {
   "cell_type": "code",
   "execution_count": 10,
   "metadata": {},
   "outputs": [
    {
     "data": {
      "image/png": "[encoded data removed]",
      "text/plain": [
       "<Figure size 576x540 with 2 Axes>"
      ]
     },
     "metadata": {},
     "output_type": "display_data"
    }
   ],
   "source": [
    "vals = pd.DataFrame(index=list(aas), columns=list(aas))\n",
    "plt.rcParams.update({'axes.labelsize': 25})\n",
    "\n",
    "\n",
    "fig, ax = plt.subplots(1, 1, figsize=(8, 7.5))\n",
    "\n",
    "for k, v in dic.items():\n",
    "    vals.loc[k[0], k[1]] = v.item()\n",
    "    \n",
    "vals = vals.astype('float64')\n",
    "    \n",
    "_ = sns.heatmap(vals, square=True, xticklabels=list(aas), yticklabels=list(aas))\n",
    "_ = ax.set_xlabel('site 1')\n",
    "_ = ax.set_ylabel('site 2')\n",
    "_ = fig.savefig('../outputs/synthetic_heatmap2.pdf')"
   ]
  },
  {
   "cell_type": "code",
   "execution_count": null,
   "metadata": {},
   "outputs": [],
   "source": []
  }
 ],
 "metadata": {
  "kernelspec": {
   "display_name": "Python [conda env:pyro]",
   "language": "python",
   "name": "conda-env-pyro-py"
  },
  "language_info": {
   "codemirror_mode": {
    "name": "ipython",
    "version": 3
   },
   "file_extension": ".py",
   "mimetype": "text/x-python",
   "name": "python",
   "nbconvert_exporter": "python",
   "pygments_lexer": "ipython3",
   "version": "3.6.5"
  }
 },
 "nbformat": 4,
 "nbformat_minor": 2
}
