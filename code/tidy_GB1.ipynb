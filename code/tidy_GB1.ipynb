{
 "cells": [
  {
   "cell_type": "markdown",
   "metadata": {},
   "source": [
    "Dataset of full library of 160,000 variants of GB1 pulled from https://elifesciences.org/articles/16965#digest\n",
    "\n",
    "Preprocessed like the phoq dataset."
   ]
  },
  {
   "cell_type": "code",
   "execution_count": 1,
   "metadata": {},
   "outputs": [],
   "source": [
    "import itertools\n",
    "import pickle\n",
    "\n",
    "import numpy as np\n",
    "import pandas as pd\n",
    "import matplotlib.pyplot as plt\n",
    "import seaborn as sns\n",
    "%matplotlib inline\n",
    "sns.set_style('white')\n",
    "sns.set_context('paper')\n",
    "# Plot adjustments:\n",
    "plt.rcParams.update({'ytick.labelsize': 15})\n",
    "plt.rcParams.update({'xtick.labelsize': 15})\n",
    "plt.rcParams.update({'axes.labelsize': 35})\n",
    "plt.rcParams.update({'legend.fontsize': 30})\n",
    "plt.rcParams.update({'axes.titlesize': 16})\n",
    "\n",
    "from gpmodel import gpmodel, gpkernel, gptools, chimera_tools"
   ]
  },
  {
   "cell_type": "code",
   "execution_count": 2,
   "metadata": {},
   "outputs": [
    {
     "name": "stderr",
     "output_type": "stream",
     "text": [
      "/Users/kevinyang/anaconda/lib/python3.5/site-packages/ipykernel/__main__.py:4: RuntimeWarning: divide by zero encountered in log10\n"
     ]
    }
   ],
   "source": [
    "df = pd.read_excel('../inputs/GB1_FITNESS1.xlsx')\n",
    "variants = df['Variants'].values\n",
    "fitness = df['Fitness'].values\n",
    "log_fitness = np.log10(fitness)"
   ]
  },
  {
   "cell_type": "code",
   "execution_count": 3,
   "metadata": {},
   "outputs": [],
   "source": [
    "df = pd.read_excel('../inputs/GB1_FITNESS2.xlsx')\n",
    "variants_imp = df['Variants'].values\n",
    "fitness_imp = df['Imputed Fitness'].values\n",
    "log_fitness_imp = np.log10(fitness_imp)"
   ]
  },
  {
   "cell_type": "code",
   "execution_count": 4,
   "metadata": {},
   "outputs": [],
   "source": [
    "d = {'Variants': [], 'Log Fitness': [], 'Imputed': []}\n",
    "\n",
    "for var, fit in zip(variants, log_fitness):\n",
    "    d['Variants'].append(var)\n",
    "    d['Log Fitness'].append(fit)\n",
    "    d['Imputed'].append(False)\n",
    "\n",
    "for var, fit in zip(variants_imp, log_fitness_imp):\n",
    "    d['Variants'].append(var)\n",
    "    d['Log Fitness'].append(fit)\n",
    "    d['Imputed'].append(True)\n",
    "\n",
    "df = pd.DataFrame(data=d) # make dataframe of sampled ys to plot on swarmplot"
   ]
  },
  {
   "cell_type": "code",
   "execution_count": 5,
   "metadata": {},
   "outputs": [],
   "source": [
    "wt = 'VDGV'\n",
    "\n",
    "np.random.seed(20)\n",
    "traintest = np.random.choice(df.index, size=2000, replace=False)\n",
    "train_inds = traintest[:1000]\n",
    "test_inds = traintest[1000:]\n",
    "\n",
    "inds = {'train': train_inds, 'test': test_inds}\n",
    "\n",
    "for i, j in itertools.combinations(range(4), 2):\n",
    "    ind = [s[i] == wt[i] and s[j] == wt[j] for s in df['Variants'].values]\n",
    "    inds[(i, j)] = ind\n",
    "    \n",
    "for i, j, k in itertools.combinations(range(4), 3):\n",
    "    ind = [s[i] == wt[i] and s[j] == wt[j] and s[k] == wt[k] for s in df['Variants'].values]\n",
    "    inds[(i, j, k)] = ind"
   ]
  },
  {
   "cell_type": "code",
   "execution_count": 10,
   "metadata": {},
   "outputs": [
    {
     "name": "stderr",
     "output_type": "stream",
     "text": [
      "/Users/kevinyang/anaconda/lib/python3.5/site-packages/ipykernel/__main__.py:28: SettingWithCopyWarning: \n",
      "A value is trying to be set on a copy of a slice from a DataFrame\n",
      "\n",
      "See the caveats in the documentation: http://pandas.pydata.org/pandas-docs/stable/indexing.html#indexing-view-versus-copy\n"
     ]
    }
   ],
   "source": [
    "def make_Xs(df):\n",
    "    \"\"\" Make sure df has the index you want for the Xs\"\"\"\n",
    "    contacts = list(itertools.combinations((0, 1, 2, 3), 2))\n",
    "\n",
    "    amino_acids = 'ARNDCQEGHILKMFPSTWYV'\n",
    "\n",
    "    sample_space = [amino_acids for _ in range(len(df.iloc[0]['Variants']))]\n",
    "    seq_terms = chimera_tools.make_sequence_terms(sample_space)\n",
    "    struct_terms = chimera_tools.contacting_terms(sample_space, contacts)\n",
    "    all_terms = seq_terms + struct_terms\n",
    " \n",
    "    seqs = df['Variants'].values\n",
    "    struct_X, _ = chimera_tools.make_contact_X(seqs, None, contacts,\n",
    "                                               contact_terms=struct_terms)\n",
    "    seq_X, _ = chimera_tools.make_sequence_X(seqs, sample_space=sample_space,\n",
    "                                             sequence_terms=seq_terms)\n",
    "    #all_X = np.concatenate([seq_X, struct_X], axis=1)\n",
    "    X_dumb = np.zeros((len(df), len(df.iloc[0]['Variants'])))\n",
    "    aa = np.array(sorted(amino_acids))\n",
    "    for i, seq in enumerate(seqs):\n",
    "        for j, s in enumerate(seq):\n",
    "            X_dumb[i, j] = np.argwhere(aa == s).flatten()\n",
    "\n",
    "    return seq_X, X_dumb\n",
    "\n",
    "X, T = make_Xs(df)\n",
    "y = df.loc[:, 'Log Fitness']\n",
    "y[y == -np.inf] = -4.0\n",
    "imputed = df.loc[:, 'Imputed']"
   ]
  },
  {
   "cell_type": "code",
   "execution_count": 7,
   "metadata": {},
   "outputs": [
    {
     "data": {
      "text/plain": [
       "(160000, 256)"
      ]
     },
     "execution_count": 7,
     "metadata": {},
     "output_type": "execute_result"
    }
   ],
   "source": [
    "df_aa = pd.read_csv('../inputs/aaindex_cosine_64.txt', index_col=0)\n",
    "mus = np.expand_dims(np.mean(df_aa, axis=1).values, 1)\n",
    "var = np.expand_dims(np.std(df_aa, axis=1).values, 1)\n",
    "aa = pd.DataFrame((df_aa.values - mus) / var, index=df_aa.index, columns=df_aa.columns)\n",
    "X_aa = np.array([np.array([aa[s].values for s in seq]).flatten() for seq in df.loc[:, 'Variants'].values])\n",
    "X_aa = pd.DataFrame(X_aa, index=df.index)\n",
    "X_aa.shape"
   ]
  },
  {
   "cell_type": "code",
   "execution_count": 12,
   "metadata": {},
   "outputs": [],
   "source": [
    "with open('../inputs/gb1.pkl', 'wb') as f:\n",
    "    pickle.dump((X, T, X_aa.values, y, imputed, inds), f)"
   ]
  },
  {
   "cell_type": "code",
   "execution_count": null,
   "metadata": {},
   "outputs": [],
   "source": []
  }
 ],
 "metadata": {
  "kernelspec": {
   "display_name": "Python [default]",
   "language": "python",
   "name": "python3"
  },
  "language_info": {
   "codemirror_mode": {
    "name": "ipython",
    "version": 3
   },
   "file_extension": ".py",
   "mimetype": "text/x-python",
   "name": "python",
   "nbconvert_exporter": "python",
   "pygments_lexer": "ipython3",
   "version": "3.5.2"
  }
 },
 "nbformat": 4,
 "nbformat_minor": 2
}
