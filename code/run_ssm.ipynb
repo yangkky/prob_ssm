{
 "cells": [
  {
   "cell_type": "markdown",
   "metadata": {},
   "source": [
    "First, makes predictions on a library of 160,000 PhoQ variants using GP and Matern Kernel then computes objective. Combines gp_ssm and objective_ssm notebooks. \n",
    "\n",
    "Includes functions that compute each of the two baselines:\n",
    "1. Baseline that creates optimal sequence from X's given optimal amino acids (those with max y-values) at each position out of the four possible positions in the wildtype sequence by fixing the three other positions, then continues onto the next position by fixing the best amino acid in the previous position.\n",
    "2. Baseline that creates optimal sequence from X's given optimal amino acids (those with max y-values) at each position out of the four possible positions in the wildtype sequence by fixing the three other positions, then takes the best amino acid at each position."
   ]
  },
  {
   "cell_type": "code",
   "execution_count": 1,
   "metadata": {
    "collapsed": true
   },
   "outputs": [],
   "source": [
    "import torch\n",
    "import itertools\n",
    "import pickle\n",
    "\n",
    "from scipy.stats import norm\n",
    "\n",
    "import numpy as np\n",
    "import pandas as pd\n",
    "import matplotlib.pyplot as plt\n",
    "import seaborn as sns\n",
    "%matplotlib inline\n",
    "sns.set_style('white')\n",
    "sns.set_context('paper')\n",
    "# Plot adjustments:\n",
    "plt.rcParams.update({'ytick.labelsize': 15})\n",
    "plt.rcParams.update({'xtick.labelsize': 15})\n",
    "plt.rcParams.update({'axes.labelsize': 35})\n",
    "plt.rcParams.update({'legend.fontsize': 30})\n",
    "plt.rcParams.update({'axes.titlesize': 16})\n",
    "\n",
    "from gptorch import kernels, models"
   ]
  },
  {
   "cell_type": "code",
   "execution_count": 2,
   "metadata": {
    "collapsed": true
   },
   "outputs": [],
   "source": [
    "with open('../inputs/phoq.pkl', 'rb') as f:\n",
    "    t = pickle.load(f)\n",
    "\n",
    "X = t[0] # one-hot encoding of X\n",
    "T = t[1] # tokenized encoding of X\n",
    "y = t[2].values"
   ]
  },
  {
   "cell_type": "code",
   "execution_count": 3,
   "metadata": {
    "collapsed": true
   },
   "outputs": [],
   "source": [
    "# Use GP to make predictions\n",
    "\n",
    "def GP_train(X, y, n):\n",
    "    \"\"\" GP that uses Matern Kernel and trains on n number of samples--where n is the batch \n",
    "    size--of examples from X and makes predictions on the rest of X. \"\"\"\n",
    "    \n",
    "    ke = kernels.MaternKernel()\n",
    "    mo = models.GPRegressor(ke)\n",
    "\n",
    "    np.random.seed(1)\n",
    "    rand_inds = np.random.choice(len(X), n, replace=True) # generate random indices for 100 X's to sample from\n",
    "    test_inds = [i for i in np.arange(len(X)) if i not in rand_inds]\n",
    "    X_train = X[rand_inds]\n",
    "    y_train = y[rand_inds]\n",
    "    X_test = X[test_inds]\n",
    "    y_true = y[test_inds]\n",
    "\n",
    "    # make data into tensors\n",
    "    X_train = torch.Tensor(X_train)\n",
    "    X_test = torch.Tensor(np.array(X_test))\n",
    "    y_train_scaled = (np.array(y_train) - np.mean(np.array(y_train))) / np.std(np.array(y_train)) # scale y_train\n",
    "    y_train_scaled = torch.Tensor(y_train_scaled.reshape(len(y_train_scaled), 1)).double()\n",
    "\n",
    "    his = mo.fit(X_train, y_train_scaled, its=500) # fit model with training set\n",
    "    \n",
    "    # make predictions\n",
    "    means, stds = [], []\n",
    "    ind = 0\n",
    "    for i in range(1000, len(X) + 1000, 1000):\n",
    "        mu_scaled, var = mo.forward(X_test[ind:i]) # make predictions\n",
    "        mu = mu_scaled * np.std(np.array(y_train)) + np.mean(np.array(y_train)) # unscale predictions\n",
    "        std = np.sqrt(np.diag(var.detach().numpy())) * np.std(np.array(y_train))\n",
    "\n",
    "        for j, m in enumerate(mu):\n",
    "            means.append(m)\n",
    "            stds.append(std[j])\n",
    "\n",
    "        ind = i\n",
    "    \n",
    "    # used for list slicing of means and stds - split into two lists to be dumped into two pickle files\n",
    "    half = (len(X) - n) // 2\n",
    "    full = len(X) - n\n",
    "    \n",
    "    # write results out to pickle files\n",
    "    with open('GP_ssm_results1.pkl', 'wb') as f:\n",
    "        pickle.dump((means[0:half], stds[0:half], y_true[0:half], max(y)), f) # pass in tau (best experimental value) as well\n",
    "\n",
    "    with open('GP_ssm_results2.pkl', 'wb') as f:\n",
    "        pickle.dump((means[half:full], stds[half:full], y_true[half:full]), f)\n",
    "    "
   ]
  },
  {
   "cell_type": "code",
   "execution_count": 4,
   "metadata": {},
   "outputs": [
    {
     "name": "stdout",
     "output_type": "stream",
     "text": [
      "Iteration 500 of 500\tNLML: 40.0319\t"
     ]
    },
    {
     "ename": "KeyboardInterrupt",
     "evalue": "",
     "output_type": "error",
     "traceback": [
      "\u001b[1;31m---------------------------------------------------------------------------\u001b[0m",
      "\u001b[1;31mKeyboardInterrupt\u001b[0m                         Traceback (most recent call last)",
      "\u001b[1;32m<ipython-input-4-7bcdfb3717b5>\u001b[0m in \u001b[0;36m<module>\u001b[1;34m()\u001b[0m\n\u001b[1;32m----> 1\u001b[1;33m \u001b[0mGP_train\u001b[0m\u001b[1;33m(\u001b[0m\u001b[0mX\u001b[0m\u001b[1;33m,\u001b[0m \u001b[0my\u001b[0m\u001b[1;33m,\u001b[0m \u001b[1;36m100\u001b[0m\u001b[1;33m)\u001b[0m\u001b[1;33m\u001b[0m\u001b[0m\n\u001b[0m",
      "\u001b[1;32m<ipython-input-3-f79a847a7d20>\u001b[0m in \u001b[0;36mGP_train\u001b[1;34m(X, y, n)\u001b[0m\n\u001b[0;32m     47\u001b[0m \u001b[1;33m\u001b[0m\u001b[0m\n\u001b[0;32m     48\u001b[0m     \u001b[1;32mwith\u001b[0m \u001b[0mopen\u001b[0m\u001b[1;33m(\u001b[0m\u001b[1;34m'GP_ssm_results2.pkl'\u001b[0m\u001b[1;33m,\u001b[0m \u001b[1;34m'wb'\u001b[0m\u001b[1;33m)\u001b[0m \u001b[1;32mas\u001b[0m \u001b[0mf\u001b[0m\u001b[1;33m:\u001b[0m\u001b[1;33m\u001b[0m\u001b[0m\n\u001b[1;32m---> 49\u001b[1;33m         \u001b[0mpickle\u001b[0m\u001b[1;33m.\u001b[0m\u001b[0mdump\u001b[0m\u001b[1;33m(\u001b[0m\u001b[1;33m(\u001b[0m\u001b[0mmeans\u001b[0m\u001b[1;33m[\u001b[0m\u001b[0mhalf\u001b[0m\u001b[1;33m:\u001b[0m\u001b[0mfull\u001b[0m\u001b[1;33m]\u001b[0m\u001b[1;33m,\u001b[0m \u001b[0mstds\u001b[0m\u001b[1;33m[\u001b[0m\u001b[0mhalf\u001b[0m\u001b[1;33m:\u001b[0m\u001b[0mfull\u001b[0m\u001b[1;33m]\u001b[0m\u001b[1;33m,\u001b[0m \u001b[0my_true\u001b[0m\u001b[1;33m[\u001b[0m\u001b[0mhalf\u001b[0m\u001b[1;33m:\u001b[0m\u001b[0mfull\u001b[0m\u001b[1;33m]\u001b[0m\u001b[1;33m)\u001b[0m\u001b[1;33m,\u001b[0m \u001b[0mf\u001b[0m\u001b[1;33m)\u001b[0m\u001b[1;33m\u001b[0m\u001b[0m\n\u001b[0m\u001b[0;32m     50\u001b[0m \u001b[1;33m\u001b[0m\u001b[0m\n",
      "\u001b[1;32m~\\Anaconda3\\lib\\site-packages\\torch\\tensor.py\u001b[0m in \u001b[0;36m__reduce_ex__\u001b[1;34m(self, proto)\u001b[0m\n\u001b[0;32m     30\u001b[0m     \u001b[1;32mdef\u001b[0m \u001b[0m__reduce_ex__\u001b[0m\u001b[1;33m(\u001b[0m\u001b[0mself\u001b[0m\u001b[1;33m,\u001b[0m \u001b[0mproto\u001b[0m\u001b[1;33m)\u001b[0m\u001b[1;33m:\u001b[0m\u001b[1;33m\u001b[0m\u001b[0m\n\u001b[0;32m     31\u001b[0m         args = (self.storage(),\n\u001b[1;32m---> 32\u001b[1;33m                 \u001b[0mself\u001b[0m\u001b[1;33m.\u001b[0m\u001b[0mstorage_offset\u001b[0m\u001b[1;33m(\u001b[0m\u001b[1;33m)\u001b[0m\u001b[1;33m,\u001b[0m\u001b[1;33m\u001b[0m\u001b[0m\n\u001b[0m\u001b[0;32m     33\u001b[0m                 \u001b[0mtuple\u001b[0m\u001b[1;33m(\u001b[0m\u001b[0mself\u001b[0m\u001b[1;33m.\u001b[0m\u001b[0msize\u001b[0m\u001b[1;33m(\u001b[0m\u001b[1;33m)\u001b[0m\u001b[1;33m)\u001b[0m\u001b[1;33m,\u001b[0m\u001b[1;33m\u001b[0m\u001b[0m\n\u001b[0;32m     34\u001b[0m                 \u001b[0mself\u001b[0m\u001b[1;33m.\u001b[0m\u001b[0mstride\u001b[0m\u001b[1;33m(\u001b[0m\u001b[1;33m)\u001b[0m\u001b[1;33m,\u001b[0m\u001b[1;33m\u001b[0m\u001b[0m\n",
      "\u001b[1;31mKeyboardInterrupt\u001b[0m: "
     ]
    }
   ],
   "source": [
    "GP_train(X, y, 100)"
   ]
  },
  {
   "cell_type": "code",
   "execution_count": null,
   "metadata": {
    "collapsed": true
   },
   "outputs": [],
   "source": [
    "# Computing objective\n",
    "\n",
    "def objective(items, means, stds, tau, n):\n",
    "    \"\"\" Takes in items (library), means/predictions, standard deviations stds, \n",
    "    best experimental y value tau, and batch size n. \n",
    "    \n",
    "    Expects library to be a list of lists.\n",
    "    \n",
    "    Returns objective to be maximized. \"\"\"\n",
    "    \n",
    "    N = 1 # represents the product of sequence of # aas at each position\n",
    "    for i in items:\n",
    "        N *= len(i)\n",
    "    \n",
    "    obj = 0\n",
    "    for i, mu in enumerate(means): # compute objective\n",
    "        obj += (1 - scipy.stats.norm(mu.detach().numpy(), stds1[i]).cdf(tau)) * (1 - ((N - 1) / N) ** n) \n",
    "    \n",
    "    return obj"
   ]
  },
  {
   "cell_type": "code",
   "execution_count": 7,
   "metadata": {},
   "outputs": [
    {
     "name": "stdout",
     "output_type": "stream",
     "text": [
      "[ 0.  0.  0.  0.  0.  0.  0.  0.  0.  0.  0.  0.  0.  0.  0.  0.  1.  0.\n",
      "  0.  0.  0.  0.  0.  1.  0.  0.  0.  0.  0.  0.  0.  0.  0.  0.  0.  0.\n",
      "  0.  0.  0.  0.  0.  0.  0.  0.  0.  0.  0.  0.  0.  0.  0.  0.  0.  0.\n",
      "  0.  1.  0.  0.  0.  0.  0.  0.  0.  0.  0.  0.  0.  0.  0.  0.  0.  0.\n",
      "  0.  0.  0.  0.  1.  0.  0.  0.]\n"
     ]
    }
   ],
   "source": [
    "def baseline_fixed(wt, X, y):\n",
    "    \"\"\" Takes in wildtype sequence, X, and y to compute baseline that creates \n",
    "    optimal sequence from X's given optimal amino acids (those with max y-values) \n",
    "    at each position out of the four possible positions in the wildtype sequence \n",
    "    by fixing the three other positions, then continues onto the next position in\n",
    "    the wildtype sequence by fixing the best amino acid in the previous position.\n",
    "    So the fixed substring is not necessarily a fixed substring of the wildtype sequence.\n",
    "    \n",
    "    Note: wildtype sequence expected as one-hot encoding. X expected as an array or list of\n",
    "    one-hot encodings.\n",
    "    \n",
    "    Returns optimal untested variant. \"\"\"  \n",
    "    \n",
    "    inds = [i for i, num in enumerate(wt) if num == 1.0] # store initial indices of four positions with amino acids\n",
    "    baseline = np.zeros((80,)) # stores baseline untested variant to be returned\n",
    "\n",
    "    for i in range(4):\n",
    "        fixed = list(inds[0:i] + inds[i + 1:len(inds)]) # list of 3 fixed amino acids in each iteration through wt seq\n",
    "\n",
    "        index = [] # index of xs in X\n",
    "        for j, x in enumerate(X):\n",
    "            in_lst = True\n",
    "            for m in fixed:\n",
    "                if x[m] != 1.0:\n",
    "                    in_lst = False\n",
    "            if in_lst == True:\n",
    "                index.append(j)\n",
    "                \n",
    "        ys = [y[j] for j in index] # stores y values of x's in X with those 3 fixed amino acids\n",
    "\n",
    "        max_ind = np.where(ys==max(ys))[0][0] # takes first occurrence of index with maximum y value\n",
    "\n",
    "        # store amino acid in position being varied in baseline\n",
    "        baseline[(i * 20):(i * 20 + 20)] = X[index[max_ind]][(i * 20):(i * 20 + 20)]\n",
    "\n",
    "        # update inds to include index of new amino acid stored in baseline\n",
    "        for j, num in enumerate(X[index[max_ind]][(i * 20):(i * 20 + 20)]):\n",
    "            if num == 1.0:\n",
    "                inds[i] = j + i * 20\n",
    "                break\n",
    "    \n",
    "    return baseline\n",
    "                \n",
    "seq = baseline_fixed(X[150614], X, y)\n",
    "print(seq)"
   ]
  },
  {
   "cell_type": "code",
   "execution_count": 12,
   "metadata": {},
   "outputs": [
    {
     "name": "stdout",
     "output_type": "stream",
     "text": [
      "[ 0.  0.  0.  0.  0.  0.  0.  0.  0.  0.  0.  0.  0.  0.  0.  0.  1.  0.\n",
      "  0.  0.  0.  0.  0.  1.  0.  0.  0.  0.  0.  0.  0.  0.  0.  0.  0.  0.\n",
      "  0.  0.  0.  0.  0.  0.  0.  0.  1.  0.  0.  0.  0.  0.  0.  0.  0.  0.\n",
      "  0.  0.  0.  0.  0.  0.  0.  0.  0.  0.  0.  0.  0.  0.  0.  0.  0.  0.\n",
      "  0.  0.  0.  0.  0.  1.  0.  0.]\n"
     ]
    }
   ],
   "source": [
    "def baseline_vary(wt, X, y):\n",
    "    \"\"\" Takes in wildtype sequence, X, and y to compute baseline that creates \n",
    "    optimal sequence from X's given optimal amino acids (those with max y-values) at each \n",
    "    position out of the four possible positions in the wildtype sequence by fixing the three\n",
    "    other positions, then takes the best amino acid at each position. The fixed substring\n",
    "    in each iteration is a substring of the wildtype sequence.\n",
    "    \n",
    "    Note: wildtype sequence expected as one-hot encoding. X expected as an array or list of\n",
    "    one-hot encodings.\n",
    "    \n",
    "    Returns optimal untested variant. \"\"\"\n",
    "    \n",
    "    inds = [i for i, num in enumerate(wt) if num == 1.0] # store indices of four positions with amino acids\n",
    "    baseline = np.zeros((80,)) # stores baseline untested variant to be returned\n",
    "    \n",
    "    for i in range(4): # vary amino acid in each position\n",
    "        fixed = list(inds[0:i] + inds[i + 1:len(inds)]) # list of 3 fixed amino acids in each iteration through wt seq\n",
    "        \n",
    "        xs_inds = [] # index of x's in X with those 3 fixed amino acids\n",
    "        for j, x in enumerate(X):\n",
    "            in_lst = True\n",
    "            for m in fixed:\n",
    "                if x[m] != 1.0:\n",
    "                    in_lst = False\n",
    "            if in_lst:\n",
    "                xs_inds.append(j)\n",
    "        \n",
    "        ys = [y[j] for j in xs_inds] # stores y values of x's in X with those 3 fixed amino acids\n",
    "        max_ind = np.where(ys==max(ys))[0][0] # takes first occurrence of index with maximum y value\n",
    "        \n",
    "        # store amino acid in position being varied in baseline\n",
    "        baseline[(i * 20):(i * 20 + 20)] = X[xs_inds[max_ind]][(i * 20):(i * 20 + 20)] \n",
    "    \n",
    "    return baseline\n",
    "\n",
    "seq = baseline_vary(X[150614], X, y)\n",
    "print(seq)"
   ]
  },
  {
   "cell_type": "code",
   "execution_count": null,
   "metadata": {
    "collapsed": true
   },
   "outputs": [],
   "source": []
  }
 ],
 "metadata": {
  "kernelspec": {
   "display_name": "Python 3",
   "language": "python",
   "name": "python3"
  },
  "language_info": {
   "codemirror_mode": {
    "name": "ipython",
    "version": 3
   },
   "file_extension": ".py",
   "mimetype": "text/x-python",
   "name": "python",
   "nbconvert_exporter": "python",
   "pygments_lexer": "ipython3",
   "version": "3.6.1"
  }
 },
 "nbformat": 4,
 "nbformat_minor": 2
}
